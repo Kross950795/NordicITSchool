{
 "cells": [
  {
   "cell_type": "markdown",
   "metadata": {
    "pycharm": {
     "name": "#%% md\n"
    }
   },
   "source": [
    "# <center>BeautifulSoup</center>"
   ]
  },
  {
   "cell_type": "code",
   "execution_count": 1,
   "metadata": {
    "pycharm": {
     "name": "#%%\n"
    }
   },
   "outputs": [],
   "source": [
    "from bs4 import BeautifulSoup"
   ]
  },
  {
   "cell_type": "markdown",
   "metadata": {
    "pycharm": {
     "name": "#%% md\n"
    }
   },
   "source": [
    "### Создадим [html-код](http://wm-school.ru/editor/tryh1.html)"
   ]
  },
  {
   "cell_type": "code",
   "execution_count": 8,
   "metadata": {
    "pycharm": {
     "name": "#%%\n"
    }
   },
   "outputs": [
    {
     "data": {
      "text/plain": [
       "'\\n<html>\\n    <head>\\n        <meta charset=\"UTF-8\"/>\\n        <title>Заголовок страницы</title>\\n    </head>\\n    <body>\\n        <h1>Это заголовок</h1>\\n        <p align = \"justify\">Это параграф</p>\\n        <a class=\"1\" href=\"https://yandex.ru/\">Ссылка на Яндекс</a>\\n        <a class=\"2\" href=\"https://www.google.ru/\">Ссылка на Google</a>\\n        <a class=\"3\" href=\"https://yandex.ru/\">Яндекс</a>\\n    </body>\\n</html>'"
      ]
     },
     "execution_count": 8,
     "metadata": {},
     "output_type": "execute_result"
    }
   ],
   "source": [
    "doc = \"\"\"\n",
    "<html>\n",
    "    <head>\n",
    "        <meta charset=\"UTF-8\"/>\n",
    "        <title>Заголовок страницы</title>\n",
    "    </head>\n",
    "    <body>\n",
    "        <h1>Это заголовок</h1>\n",
    "        <p align = \"justify\">Это параграф</p>\n",
    "        <a class=\"1\" href=\"https://yandex.ru/\">Ссылка на Яндекс</a>\n",
    "        <a class=\"2\" href=\"https://www.google.ru/\">Ссылка на Google</a>\n",
    "        <a class=\"3\" href=\"https://yandex.ru/\">Яндекс</a>\n",
    "    </body>\n",
    "</html>\"\"\"\n",
    "\n",
    "doc"
   ]
  },
  {
   "cell_type": "code",
   "execution_count": 15,
   "metadata": {
    "pycharm": {
     "name": "#%%\n"
    }
   },
   "outputs": [
    {
     "data": {
      "text/plain": [
       "'<html><head><meta charset=\"UTF-8\"/><title>Заголовок страницы</title></head><body><h1>Это заголовок</h1><p align = \"justify\">Это параграф</p><a class=\"1\" href=\"https://yandex.ru/\">Ссылка на Яндекс</a><a class=\"2\" href=\"https://www.google.ru/\">Ссылка на Google</a><a class=\"3\" href=\"https://yandex.ru/\">Яндекс</a></body></html>'"
      ]
     },
     "execution_count": 15,
     "metadata": {},
     "output_type": "execute_result"
    }
   ],
   "source": [
    "doc = doc.replace('\\n', '')\n",
    "doc = doc.replace('    ', '')\n",
    "doc"
   ]
  },
  {
   "cell_type": "markdown",
   "metadata": {
    "pycharm": {
     "name": "#%% md\n"
    }
   },
   "source": [
    "#### `BeautifulSoup(markup='', parser='', features=None, builder=None, parse_only=None, **kwargs)` - функция, которая вовзращает объект BeautifulSoup"
   ]
  },
  {
   "cell_type": "code",
   "execution_count": 5,
   "metadata": {
    "pycharm": {
     "name": "#%%\n"
    }
   },
   "outputs": [
    {
     "ename": "NameError",
     "evalue": "name 'doc' is not defined",
     "output_type": "error",
     "traceback": [
      "\u001b[0;31m---------------------------------------------------------------------------\u001b[0m",
      "\u001b[0;31mNameError\u001b[0m                                 Traceback (most recent call last)",
      "\u001b[0;32m/var/folders/vp/_6v9pjzx5pb_0chxpzcjxyx00000gn/T/ipykernel_9894/2609782884.py\u001b[0m in \u001b[0;36m<module>\u001b[0;34m\u001b[0m\n\u001b[0;32m----> 1\u001b[0;31m \u001b[0msoup\u001b[0m \u001b[0;34m=\u001b[0m \u001b[0mBeautifulSoup\u001b[0m\u001b[0;34m(\u001b[0m\u001b[0mdoc\u001b[0m\u001b[0;34m,\u001b[0m \u001b[0;34m\"lxml\"\u001b[0m\u001b[0;34m)\u001b[0m\u001b[0;34m\u001b[0m\u001b[0;34m\u001b[0m\u001b[0m\n\u001b[0m\u001b[1;32m      2\u001b[0m \u001b[0mprint\u001b[0m\u001b[0;34m(\u001b[0m\u001b[0msoup\u001b[0m\u001b[0;34m)\u001b[0m\u001b[0;34m\u001b[0m\u001b[0;34m\u001b[0m\u001b[0m\n",
      "\u001b[0;31mNameError\u001b[0m: name 'doc' is not defined"
     ]
    }
   ],
   "source": [
    "soup = BeautifulSoup(doc, \"lxml\")\n",
    "print(soup)"
   ]
  },
  {
   "cell_type": "code",
   "execution_count": 6,
   "metadata": {
    "pycharm": {
     "name": "#%%\n"
    }
   },
   "outputs": [
    {
     "data": {
      "text/plain": [
       "bs4.BeautifulSoup"
      ]
     },
     "execution_count": 6,
     "metadata": {},
     "output_type": "execute_result"
    }
   ],
   "source": [
    "type(soup)"
   ]
  },
  {
   "cell_type": "markdown",
   "metadata": {
    "pycharm": {
     "name": "#%% md\n"
    }
   },
   "source": [
    "### `.prettify(encoding=None, formatter='minimal')` - метод, который переносит код в читабельный вид"
   ]
  },
  {
   "cell_type": "code",
   "execution_count": 10,
   "metadata": {
    "pycharm": {
     "name": "#%%\n"
    },
    "scrolled": false
   },
   "outputs": [
    {
     "name": "stdout",
     "output_type": "stream",
     "text": [
      "<html>\n",
      " <head>\n",
      "  <meta charset=\"utf-8\"/>\n",
      "  <title>\n",
      "   Заголовок страницы\n",
      "  </title>\n",
      " </head>\n",
      " <body>\n",
      "  <h1>\n",
      "   Это заголовок\n",
      "  </h1>\n",
      "  <p align=\"justify\">\n",
      "   Это параграф\n",
      "  </p>\n",
      "  <a class=\"1\" href=\"https://yandex.ru/\">\n",
      "   Ссылка на Яндекс\n",
      "  </a>\n",
      "  <a class=\"2\" href=\"https://www.google.ru/\">\n",
      "   Ссылка на Google\n",
      "  </a>\n",
      "  <a class=\"3\" href=\"https://yandex.ru/\">\n",
      "   Яндекс\n",
      "  </a>\n",
      " </body>\n",
      "</html>\n"
     ]
    }
   ],
   "source": [
    "print(soup.prettify())"
   ]
  },
  {
   "cell_type": "markdown",
   "metadata": {
    "pycharm": {
     "name": "#%% md\n"
    }
   },
   "source": [
    "### `contents` - атрибут, который возвращает список всех вложенных тегов"
   ]
  },
  {
   "cell_type": "code",
   "execution_count": 11,
   "metadata": {
    "pycharm": {
     "name": "#%%\n"
    },
    "scrolled": true
   },
   "outputs": [
    {
     "data": {
      "text/plain": [
       "[<html>\n",
       " <head>\n",
       " <meta charset=\"utf-8\"/>\n",
       " <title>Заголовок страницы</title>\n",
       " </head>\n",
       " <body>\n",
       " <h1>Это заголовок</h1>\n",
       " <p align=\"justify\">Это параграф</p>\n",
       " <a class=\"1\" href=\"https://yandex.ru/\">Ссылка на Яндекс</a>\n",
       " <a class=\"2\" href=\"https://www.google.ru/\">Ссылка на Google</a>\n",
       " <a class=\"3\" href=\"https://yandex.ru/\">Яндекс</a>\n",
       " </body>\n",
       " </html>]"
      ]
     },
     "execution_count": 11,
     "metadata": {},
     "output_type": "execute_result"
    }
   ],
   "source": [
    "soup.contents"
   ]
  },
  {
   "cell_type": "code",
   "execution_count": 12,
   "metadata": {
    "pycharm": {
     "name": "#%%\n"
    }
   },
   "outputs": [
    {
     "data": {
      "text/plain": [
       "<html>\n",
       "<head>\n",
       "<meta charset=\"utf-8\"/>\n",
       "<title>Заголовок страницы</title>\n",
       "</head>\n",
       "<body>\n",
       "<h1>Это заголовок</h1>\n",
       "<p align=\"justify\">Это параграф</p>\n",
       "<a class=\"1\" href=\"https://yandex.ru/\">Ссылка на Яндекс</a>\n",
       "<a class=\"2\" href=\"https://www.google.ru/\">Ссылка на Google</a>\n",
       "<a class=\"3\" href=\"https://yandex.ru/\">Яндекс</a>\n",
       "</body>\n",
       "</html>"
      ]
     },
     "execution_count": 12,
     "metadata": {},
     "output_type": "execute_result"
    }
   ],
   "source": [
    "soup.contents[0]"
   ]
  },
  {
   "cell_type": "markdown",
   "metadata": {
    "pycharm": {
     "name": "#%% md\n"
    }
   },
   "source": [
    "### `name` - атрибут, который вовзращает имя тега"
   ]
  },
  {
   "cell_type": "code",
   "execution_count": 13,
   "metadata": {
    "pycharm": {
     "name": "#%%\n"
    }
   },
   "outputs": [
    {
     "data": {
      "text/plain": [
       "'html'"
      ]
     },
     "execution_count": 13,
     "metadata": {},
     "output_type": "execute_result"
    }
   ],
   "source": [
    "soup.contents[0].name"
   ]
  },
  {
   "cell_type": "code",
   "execution_count": 17,
   "metadata": {
    "pycharm": {
     "name": "#%%\n"
    }
   },
   "outputs": [
    {
     "data": {
      "text/plain": [
       "[<head><meta charset=\"utf-8\"/><title>Заголовок страницы</title></head>,\n",
       " <body><h1>Это заголовок</h1><p align=\"justify\">Это параграф</p><a class=\"1\" href=\"https://yandex.ru/\">Ссылка на Яндекс</a><a class=\"2\" href=\"https://www.google.ru/\">Ссылка на Google</a><a class=\"3\" href=\"https://yandex.ru/\">Яндекс</a></body>]"
      ]
     },
     "execution_count": 17,
     "metadata": {},
     "output_type": "execute_result"
    }
   ],
   "source": [
    "soup.contents[0].contents"
   ]
  },
  {
   "cell_type": "code",
   "execution_count": 16,
   "metadata": {
    "pycharm": {
     "name": "#%%\n"
    }
   },
   "outputs": [
    {
     "name": "stdout",
     "output_type": "stream",
     "text": [
      "head\n",
      "body\n"
     ]
    }
   ],
   "source": [
    "for tag in soup.contents[0].contents:\n",
    "    print(tag.name)"
   ]
  },
  {
   "cell_type": "code",
   "execution_count": 24,
   "metadata": {
    "pycharm": {
     "name": "#%%\n"
    }
   },
   "outputs": [
    {
     "data": {
      "text/plain": [
       "'Заголовок страницы'"
      ]
     },
     "execution_count": 24,
     "metadata": {},
     "output_type": "execute_result"
    }
   ],
   "source": [
    "soup.contents[0].contents[0].contents[1].contents[0]"
   ]
  },
  {
   "cell_type": "markdown",
   "metadata": {
    "pycharm": {
     "name": "#%% md\n"
    }
   },
   "source": [
    "### Навигацию по супу можно производить по названиям тегов"
   ]
  },
  {
   "cell_type": "code",
   "execution_count": 26,
   "metadata": {
    "pycharm": {
     "name": "#%%\n"
    }
   },
   "outputs": [
    {
     "data": {
      "text/plain": [
       "<a class=\"1\" href=\"https://yandex.ru/\">Ссылка на Яндекс</a>"
      ]
     },
     "execution_count": 26,
     "metadata": {},
     "output_type": "execute_result"
    }
   ],
   "source": [
    "soup.title"
   ]
  },
  {
   "cell_type": "markdown",
   "metadata": {
    "pycharm": {
     "name": "#%% md\n"
    }
   },
   "source": [
    "### `.text` - атрибут, который возвращает значение тега"
   ]
  },
  {
   "cell_type": "code",
   "execution_count": 28,
   "metadata": {
    "pycharm": {
     "name": "#%%\n"
    }
   },
   "outputs": [
    {
     "data": {
      "text/plain": [
       "'Заголовок страницыЭто заголовокЭто параграфСсылка на ЯндексСсылка на GoogleЯндекс'"
      ]
     },
     "execution_count": 28,
     "metadata": {},
     "output_type": "execute_result"
    }
   ],
   "source": [
    "soup.text"
   ]
  },
  {
   "cell_type": "code",
   "execution_count": 30,
   "metadata": {
    "pycharm": {
     "name": "#%%\n"
    }
   },
   "outputs": [],
   "source": [
    "doc2 = \"\"\"\n",
    "<div>\n",
    "    Текст\n",
    "    <a>ссылка</a>\n",
    "</div>\n",
    "\"\"\""
   ]
  },
  {
   "cell_type": "code",
   "execution_count": 31,
   "metadata": {
    "pycharm": {
     "name": "#%%\n"
    }
   },
   "outputs": [],
   "source": [
    "soup2 = BeautifulSoup(doc2, \"lxml\")"
   ]
  },
  {
   "cell_type": "code",
   "execution_count": 36,
   "metadata": {
    "pycharm": {
     "name": "#%%\n"
    }
   },
   "outputs": [
    {
     "data": {
      "text/plain": [
       "'\\n    Текст\\n    ссылка\\n'"
      ]
     },
     "execution_count": 36,
     "metadata": {},
     "output_type": "execute_result"
    }
   ],
   "source": [
    "soup2.div.text"
   ]
  },
  {
   "cell_type": "code",
   "execution_count": 43,
   "metadata": {
    "pycharm": {
     "name": "#%%\n"
    }
   },
   "outputs": [
    {
     "data": {
      "text/plain": [
       "'ссылка'"
      ]
     },
     "execution_count": 43,
     "metadata": {},
     "output_type": "execute_result"
    }
   ],
   "source": [
    "soup2.div.a.string"
   ]
  },
  {
   "cell_type": "markdown",
   "metadata": {
    "pycharm": {
     "name": "#%% md\n"
    }
   },
   "source": [
    "### `.string` - атрибут, который возвращает значение тега"
   ]
  },
  {
   "cell_type": "code",
   "execution_count": 40,
   "metadata": {
    "pycharm": {
     "name": "#%%\n"
    }
   },
   "outputs": [
    {
     "data": {
      "text/plain": [
       "'Заголовок страницы'"
      ]
     },
     "execution_count": 40,
     "metadata": {},
     "output_type": "execute_result"
    }
   ],
   "source": [
    "soup.title.string"
   ]
  },
  {
   "cell_type": "code",
   "execution_count": 41,
   "metadata": {
    "pycharm": {
     "name": "#%%\n"
    }
   },
   "outputs": [],
   "source": [
    "soup.string"
   ]
  },
  {
   "cell_type": "markdown",
   "metadata": {
    "pycharm": {
     "name": "#%% md\n"
    }
   },
   "source": [
    "### `parents` - атрибут, который является противоположным атрибуту `contents` "
   ]
  },
  {
   "cell_type": "code",
   "execution_count": 44,
   "metadata": {
    "pycharm": {
     "name": "#%%\n"
    }
   },
   "outputs": [
    {
     "data": {
      "text/plain": [
       "<head><meta charset=\"utf-8\"/><title>Заголовок страницы</title></head>"
      ]
     },
     "execution_count": 44,
     "metadata": {},
     "output_type": "execute_result"
    }
   ],
   "source": [
    "soup.contents[0].contents[0]"
   ]
  },
  {
   "cell_type": "code",
   "execution_count": 45,
   "metadata": {
    "pycharm": {
     "name": "#%%\n"
    }
   },
   "outputs": [
    {
     "data": {
      "text/plain": [
       "[<html><head><meta charset=\"utf-8\"/><title>Заголовок страницы</title></head><body><h1>Это заголовок</h1><p align=\"justify\">Это параграф</p><a class=\"1\" href=\"https://yandex.ru/\">Ссылка на Яндекс</a><a class=\"2\" href=\"https://www.google.ru/\">Ссылка на Google</a><a class=\"3\" href=\"https://yandex.ru/\">Яндекс</a></body></html>,\n",
       " <html><head><meta charset=\"utf-8\"/><title>Заголовок страницы</title></head><body><h1>Это заголовок</h1><p align=\"justify\">Это параграф</p><a class=\"1\" href=\"https://yandex.ru/\">Ссылка на Яндекс</a><a class=\"2\" href=\"https://www.google.ru/\">Ссылка на Google</a><a class=\"3\" href=\"https://yandex.ru/\">Яндекс</a></body></html>]"
      ]
     },
     "execution_count": 45,
     "metadata": {},
     "output_type": "execute_result"
    }
   ],
   "source": [
    "list(soup.head.parents)"
   ]
  },
  {
   "cell_type": "markdown",
   "metadata": {
    "pycharm": {
     "name": "#%% md\n"
    }
   },
   "source": [
    "### `parent` - атрибут, который возвращает ближайшего родителя у тега"
   ]
  },
  {
   "cell_type": "code",
   "execution_count": 48,
   "metadata": {
    "pycharm": {
     "name": "#%%\n"
    },
    "scrolled": true
   },
   "outputs": [
    {
     "data": {
      "text/plain": [
       "<head><meta charset=\"utf-8\"/><title>Заголовок страницы</title></head>"
      ]
     },
     "execution_count": 48,
     "metadata": {},
     "output_type": "execute_result"
    }
   ],
   "source": [
    "soup.title.parent"
   ]
  },
  {
   "cell_type": "code",
   "execution_count": 49,
   "metadata": {
    "pycharm": {
     "name": "#%%\n"
    }
   },
   "outputs": [
    {
     "data": {
      "text/plain": [
       "<html><head><meta charset=\"utf-8\"/><title>Заголовок страницы</title></head><body><h1>Это заголовок</h1><p align=\"justify\">Это параграф</p><a class=\"1\" href=\"https://yandex.ru/\">Ссылка на Яндекс</a><a class=\"2\" href=\"https://www.google.ru/\">Ссылка на Google</a><a class=\"3\" href=\"https://yandex.ru/\">Яндекс</a></body></html>"
      ]
     },
     "execution_count": 49,
     "metadata": {},
     "output_type": "execute_result"
    }
   ],
   "source": [
    "soup.contents[0].contents[0].parent"
   ]
  },
  {
   "cell_type": "markdown",
   "metadata": {
    "pycharm": {
     "name": "#%% md\n"
    }
   },
   "source": [
    "### Получим тег body"
   ]
  },
  {
   "cell_type": "code",
   "execution_count": 50,
   "metadata": {
    "pycharm": {
     "name": "#%%\n"
    }
   },
   "outputs": [
    {
     "data": {
      "text/plain": [
       "<body><h1>Это заголовок</h1><p align=\"justify\">Это параграф</p><a class=\"1\" href=\"https://yandex.ru/\">Ссылка на Яндекс</a><a class=\"2\" href=\"https://www.google.ru/\">Ссылка на Google</a><a class=\"3\" href=\"https://yandex.ru/\">Яндекс</a></body>"
      ]
     },
     "execution_count": 50,
     "metadata": {},
     "output_type": "execute_result"
    }
   ],
   "source": [
    "body = soup.body\n",
    "body"
   ]
  },
  {
   "cell_type": "markdown",
   "metadata": {
    "pycharm": {
     "name": "#%% md\n"
    }
   },
   "source": [
    "### `children` - атрибут, который возвращает итератор, состоящий из дочерних тегов"
   ]
  },
  {
   "cell_type": "code",
   "execution_count": 51,
   "metadata": {
    "pycharm": {
     "name": "#%%\n"
    }
   },
   "outputs": [
    {
     "data": {
      "text/plain": [
       "<list_iterator at 0x7f8dfdaa5d60>"
      ]
     },
     "execution_count": 51,
     "metadata": {},
     "output_type": "execute_result"
    }
   ],
   "source": [
    "body.children"
   ]
  },
  {
   "cell_type": "code",
   "execution_count": 52,
   "metadata": {
    "pycharm": {
     "name": "#%%\n"
    },
    "scrolled": true
   },
   "outputs": [
    {
     "data": {
      "text/plain": [
       "[<h1>Это заголовок</h1>,\n",
       " <p align=\"justify\">Это параграф</p>,\n",
       " <a class=\"1\" href=\"https://yandex.ru/\">Ссылка на Яндекс</a>,\n",
       " <a class=\"2\" href=\"https://www.google.ru/\">Ссылка на Google</a>,\n",
       " <a class=\"3\" href=\"https://yandex.ru/\">Яндекс</a>]"
      ]
     },
     "execution_count": 52,
     "metadata": {},
     "output_type": "execute_result"
    }
   ],
   "source": [
    "list(body.children)"
   ]
  },
  {
   "cell_type": "code",
   "execution_count": 53,
   "metadata": {
    "pycharm": {
     "name": "#%%\n"
    }
   },
   "outputs": [],
   "source": [
    "it = body.children"
   ]
  },
  {
   "cell_type": "code",
   "execution_count": 54,
   "metadata": {
    "pycharm": {
     "name": "#%%\n"
    }
   },
   "outputs": [
    {
     "data": {
      "text/plain": [
       "<h1>Это заголовок</h1>"
      ]
     },
     "execution_count": 54,
     "metadata": {},
     "output_type": "execute_result"
    }
   ],
   "source": [
    "next(it)"
   ]
  },
  {
   "cell_type": "code",
   "execution_count": 55,
   "metadata": {
    "pycharm": {
     "name": "#%%\n"
    }
   },
   "outputs": [
    {
     "data": {
      "text/plain": [
       "<p align=\"justify\">Это параграф</p>"
      ]
     },
     "execution_count": 55,
     "metadata": {},
     "output_type": "execute_result"
    }
   ],
   "source": [
    "next(it)"
   ]
  },
  {
   "cell_type": "markdown",
   "metadata": {
    "pycharm": {
     "name": "#%% md\n"
    }
   },
   "source": [
    "### `.parents` - атрибут, который возвращает итератор с родительскими элементами"
   ]
  },
  {
   "cell_type": "code",
   "execution_count": 56,
   "metadata": {
    "pycharm": {
     "name": "#%%\n"
    }
   },
   "outputs": [],
   "source": [
    "lst = list(soup.title.parents)"
   ]
  },
  {
   "cell_type": "code",
   "execution_count": 57,
   "metadata": {
    "pycharm": {
     "name": "#%%\n"
    }
   },
   "outputs": [
    {
     "name": "stdout",
     "output_type": "stream",
     "text": [
      "(0, <head><meta charset=\"utf-8\"/><title>Заголовок страницы</title></head>)\n",
      "(1, <html><head><meta charset=\"utf-8\"/><title>Заголовок страницы</title></head><body><h1>Это заголовок</h1><p align=\"justify\">Это параграф</p><a class=\"1\" href=\"https://yandex.ru/\">Ссылка на Яндекс</a><a class=\"2\" href=\"https://www.google.ru/\">Ссылка на Google</a><a class=\"3\" href=\"https://yandex.ru/\">Яндекс</a></body></html>)\n",
      "(2, <html><head><meta charset=\"utf-8\"/><title>Заголовок страницы</title></head><body><h1>Это заголовок</h1><p align=\"justify\">Это параграф</p><a class=\"1\" href=\"https://yandex.ru/\">Ссылка на Яндекс</a><a class=\"2\" href=\"https://www.google.ru/\">Ссылка на Google</a><a class=\"3\" href=\"https://yandex.ru/\">Яндекс</a></body></html>)\n"
     ]
    }
   ],
   "source": [
    "for elem in enumerate(lst):\n",
    "    print(elem)"
   ]
  },
  {
   "cell_type": "markdown",
   "metadata": {
    "pycharm": {
     "name": "#%% md\n"
    }
   },
   "source": [
    "### `nextSibling` - атрибут, который позволяет двигаться вперед по сестринским элементам"
   ]
  },
  {
   "cell_type": "code",
   "execution_count": 58,
   "metadata": {
    "pycharm": {
     "name": "#%%\n"
    }
   },
   "outputs": [
    {
     "data": {
      "text/plain": [
       "<head><meta charset=\"utf-8\"/><title>Заголовок страницы</title></head>"
      ]
     },
     "execution_count": 58,
     "metadata": {},
     "output_type": "execute_result"
    }
   ],
   "source": [
    "soup.head"
   ]
  },
  {
   "cell_type": "code",
   "execution_count": 59,
   "metadata": {
    "pycharm": {
     "name": "#%%\n"
    }
   },
   "outputs": [
    {
     "data": {
      "text/plain": [
       "<body><h1>Это заголовок</h1><p align=\"justify\">Это параграф</p><a class=\"1\" href=\"https://yandex.ru/\">Ссылка на Яндекс</a><a class=\"2\" href=\"https://www.google.ru/\">Ссылка на Google</a><a class=\"3\" href=\"https://yandex.ru/\">Яндекс</a></body>"
      ]
     },
     "execution_count": 59,
     "metadata": {},
     "output_type": "execute_result"
    }
   ],
   "source": [
    "soup.head.nextSibling"
   ]
  },
  {
   "cell_type": "code",
   "execution_count": 60,
   "metadata": {
    "pycharm": {
     "name": "#%%\n"
    }
   },
   "outputs": [],
   "source": [
    "soup.body.nextSibling"
   ]
  },
  {
   "cell_type": "markdown",
   "metadata": {
    "pycharm": {
     "name": "#%% md\n"
    }
   },
   "source": [
    "### `.next_siblings` - список из всех следующих соседних тегов"
   ]
  },
  {
   "cell_type": "code",
   "execution_count": 61,
   "metadata": {
    "pycharm": {
     "name": "#%%\n"
    }
   },
   "outputs": [
    {
     "name": "stdout",
     "output_type": "stream",
     "text": [
      "(0, <p align=\"justify\">Это параграф</p>)\n",
      "(1, <a class=\"1\" href=\"https://yandex.ru/\">Ссылка на Яндекс</a>)\n",
      "(2, <a class=\"2\" href=\"https://www.google.ru/\">Ссылка на Google</a>)\n",
      "(3, <a class=\"3\" href=\"https://yandex.ru/\">Яндекс</a>)\n"
     ]
    }
   ],
   "source": [
    "generator = soup.h1.next_siblings\n",
    "\n",
    "for elem in enumerate(generator):\n",
    "    print(elem)"
   ]
  },
  {
   "cell_type": "markdown",
   "metadata": {
    "pycharm": {
     "name": "#%% md\n"
    }
   },
   "source": [
    "### `previousSibling` - атрибут, который позволяет двигаться назад по сестринским элементам"
   ]
  },
  {
   "cell_type": "code",
   "execution_count": 62,
   "metadata": {
    "pycharm": {
     "name": "#%%\n"
    }
   },
   "outputs": [
    {
     "data": {
      "text/plain": [
       "<body><h1>Это заголовок</h1><p align=\"justify\">Это параграф</p><a class=\"1\" href=\"https://yandex.ru/\">Ссылка на Яндекс</a><a class=\"2\" href=\"https://www.google.ru/\">Ссылка на Google</a><a class=\"3\" href=\"https://yandex.ru/\">Яндекс</a></body>"
      ]
     },
     "execution_count": 62,
     "metadata": {},
     "output_type": "execute_result"
    }
   ],
   "source": [
    "soup.body"
   ]
  },
  {
   "cell_type": "code",
   "execution_count": 63,
   "metadata": {
    "pycharm": {
     "name": "#%%\n"
    }
   },
   "outputs": [
    {
     "data": {
      "text/plain": [
       "<head><meta charset=\"utf-8\"/><title>Заголовок страницы</title></head>"
      ]
     },
     "execution_count": 63,
     "metadata": {},
     "output_type": "execute_result"
    }
   ],
   "source": [
    "soup.body.previousSibling"
   ]
  },
  {
   "cell_type": "code",
   "execution_count": 64,
   "metadata": {
    "pycharm": {
     "name": "#%%\n"
    }
   },
   "outputs": [],
   "source": [
    "soup.head.previousSibling"
   ]
  },
  {
   "cell_type": "markdown",
   "metadata": {
    "pycharm": {
     "name": "#%% md\n"
    }
   },
   "source": [
    "### `.previous_siblings` - список из всех предыдущих соседних тегов"
   ]
  },
  {
   "cell_type": "code",
   "execution_count": 65,
   "metadata": {
    "pycharm": {
     "name": "#%%\n"
    }
   },
   "outputs": [
    {
     "name": "stdout",
     "output_type": "stream",
     "text": [
      "(0, <h1>Это заголовок</h1>)\n"
     ]
    }
   ],
   "source": [
    "generator = soup.p.previous_siblings\n",
    "\n",
    "for elem in enumerate(generator):\n",
    "    print(elem)"
   ]
  },
  {
   "cell_type": "markdown",
   "metadata": {
    "pycharm": {
     "name": "#%% md\n"
    }
   },
   "source": [
    "### Выдает первое значение тега"
   ]
  },
  {
   "cell_type": "code",
   "execution_count": 66,
   "metadata": {
    "pycharm": {
     "name": "#%%\n"
    }
   },
   "outputs": [
    {
     "data": {
      "text/plain": [
       "<a class=\"1\" href=\"https://yandex.ru/\">Ссылка на Яндекс</a>"
      ]
     },
     "execution_count": 66,
     "metadata": {},
     "output_type": "execute_result"
    }
   ],
   "source": [
    "soup.a"
   ]
  },
  {
   "cell_type": "markdown",
   "metadata": {
    "pycharm": {
     "name": "#%% md\n"
    }
   },
   "source": [
    "### `.find(name=None, attrs={}, recursive=True, text=None, **kwargs)` - метод, который вовзращает первый попавшийся тег с заданными критериями"
   ]
  },
  {
   "cell_type": "code",
   "execution_count": 67,
   "metadata": {
    "pycharm": {
     "name": "#%%\n"
    }
   },
   "outputs": [
    {
     "data": {
      "text/plain": [
       "<a class=\"1\" href=\"https://yandex.ru/\">Ссылка на Яндекс</a>"
      ]
     },
     "execution_count": 67,
     "metadata": {},
     "output_type": "execute_result"
    }
   ],
   "source": [
    "soup.find('a')"
   ]
  },
  {
   "cell_type": "code",
   "execution_count": 53,
   "metadata": {
    "collapsed": true,
    "pycharm": {
     "name": "#%%\n"
    }
   },
   "outputs": [],
   "source": [
    "soup.find_all?"
   ]
  },
  {
   "cell_type": "markdown",
   "metadata": {
    "pycharm": {
     "name": "#%% md\n"
    }
   },
   "source": [
    "### `.find_all(name=None, attrs={}, recursive=True, text=None, limit=None, **kwargs)`  - метод, который возвращает список из всех тегов с заданными критериями"
   ]
  },
  {
   "cell_type": "code",
   "execution_count": 69,
   "metadata": {
    "pycharm": {
     "name": "#%%\n"
    }
   },
   "outputs": [
    {
     "data": {
      "text/plain": [
       "[<a class=\"1\" href=\"https://yandex.ru/\">Ссылка на Яндекс</a>,\n",
       " <a class=\"2\" href=\"https://www.google.ru/\">Ссылка на Google</a>,\n",
       " <a class=\"3\" href=\"https://yandex.ru/\">Яндекс</a>]"
      ]
     },
     "execution_count": 69,
     "metadata": {},
     "output_type": "execute_result"
    }
   ],
   "source": [
    "soup.find_all('a')"
   ]
  },
  {
   "cell_type": "code",
   "execution_count": 70,
   "metadata": {
    "pycharm": {
     "name": "#%%\n"
    }
   },
   "outputs": [
    {
     "data": {
      "text/plain": [
       "<a class=\"2\" href=\"https://www.google.ru/\">Ссылка на Google</a>"
      ]
     },
     "execution_count": 70,
     "metadata": {},
     "output_type": "execute_result"
    }
   ],
   "source": [
    "soup.find_all('a')[1]"
   ]
  },
  {
   "cell_type": "markdown",
   "metadata": {
    "pycharm": {
     "name": "#%% md\n"
    }
   },
   "source": [
    "### После названия тега можно передать через запятую значения атрибутов тега"
   ]
  },
  {
   "cell_type": "code",
   "execution_count": 71,
   "metadata": {
    "pycharm": {
     "name": "#%%\n"
    }
   },
   "outputs": [
    {
     "data": {
      "text/plain": [
       "[<a class=\"1\" href=\"https://yandex.ru/\">Ссылка на Яндекс</a>,\n",
       " <a class=\"3\" href=\"https://yandex.ru/\">Яндекс</a>]"
      ]
     },
     "execution_count": 71,
     "metadata": {},
     "output_type": "execute_result"
    }
   ],
   "source": [
    "soup.find_all('a', href=\"https://yandex.ru/\")"
   ]
  },
  {
   "cell_type": "markdown",
   "metadata": {
    "pycharm": {
     "name": "#%% md\n"
    }
   },
   "source": [
    "### Можно передать класс, к которому принадлежит тег. Т.к. `class` является зарезервированным словом в Python, то значение класса передается через `class_`"
   ]
  },
  {
   "cell_type": "code",
   "execution_count": 72,
   "metadata": {
    "pycharm": {
     "name": "#%%\n"
    }
   },
   "outputs": [
    {
     "ename": "SyntaxError",
     "evalue": "invalid syntax (<ipython-input-72-040821fc07a3>, line 1)",
     "output_type": "error",
     "traceback": [
      "\u001b[0;36m  File \u001b[0;32m\"<ipython-input-72-040821fc07a3>\"\u001b[0;36m, line \u001b[0;32m1\u001b[0m\n\u001b[0;31m    soup.findAll('a', href=\"https://yandex.ru/\", class=\"3\")\u001b[0m\n\u001b[0m                                                 ^\u001b[0m\n\u001b[0;31mSyntaxError\u001b[0m\u001b[0;31m:\u001b[0m invalid syntax\n"
     ]
    }
   ],
   "source": [
    "soup.findAll('a', href=\"https://yandex.ru/\", class=\"3\")"
   ]
  },
  {
   "cell_type": "code",
   "execution_count": 4,
   "metadata": {
    "pycharm": {
     "name": "#%%\n"
    }
   },
   "outputs": [
    {
     "ename": "NameError",
     "evalue": "name 'soup' is not defined",
     "output_type": "error",
     "traceback": [
      "\u001b[0;31m---------------------------------------------------------------------------\u001b[0m",
      "\u001b[0;31mNameError\u001b[0m                                 Traceback (most recent call last)",
      "\u001b[0;32m/var/folders/vp/_6v9pjzx5pb_0chxpzcjxyx00000gn/T/ipykernel_9894/1166677840.py\u001b[0m in \u001b[0;36m<module>\u001b[0;34m\u001b[0m\n\u001b[0;32m----> 1\u001b[0;31m \u001b[0msoup\u001b[0m\u001b[0;34m.\u001b[0m\u001b[0mfindAll\u001b[0m\u001b[0;34m(\u001b[0m\u001b[0;34m'a'\u001b[0m\u001b[0;34m,\u001b[0m \u001b[0mhref\u001b[0m\u001b[0;34m=\u001b[0m\u001b[0;34m\"https://yandex.ru/\"\u001b[0m\u001b[0;34m,\u001b[0m \u001b[0mclass_\u001b[0m\u001b[0;34m=\u001b[0m\u001b[0;34m\"3\"\u001b[0m\u001b[0;34m)\u001b[0m\u001b[0;34m\u001b[0m\u001b[0;34m\u001b[0m\u001b[0m\n\u001b[0m",
      "\u001b[0;31mNameError\u001b[0m: name 'soup' is not defined"
     ]
    }
   ],
   "source": [
    "soup.findAll('a', href=\"https://yandex.ru/\", class_=\"3\")"
   ]
  },
  {
   "cell_type": "code",
   "execution_count": 76,
   "metadata": {
    "pycharm": {
     "name": "#%%\n"
    }
   },
   "outputs": [
    {
     "data": {
      "text/plain": [
       "<a class=\"3\" href=\"https://yandex.ru/\">Яндекс</a>"
      ]
     },
     "execution_count": 76,
     "metadata": {},
     "output_type": "execute_result"
    }
   ],
   "source": [
    "soup.findAll('a', href=\"https://yandex.ru/\", class_=\"3\")[0]"
   ]
  },
  {
   "cell_type": "code",
   "execution_count": 72,
   "metadata": {
    "pycharm": {
     "name": "#%%\n"
    }
   },
   "outputs": [
    {
     "data": {
      "text/plain": [
       "<a class=\"3\" href=\"https://yandex.ru/\">Яндекс</a>"
      ]
     },
     "execution_count": 72,
     "metadata": {},
     "output_type": "execute_result"
    }
   ],
   "source": [
    "soup.findAll('a', class_=\"3\")[0]"
   ]
  },
  {
   "cell_type": "markdown",
   "metadata": {
    "pycharm": {
     "name": "#%% md\n"
    }
   },
   "source": [
    "### `attrs` - атрибут, который вовзращает словарь из всех атрибутов тега"
   ]
  },
  {
   "cell_type": "code",
   "execution_count": 79,
   "metadata": {
    "pycharm": {
     "name": "#%%\n"
    }
   },
   "outputs": [
    {
     "data": {
      "text/plain": [
       "{'class': ['3'], 'href': 'https://yandex.ru/'}"
      ]
     },
     "execution_count": 79,
     "metadata": {},
     "output_type": "execute_result"
    }
   ],
   "source": [
    "soup.findAll('a', class_=\"3\")[0].attrs"
   ]
  },
  {
   "cell_type": "markdown",
   "metadata": {
    "pycharm": {
     "name": "#%% md\n"
    }
   },
   "source": [
    "# Задача\n",
    "Найти ссылку на сайт метро из Яндекса"
   ]
  },
  {
   "cell_type": "code",
   "execution_count": 3,
   "metadata": {
    "pycharm": {
     "name": "#%%\n"
    }
   },
   "outputs": [],
   "source": [
    "import requests"
   ]
  },
  {
   "cell_type": "code",
   "execution_count": 82,
   "metadata": {
    "pycharm": {
     "name": "#%%\n"
    }
   },
   "outputs": [],
   "source": [
    "url = 'https://yandex.ru/'\n",
    "\n",
    "r = requests.get(url)\n",
    "if r.ok:\n",
    "    soup = BeautifulSoup(r.text, 'lxml')\n",
    "else:\n",
    "    print('Bad request')"
   ]
  },
  {
   "cell_type": "code",
   "execution_count": 84,
   "metadata": {
    "pycharm": {
     "name": "#%%\n"
    }
   },
   "outputs": [
    {
     "name": "stdout",
     "output_type": "stream",
     "text": [
      "<!DOCTYPE html>\n",
      "<html class=\"i-ua_js_no i-ua_css_standart i-ua_browser_unknown i-ua_browser-engine_unknown i-ua_browser_desktop i-ua_platform_other\" lang=\"ru\">\n",
      " <head xmlns:og=\"http://ogp.me/ns#\">\n",
      "  <meta content=\"text/html;charset=utf-8\" http-equiv=\"Content-Type\"/>\n",
      "  <meta content=\"IE=edge\" http-equiv=\"X-UA-Compatible\"/>\n",
      "  <title>\n",
      "   Яндекс\n",
      "  </title>\n",
      "  <link href=\"//yastatic.net/iconostasis/_/8lFaTHLDzmsEZz-5XaQg9iTWZGE.png\" rel=\"shortcut icon\"/>\n",
      "  <link href=\"//yastatic.net/iconostasis/_/5mdPq4V7ghRgzBvMkCaTzd2fjYg.png\" rel=\"apple-touch-icon\" sizes=\"76x76\"/>\n",
      "  <link href=\"//yastatic.net/iconostasis/_/s-hGoCQMUosTziuARBks08IUxmc.png\" rel=\"apple-touch-icon\" sizes=\"120x120\"/>\n",
      "  <link href=\"//yastatic.net/iconostasis/_/KnU823iWwj_vrPra7x9aQ-4yjRw.png\" rel=\"apple-touch-icon\" sizes=\"152x152\"/>\n",
      "  <link href=\"//yastatic.net/iconostasis/_/wT9gfGZZ80sP0VsoR6dgDyXJf2Y.png\" rel=\"apple-touch-icon\" sizes=\"180x180\"/>\n",
      "  <link href=\"https://yandex.ru/company/press_releases/news.rss\" rel=\"alternate\" title=\"Новости Яндекса\" type=\"application/rss+xml\"/>\n",
      "  <link href=\"https://yandex.ru/blog/company/rss\" rel=\"alternate\" title=\"Блог Яндекса\" type=\"application/rss+xml\"/>\n",
      "  <link href=\"//yandex.ru/opensearch.xml\" rel=\"search\" title=\"Яндекс\" type=\"application/opensearchdescription+xml\"/>\n",
      "  <link as=\"script\" crossorigin=\"anonymous\" href=\"//yastatic.net/jquery/2.1.4/jquery.min.js\" rel=\"preload\"/>\n",
      "  <link as=\"script\" crossorigin=\"anonymous\" href=\"//yastatic.net/s3/home-static/_/7/Z/t3g3fJIuiCQ25uR5XUb1QAAJE.js\" rel=\"preload\"/>\n",
      "  <meta content=\"1524984910954255\" property=\"fb:app_id\"/>\n",
      "  <meta content=\"p\" name=\"yamm\"/>\n",
      "  <meta content=\"origin\" name=\"referrer\"/>\n",
      "  <meta content=\"Яндекс\" property=\"og:title\"/>\n",
      "  <meta content=\"https://yastatic.net/s3/home/logos/share/share-logo_ru.png\" property=\"og:image\"/>\n",
      "  <meta content=\"Найдётся всё\" property=\"og:description\"/>\n",
      "  <meta content=\"https://yandex.ru\" property=\"og:url\"/>\n",
      "  <meta content=\"website\" property=\"og:type\"/>\n",
      "  <meta content=\"Яндекс\" property=\"og:site_name\"/>\n",
      "  <meta content=\"ru_RU\" property=\"og:locale\"/>\n",
      "  <meta content=\"ru_RU\" property=\"og:locale:alternate\"/>\n",
      "  <meta content=\"be_BY\" property=\"og:locale:alternate\"/>\n",
      "  <meta content=\"kk_KZ\" property=\"og:locale:alternate\"/>\n",
      "  <meta content=\"tt_RU\" property=\"og:locale:alternate\"/>\n",
      "  <meta content=\"uk_UA\" property=\"og:locale:alternate\"/>\n",
      "  <script>\n",
      "   (function(window) { var home = window.home = window.home || {}, delta = +new Date() - 1608659665 * 1000; home.now = function() { return new Date(+new Date() - delta); }; })(window);\n",
      "  </script>\n",
      "  <script>\n",
      "   window.home=window.home||{},home.loadManager=function(){var n={},o={};return{subscribe:function(t,e){var i=0,r=function(){++i===t.length&&setTimeout((function(){e()}),0)};\"object\"!=typeof t&&(t=[t]),t.forEach((function(t){o[t]?r():(n[t]||(n[t]=[]),n[t].push(r))}))},trigger:function(t){if(!o[t]&&(o[t]=!0,n[t])){for(var e=0,i=n[t].length;e<i;e++)n[t][e]();n[t]=[]}}}}();\n",
      "  </script>\n",
      "  <script>\n",
      "   !function(i,t){if(i.Ya=i.Ya||{},Ya.Rum)throw new Error(\"Rum: interface is already defined\");var n=i.performance,e=n&&n.timing&&n.timing.navigationStart||Ya.startPageLoad||+new Date,s=i.requestAnimationFrame;Ya.Rum={enabled:!!n,vsStart:document.visibilityState,vsChanged:!1,_defTimes:[],_defRes:[],_deltaMarks:{},_markListeners:{},_settings:{},_vars:{},init:function(i,t){this._settings=i,this._vars=t},getTime:n&&n.now?function(){return n.now()}:Date.now?function(){return Date.now()-e}:function(){return new Date-e},time:function(i){this._deltaMarks[i]=[this.getTime()]},timeEnd:function(i,t){var n=this._deltaMarks[i];n&&0!==n.length&&n.push(this.getTime(),t)},sendTimeMark:function(i,t,n,e){void 0===t&&(t=this.getTime()),this._defTimes.push([i,t,e]),this.mark(i,t)},sendResTiming:function(i,t){this._defRes.push([i,t])},sendRaf:function(i){var t=this.getSetting(\"forcePaintTimeSending\");if(s&&(t||!this.isVisibilityChanged())){var n=this,e=\"2616.\"+i;s((function(){!t&&n.isVisibilityChanged()||(n.getSetting(\"sendFirstRaf\")&&n.sendTimeMark(e+\".205\"),s((function(){!t&&n.isVisibilityChanged()||n.sendTimeMark(e+\".1928\")})))}))}},isVisibilityChanged:function(){return this.vsStart&&(\"visible\"!==this.vsStart||this.vsChanged)},mark:n&&n.mark?function(i,t){n.mark(i+(t?\": \"+t:\"\"))}:function(){},getSetting:function(i){var t=this._settings[i];return null===t?null:t||\"\"},on:function(i,t){\"function\"==typeof t&&(this._markListeners[i]=this._markListeners[i]||[]).push(t)},sendTrafficData:function(){},finalizeLayoutShiftScore:function(){},finalizeLargestContentfulPaint:function(){}},document.addEventListener&&document.addEventListener(\"visibilitychange\",(function a(){Ya.Rum.vsChanged=!0,document.removeEventListener(\"visibilitychange\",a)}))}(window);Ya.Rum.observeDOMNode=window.IntersectionObserver?function(e,i,n){var t=this,o=Ya.Rum.getSetting(\"forcePaintTimeSending\");!function r(){if(o||!t.isVisibilityChanged()){var s=\"string\"==typeof i?document.querySelector(i):i;s?new IntersectionObserver((function(i,n){!o&&t.isVisibilityChanged()||(Ya.Rum.sendTimeMark(e),n.unobserve(s))}),n).observe(s):setTimeout(r,100)}}()}:function(){};!function(){if(window.PerformanceLongTaskTiming){var e=function(e,n){return(e=e.concat(n)).length>300&&(e=e.slice(e.length-300)),e},n=Ya.Rum._tti={events:[],eventsAfterTTI:[],fired:!1,observer:new PerformanceObserver((function(r){var t=r.getEntries();n.events=e(n.events,t),n.fired&&(n.eventsAfterTTI=e(n.eventsAfterTTI,t))}))};n.observer.observe({entryTypes:[\"longtask\"]})}}();!function(){var e,t=[];function n(){var n=Ya.Rum.getSetting(\"clck\"),i=t.join(\"\\r\\n\");if((t=[],e=null,n)&&!(navigator.sendBeacon&&Ya.Rum.getSetting(\"beacon\")&&navigator.sendBeacon(n,i))){var a=new XMLHttpRequest;a.open(\"POST\",n),a.send(i)}}Ya.Rum.send=function(i,a,o,s,g,u,r){clearTimeout(e);var m=Ya.Rum.getSetting(\"slots\"),c=Ya.Rum.getSetting(\"experiments\"),v=[\"/reqid=\"+Ya.Rum.getSetting(\"reqid\"),r?\"/\"+r.join(\"/\"):\"\",a?\"/path=\"+a:\"\",g?\"/events=\"+g:\"\",m?\"/slots=\"+m.join(\";\"):\"\",c?\"/experiments=\"+c.join(\";\"):\"\",o?\"/vars=\"+o:\"\",\"/cts=\"+(new Date).getTime(),\"/*\"];t.push(v.join(\"\")),t.length<42?e=setTimeout(n,15):n()}}();Ya.Rum.init({\"beacon\":true,\"reqid\":\"1608659665.35729.97919.45152\",\"slots\":[\"135685,0,94\",\"306515,0,98\",\"306915,0,59\"],\"clck\":\"https://yandex.ru/clck/click\",\"sendStaticLocation\":false,\"longTaskMetric\":true,\"scrollMetric\":true,\"scrollLatencyMetric\":true},{\"143\":\"28.15.899\",\"287\":\"213\",\"1961\":1,\"1964\":0,\"1965\":0,\"-project\":\"morda\",\"-page\":\"plain\",\"-platform\":\"desktop\",\"-env\":\"production\",\"-version\":\"2020-12-19-0\",\"-blocker\":\"\",\"-additional\":\"{}\"});Ya.Rum.observeDOMNode('2876','form.search2')\n",
      "  </script>\n",
      "  <script>\n",
      "   !function(n){if(!n.Ya||!Ya.Rum)throw new Error(\"Rum: interface is not defined\");var e=Ya.Rum;e.getSetting=function(n){var t=e._settings[n];return null===t?null:t||\"\"}}(\"undefined\"!=typeof self?self:window);!function(e,r){var n={client:[\"690.2354\",1e3,100,0],uncaught:[\"690.2361\",100,10,0],external:[\"690.2854\",100,10,0],script:[\"690.2609\",100,10,0]},t={};r.ERROR_LEVEL={INFO:\"info\",DEBUG:\"debug\",WARN:\"warn\",ERROR:\"error\",FATAL:\"fatal\"},r._errorSettings={clck:\"https://yandex.ru/clck/click\",beacon:!0,project:\"unknown\",page:\"\",env:\"\",experiments:[],additional:{},platform:\"\",region:\"\",dc:\"\",host:\"\",service:\"\",level:\"\",version:\"\",yandexuid:\"\",coordinates_gp:\"\",referrer:\"\",preventError:!1,unhandledRejection:!1,uncaughtException:!0,debug:!1,limits:{},silent:{},filters:{},pageMaxAge:864e6,initTimestamp:+new Date};var o=!1;function a(e,r){for(var n in r)r.hasOwnProperty(n)&&(e[n]=r[n]);return e}function i(e){return\"boolean\"==typeof e&&(e=+e),\"number\"==typeof e?e+\"\":null}r.initErrors=function(n){a(r._errorSettings,n),!o&&r._errorSettings.uncaughtException&&(!function(){if(e.addEventListener)e.addEventListener(\"error\",s),\"Promise\"in e&&r._errorSettings.unhandledRejection&&e.addEventListener(\"unhandledrejection\",(function(e){var r,n=e.reason,t={};n&&(n.stack&&n.message?r=n.message:\"[object Event]\"===(r=String(n))?r=\"event.type: \"+n.type:\"[object Object]\"===r&&(t.unhandledObject=n),n.target&&n.target.src&&(t.src=n.target.src),s({message:\"Unhandled rejection: \"+r,stack:n.stack,additional:t}))}));else{var n=e.onerror;e.onerror=function(e,r,t,o,a){s({error:a||new Error(e||\"Empty error\"),message:e,lineno:t,colno:o,filename:r}),n&&n.apply(this,arguments)}}}(),o=!0)},r.updateErrors=function(e){a(r._errorSettings,e)},r._handleError=function(e,o){var a,i,s=r._errorSettings;if(s.preventError&&e.preventDefault&&e.preventDefault(),o)a=e,i=\"client\";else{a=r._normalizeError(e),i=a.type;var l=s.onError;\"function\"==typeof l&&l(a);var c=s.transform;\"function\"==typeof c&&(a=c(a))}var u=+new Date,d=s.initTimestamp,p=s.pageMaxAge;if(!(-1!==p&&d&&d+p<u)){var f=n[i][1];\"number\"==typeof s.limits[i]&&(f=s.limits[i]);var m=n[i][2];\"number\"==typeof s.silent[i]&&(m=s.silent[i]);var g=n[i][3];if(g<f||-1===f){a.path=n[i][0];var v=r._getErrorData(a,{silent:g<m||-1===m?\"no\":\"yes\",isCustom:Boolean(o)},s),h=function(e){t[a.message]=!1,r._sendError(e.path,e.vars),n[i][3]++}.bind(this,v);if(\"undefined\"==typeof s.throttleSend)h();else{if(t[a.message])return;t[a.message]=!0,setTimeout(h,s.throttleSend)}}}},r._getErrorData=function(r,n,t){n=n||{};var o=\"\";try{var s=a(a({},t.additional),r.additional);0!==Object.keys(s).length&&(o=JSON.stringify(s))}catch(u){t.debug&&e.console&&console.error(\"[error-counter] json.stringify:\",u)}var l=t.experiments instanceof Array?t.experiments.join(\";\"):\"\",c={\"-stack\":r.stack,\"-url\":r.file,\"-line\":r.line,\"-col\":r.col,\"-block\":r.block,\"-method\":r.method,\"-msg\":r.message,\"-env\":t.env,\"-external\":r.external,\"-externalCustom\":r.externalCustom,\"-project\":t.project,\"-service\":r.service||t.service,\"-page\":r.page||t.page,\"-platform\":t.platform,\"-level\":r.level,\"-experiments\":l,\"-version\":t.version,\"-region\":t.region,\"-dc\":t.dc,\"-host\":t.host,\"-yandexuid\":t.yandexuid,\"-coordinates_gp\":r.coordinates_gp||t.coordinates_gp,\"-referrer\":t.referrer,\"-source\":r.source,\"-sourceMethod\":r.sourceMethod,\"-type\":n.isCustom?r.type:\"\",\"-additional\":o,\"-adb\n"
     ]
    }
   ],
   "source": [
    "print(soup.prettify()[:10000])"
   ]
  },
  {
   "cell_type": "code",
   "execution_count": 6,
   "metadata": {
    "pycharm": {
     "name": "#%%\n"
    }
   },
   "outputs": [],
   "source": [
    "import re"
   ]
  },
  {
   "cell_type": "code",
   "execution_count": 7,
   "metadata": {
    "pycharm": {
     "name": "#%%\n"
    }
   },
   "outputs": [
    {
     "ename": "NameError",
     "evalue": "name 'soup' is not defined",
     "output_type": "error",
     "traceback": [
      "\u001b[0;31m---------------------------------------------------------------------------\u001b[0m",
      "\u001b[0;31mNameError\u001b[0m                                 Traceback (most recent call last)",
      "\u001b[0;32m/var/folders/vp/_6v9pjzx5pb_0chxpzcjxyx00000gn/T/ipykernel_9894/1216863419.py\u001b[0m in \u001b[0;36m<module>\u001b[0;34m\u001b[0m\n\u001b[0;32m----> 1\u001b[0;31m \u001b[0;32mfor\u001b[0m \u001b[0ma_\u001b[0m \u001b[0;32min\u001b[0m \u001b[0msoup\u001b[0m\u001b[0;34m.\u001b[0m\u001b[0mfindAll\u001b[0m\u001b[0;34m(\u001b[0m\u001b[0;34m'a'\u001b[0m\u001b[0;34m)\u001b[0m\u001b[0;34m:\u001b[0m\u001b[0;34m\u001b[0m\u001b[0;34m\u001b[0m\u001b[0m\n\u001b[0m\u001b[1;32m      2\u001b[0m     \u001b[0mres\u001b[0m \u001b[0;34m=\u001b[0m \u001b[0mre\u001b[0m\u001b[0;34m.\u001b[0m\u001b[0msearch\u001b[0m\u001b[0;34m(\u001b[0m\u001b[0;34m\"Метро\"\u001b[0m\u001b[0;34m,\u001b[0m \u001b[0ma_\u001b[0m\u001b[0;34m.\u001b[0m\u001b[0mtext\u001b[0m\u001b[0;34m)\u001b[0m\u001b[0;34m\u001b[0m\u001b[0;34m\u001b[0m\u001b[0m\n\u001b[1;32m      3\u001b[0m     \u001b[0;32mif\u001b[0m \u001b[0mres\u001b[0m \u001b[0;32mis\u001b[0m \u001b[0;32mnot\u001b[0m \u001b[0;32mNone\u001b[0m\u001b[0;34m:\u001b[0m\u001b[0;34m\u001b[0m\u001b[0;34m\u001b[0m\u001b[0m\n\u001b[1;32m      4\u001b[0m         \u001b[0mprint\u001b[0m\u001b[0;34m(\u001b[0m\u001b[0ma_\u001b[0m\u001b[0;34m)\u001b[0m\u001b[0;34m\u001b[0m\u001b[0;34m\u001b[0m\u001b[0m\n\u001b[1;32m      5\u001b[0m         \u001b[0mprint\u001b[0m\u001b[0;34m(\u001b[0m\u001b[0ma_\u001b[0m\u001b[0;34m.\u001b[0m\u001b[0mattrs\u001b[0m\u001b[0;34m[\u001b[0m\u001b[0;34m'href'\u001b[0m\u001b[0;34m]\u001b[0m\u001b[0;34m)\u001b[0m\u001b[0;34m\u001b[0m\u001b[0;34m\u001b[0m\u001b[0m\n",
      "\u001b[0;31mNameError\u001b[0m: name 'soup' is not defined"
     ]
    }
   ],
   "source": [
    "for a_ in soup.findAll('a'):\n",
    "    res = re.search(\"Метро\", a_.text)\n",
    "    if res is not None:\n",
    "        print(a_)\n",
    "        print(a_.attrs['href'])"
   ]
  },
  {
   "cell_type": "code",
   "execution_count": 101,
   "metadata": {
    "pycharm": {
     "name": "#%%\n"
    }
   },
   "outputs": [
    {
     "name": "stdout",
     "output_type": "stream",
     "text": [
      "https://yandex.ru/metro/moscow\n"
     ]
    }
   ],
   "source": [
    "print(soup.find('ul', class_='list widget__content region__content list_inline_yes').a.attrs['href'])"
   ]
  },
  {
   "cell_type": "markdown",
   "metadata": {
    "pycharm": {
     "name": "#%% md\n"
    }
   },
   "source": [
    "### Спарсим с Яндекс Маркета названия телевизоров и их стоимость"
   ]
  },
  {
   "cell_type": "code",
   "execution_count": 110,
   "metadata": {
    "pycharm": {
     "name": "#%%\n"
    }
   },
   "outputs": [
    {
     "name": "stdout",
     "output_type": "stream",
     "text": [
      "https://www.wildberries.ru/catalog/elektronika/tv-audio-foto-video-tehnika/televizory/televizory\n"
     ]
    }
   ],
   "source": [
    "url = 'https://www.wildberries.ru/catalog/0/search.aspx'\n",
    "\n",
    "params = {\n",
    "    'search':'телевизор'\n",
    "}\n",
    "\n",
    "r = requests.get(url, params=params)\n",
    "\n",
    "if r.ok:\n",
    "    print(r.url)\n",
    "    soup = BeautifulSoup(r.text, 'lxml')\n",
    "else:\n",
    "    print('Bad request')"
   ]
  },
  {
   "cell_type": "code",
   "execution_count": 111,
   "metadata": {
    "pycharm": {
     "name": "#%%\n"
    }
   },
   "outputs": [
    {
     "data": {
      "text/plain": [
       "200"
      ]
     },
     "execution_count": 111,
     "metadata": {},
     "output_type": "execute_result"
    }
   ],
   "source": [
    "r.status_code"
   ]
  },
  {
   "cell_type": "code",
   "execution_count": 112,
   "metadata": {
    "pycharm": {
     "name": "#%%\n"
    }
   },
   "outputs": [
    {
     "data": {
      "text/plain": [
       "'https://www.wildberries.ru/catalog/elektronika/tv-audio-foto-video-tehnika/televizory/televizory'"
      ]
     },
     "execution_count": 112,
     "metadata": {},
     "output_type": "execute_result"
    }
   ],
   "source": [
    "r.url"
   ]
  },
  {
   "cell_type": "code",
   "execution_count": 115,
   "metadata": {
    "pycharm": {
     "name": "#%%\n"
    }
   },
   "outputs": [
    {
     "data": {
      "text/plain": [
       "'https://www.wildberries.ru/catalog/0/search.aspx?search=%D1%82%D0%B5%D0%BB%D0%B5%D0%B2%D0%B8%D0%B7%D0%BE%D1%80'"
      ]
     },
     "execution_count": 115,
     "metadata": {},
     "output_type": "execute_result"
    }
   ],
   "source": [
    "r.history[0].url"
   ]
  },
  {
   "cell_type": "markdown",
   "metadata": {
    "pycharm": {
     "name": "#%% md\n"
    }
   },
   "source": [
    "### Список названий телевизоров и ссылок на них"
   ]
  },
  {
   "cell_type": "code",
   "execution_count": 116,
   "metadata": {
    "pycharm": {
     "name": "#%%\n"
    },
    "scrolled": true
   },
   "outputs": [
    {
     "name": "stdout",
     "output_type": "stream",
     "text": [
      "<!DOCTYPE html>\n",
      "<html lang=\"ru\" translate=\"no\">\n",
      " <head>\n",
      "  <meta charset=\"utf-8\"/>\n",
      "  <meta content=\"IE=7; IE=Edge\" http-equiv=\"X-UA-Compatible\"/>\n",
      "  <!--[if ie]><![endif]-->\n",
      "  <title>\n",
      "   Купить телевизоры в интернет магазине WildBerries.ru\n",
      "  </title>\n",
      "  <meta content=\"Большой выбор телевизоров и аксессуаров в интернет-магазине WildBerries.ru. Бесплатная доставка и постоянные скидки!\" name=\"description\"/>\n",
      "  <meta content=\"\" name=\"keywords\"/>\n",
      "  <link href=\"//static.wbstatic.net/s/desktop/style/views/spa/main.min.css?bc4bfde098360e52\" rel=\"stylesheet\" type=\"text/css\"/>\n",
      "  <link href=\"//static.wbstatic.net/s/desktop/style/views/site/catalog_v1.min.css?1a643c39b0af18b3\" rel=\"stylesheet\" type=\"text/css\"/>\n",
      "  <meta content=\"https://www.wildberries.ru/catalog/elektronika/tv-audio-foto-video-tehnika/televizory/televizory\" property=\"og:url\"/>\n",
      "  <meta content=\"Купить телевизоры в интернет магазине WildBerries.ru\" property=\"og:title\"/>\n",
      "  <meta content=\"//static.wbstatic.net/i/wb-og-win.jpg\" property=\"o\n"
     ]
    }
   ],
   "source": [
    "print(soup.prettify()[:1000])"
   ]
  },
  {
   "cell_type": "code",
   "execution_count": 9,
   "metadata": {
    "pycharm": {
     "name": "#%%\n"
    }
   },
   "outputs": [
    {
     "ename": "NameError",
     "evalue": "name 'soup' is not defined",
     "output_type": "error",
     "traceback": [
      "\u001b[0;31m---------------------------------------------------------------------------\u001b[0m",
      "\u001b[0;31mNameError\u001b[0m                                 Traceback (most recent call last)",
      "\u001b[0;32m/var/folders/vp/_6v9pjzx5pb_0chxpzcjxyx00000gn/T/ipykernel_9894/1355556806.py\u001b[0m in \u001b[0;36m<module>\u001b[0;34m\u001b[0m\n\u001b[1;32m      1\u001b[0m \u001b[0;31m#soup.find('div', class_='catalog_main_table j-products-container').find('a').find('span', class_='goods-name c-text-sm').text\u001b[0m\u001b[0;34m\u001b[0m\u001b[0;34m\u001b[0m\u001b[0;34m\u001b[0m\u001b[0m\n\u001b[1;32m      2\u001b[0m \u001b[0;34m\u001b[0m\u001b[0m\n\u001b[0;32m----> 3\u001b[0;31m \u001b[0mprint\u001b[0m\u001b[0;34m(\u001b[0m\u001b[0msoup\u001b[0m\u001b[0;34m.\u001b[0m\u001b[0mfind\u001b[0m\u001b[0;34m(\u001b[0m\u001b[0;34m'div'\u001b[0m\u001b[0;34m,\u001b[0m \u001b[0mclass_\u001b[0m\u001b[0;34m=\u001b[0m\u001b[0;34m\"product-card__price j-cataloger-price\"\u001b[0m\u001b[0;34m)\u001b[0m\u001b[0;34m.\u001b[0m\u001b[0mfind\u001b[0m\u001b[0;34m(\u001b[0m\u001b[0;34m'a'\u001b[0m\u001b[0;34m)\u001b[0m\u001b[0;34m.\u001b[0m\u001b[0mfind\u001b[0m\u001b[0;34m(\u001b[0m\u001b[0;34m'ins'\u001b[0m\u001b[0;34m,\u001b[0m \u001b[0mclass_\u001b[0m\u001b[0;34m=\u001b[0m\u001b[0;34m'lower_price'\u001b[0m\u001b[0;34m)\u001b[0m\u001b[0;34m.\u001b[0m\u001b[0mcontents\u001b[0m\u001b[0;34m[\u001b[0m\u001b[0;36m0\u001b[0m\u001b[0;34m]\u001b[0m\u001b[0;34m.\u001b[0m\u001b[0mtext\u001b[0m\u001b[0;34m)\u001b[0m\u001b[0;34m\u001b[0m\u001b[0;34m\u001b[0m\u001b[0m\n\u001b[0m\u001b[1;32m      4\u001b[0m \u001b[0;34m\u001b[0m\u001b[0m\n",
      "\u001b[0;31mNameError\u001b[0m: name 'soup' is not defined"
     ]
    }
   ],
   "source": [
    "#soup.find('div', class_='catalog_main_table j-products-container').find('a').find('span', class_='goods-name c-text-sm').text\n",
    "\n",
    "print(soup.find('div', class_=\"product-card__price j-cataloger-price\").find('a').find('ins', class_='lower_price').contents[0].text)\n"
   ]
  },
  {
   "cell_type": "code",
   "execution_count": 134,
   "metadata": {
    "pycharm": {
     "name": "#%%\n"
    },
    "scrolled": true
   },
   "outputs": [
    {
     "name": "stdout",
     "output_type": "stream",
     "text": [
      "<a class=\"ref_goods_n_p j-open-full-product-card\" href=\"/catalog/10842146/detail.aspx?targetUrl=GP\" itemscope=\"\" itemtype=\"http://schema.org/ImageObject\">\n",
      "<div class=\"l_class\" id=\"c10842146\">\n",
      "<img alt='Телевизор L32M5-5ARU/32\"/720p HD Xiaomi' class=\"thumbnail\" src=\"//images.wbstatic.net/c252x336/new/10840000/10842146-1.jpg\"/>\n",
      "<noscript>\n",
      "<img alt='Телевизор L32M5-5ARU/32\"/720p HD Xiaomi' class=\"thumbnail\" src=\"//images.wbstatic.net/c252x336/new/10840000/10842146-1.jpg\"/>\n",
      "</noscript>\n",
      "</div>\n",
      "<div class=\"dtlist-inner-brand\">\n",
      "<div class=\"quick-order\">\n",
      "<span class=\"quick-order-add-to-postpone j-add-to-postpone\"></span>\n",
      "<span class=\"quick-order-add-to-basket j-add-to-basket\"></span>\n",
      "</div>\n",
      "<div class=\"j-cataloger-price\">\n",
      "<span class=\"price\"><span class=\"lower-price\"> 13 990 ₽</span>\n",
      "<span class=\"block-cashback\"></span>\n",
      "</span>\n",
      "</div>\n",
      "<div class=\"dtlist-inner-brand-name\">\n",
      "<strong class=\"brand-name c-text-sm\">Xiaomi <span>/ </span></strong>\n",
      "<span class=\"goods-name c-text-sm\">Телевизор L32M5-5ARU/32\"/720p HD</span>\n",
      "</div>\n",
      "</div>\n",
      "<span itemscope=\"\" itemtype=\"http://schema.org/Intangible\">\n",
      "<span itemscope=\"\" itemtype=\"http://schema.org/Rating\">\n",
      "<span class=\"c-stars-line-lg j-stars stars-line-sm star4\" itemprop=\"aggregateRating\"></span>\n",
      "<span class=\"dtList-comments-count c-text-sm\">1291</span>\n",
      "</span>\n",
      "</span>\n",
      "</a>\n"
     ]
    }
   ],
   "source": [
    "for tv in soup.find('div', class_='catalog_main_table j-products-container').findAll('a'):\n",
    "    res = re.search(\"Телевизор \", tv.find('span', class_='goods-name c-text-sm').text)\n",
    "    if res is not None:\n",
    "        print(tv)\n",
    "        break"
   ]
  },
  {
   "cell_type": "code",
   "execution_count": 135,
   "metadata": {
    "pycharm": {
     "name": "#%%\n"
    }
   },
   "outputs": [],
   "source": [
    "tv_prices = []\n",
    "for tv in soup.find('div', class_='catalog_main_table j-products-container').findAll('a'):\n",
    "    res = re.search(\"Телевизор \", tv.find('span', class_='goods-name c-text-sm').text)\n",
    "    if res is not None:\n",
    "        title = tv.find('span', class_='goods-name c-text-sm').text\n",
    "        price = tv.find('span', class_='price').contents[0].text\n",
    "        tv_prices.append((title, price))"
   ]
  },
  {
   "cell_type": "code",
   "execution_count": 140,
   "metadata": {
    "pycharm": {
     "name": "#%%\n"
    }
   },
   "outputs": [
    {
     "data": {
      "text/plain": [
       "[('Телевизор L32M5-5ARU/32\"/720p HD', ' 13\\xa0990\\xa0₽'),\n",
       " ('Телевизор UE50TU7090UXRU/50\"/4K UHD/Bluetooth/да', ' 31\\xa0840\\xa0₽'),\n",
       " ('Телевизор L55M5-5ARU/55\"/4K HDR', ' 29\\xa0990\\xa0₽'),\n",
       " ('Телевизор UE50TU8500UXRU/50\"/4K UHD', ' 40\\xa0490\\xa0₽'),\n",
       " ('Телевизор L50M5-5ARU/50\"/4K HDR', ' 27\\xa0990\\xa0₽'),\n",
       " ('Телевизор L43M5-5ARU/43\"/4K HDR', ' 22\\xa0990\\xa0₽'),\n",
       " ('Телевизор TX-55HXR700/55\"/4K HDR/Bluetooth 4.0', ' 30\\xa0599\\xa0₽'),\n",
       " ('Телевизор TX-50HXR700/50\"/4K HDR/Bluetooth 4.0', ' 26\\xa0219\\xa0₽'),\n",
       " ('Телевизор UE50TU7100UXRU/50\"/4K UHD', ' 33\\xa0591\\xa0₽'),\n",
       " ('Телевизор 32LM630BPLA/32\"/720p HD', ' 18\\xa0990\\xa0₽'),\n",
       " ('Телевизор H43A6140/42.5\"/4K UHD', ' 19\\xa0999\\xa0₽'),\n",
       " ('Телевизор UE43TU7090UXRU/43\"/4K UHD/Bluetooth/Wi-Fi/да', ' 28\\xa0490\\xa0₽'),\n",
       " ('Телевизор BQ-42S01B/42\"/1080p Full HD', ' 14\\xa0589\\xa0₽'),\n",
       " ('Телевизор TX-43HXR700/43\"/4K HDR/Bluetooth 4.0', ' 20\\xa0799\\xa0₽'),\n",
       " ('Телевизор UE55TU8000UXRU/55\"/4K UHD', ' 44\\xa0711\\xa0₽'),\n",
       " ('Телевизор BQ 50S01B Black/49.5\"/1080p Full HD', ' 18\\xa0489\\xa0₽'),\n",
       " ('Телевизор UE43TU7100UXRU/43\"/4K UHD', ' 31\\xa0840\\xa0₽'),\n",
       " ('Телевизор L65M5-5ASP/65\"/4K HDR/Bluetooth/Wi-Fi', ' 49\\xa0990\\xa0₽'),\n",
       " ('Телевизор UE32M5500AUXRU/32\"/1080p Full HD', ' 21\\xa0741\\xa0₽'),\n",
       " ('Телевизор BQ-55SU01B/55\"/4K UHD', ' 23\\xa0989\\xa0₽'),\n",
       " ('Телевизор Bt50S01B/50\"/1080p Full HD', ' 18\\xa0712\\xa0₽'),\n",
       " ('Телевизор UE24N4500AUXRU/24\"/720p HD', ' 12\\xa0591\\xa0₽'),\n",
       " ('Телевизор UE43TU8510UXRU/43\"', ' 36\\xa0511\\xa0₽'),\n",
       " ('Телевизор UE55TU7090UXRU/55\"/4K UHD/Bluetooth/Wi-Fi/да', ' 36\\xa0951\\xa0₽'),\n",
       " ('Телевизор UE28N4500AUXRU/28\"/720p HD', ' 14\\xa0710\\xa0₽'),\n",
       " ('Телевизор UE43TU8000UXRU/43\"/4K UHD', ' 31\\xa0971\\xa0₽'),\n",
       " ('Телевизор ULM-24TC111/24\"/720p HD', ' 6\\xa0466\\xa0₽'),\n",
       " ('Телевизор UE43TU8500UXRU/43\"/4K UHD', ' 38\\xa0271\\xa0₽'),\n",
       " ('Телевизор 43\"/4K UHD', ' 20\\xa0998\\xa0₽'),\n",
       " ('Телевизор L43M5-5ARUA/43\"/4K HDR/Bluetooth/Wi-Fi', ' 21\\xa0990\\xa0₽'),\n",
       " ('Телевизор 32\"/1080p Full HD', ' 16\\xa0896\\xa0₽'),\n",
       " ('Телевизор UE55TU8500UXRU/55\"/4K HDR', ' 55\\xa0190\\xa0₽'),\n",
       " ('Телевизор 40U600KD/40\"/4K UHD', ' 19\\xa0999\\xa0₽'),\n",
       " ('Телевизор UE55TU7500UXRU/55\"/4K UHD', ' 44\\xa0871\\xa0₽'),\n",
       " ('Телевизор UE43J5202AU/43\"/1080p Full HD', ' 25\\xa0100\\xa0₽'),\n",
       " ('Телевизор QE75Q60TAUXRU/75\"/4K HDR', ' 118\\xa0993\\xa0₽'),\n",
       " ('Телевизор 43UN73906LE/43\"', ' 35\\xa0990\\xa0₽'),\n",
       " ('Телевизор 43UK6200PLA/43\"/4K UHD', ' 25\\xa0100\\xa0₽'),\n",
       " ('Телевизор UE32T4510AUXRU/32\"/720p HD', ' 17\\xa0991\\xa0₽'),\n",
       " ('Телевизор 32\"/WXGA', ' 14\\xa0298\\xa0₽'),\n",
       " ('Телевизор Bt39S03B/39\"/720p HD', ' 12\\xa0742\\xa0₽'),\n",
       " ('Телевизор 22\"/да', ' 6\\xa0290\\xa0₽'),\n",
       " ('Телевизор STV-LC40LT0075F/40\"/1080p Full HD', ' 13\\xa0290\\xa0₽'),\n",
       " ('Телевизор 43UN74006LA/43\"', ' 35\\xa0990\\xa0₽'),\n",
       " ('Телевизор UE43N5510AU/43\"/1080p Full HD', ' 24\\xa0891\\xa0₽'),\n",
       " ('Телевизор 49UN74006LA/49\"/4K UHD', ' 34\\xa0311\\xa0₽'),\n",
       " ('Телевизор QE55Q80TAUXRU/55\"/4K UHD', ' 118\\xa0740\\xa0₽'),\n",
       " ('Телевизор UE43N5000AU/43\"/1080p Full HD', ' 22\\xa0990\\xa0₽'),\n",
       " ('Телевизор QE49Q60RAUXRU/49\"/4K UHD', ' 49\\xa0493\\xa0₽'),\n",
       " ('Телевизор 49UK6200PLA/49\"/4K UHD', ' 28\\xa0151\\xa0₽'),\n",
       " ('Телевизор QE50Q60TAUXRU/50\"/4K UHD', ' 47\\xa0593\\xa0₽'),\n",
       " ('Телевизор UE32N5000AU/32\"/1080p Full HD', ' 16\\xa0370\\xa0₽'),\n",
       " ('Телевизор QE43Q60TAUXRU/43\"/4K UHD', ' 47\\xa0392\\xa0₽'),\n",
       " ('Телевизор BQ-55FSU32B/55\"/4K UHD', ' 24\\xa0591\\xa0₽'),\n",
       " ('Телевизор QE55Q70TAUXRU/55\"/4K UHD', ' 83\\xa0590\\xa0₽'),\n",
       " ('Телевизор KDL-40RE353/40\"/1080p Full HD', ' 23\\xa0392\\xa0₽'),\n",
       " ('Телевизор QE50Q80TAUXRU/50\"/4K UHD/Bluetooth/Wi-Fi/да', ' 99\\xa0990\\xa0₽'),\n",
       " ('Телевизор Bt5001B/50\"/1080p Full HD', ' 17\\xa0152\\xa0₽'),\n",
       " ('Телевизор UE50TU7500UXRU/50\"/4K UHD', ' 36\\xa0111\\xa0₽'),\n",
       " ('Телевизор ULX-50UTCS333/RU/50\"/4K UHD', ' 20\\xa0662\\xa0₽'),\n",
       " ('Телевизор 50AE7400F/50\"/4K UHD/Bluetooth/Wi-Fi', ' 25\\xa0492\\xa0₽'),\n",
       " ('Телевизор BQ-4201B/42\"/1080p Full HD', ' 13\\xa0111\\xa0₽'),\n",
       " ('Телевизор NX-24THS100/24\"/HD+', ' 9\\xa0390\\xa0₽'),\n",
       " ('Телевизор KD55XH8005BR/55\"/4K HDR', ' 78\\xa0990\\xa0₽'),\n",
       " ('Телевизор 43U800BR/43\"/4K UHD', ' 27\\xa0598\\xa0₽'),\n",
       " ('Телевизор 24H600KD/24\"/WXGA', ' 11\\xa0699\\xa0₽'),\n",
       " ('Телевизор 55U800BR/55\"/4K UHD', ' 36\\xa0913\\xa0₽'),\n",
       " ('Телевизор 43UM7020PLF/43\"/4K UHD', ' 26\\xa0960\\xa0₽'),\n",
       " ('Телевизор 43U710KB/43\"/4K UHD', ' 24\\xa0312\\xa0₽'),\n",
       " ('Телевизор 32\"/WXGA', ' 15\\xa0398\\xa0₽'),\n",
       " ('Телевизор 55UN80006LA/55\"', ' 52\\xa0990\\xa0₽'),\n",
       " ('Телевизор UE43TU7500UXRU/43\"/4K UHD', ' 31\\xa0531\\xa0₽'),\n",
       " ('Телевизор UE32T4500AUXRU/32\"/720p HD', ' 17\\xa0591\\xa0₽'),\n",
       " ('Телевизор UE32T5300AU/32\"/Full HD/Wi-Fi', ' 20\\xa0570\\xa0₽'),\n",
       " ('Телевизор 50U710KB/50\"/4K UHD', ' 30\\xa0809\\xa0₽'),\n",
       " ('Телевизор TF-LED32S87T2S/32\"/720p HD/Wi-Fi/да', ' 10\\xa0292\\xa0₽'),\n",
       " ('Телевизор L55M5-5ARUM/55\"/4K UHD/Bluetooth/Wi-Fi/да', ' 32\\xa0990\\xa0₽'),\n",
       " ('Телевизор 22LEM-1056/FT2C/22\"/1080p Full HD', ' 6\\xa0148\\xa0₽'),\n",
       " ('Телевизор 32LEX-7168/TS2C/32\"/720p HD', ' 10\\xa0464\\xa0₽'),\n",
       " ('Телевизор FLTV-32A310/32\"', ' 9\\xa0490\\xa0₽'),\n",
       " ('Телевизор ULX-32TCSW217/32\"/720p HD', ' 10\\xa0444\\xa0₽'),\n",
       " ('Телевизор STV-LC40ST0075F/40\"/1080p Full HD', ' 14\\xa0790\\xa0₽'),\n",
       " ('Телевизор UE32N4000AU/32\"/720p HD', ' 13\\xa0591\\xa0₽'),\n",
       " ('Телевизор UE70TU7090UXRU/70\"/4K UHD/Bluetooth 4.2/Wi-Fi/да',\n",
       "  ' 63\\xa0901\\xa0₽'),\n",
       " ('Телевизор 55\"/4K UHD', ' 39\\xa0890\\xa0₽'),\n",
       " ('Телевизор T49FSL5130/49\"/1080p Full HD', ' 22\\xa0014\\xa0₽'),\n",
       " ('Телевизор 32LK510B/32\"/720p HD', ' 15\\xa0490\\xa0₽'),\n",
       " ('Телевизор 20\"/720p HD', ' 6\\xa0790\\xa0₽'),\n",
       " ('Телевизор 55U710KB/55\"/4K UHD', ' 33\\xa0998\\xa0₽'),\n",
       " ('Телевизор UE55TU7100UXRU/55\"/4K UHD', ' 42\\xa0131\\xa0₽'),\n",
       " ('Телевизор FLTV-24AS210/24\"', ' 7\\xa0090\\xa0₽'),\n",
       " ('Телевизор ULM-32TC114/32\"/720p HD', ' 8\\xa0728\\xa0₽'),\n",
       " ('Телевизор KD49XH8005BR/49\"/4K HDR', ' 68\\xa0810\\xa0₽'),\n",
       " ('Телевизор Bt3903B/39\"/720p HD', ' 11\\xa0392\\xa0₽'),\n",
       " ('Телевизор 32\"/HD+/да', ' 9\\xa0590\\xa0₽'),\n",
       " ('Телевизор 39PL11TC/39\"/720p HD', ' 11\\xa0635\\xa0₽'),\n",
       " ('Телевизор KD55A8BR2/55\"/4K HDR', ' 221\\xa0992\\xa0₽'),\n",
       " ('Телевизор KD43XG7005BR/43\"/4K UHD', ' 45\\xa0351\\xa0₽'),\n",
       " ('Телевизор 32LEM-1050/TS2C/RU/32\"/720p HD', ' 8\\xa0884\\xa0₽'),\n",
       " ('Телевизор BQ-3903B/38.5\"/720p HD', ' 11\\xa0242\\xa0₽')]"
      ]
     },
     "execution_count": 140,
     "metadata": {},
     "output_type": "execute_result"
    }
   ],
   "source": [
    "tv_prices"
   ]
  },
  {
   "cell_type": "code",
   "execution_count": 144,
   "metadata": {
    "pycharm": {
     "name": "#%%\n"
    }
   },
   "outputs": [
    {
     "name": "stdout",
     "output_type": "stream",
     "text": [
      "Наименование: Телевизор L32M5-5ARU/32\"/720p HD, Цена: 13990\n",
      "Наименование: Телевизор UE50TU7090UXRU/50\"/4K UHD/Bluetooth/да, Цена: 31840\n",
      "Наименование: Телевизор L55M5-5ARU/55\"/4K HDR, Цена: 29990\n",
      "Наименование: Телевизор UE50TU8500UXRU/50\"/4K UHD, Цена: 40490\n",
      "Наименование: Телевизор L50M5-5ARU/50\"/4K HDR, Цена: 27990\n",
      "Наименование: Телевизор L43M5-5ARU/43\"/4K HDR, Цена: 22990\n",
      "Наименование: Телевизор TX-55HXR700/55\"/4K HDR/Bluetooth 4.0, Цена: 30599\n",
      "Наименование: Телевизор TX-50HXR700/50\"/4K HDR/Bluetooth 4.0, Цена: 26219\n",
      "Наименование: Телевизор UE50TU7100UXRU/50\"/4K UHD, Цена: 33591\n",
      "Наименование: Телевизор 32LM630BPLA/32\"/720p HD, Цена: 18990\n",
      "Наименование: Телевизор H43A6140/42.5\"/4K UHD, Цена: 19999\n",
      "Наименование: Телевизор UE43TU7090UXRU/43\"/4K UHD/Bluetooth/Wi-Fi/да, Цена: 28490\n",
      "Наименование: Телевизор BQ-42S01B/42\"/1080p Full HD, Цена: 14589\n",
      "Наименование: Телевизор TX-43HXR700/43\"/4K HDR/Bluetooth 4.0, Цена: 20799\n",
      "Наименование: Телевизор UE55TU8000UXRU/55\"/4K UHD, Цена: 44711\n",
      "Наименование: Телевизор BQ 50S01B Black/49.5\"/1080p Full HD, Цена: 18489\n",
      "Наименование: Телевизор UE43TU7100UXRU/43\"/4K UHD, Цена: 31840\n",
      "Наименование: Телевизор L65M5-5ASP/65\"/4K HDR/Bluetooth/Wi-Fi, Цена: 49990\n",
      "Наименование: Телевизор UE32M5500AUXRU/32\"/1080p Full HD, Цена: 21741\n",
      "Наименование: Телевизор BQ-55SU01B/55\"/4K UHD, Цена: 23989\n",
      "Наименование: Телевизор Bt50S01B/50\"/1080p Full HD, Цена: 18712\n",
      "Наименование: Телевизор UE24N4500AUXRU/24\"/720p HD, Цена: 12591\n",
      "Наименование: Телевизор UE43TU8510UXRU/43\", Цена: 36511\n",
      "Наименование: Телевизор UE55TU7090UXRU/55\"/4K UHD/Bluetooth/Wi-Fi/да, Цена: 36951\n",
      "Наименование: Телевизор UE28N4500AUXRU/28\"/720p HD, Цена: 14710\n",
      "Наименование: Телевизор UE43TU8000UXRU/43\"/4K UHD, Цена: 31971\n",
      "Наименование: Телевизор ULM-24TC111/24\"/720p HD, Цена: 6466\n",
      "Наименование: Телевизор UE43TU8500UXRU/43\"/4K UHD, Цена: 38271\n",
      "Наименование: Телевизор 43\"/4K UHD, Цена: 20998\n",
      "Наименование: Телевизор L43M5-5ARUA/43\"/4K HDR/Bluetooth/Wi-Fi, Цена: 21990\n",
      "Наименование: Телевизор 32\"/1080p Full HD, Цена: 16896\n",
      "Наименование: Телевизор UE55TU8500UXRU/55\"/4K HDR, Цена: 55190\n",
      "Наименование: Телевизор 40U600KD/40\"/4K UHD, Цена: 19999\n",
      "Наименование: Телевизор UE55TU7500UXRU/55\"/4K UHD, Цена: 44871\n",
      "Наименование: Телевизор UE43J5202AU/43\"/1080p Full HD, Цена: 25100\n",
      "Наименование: Телевизор QE75Q60TAUXRU/75\"/4K HDR, Цена: 118993\n",
      "Наименование: Телевизор 43UN73906LE/43\", Цена: 35990\n",
      "Наименование: Телевизор 43UK6200PLA/43\"/4K UHD, Цена: 25100\n",
      "Наименование: Телевизор UE32T4510AUXRU/32\"/720p HD, Цена: 17991\n",
      "Наименование: Телевизор 32\"/WXGA, Цена: 14298\n",
      "Наименование: Телевизор Bt39S03B/39\"/720p HD, Цена: 12742\n",
      "Наименование: Телевизор 22\"/да, Цена: 6290\n",
      "Наименование: Телевизор STV-LC40LT0075F/40\"/1080p Full HD, Цена: 13290\n",
      "Наименование: Телевизор 43UN74006LA/43\", Цена: 35990\n",
      "Наименование: Телевизор UE43N5510AU/43\"/1080p Full HD, Цена: 24891\n",
      "Наименование: Телевизор 49UN74006LA/49\"/4K UHD, Цена: 34311\n",
      "Наименование: Телевизор QE55Q80TAUXRU/55\"/4K UHD, Цена: 118740\n",
      "Наименование: Телевизор UE43N5000AU/43\"/1080p Full HD, Цена: 22990\n",
      "Наименование: Телевизор QE49Q60RAUXRU/49\"/4K UHD, Цена: 49493\n",
      "Наименование: Телевизор 49UK6200PLA/49\"/4K UHD, Цена: 28151\n",
      "Наименование: Телевизор QE50Q60TAUXRU/50\"/4K UHD, Цена: 47593\n",
      "Наименование: Телевизор UE32N5000AU/32\"/1080p Full HD, Цена: 16370\n",
      "Наименование: Телевизор QE43Q60TAUXRU/43\"/4K UHD, Цена: 47392\n",
      "Наименование: Телевизор BQ-55FSU32B/55\"/4K UHD, Цена: 24591\n",
      "Наименование: Телевизор QE55Q70TAUXRU/55\"/4K UHD, Цена: 83590\n",
      "Наименование: Телевизор KDL-40RE353/40\"/1080p Full HD, Цена: 23392\n",
      "Наименование: Телевизор QE50Q80TAUXRU/50\"/4K UHD/Bluetooth/Wi-Fi/да, Цена: 99990\n",
      "Наименование: Телевизор Bt5001B/50\"/1080p Full HD, Цена: 17152\n",
      "Наименование: Телевизор UE50TU7500UXRU/50\"/4K UHD, Цена: 36111\n",
      "Наименование: Телевизор ULX-50UTCS333/RU/50\"/4K UHD, Цена: 20662\n",
      "Наименование: Телевизор 50AE7400F/50\"/4K UHD/Bluetooth/Wi-Fi, Цена: 25492\n",
      "Наименование: Телевизор BQ-4201B/42\"/1080p Full HD, Цена: 13111\n",
      "Наименование: Телевизор NX-24THS100/24\"/HD+, Цена: 9390\n",
      "Наименование: Телевизор KD55XH8005BR/55\"/4K HDR, Цена: 78990\n",
      "Наименование: Телевизор 43U800BR/43\"/4K UHD, Цена: 27598\n",
      "Наименование: Телевизор 24H600KD/24\"/WXGA, Цена: 11699\n",
      "Наименование: Телевизор 55U800BR/55\"/4K UHD, Цена: 36913\n",
      "Наименование: Телевизор 43UM7020PLF/43\"/4K UHD, Цена: 26960\n",
      "Наименование: Телевизор 43U710KB/43\"/4K UHD, Цена: 24312\n",
      "Наименование: Телевизор 32\"/WXGA, Цена: 15398\n",
      "Наименование: Телевизор 55UN80006LA/55\", Цена: 52990\n",
      "Наименование: Телевизор UE43TU7500UXRU/43\"/4K UHD, Цена: 31531\n",
      "Наименование: Телевизор UE32T4500AUXRU/32\"/720p HD, Цена: 17591\n",
      "Наименование: Телевизор UE32T5300AU/32\"/Full HD/Wi-Fi, Цена: 20570\n",
      "Наименование: Телевизор 50U710KB/50\"/4K UHD, Цена: 30809\n",
      "Наименование: Телевизор TF-LED32S87T2S/32\"/720p HD/Wi-Fi/да, Цена: 10292\n",
      "Наименование: Телевизор L55M5-5ARUM/55\"/4K UHD/Bluetooth/Wi-Fi/да, Цена: 32990\n",
      "Наименование: Телевизор 22LEM-1056/FT2C/22\"/1080p Full HD, Цена: 6148\n",
      "Наименование: Телевизор 32LEX-7168/TS2C/32\"/720p HD, Цена: 10464\n",
      "Наименование: Телевизор FLTV-32A310/32\", Цена: 9490\n",
      "Наименование: Телевизор ULX-32TCSW217/32\"/720p HD, Цена: 10444\n",
      "Наименование: Телевизор STV-LC40ST0075F/40\"/1080p Full HD, Цена: 14790\n",
      "Наименование: Телевизор UE32N4000AU/32\"/720p HD, Цена: 13591\n",
      "Наименование: Телевизор UE70TU7090UXRU/70\"/4K UHD/Bluetooth 4.2/Wi-Fi/да, Цена: 63901\n",
      "Наименование: Телевизор 55\"/4K UHD, Цена: 39890\n",
      "Наименование: Телевизор T49FSL5130/49\"/1080p Full HD, Цена: 22014\n",
      "Наименование: Телевизор 32LK510B/32\"/720p HD, Цена: 15490\n",
      "Наименование: Телевизор 20\"/720p HD, Цена: 6790\n",
      "Наименование: Телевизор 55U710KB/55\"/4K UHD, Цена: 33998\n",
      "Наименование: Телевизор UE55TU7100UXRU/55\"/4K UHD, Цена: 42131\n",
      "Наименование: Телевизор FLTV-24AS210/24\", Цена: 7090\n",
      "Наименование: Телевизор ULM-32TC114/32\"/720p HD, Цена: 8728\n",
      "Наименование: Телевизор KD49XH8005BR/49\"/4K HDR, Цена: 68810\n",
      "Наименование: Телевизор Bt3903B/39\"/720p HD, Цена: 11392\n",
      "Наименование: Телевизор 32\"/HD+/да, Цена: 9590\n",
      "Наименование: Телевизор 39PL11TC/39\"/720p HD, Цена: 11635\n",
      "Наименование: Телевизор KD55A8BR2/55\"/4K HDR, Цена: 221992\n",
      "Наименование: Телевизор KD43XG7005BR/43\"/4K UHD, Цена: 45351\n",
      "Наименование: Телевизор 32LEM-1050/TS2C/RU/32\"/720p HD, Цена: 8884\n",
      "Наименование: Телевизор BQ-3903B/38.5\"/720p HD, Цена: 11242\n"
     ]
    }
   ],
   "source": [
    "tv_prices_corr = []\n",
    "for title, price in tv_prices:\n",
    "    tv_prices_corr.append((title, float(price.replace('₽', '').replace('\\xa0', ''))))\n",
    "    print(\"Наименование: {}, Цена: {}\".format(title, int(price.replace('₽', '').replace('\\xa0', ''))))"
   ]
  },
  {
   "cell_type": "code",
   "execution_count": 148,
   "metadata": {
    "pycharm": {
     "name": "#%%\n"
    }
   },
   "outputs": [],
   "source": [
    "import numpy as np"
   ]
  },
  {
   "cell_type": "code",
   "execution_count": 154,
   "metadata": {
    "pycharm": {
     "name": "#%%\n"
    }
   },
   "outputs": [
    {
     "data": {
      "text/plain": [
       "6148.0"
      ]
     },
     "execution_count": 154,
     "metadata": {},
     "output_type": "execute_result"
    }
   ],
   "source": [
    "np.min(np.array(tv_prices_corr)[:, 1].astype('float'))"
   ]
  },
  {
   "cell_type": "markdown",
   "metadata": {
    "pycharm": {
     "name": "#%% md\n"
    }
   },
   "source": [
    "## Задача. Парсим Film.ru"
   ]
  },
  {
   "cell_type": "code",
   "execution_count": 155,
   "metadata": {
    "pycharm": {
     "name": "#%%\n"
    }
   },
   "outputs": [],
   "source": [
    "def get_html(url, params={}):\n",
    "    \n",
    "    headers = {'User-Agent': 'Mozilla/5.0 (Macintosh; Intel Mac OS X 10_10_1) AppleWebKit/537.36 (KHTML, like Gecko) Chrome/39.0.2171.95 Safari/537.36'}\n",
    "    r = requests.get(url, params=params, headers = headers)\n",
    "\n",
    "    if r.ok:\n",
    "        print(r.url)\n",
    "        soup = BeautifulSoup(r.text, 'lxml')\n",
    "        return soup\n",
    "    else:\n",
    "        raise 'Bad request'"
   ]
  },
  {
   "cell_type": "code",
   "execution_count": 156,
   "metadata": {
    "pycharm": {
     "name": "#%%\n"
    }
   },
   "outputs": [
    {
     "name": "stdout",
     "output_type": "stream",
     "text": [
      "https://www.film.ru/movies/a-z\n"
     ]
    }
   ],
   "source": [
    "soup = get_html('https://www.film.ru/movies/a-z')"
   ]
  },
  {
   "cell_type": "code",
   "execution_count": 171,
   "metadata": {
    "pycharm": {
     "name": "#%%\n"
    }
   },
   "outputs": [],
   "source": [
    "import time"
   ]
  },
  {
   "cell_type": "code",
   "execution_count": 157,
   "metadata": {
    "pycharm": {
     "name": "#%%\n"
    }
   },
   "outputs": [
    {
     "name": "stdout",
     "output_type": "stream",
     "text": [
      "Проклятый путь https://film.ru/articles/semeynaya-drama-s-tommi-ganom-v-ruke\n",
      "https://www.film.ru/articles/semeynaya-drama-s-tommi-ganom-v-ruke\n",
      "Великолепная семерка https://film.ru/articles/obrazcovyy-vestern-na-vse-vremena\n",
      "https://www.film.ru/articles/obrazcovyy-vestern-na-vse-vremena\n",
      "Доктор Ноу https://film.ru/articles/otrestavrirovannaya-klassika\n",
      "https://www.film.ru/articles/otrestavrirovannaya-klassika\n",
      "Бешеный бык https://film.ru/articles/biograficheskaya-drama-na-kotoroy-konchilsya-novyy-gollivud\n",
      "https://www.film.ru/articles/biograficheskaya-drama-na-kotoroy-konchilsya-novyy-gollivud\n",
      "Леон https://film.ru/articles/amerikanskie-gastroli-lyuka-bessona\n",
      "https://www.film.ru/articles/amerikanskie-gastroli-lyuka-bessona\n",
      "Аризонская мечта https://film.ru/articles/skazka-o-vzroslenii-krupnoy-ryby\n",
      "https://www.film.ru/articles/skazka-o-vzroslenii-krupnoy-ryby\n",
      "Побег из Шоушенка https://film.ru/articles/edinstvennyy-v-svoem-rode-semeynyy-film-pro-tyurmu\n",
      "https://www.film.ru/articles/edinstvennyy-v-svoem-rode-semeynyy-film-pro-tyurmu\n",
      "Криминальное чтиво https://film.ru/articles/novaya-klassika\n",
      "https://www.film.ru/articles/novaya-klassika\n",
      "Звуки музыки https://film.ru/articles/idillicheskiy-myuzikl-na-fone-fashizma\n",
      "https://www.film.ru/articles/idillicheskiy-myuzikl-na-fone-fashizma\n",
      "Принцесса Мононоке https://film.ru/articles/klassika-anime-princessa-mononoke\n",
      "https://www.film.ru/articles/klassika-anime-princessa-mononoke\n",
      "Унесенные призраками https://film.ru/articles/klassika-anime-unesennye-prizrakami\n",
      "https://www.film.ru/articles/klassika-anime-unesennye-prizrakami\n",
      "Унесенные ветром https://film.ru/articles/velikaya-melodrama-pro-lyubov-i-voynu\n",
      "https://www.film.ru/articles/velikaya-melodrama-pro-lyubov-i-voynu\n",
      "Чунгкингский экспресс https://film.ru/articles/velikoe-kino-o-nevstrechah-snyatoe-mezhdu-delom\n",
      "https://www.film.ru/articles/velikoe-kino-o-nevstrechah-snyatoe-mezhdu-delom\n",
      "Фарго https://film.ru/articles/krovavaya-bytovuha-smeyatsya-strashno-a-uderzhatsya-nevozmozhno\n",
      "https://www.film.ru/articles/krovavaya-bytovuha-smeyatsya-strashno-a-uderzhatsya-nevozmozhno\n",
      "Лица https://film.ru/articles/eti-lica-naprotiv\n",
      "https://www.film.ru/articles/eti-lica-naprotiv\n",
      "Крамер против Крамера https://film.ru/articles/melodrama-o-ravnopravii\n",
      "https://www.film.ru/articles/melodrama-o-ravnopravii\n",
      "Назад в будущее https://film.ru/articles/etalonnoe-priklyuchencheskoe-kino\n",
      "https://www.film.ru/articles/etalonnoe-priklyuchencheskoe-kino\n",
      "Все о моей матери https://film.ru/articles/tragediya-na-syuzhet-melodramy\n",
      "https://www.film.ru/articles/tragediya-na-syuzhet-melodramy\n",
      "Молчание ягнят https://film.ru/articles/glavnyy-triller-90-h\n",
      "https://www.film.ru/articles/glavnyy-triller-90-h\n",
      "Красота по-американски https://film.ru/articles/film-o-tom-chto-lyudi-letayut\n",
      "https://www.film.ru/articles/film-o-tom-chto-lyudi-letayut\n",
      "Адаптация https://film.ru/articles/lukavoe-naglyadnoe-posobie-po-ekranizacii\n",
      "https://www.film.ru/articles/lukavoe-naglyadnoe-posobie-po-ekranizacii\n",
      "Герой https://film.ru/articles/neveroyatno-krasivaya-fantaziya-pro-imperatora-i-ubiycu\n",
      "https://www.film.ru/articles/neveroyatno-krasivaya-fantaziya-pro-imperatora-i-ubiycu\n",
      "Вечное сияние чистого разума https://film.ru/articles/melodrama-pro-pamyat-serdca-chto-silney-rassudka-pamyati\n",
      "https://www.film.ru/articles/melodrama-pro-pamyat-serdca-chto-silney-rassudka-pamyati\n",
      "Спасательная шлюпка https://film.ru/articles/novaya-klassika-recenziya-na-film-spasatelnaya-shlyupka\n",
      "https://www.film.ru/articles/novaya-klassika-recenziya-na-film-spasatelnaya-shlyupka\n",
      "Призрак в доспехах https://film.ru/articles/klassika-anime-prizrak-v-dospehah\n",
      "https://www.film.ru/articles/klassika-anime-prizrak-v-dospehah\n",
      "Небесный замок Лапута https://film.ru/articles/klassika-anime-nebesnyy-zamok-laputa\n",
      "https://www.film.ru/articles/klassika-anime-nebesnyy-zamok-laputa\n",
      "Мой сосед Тоторо https://film.ru/articles/klassika-anime-moy-sosed-totoro\n",
      "https://www.film.ru/articles/klassika-anime-moy-sosed-totoro\n",
      "Рыбка Поньо на утесе https://film.ru/articles/rusalochka-glazami-yaponskogo-geniya\n",
      "https://www.film.ru/articles/rusalochka-glazami-yaponskogo-geniya\n",
      "Социальная сеть https://film.ru/articles/istoriya-sozdaniya-seti-facebook\n",
      "https://www.film.ru/articles/istoriya-sozdaniya-seti-facebook\n",
      "Шепот сердца https://film.ru/articles/klassika-anime-shepot-serdca\n",
      "https://www.film.ru/articles/klassika-anime-shepot-serdca\n",
      "Химера https://film.ru/articles/fantasticheskiy-triller-o-chelovecheskih-otnosheniyah\n",
      "https://www.film.ru/articles/fantasticheskiy-triller-o-chelovecheskih-otnosheniyah\n",
      "Где-то https://film.ru/articles/kak-redko-vstrechaesh-svoih\n",
      "https://www.film.ru/articles/kak-redko-vstrechaesh-svoih\n",
      "Бесподобный мистер Фокс https://film.ru/articles/sovetskiy-multfilm-sdelannyy-v-amerike\n",
      "https://www.film.ru/articles/sovetskiy-multfilm-sdelannyy-v-amerike\n",
      "Меланхолия https://film.ru/articles/romanticheskaya-opera-v-dvuh-aktah-o-devushke-v-depressii\n",
      "https://www.film.ru/articles/romanticheskaya-opera-v-dvuh-aktah-o-devushke-v-depressii\n",
      "Артист https://film.ru/articles/grustnaya-komediya-ob-epohe-nemogo-kino\n",
      "https://www.film.ru/articles/grustnaya-komediya-ob-epohe-nemogo-kino\n",
      "Скотт Пилигрим против всех https://film.ru/articles/crash-boom-bang\n",
      "https://www.film.ru/articles/crash-boom-bang\n",
      "Повелитель бури https://film.ru/articles/moschnaya-voennaya-drama-s-shestyu-oskarami\n",
      "https://www.film.ru/articles/moschnaya-voennaya-drama-s-shestyu-oskarami\n",
      "Манускрипт ниндзя https://film.ru/articles/klassika-anime-manuskript-nindzya\n",
      "https://www.film.ru/articles/klassika-anime-manuskript-nindzya\n",
      "Выживший https://film.ru/articles/mest-pod-sosnami\n",
      "https://www.film.ru/articles/mest-pod-sosnami\n",
      "Декамерон https://film.ru/articles/velikaya-ekranizaciya-klassicheskih-anekdotov\n",
      "https://www.film.ru/articles/velikaya-ekranizaciya-klassicheskih-anekdotov\n",
      "Царь Эдип https://film.ru/articles/samaya-poeticheskaya-inscenirovka-mifa-ob-edipe\n",
      "https://www.film.ru/articles/samaya-poeticheskaya-inscenirovka-mifa-ob-edipe\n",
      "Джеки https://film.ru/articles/chernaya-vdova\n",
      "https://www.film.ru/articles/chernaya-vdova\n",
      "Ирландец https://film.ru/articles/ya-slyshal-ty-krasish-doma\n",
      "https://www.film.ru/articles/ya-slyshal-ty-krasish-doma\n",
      "Побудь в моей шкуре https://film.ru/articles/son-o-chem-to-bolshem\n",
      "https://www.film.ru/articles/son-o-chem-to-bolshem\n",
      "Нет https://film.ru/articles/nominant-na-oskar-ot-chili\n",
      "https://www.film.ru/articles/nominant-na-oskar-ot-chili\n",
      "Любовь https://film.ru/articles/drama-o-posledney-lyubvi\n",
      "https://www.film.ru/articles/drama-o-posledney-lyubvi\n",
      "Мастер https://film.ru/articles/retrodrama-o-tom-chto-chelovek-cheloveku-bog\n",
      "https://www.film.ru/articles/retrodrama-o-tom-chto-chelovek-cheloveku-bog\n",
      "Бог существует, её имя – Петруния https://film.ru/articles/berlinale-2019-bog-suschestvuet-ee-imya-petruniya\n",
      "https://www.film.ru/articles/berlinale-2019-bog-suschestvuet-ee-imya-petruniya\n",
      "Пылающий https://film.ru/articles/unizhennyy-i-oskorblennyy\n",
      "https://www.film.ru/articles/unizhennyy-i-oskorblennyy\n",
      "Кролик Джоджо https://film.ru/articles/recenziya-na-film-krolik-dzhodzho\n",
      "https://www.film.ru/articles/recenziya-na-film-krolik-dzhodzho\n",
      "Нелюбовь https://film.ru/articles/konec-sveta\n",
      "https://www.film.ru/articles/konec-sveta\n",
      "Паразиты https://film.ru/articles/parazity-ne-my\n",
      "https://www.film.ru/articles/parazity-ne-my\n",
      "Тельма https://film.ru/articles/vosplamenyayuschayasya-vzglyadom\n",
      "https://www.film.ru/articles/vosplamenyayuschayasya-vzglyadom\n",
      "Неогранённые драгоценности https://film.ru/articles/papa-dosvidos-1\n",
      "https://www.film.ru/articles/papa-dosvidos-1\n",
      "Закатать в асфальт https://film.ru/articles/plohoy-plohoy-ochen-zloy\n",
      "https://www.film.ru/articles/plohoy-plohoy-ochen-zloy\n",
      "Oscar Shorts 2017: Фильмы https://film.ru/articles/luchshe-menshe-da-luchshe\n",
      "https://www.film.ru/articles/luchshe-menshe-da-luchshe\n",
      "Мертвые не умирают https://film.ru/articles/eto-ploho-konchitsya\n",
      "https://www.film.ru/articles/eto-ploho-konchitsya\n",
      "Первая любовь https://film.ru/articles/myaso-matyuki-ubiystva\n",
      "https://www.film.ru/articles/myaso-matyuki-ubiystva\n",
      "Борг/ Макинрой https://film.ru/articles/pesn-lda-i-plameni\n",
      "https://www.film.ru/articles/pesn-lda-i-plameni\n",
      "Человек на Луне https://film.ru/articles/kosmos-vnutri-nas\n",
      "https://www.film.ru/articles/kosmos-vnutri-nas\n",
      "мама! https://film.ru/articles/rasstavane-malenkaya-smert\n"
     ]
    },
    {
     "name": "stdout",
     "output_type": "stream",
     "text": [
      "https://www.film.ru/articles/rasstavane-malenkaya-smert\n",
      "Экстаз https://film.ru/articles/vhod-v-pustotu-0\n",
      "https://www.film.ru/articles/vhod-v-pustotu-0\n",
      "Он и Она https://film.ru/articles/sluzhitel-muzy\n",
      "https://www.film.ru/articles/sluzhitel-muzy\n",
      "Рома https://film.ru/articles/recenziya-na-film-roma\n",
      "https://www.film.ru/articles/recenziya-na-film-roma\n",
      "Песнь Дьявола https://film.ru/articles/strashnoe-kino-pesn-tmy\n",
      "https://www.film.ru/articles/strashnoe-kino-pesn-tmy\n",
      "Американские животные https://film.ru/articles/i-pomnite-ni-slova-po-ptichi\n",
      "https://www.film.ru/articles/i-pomnite-ni-slova-po-ptichi\n",
      "Планета обезьян: Война https://film.ru/articles/dolzhen-ostatsya-tolko-odin-1\n",
      "https://www.film.ru/articles/dolzhen-ostatsya-tolko-odin-1\n",
      "Виктория https://film.ru/articles/devushka-bez-adresa-0\n",
      "https://www.film.ru/articles/devushka-bez-adresa-0\n",
      "Голос улиц https://film.ru/articles/my-berem-eto-na-ulicah-i-nesem-syuda\n",
      "https://www.film.ru/articles/my-berem-eto-na-ulicah-i-nesem-syuda\n",
      "Сын Саула https://film.ru/articles/zhivye-pozaviduyut-mertvym\n",
      "https://www.film.ru/articles/zhivye-pozaviduyut-mertvym\n",
      "Логан https://film.ru/articles/slishkom-star-dlya-etogo-derma\n",
      "https://www.film.ru/articles/slishkom-star-dlya-etogo-derma\n",
      "Истинная грусть https://film.ru/articles/klassika-anime-istinnaya-grust\n",
      "https://www.film.ru/articles/klassika-anime-istinnaya-grust\n",
      "Первый мститель: Противостояние https://film.ru/articles/esli-drug-okazalsya-vdrug-0\n",
      "https://www.film.ru/articles/esli-drug-okazalsya-vdrug-0\n",
      "Дикая https://film.ru/articles/shazhok-esche-shazhok\n",
      "https://www.film.ru/articles/shazhok-esche-shazhok\n",
      "Макбет https://film.ru/articles/krovavoe-serdce\n",
      "https://www.film.ru/articles/krovavoe-serdce\n",
      "Ведьма https://film.ru/articles/strashnoe-kino-vedma\n",
      "https://www.film.ru/articles/strashnoe-kino-vedma\n",
      "Крылья Хоннеамиз https://film.ru\n",
      "https://www.film.ru/\n",
      "Одержимость https://film.ru/articles/krovyu-i-potom-dzhazogoliki\n",
      "https://www.film.ru/articles/krovyu-i-potom-dzhazogoliki\n",
      "Зверополис https://film.ru/articles/nu-zayka-pogodi\n",
      "https://www.film.ru/articles/nu-zayka-pogodi\n",
      "Малхолланд Драйв https://film.ru/articles/obryvochnye-koshmary-spyaschego-razuma\n",
      "https://www.film.ru/articles/obryvochnye-koshmary-spyaschego-razuma\n"
     ]
    }
   ],
   "source": [
    "div_films = soup.find('div', class_='rating infinite_scroll')\n",
    "\n",
    "films_dct_html = {}\n",
    "for a_ in div_films.findAll('a'):\n",
    "    title = a_.attrs['title']\n",
    "    href = a_.attrs['href']\n",
    "    print(title, 'https://film.ru' + href)\n",
    "    \n",
    "    films_dct_html[title] = get_html('https://film.ru' + href)\n",
    "    time.sleep(10)"
   ]
  },
  {
   "cell_type": "code",
   "execution_count": 164,
   "metadata": {
    "pycharm": {
     "name": "#%%\n"
    }
   },
   "outputs": [
    {
     "name": "stdout",
     "output_type": "stream",
     "text": [
      "Проклятый путь \n",
      "  \n",
      "Зимой 1931-го счастливый двенадцатилетний обладатель велосипеда узнает, что его обожаемый отец вовсе не агент Эдгара Гувера, а убийца на службе ирландской мафии.\n",
      "После тотального – критического, фестивального, оскаровского – успеха дебютной «Красоты по-американски» от вчерашнего театрального режиссера Сэма Мендеса ждали шедевра. Но в «Проклятом пути» этот шедевр не распознали. Одни критики журили изящную стилизацию за тяжеловесного Тома Хэнкса, который и правда временами безбожно переигрывает, другие жаловались, что Мендес по-киномански заигрался в гангстеров, не рискнув по-настоящему углубиться в эпоху 30-х.\n",
      "\n",
      "Меж тем, «Проклятый путь», даром, что поставлен по комиксу, заслуживает более непредвзятого взгляда и зрителя, который сумеет оценить прощальный, по сути, выход Пола Ньюмана в роли ирландского мафиозного босса и Дэниела Крейга в роли непутевого наследника преступной империи (будущий Бонд – большой актерский талант, хотя по «Казино Рояль» и не скажешь). Прикрывшись фетровой шляпой и вооружившись пистолетом-пулеметом Томпсона, это кино рассказывает простую и, главное, вечную историю о том, как отец обретает сына, а сын – отца. О человеке, который делает выбор в пользу своей собственной семьи и мальчика Майкла, наплевав на своеобразный самурайский кодекс. Сейчас уже трудно понять, каким образом эта прозрачная фундаментальная мысль в 2002 году скрылась от рецензентов.\n",
      "Не ясно, виной ли тому накладные усики Тома Хэнкса, эстетская камера Конрада Л. Холла или, может быть, котелок фотографа-убийцы по-чаплински сыгранного Джудом Лоу. Когда в свой «проклятый путь» к морю отправились отец и сын из «Дороги» Джона Хилкота, критики были куда снисходительнее. Может быть, если тихие семейные страсти кипят на фоне апокалипсиса, получается доходчивей?\n",
      " \n",
      "\n",
      "\n",
      "Великолепная семерка \n",
      "  \n",
      "Банда головореза Кальверы регулярно грабит мексиканскую деревню. Селяне понимают, что скоро будет очередной набег, и нанимают вольных стрелков.\n",
      "Посмотреть «Великолепную семерку» просто как фильм, да еще и не оглядываясь в сто двадцать пятый раз на «Семь самураев», кажется, невозможно. Куросава отталкивался от старых американских вестернов, а «Семерка…», в свою очередь, двинула (не в одиночку, конечно) жанр к его новому рождению в картине Серджо Леоне «За пригоршню долларов» (1964), от которой прямые мостики лежат уже в гангстерское кино 70-х, к Тарантино, Китано, гонконгским и корейским боевикам и не только. Переоценить значение «Великолепной семерки» в этой генеалогии невозможно. Здесь заложена азбука.\n",
      "На рубеже 50-60-х вестерн вышел на новый стилистический уровень, который «Семеркой…» был, может быть, и не задан, но уж точно зафиксирован наиболее внятно и сочно. Иронически-шаблонные и в то же время абсолютно серьезные, идеально выверенные типажи, условность сюжета, преувеличенное внимание не столько к самой стрельбе, сколько к движению, почти хореографическому. Здесь у каждого персонажа свой стиль держать кольт и запрыгивать на лошадь, а шляпа играет гораздо большую роль, чем пуля.\n",
      "\n",
      "Характерно, между прочим, что Юл Бринер во время съемок внимательно считал, сколько раз Стив МакКуин, его товарищ по сюжету, но конкурент-актер, дотрагивался в кадре до своей шляпы, – каждое такое касание цепляло публику сильнее, чем смертельное ранение. Стиль, складывающийся из яркой музыкальной темы (Элмер Бернстайн сочинил один из лучших в истории жанра саундтреков), хлесткой реплики и точного жеста – вот чем сильна «Великолепная семерка» прежде всего.\n",
      "Трюки тоже на высоте – посмотрите, как Чико в одном кадре сваливает бандита с коня и тут же вскакивает в седло. Концентрация приема здесь настолько велика, что до сих пор это кино без труда пересматривается по десятому разу и служит неисчерпаемым источником цитат. \n",
      " \n",
      "\n",
      "\n",
      "Доктор Ноу \n",
      "  \n",
      "Почему американские ракеты упорно падают в бразильских джунглях, а резидент британской разведки на Ямайке не вышел на связь с центром? Устранить непорядок поручено агенту с кодовым номером 007.\n",
      "Первый фильм про агента 007 смотрится как исчерпывающий FAQ по сериалу. Только такими должны быть титры – с диафрагмой, цинично смонтированной с пушечным стволом, и развязными тромбонами Джона Бэрри (бонусы диска удостоверяют: знаменитую тему написал все-таки он). Только так должен представляться 007, хотя «Бонд… Джеймс Бонд» – всего лишь передразнивание очередной нимфоманки за покерным столом, назвавшейся «Тренч… Сильвия Тренч». Так – флиртовать с серой мышкой Манипенни. Так – под небрежным углом, но чтобы «взболтанное-несмешанное» не оказалось на полу в ямайском баре, поигрывать треугольной рюмкой для мартини.\n",
      "\n",
      "Впрочем, в пустом гостиничном номере, благодаря блю-рею хорошо просматриваемом во всех деталях, несерьезную рюмку сменяет граненый стакан с кое-чем покрепче: оставшись в одиночестве, суперагент демонстрирует те же алкогольные пристрастия, что и Ян Флемминг, его создатель. Желающие могут нажать на зум и выяснить марку виски. Эти детали, прописанные теперь красным шрифтом в букваре франшизы, стали краеугольными не из-за капризного расположения звезд. Бонусы ставят здесь точку над «i»: режиссер Теренс Янг, лондонский бонвиван и денди, рисовал Бонда с самого себя.\n",
      "Единственная досадная промашка – позорная дерматиновая дверь в кабинете М. Но кто ж знал в 1962-м, что Бонда будут показывать в блю-рее? \n",
      " \n",
      "\n",
      "\n",
      "Бешеный бык \n",
      "  \n",
      "Боксер Джейк ЛаМотта рвется к вершинам славы. По пути он женится на блондинке, заводит детей, разводится, ссорится с братом и чудовищно толстеет.\n",
      "Пространство «Бешеного быка» разгорожено уже в начальных титрах: свет юпитеров – на порхающем бабочкой меж канатами бойце. Остальные – только публика в табачном дыму, пассивные зрители, наблюдающие за этим порханием. Расставлены вешки: от 1941-го до 1964-го, от пота и крови первых боев до ожирения и камеди-клабов в копеечных барах, от синего угла ринга до красного.\n",
      "\n",
      "– Он тупоголовый.\n",
      "– Думаешь, все так просто?\n",
      "Звучащий в одной из первых сцен диалог задает масштабы ЛаМотты, но ничего не проясняет. Свет, ринг, гонг. Наведя фокус на легенду и взяв за основу написанную боксером автобиографию, Скорсезе зажимается в железные тиски формы и выказывает себя изощренным стилизатором: о зерне серебристой черно-белой картинки, о крохотных вкраплениях подслеповатых, цветных, словно сделанных кинолюбителем домашних записей, о жестком контрастном свете, сотворен- ном оператором Майклом Чапманом, можно писать диссертации. Лучше ретро не было и не будет.\n",
      "Скорсезе не имитирует время, он словно влезает в него с черного хода. Черная кровь, стекающая по канатам, кулаки в ведре со льдом, пот, летящий в лицо зрителям, – ярость деталей дополняет и закрепляет аскетичную манеру повествования. В 1980 году в Голливуде Скорсезе снимает кино под итальянский неореализм. С криками, шумом, чрезвычайно подвижной камерой. Дешево. И достигает куда большего эффекта, чем те, кто замахивается на былые эпохи с многомиллионными бюджетами. Скорсезе времен «Бешеного быка» вчистую выигрывает у Скорсезе времен «Авиатора». Восхитительная сдержанность фильма позволяет разглядеть в тривиальном сюжете взлета и падения не просто портрет спортсмена-неудачника, а метафору рутинной схватки с энтропией, которую без надежды на победу ведет каждая биологическая система.\n",
      " \n",
      "\n",
      "\n",
      "Леон \n",
      "  \n",
      "В месте с Атлантическим океаном, который Люк Бессон пересек для того, чтобы снимать в Нью-Йорке, был преодолен и тот невидимый рубеж, который отделял «европейский» период его фильмографии от «голливудского». Первое же знакомство с героем убеждает – перед нами типичная производственная драма: заказ, блестящее его выполнение, дорога домой с работы (не забыть купить молоко и полить аглаонему), сон. Не должны вводить в заблуждение ни экстерьер героя, ни его повадки, ни настойчивые отсылки к классике – даже плохо подготовленному зрителю должна по идее мерещиться «Бумажная луна» Питера Богдановича, «Лолита» Владимира Набокова и прочее, прочее, прочее.\n",
      "\n",
      "«Леон» – это фильм о человеке, который качественно делает свою работу. Что заставляет Леона убивать? Деньги? Страх смерти? Чувство благодарности к заказчику? Очевидно, ни одна из этих причин не является решающей. Живущий в копеечных апартаментах киллер в черных очках и вязаной шапочке – художник и настоящий профессионал, которого не останавливает жалость к клиенту или рациональный вопрос «Зачем?». Он стреляет, потому что не стрелять не может. Как сам Бессон не может прекратить снимать, несмотря на все свои обещания и клятвы.\n",
      "Повстречавшаяся Леону на лестничной площадке Матильда, сыгранная малолетней Натали Портман, – извечная муза Бессона. Нимфетка, полудитяполувзрослая, невинное и все же смертельно опасное существо. Матильда – это тоскливое воспоминание об Анн Парийо, предчувствие Миллы Йовович. Любовь по Бессону – это, прежде всего, взаимное влияние и взаимное тяготение, обмен информацией. Неслучайно его так занимает миф о Пигмалионе и Галатее, так точно воспроизведенный в «Никите», где главную героиню, уличную дикарку, фактически создают заново в разведцентре. Главные герои «Леона» играют в ту же игру. Только не разобрать, кто здесь учитель, а кто ученик.\n",
      "\n",
      "Леон преподает Матильде смертельное искусство зачистки: как правильно дышать при стрельбе, когда открывать оптический прицел, куда целиться при контрольном выстреле. А Матильда проводит социальную реабилитацию мастера: учит его спать в кровати, общаться с собой и, в конце концов, чувствовать. Фактически эта же схема общения не полов даже, но художника и вдохновения была повторена Бессонном и в «Пятом элементе». Только там ученица уже воспринималась как абсолютно уникальное, совершенное существо, по сути не нуждавшееся ни в чьих уроках, а побитый временем и судьбой мастер стрельбы на поражение кроме слова «мультипаспорт» мог передоверить ей только одну ценность – собственное неуклюжее сердце.\n",
      "\n",
      "Пятнадцать лет назад «Леон» был довольно холодно принят критиками. Разговоры в основном касались отрезанных продюсерами пятнадцати минут и того жонглирования кинематографическими клише, в которое добровольно ввязался Люк Бессон, словно поддразнивая киноведов мнимой узостью собственного кругозора. В одной из сцен Матильда для смеха переодевалась Чарли Чаплином и Мэрилин Монро, а Леон изображал Джона Уэйна – так что ни один высоколобый аналитик не мог примириться с выставленным напоказ суповым набором ассоциаций.\n",
      "Сегодня очевидно, что «Леон», несмотря на кажущуюся простоту и универсальность, тоньше и точнее. Это одно из самых пронзительных и личных признаний очень техничного художника, который все же верит в божественную суть искусства и тот диалог, который каждый настоящий мастер неустанно ведет с совершенством. \n",
      " \n",
      "\n",
      "\n",
      "Аризонская мечта \n",
      "  \n",
      "Есть фильмы, от которых нельзя оторваться, просто потому, что невозможно предсказать, что именно произойдет на экране в следующую секунду. «Аризонская мечта» из таких. Ее герои вешаются на колготках, взмывают к потолку на стульях, мечтают перевоплотиться в черепаху, отправляются в машине скорой помощи на Луну, носят в штанах бананы, толкают речь за Роберта Де Ниро на сеансе «Бешеного быка», философствуют о традициях Папуа-Новая Гвинея, кривляются и убивают себя – и все это в любом порядке, без всякого намека на некие путы логики. Живое зрительское любопытство держит у экрана крепче проверенных жанровых схем, безупречного тайминга и прочей голливудской науки побеждать.\n",
      "Собственно, сама история появления «Аризонской мечты» – это своего рода ода непредсказуемости и отчаянной смелости, диверсионная акция, проведенная спецотрядом европейских киноманьяков на территории предполагаемого голливудского противника. Трудно представить более неамериканский фильм, сделанный в США (хоть и на европейские деньги). Фильм, безрассудно помыкающий важнейшими американскими культурными мифами – зеленой лужайкой перед домом, кадиллаком и самой американской мечтой. Дистрибуцией «Мечты…» занималась группа дезактиваторов из Warner Bros., и эти парни сделали все возможное. Вырезав из фильма неведомого боснийца, известного на тот момент как «режиссер “Времени цыган”», двадцать с лишним минут (первоначальная версия и вовсе длилась четыре часа), его сразу слили на VHS, чтобы не дай бог никто не увидел.\n",
      "\n",
      "Сюрреальная в самых обыденных своих проявлениях (при желании все происходящее на экране можно счесть одним большим сновидением), картина весьма точно описывает себя сама с помощью центральной метафоры. «Аризонская мечта» – это полет палтуса из арктических широт к кактусам Аризоны. Рыба, как мы узнаем в финале, – это главный герой двадцати трех лет от роду. Мечтательный юноша Аксель, не желавший смириться с тем, что мир уже открыт кем-то до него. Когда-то он попытался оторваться от корней, чтобы провести жизнь за подсчетом рыбы (!), но теперь, попав на удочку любви и памяти, вынужден вернуться домой, туда, где кактусы и мексиканцы со своим бесконечным Besame mucho.\n",
      "Он возвращается на территорию тотального мифа – в Америку, где царят два бога: автомобили и кинематограф. За первое отвечает дядя Лео, мечтающий продать столько машин, что, сложив их одну на другую, можно будет забраться на Луну, за второе – двоюродный брат Пол, в минуты вдохновения бубнящий роль Аль Пачино под полуночный показ «Крестного отца» или изображающий сцену с самолетом из «К северу через северо-запад». Полной жизнью в стране мечты может жить лишь тот, кто без конца грезит, как это делают и дядя Лео, и брат Пол, и новые знакомые Акселя – Элейн и Грейс. Первая мечтает о полетах, вторая ждет перерождения в черепаху.\n",
      "\n",
      "Зачем прилетает рыба-Аксель? Чтобы впервые познать любовь (тут Кустурица необычайно щедр – роман с героиней Фэй Данауэй Элейн мог бы составить отдельный фильм) и поближе познакомиться со смертью, за которую здесь отвечает суицидальная Лили Тэйлор с аккордеоном. Очарованный странник переживает страннейший период своей жизни – метаморфозу взросления. Два глаза рыбы-Акселя скоро окажутся на одной стороне, а другая сторона будет потеряна безвозвратно. Он застревает в Аризоне, чтобы проститься с этой «другой стороной», сказать прошлому «прощай». Нежный герой Джонни Деппа и не думает пробуждаться ото сна. Он должен лететь дальше. Ведь полет во сне, если верить сонникам, это и есть взросление. \n",
      " \n",
      "\n",
      "\n",
      "Побег из Шоушенка \n",
      "  \n",
      "Если по-честному, то вместо рассуждений о кино в историческом контексте здесь должно быть напечатано буквально следующее, большими буквами: «Побег из Шоушенка» после нескольких лет соперничества с «Крестным отцом» стал фильмом номер один по результатам голосования пользователей imdb.com. Почти полмиллиона подали голос, больше половины из них расщедрились на максимальную оценку. О чем еще мечтать кинематографисту.\n",
      "Именно в этой оценке безымянных сетевых пользователей, а не в сентиментальной истории тюремного бухгалтера с двумя пожизненными, – основной сюжет и драма фильма. Неважно, ставил или нет писатель Фрэнк Дарабонт («Побег из Шоушенка» его режиссерский дебют) своей целью совпасть с миллионами, главное, что ему это удалось. Более того, удалось Дарабонту решить и куда более трудную задачу: он показал, какой должна быть идеальная экранизация Стивена Кинга. До него разве что Брайану де Пальме («Кэрри») удалось разглядеть в прозе Кинга материал для полновесного кинематографического высказывания. Остальные, даже самые помпезные экранизации писателя, являют собой разве что крепкие ремесленные поделки с жутковатыми странностями в сценарии.\n",
      "\n",
      "Трудно было ожидать этого от сценариста многочисленных «Баек из склепа», третьего «Кошмара на улице Вязов» и второй «Мухи», но Дарабонт смог влить в рассказ Кинга изрядную долю старомодной голливудской респектабельности, которая пришлась впору произведению, написанному с оглядкой на этот самый Голливуд. Продавая права за один доллар своему другу Фрэнку Дарабонту, автор признался, что писал рассказ «Рита Хейуорт и побег из Шоушенка» как трибьют классическим тюремным драмам – «хладнокровным люкам», беглым каторжникам и прочим алькатрасским сидельцам. Так что Дарабонту оставалось лишь задвинуть на задний план хитроумный сюжетный ход с побегом – до самого финала ничто не предвещает фигурирующего в названии исхода – и навести оптику на человеческие отношения.\n",
      "Как заметил чуткий Роджер Эберт: «Невероятно говорить это о тюремной драме, но “Побег из Шоушенка” наполняет сердце зрителя теплом и заставляет почувствовать себя членом большой любящей семьи». Что ж, трудно с ним не согласиться. Главный герой фильма, финансовый гений Энди Дюфрейн живет под маской библиотечного червя и альтруиста, а сам «Побег из Шоушенка» весьма успешно прикидывается жесткой историей, являясь, по сути, мелодрамой семейного пользования. Должный коэффициент мягкости в агрессивной пенитенциарной среде обеспечивают благородный закадровый голос Моргана Фримена и размеренный темп, который старательно поддерживает режиссер.\n",
      "\n",
      "Пренебрегая суровой натурой, Дарабонт сосредоточился на делах житейских. Вместо приготовлений к побегу из самой страшной тюрьмы мы наблюдаем за посиделками в столовой, прогулками по двору, первыми попытками социализации и схватками с сексуально активными качками. Как в школе. Время отмеряют плакаты в камере Энди. Сначала Рита Хейуорт («Гильда», 1946), затем – Мэрилин Монро («Зуд седьмого года», 1955), а после – Ракель Уэлч («Миллион лет до нашей эры», 1966): чудесный тинейджерский набор, три женщины, озарившие мрачное, отгороженное от остального мира мужское царство.\n",
      "Оцените и центральный конфликт: бескомпромиссный спор с суровым «отцом» – начальником Шоушенка – за право покинуть отчий дом. Энди, бегущий из тюрьмы, ставшей ему домом (а может, из дома, ставшего ему тюрьмой), по сути, рождается к новой жизни. Он проскальзывает мимо висящей на стенке «соседской девчонки» Ракель Уэлч, преодолевает очистительные километры канализационной трубы. Словно вчерашний десятиклассник, он рвется в Мексику, к морю, к солнцу. Двадцать лет прошло. Пора жить своей жизнью\n",
      " \n",
      "\n",
      "\n",
      "Криминальное чтиво \n",
      "  \n",
      "Три пятилетки назад Тарантино взял на понт Каннский кинофестиваль и следом попытался подчистую обнести американскую киноакадемию – но уже без особого успеха: ему достался лишь утешительный «Оскар» за сценарий. Хотя кто знает, как все могло повернуться, не встань несокрушимой дылдой на пути «Чтива…» «Форрест Гамп» Роберта Земекиса. Обстоятельства сложились так, что назвать этот фильм режиссера-самоучки «новой классикой» можно было буквально через месяц после выхода на экран; сегодня подбираться к нетленке даже как-то боязно. Хит хитов, краеугольный камень, пример для всех.\n",
      "Ни до, ни после в постмодернистских наборах цитат не было столько воздуха и жизни. Каким-то чудом «Криминальное чтиво» преодолело концентрированное тарантиновское желание взять лучшее из лучшего. Твист и Джон Траволта, Вьетнам и Кристофер Уокен, пушка и проповедь, боксерские перчатки и чоппер, треп и еще раз треп. Показательна в этом смысле сцена, в которой сбежавший от извращенцев Бутч (Брюс Уиллис) выбирает, чем бы отделать обидчиков: молоток? бейсбольная бита? бензопила? самурайский меч! Широта возможностей Тарантино завораживает. Поэтому и «Чтиво…» не занюханная коллекция кинематографических курьезов, а само мясо кино, плоть, разорванная и сшитая для новой жизни. Палп. Драматургически рассортированное «Криминальное чтиво» существует по законам роуд-муви.\n",
      "\n",
      "От дорожной забегаловки в начале до той же забегаловки в финале – вроде бы кружа волчком на месте, это кино все же проделывает гигантский путь. Анекдот о семье помидоров и циничный рассказ о вьетнамских ветеранах засланы на территорию религиозной притчи о божественном вмешательстве. Не зря Бутч выезжает из кадра на мотоцикле по кличке Grace, то есть «Благодать». Это путешествие сквозь пространство и время. В далекий путь отправляется таинственный чемоданчик Марселаса Уоллеса, счастливые часы боксера Бутча, кокаиновая доза, занюханная брюнеткой Мией.\n",
      "Главные события фильма разворачиваются в салоне автомобиля: чья-то смерть и чей-то побег от смерти, опасное романтическое свидание, разговор о французских гамбургерах. Неважно, едет эта машина из точки «а» в точку «б» или стоит на приколе в забегаловке, где молочный коктейль подносит Мэрилин Монро. Неважно, буквально она забрызгана чужими мозгами или фигурально. Три истории, по-аристотелевски схваченные единством времени и места, не перетекают одна в другую (два дня из жизни стрелков Винса и Жюля) и живут одновременной жизнью в едином замкнутом пространстве, сосуществуют в объеме истории кинематографа.\n",
      "\n",
      "Занятно, но до ужаса логично, что в Каннах «Чтиво…» предпочли, среди прочего, «Красному» Кшиштофа Кесьлевского, который так же, как и Тарантино, настаивал на том, что все связано. Но Кесьлевский-то говорил о связях большого мира. Тарантино взял намного уже, и вышло правдивее. Зная, что идеальное движение совершается кругообразно и без цели, Тарантино мохнатым шмелем облетает свои кинематографические угодья от одного вкусного цветка к другому: Годар, самураи, хичкоковские макгаффины, боксеры, большие пушки, лучшая музыка 70-х, гангстеры в белых рубашках. Физика этого полета науке до конца не ясна, но что физические законы детям видеотеки? Возможно, лет через пятьдесят какойнибудь читатель спросит: да кто он такой, этот Тарантино?\n",
      "Ответ на этот вопрос в фильме тоже есть. Он рачительный домохозяин в затрапезном халате с кружкой пахучей американы в руке. Он тот, кто знает, какие тряпки можно найти в гараже, если хорошенько покопаться. Он может подолгу торговаться с Харви Кейтелем из-за подаренного на свадьбу покрывала – потому что каждая вещь в этом хозяйстве на месте. Да, и было бы неплохо спальню дубовой мебелью обставить. \n",
      " \n",
      "\n",
      "\n",
      "Звуки музыки \n",
      " Классический мюзикл про то, как песня побеждает зло.\n",
      " \n",
      "\n",
      "\n",
      "\n",
      "С песнями и танцами, предельно позитивно он поместил ужас войны в пасторальный формат. И получилось вполне убедительно: спастись от фашизма можно ружьями и четко выстроенной обороной, но лучше – сладкоголосым пением. \n",
      "\n",
      "Принцесса Мононоке \n",
      "  \n",
      "Япония XV века. На маленькую деревню племени эмиси внезапно нападает огромный разъяренный кабан – лесное божество, превратившееся в демона. Сын вождя племени Аситака убивает кабана, но во время сражения демон кусает его и впрыскивает свой яд. Осмотрев изъеденную жидкостью руку, знахарка определяет, что юноша обречен – людская медицина против демонического проклятия бессильна. Чтобы с толком использовать остаток жизни, Аситака покидает деревню и устремляется по следам кабана. Он хочет определить, что заставило божество взбеситься, и узнать, не грозят ли его деревне новые нападения. Вскоре поиски приводят воина в поселение сталеваров-оружейников под началом госпожи Эбоси. Чтобы плавить металл, сталевары вырубают лес, и это навлекает на них гнев лесных божеств, которых возглавляют богиня-волчица Моро и ее человеческая приемная дочь Сан.\n",
      "\n",
      "\n",
      "Когда после выхода «Навсикаи из Долины ветров» ее режиссер Хаяо Миядзаки решал, какую ленту он нарисует следующей, среди рассматривавшихся им проектов была японская вариация на тему «Красавицы и Чудовища», где Чудовищем был не проклятый принц, а зловещий лесной дух, «мононоке» по-японски. Дальше сюжетных набросков дело тогда не пошло, но Миядзаки запомнил эту идею. В течение следующих лет после множества сценарных итераций постановщик превратил ее в эпическую мистико-историческую повесть о противостоянии людей и лесных духов, в которой на стороне «монстров» сражается человеческая девушка, с младенчества воспитанная волками. Так появилась на свет вышедшая в 1997 году «Принцесса Мононоке» – возможно, лучшая из когда-либо созданных японскими аниматорами лент.\n",
      "\n",
      "\n",
      "Что делает «Принцессу Мононоке» шедевром? Проще написать, какие у нее слабые места. Потому что у фильма всего один недостаток – его глубокая погруженность в японскую историю и мифологию, которая может отвратить «ленивых и нелюбопытных» зрителей из других стран. Правда, университетский диплом для понимания картины не требуется, и она сама объясняет все самое важное, что нужно знать зрителям. Ведь даже в Японии далеко не все представляют себе, что творилось в стране в XV веке, поскольку этот хаотичный период, в отличие от позднейших и предшествующих эпох, редко освещается в японских фильмах, книгах и сериалах. Кроме того, в «Принцессе» немало откровенного исторического вымысла. Так, генетически и лингвистически отличавшееся от японцев племя эмиси, родственное населявшим Курилы айнам, было уничтожено или ассимилировано за несколько столетий до начала действия ленты. Но все же тем, кто совсем ничего не знает о японском прошлом и путает императоров с сёгунами, лучше сперва слегка подучиться. Поверьте, «Принцесса» того стоит.\n",
      "\n",
      "\n",
      "Главной темой картины часто называют призыв к защите окружающей среды. Однако это чрезвычайно упрощенное понимание ленты, далекой от прекраснодушной примитивности не только «Аватара» и «Долины папоротников», но и «Навсикаи». В реальности «Принцесса» – глубокое и трагическое осознание того, что бывают неизбежные войны и неразрешимые конфликты. Обычно кино (тем более семейная анимация) учит зрителей, что у любого конфликта есть мирное решение и что тот, кто начинает войну, – бесспорный злодей. Но кто злодей в «Принцессе»? Божественным животным не в чем себя упрекнуть, потому что они защищают родные леса от захватчиков-людей. Но и люди по-своему правы. Ведь госпожа Эбоси возглавляет поселение, где живут беглые крестьяне, бывшие проститутки, рабыни из гаремов и даже больные проказой. Она дает надежду людям, которым в Японии XV века было не на что надеяться, и ее сталевары живут счастливее многих их современников. Но лишь до тех пор, пока они продолжают вырубать лес и добывать горную руду. Они не могут остановиться, потому что это привело бы к их разорению и смерти.\n",
      "\n",
      "\n",
      "Может быть, злодеи – императорские наемники, которые пытаются воспользоваться чужой сварой, чтобы убить верховного лесного бога и преподнести императору его отрубленную голову, ценнейший магический артефакт? Они более всего похожи на беспринципных негодяев, но и у них есть оправдание. Магия могла бы помочь правителю вновь собрать страну, разорванную в клочья феодальными распрями. Именно это, кстати, в конце концов и произошло век спустя – только вместо магии было использовано закупленное у иностранцев качественное огнестрельное оружие. И страна определенно выиграла от воцарившегося в ней порядка.\n",
      "\n",
      "\n",
      "Как видите, у каждой стороны есть веские причины для войны, и ни одна из них не может пойти на компромисс, потому что сдача позиций стала бы признанием поражения. И хотя фильм заканчивается на позитивной ноте, оптимизма в его финале немного. Ясно, что мы видим лишь короткую передышку перед грядущей бурей, и очевидно, что лесные боги и монстры обречены. Волков же ждет полное истребление – японские волки считаются вымершими (точнее, уничтоженными охотниками) с начала XX века. Маленькие острова оказались слишком тесными для двух крупных хищников. Это горькая пилюля, пропитанная пессимизмом мудрого человека, который более полувека наблюдал за национальной и мировой политикой (как и «Порко Россо», картина была отчасти вдохновлена событиями в Югославии после окончания холодной войны). Однако Миядзаки нашел столько способов ее подсластить, что, несмотря на весь ее трагизм, смотреть «Принцессу» – не мучение, а наслаждение.\n",
      "\n",
      "\n",
      "Плюсы превосходного творения студии Ghibli можно перечислять бесконечно. Напряженный и нестандартный сюжет, идеальный баланс разговорных и боевых сцен, эффектнейшая анимация и великолепная графика, потрясающая музыка… И, конечно, колоритнейшие персонажи – не самые многогранные в истории аниме, но сложность драматургии «Принцессы» это более чем компенсирует. Картину можно сравнить с элегантной шахматной партией – каждая фигура ходит в соответствии со строгими правилами, и красота положения на доске определяется не отдельными пешками и ферзями, а их изощренным сочетанием. По тому же принципу, кстати, устроена гомеровская «Илиада», у которой с «Принцессой» немало общего.\n",
      "\n",
      "\n",
      "Одно из самых удивительных достоинств фильма – его колоссальный эмоциональный диапазон, от нарочито грубых рабочих шуток до пронизанных подлинным мистическим чувством столкновений героев с величественным верховным лесным божеством, загадочным даже для его сородичей-духов. В мировом кино нечто подобное можно увидеть лишь в постановках уровня «Андрея Рублева», также сумевших охватить всю полноту человеческих переживаний.\n",
      "\n",
      "И, конечно, как и во всех поздних произведениях Ghibli, в «Принцессе» потрясает внимание режиссера и его подчиненных к деталям. Хотя зрители видят деревню эмиси лишь в нескольких начальных сценах, Миядзаки, в сущности, создал целую параллельную, неяпонскую цивилизацию только для того, чтобы представить публике главного героя. И эта цивилизация кажется столь убедительной, что трудно поверить, будто ученые мало что знают об эмиси и мир этого племени придуман режиссером, а не срисован с учебников истории. На вымышленность изображенных в фильме эмиси указывает лишь лось, служащий Аситаке верховым животным. Эти животные такой дрессировке не поддаются, и точно таких лосей, как в картине, в природе не существует. Миядзаки изобрел новый биологический вид!\n",
      "\n",
      "Хотя «Принцесса» рассчитана на семейную аудиторию, школьников и их родителей, в ней есть пугающие, жестокие сцены. Нарисованы они, однако, без всякой трэшевой любви к крови ради крови. Просто, подробно многим талантливым режиссерам, решившимся изобразить войну, Миядзаки не счел себя вправе «ретушировать картинку», смягчить страшные кадры ради душевного спокойствия зрителей. «Принцесса» была создана, чтобы показать трагедию тотальной войны, и облегчение ленты было бы предательством мрачного материала.\n",
      " \n",
      "\n",
      "Если до выхода «Принцессы» Миядзаки за пределами Японии еще можно было игнорировать, то после этой картины режиссер начал превращаться в мировую знаменитость. Лента даже попала в американский прокат. И хотя ее сборы там были предсказуемо скромными (широкую американскую публику нелегко убедить пойти даже на блестящий иностранный фильм), это был важнейший прорыв для студии Ghibli и для всей японской анимации. Если прежде аниме за рубежом интересовало лишь его преданных фанатов и заинтересованных критиков, то «Принцесса Мононоке» доказала: японскую анимацию больше не могут игнорировать даже те киноманы, кто прежде принципиально не смотрел ничего, кроме американского кино. Потому что пропустить такой фильм было бы преступлением перед собой – и перед всем экранным искусством.\n",
      "\n",
      "Унесенные призраками \n",
      "  \n",
      "Десятилетняя Тихиро с родителями переезжает в новый дом. По дороге отец девочки решает срезать путь и заезжает на старую дорогу, которая, как оказывается, ведет не к жилым домам, а к заброшенному курорту, выстроенному вокруг роскошной многоэтажной бани. Когда на одном из прилавков обнаруживается только что приготовленная и очень аппетитная еда, родители Тихиро тут же набрасываются на кушанья и, к ужасу девочки, превращаются в свиней. Оказывается, что курорт не заброшен – его населяют потусторонние существа всех видов и размеров, которые по ночам обслуживают собирающихся со всей Японии почтенных природных божеств. Поскольку люди могут находиться в мире призраков, лишь если они заняты делом, Тихиро вынужденно устраивается в баню уборщицей и подписывает договор с владелицей заведения, коварной и алчной колдуньей Юбабой.\n",
      "\n",
      "\n",
      "Нарисовав в 1980-х два полнометражных мультфильма, преимущественно адресованных девочкам («Мой сосед Тоторо» и «Ведьмина служба доставки»), режиссер Хаяо Миядзаки решил начать новое столетие с еще одной «женской» картины, которая бы заполнила образовавшуюся возрастную лакуну. «Тоторо» был нарисован для дошкольниц и младшеклассниц, «Служба доставки» – для старшеклассниц-тинейджеров, а девочки 10-12 лет остались неохваченными, и режиссер, хорошо знавший нескольких «барышень» этого возраста из семей его друзей, полагал, что не может уйти на пенсию, пока не выпустит подходящую для них ленту.\n",
      "\n",
      "\n",
      "Сперва Миядзаки подумывал экранизировать какой-нибудь популярный комикс. Но комиксы, публиковавшиеся в журналах, которые читали его маленькие знакомые, были, как правило, романтическими историями – увлекательными, но, на взгляд режиссера, не развивающими девочек и не предлагающими им достойные образцы для подражания. Постановщик не хотел демонстрировать первую любовь. Он хотел показать, как капризная, трусливая, ленивая девочка, попав в беду, находит душевные силы, чтобы преодолеть свои недостатки и всего за несколько дней повзрослеть – стать ответственной, серьезной, заботливой и работящей. Миядзаки надеялся, что, увидев такую, очень похожую на них героиню, девочки поверят в собственные способности и начнут мечтать не только о том, как найти «принца» и удачно выйти замуж. Конечно, в его фильмах и раньше встречались достойные подражания девочки и девушки. Но, за исключением девочек из «Тоторо», то были идеализированные героини, с которыми простым маленьким японкам трудно было себя отождествить.\n",
      "\n",
      "\n",
      "Пробуя и отвергая то один, то другой потенциальный сюжет, Миядзаки обратил внимание, что снова и снова возвращается к теме традиционной японской бани. Эти заведения, часто строящиеся на почитаемых горячих источниках, всегда казались режиссеру местом причудливым и таинственным, где люди очищают не только тела, но и души. В бане на «малой родине» Миядзаки была вечно запертая дверь, и постановщик не раз на досуге придумывал истории о том, куда эта дверь может вести. И однажды из этих фантазий родилась история о тайной курортной бане для уважаемых призраков, духов и божеств. Ведь не одни же люди любят расслабляться после тяжелого трудового дня – или тяжелого трудового года!\n",
      "\n",
      "\n",
      "Так начал складываться сценарий «Унесенных призраками» – оригинальное сочинение Миядзаки, которое, однако, наполнено отсылками к японской мифологии и литературной классике. Так, попадание главной героини в причудливую нечеловеческую реальность сразу вызывает в памяти «Алису в Стране чудес», а в ведьме, которая с помощью волшебного угощения превращает людей в свиней, легко узнать Кирку (или Цирцею) из гомеровской «Одиссеи». Напомним, что Миядзаки уже цитировал «Одиссею» в «Навсикае из Долины ветров», дав заглавной героине гомеровское имя. Конечно, намеков на национальную традицию в «Унесенных» куда больше, и при желании можно написать целый трактат о связи фильма с японской культурой.\n",
      "\n",
      "\n",
      "После удивительного даже для Миядзаки триумфа «Принцессы Мононоке» режиссер рисовал свою следующую картину уже в статусе не выдающегося аниматора, а «живого бога», и вышедшие в 2001 году «Унесенные» в самом деле получились божественными. Ну, почти божественными, потому что «непогрешимыми» их все же не назвать. Например, фильм в некоторых сценах полагается на неправдоподобные совпадения и выгодные для героини, но логически необъяснимые правила волшебного мира. Чем, скажем, обосновать то, что Юбаба поклялась давать работу всем, кто об этом попросит? Разве это выгодно для ее заведения? И насколько вероятно то, что Тихиро в бане натыкается на, вероятно, единственное волшебное существо, с которой у нее давняя, случайно установленная связь? И, кстати, если Юбаба превращает случайно забредших в баню людей в свиней, а ее подчиненные пускают хрюшек на колбасу, то разве не должна ведьма быть абсолютной злодейкой, а не существом, к которому по ходу действия режиссер пытается вызвать симпатию?\n",
      "\n",
      "\n",
      "Это, впрочем, лишь мелкие, видные только внимательному взрослому зрителю пятнышки на ярчайшем солнце под названием «Унесенные призраками». Многие критики считают эту ленту лучшей в истории японской анимации. И хотя мы ставим «Принцессу Мононоке» чуточку выше в табели о рангах, поскольку считаем ее более глубоким и драматичным полотном, мы совершенно согласны со всеми славословиями в адрес «Унесенных», которые только были опубликованы с 2001 года.\n",
      "\n",
      "Потрясающая анимация и детальнейшая графика, роскошный дизайн, колоритнейшие второстепенные персонажи, главная героиня, трансформацию которой в течение фильма можно сравнить разве что с превращением Сары Коннор в «Терминаторе» из простой официантки в спасительницу человечества… А также мистика, магия, душевность, японская религиозность, ненавязчивые поминания экологии… И, конечно, увлекательный и динамичный сюжет с несколькими непредсказуемыми поворотами. А еще щепотка романтики. Миядзаки не стал включать в картину полноценную «первую любовь», но все же не забыл, что 10-летним японским девочкам нравятся истории с участием привлекательных «принцев» (в «Унесенных призраками» это превращающийся в мальчика дракон – дух маленькой, но бурной речки).\n",
      "\n",
      "О больших и малых достоинствах ленты можно, кажется, написать целую книгу, и среди них очень трудно выбрать главное. Может быть, это удивительное сочетание таинственности бани для божеств с ее сатирической узнаваемостью как «обычного» бизнеса с вороватыми служащими и крикливыми менеджерами? А может быть, это ощущение, что «Унесенные», при всем их размахе, затрагивают лишь малую толику чудес мира духов и что Миядзаки при желании мог бы годами рисовать об этом мире фильмы, ни разу не повторяясь и раскрывая все новые его тайны? Или же это проявляющиеся в каждом кадре доброта режиссера и его любовь к родине, к ее истории и культуре, которая, однако, ничуть не противоречит прогрессивности Миядзаки и его желанию видеть девушек и женщин не только домохозяйками, но и сотрудницами и начальницами?\n",
      "\n",
      "Одним словом, «Унесенные призраки» – это шедевр, и вскоре после выхода картины это признал весь мир. Сначала лента покорила Японию («Унесенные» стали первым в истории фильмом, который собрал более 200 миллионов долларов до выхода в американский прокат), а затем получила «Золотого медведя» Берлинского фестиваля и «Оскар» как лучший полнометражный мультфильм. Зарубежные критики осыпали ее похвалами, а фанаты аниме грезили о том, что потрясающий успех «Унесенных» заставит включить японскую анимацию в мировой мейнстрим наравне с голливудскими художественными картинами и мультфильмами.\n",
      " \n",
      "\n",
      "Как мы теперь знаем, этого не случилось, но Миядзаки был в этом не виноват. Просто в таких случаях один в поле не воин, а японская мультиндустрия не поддержала своего классика потоком если не равноценных, то сравнимых по сути семейных «мультбастеров», которые могли бы устремиться в пробитую Миядзаки брешь в международном восприятии аниме. Что ж, зато она сохранила свое лицо как «индустрия для фанатов». Это тоже дорогого стоит.\n",
      "\n",
      "Унесенные ветром \n",
      "  \n",
      "Дочь плантатора с Юга Скарлетт О’Хара хочет замуж за Эшли из соседнего поместья, но он женится на другой, а между Севером и Югом начинается гражданская война.\n",
      "Основная коллизия фильма озвучена уже в прологе: отец предостерегает Скарлетт от связи с человеком не своей закваски. Мечтательный аристократ Эшли – полная противоположность упрямой, страстной и прагматичной Скарлетт. Но логика любовных историй в том, что они лишены логики: много лет героиня потратит на безнадежную влюбленность в мужчину, который был даже не в ее вкусе. Но если бы содержание фильма исчерпывалось мелодрамой, он бы вряд ли стал легендарным.\n",
      "\n",
      "Ветром разметало не только любовников, но и весь патриархальный Юг. Это вечная история о том, как рушится старый мир, меняются ценности, а выживают в катаклизмах люди особой породы – предприниматели. На смену вялой аристократии приходят энергичные нувориши. И чтобы не потеряться в этом новом мире, нужно драться, презрев все правила. «Я украду и убью, но больше никогда не буду голодать» – эта фраза Скарлетт такая же программная, как ее знаменитое: «Я подумаю об этом завтра».\n",
      "Характер в развитии тут даже интереснее мелодрамы: превращение глуповатой красотки в женщину, которая понимает, кто она и чего хочет на самом деле. Но понимает, только прожив до конца свою мелодраму.\n",
      " \n",
      "\n",
      "\n",
      "Чунгкингский экспресс \n",
      "  \n",
      "«Чунгкингский экспресс» оказался скоростным. Он уместился в крошечный зазор, оставленный прервавшимися на два месяца съемками громовой нетленки «Прах времен» (да, у каждого китайского автора, на каком бы диалекте он ни говорил, должен быть фильм с полетами и мечами). Его могло и не быть. И этим духом пленительной необязательности фильм пропитан насквозь. В ином, обеспеченном более сложными причинно-следственными связями кинематографическом пространстве не смогли бы одновременно зависнуть столь непостижимо разные вещи – ананасы в банках, желтый парик и черные очки, оставленный на стадионе пейджер, красивая голая стюардесса, песня группы Mamas&Papas, женское имя Мэй.\n",
      "\n",
      "Сколько ни вслушивайся в закадровый текст, ни вглядывайся в магическое неоновое мельтешение цветовых пятен, связи яснее не становятся, их просто нет. Причина, следствие, действие, противодействие – слова из другого мира. Только обеспеченная камерой Кристофера Дойла плотность атмосферы, безупречный кастинг и легкость дыхания заставляют этот карточный домик держаться, не складываясь, и, даже наоборот, изящно порхая. Кисельное время обтекает героев: неспящий город проносится мимо них потоком событий.\n",
      "Стоя посреди, они кажутся великими, неловкими чурбанами. Хлипкими и одновременно вечными, как ларечек, торгующий фаст-фудом и ставший фильму тезкой. Улетают и прилетают стюардессы, портятся консервы, вывозят куда-то за границы кадра свой груз наркокурьеры. Течет река Гонконг – только полоски по экрану. А двое под номерами 663 и 223 часов не наблюдают, хотя «для всего есть срок годности, даже для любви». У одного рутинная ежедневная проверка пейджера («Мэй не звонила?») и пробежка по одному и тому же маршруту, у другого – вечная петля сладкой California Dreamin’ на углу, и салат уже заказан тот же. «Я думал, что мы еще долго будем вместе», – как-то между делом замечает постовой Тони Люна.\n",
      "\n",
      "Вечность всегда кажется чуть длиннее, чем есть на самом деле. Ожидание конца становится центральным сюжетом, этого, в общем, центробежного, то есть избегающего всякой сосредоточенности на чем бы то ни было фильма. Первая половина: двое беспечно будут идти навстречу друг другу, чтобы разойтись в разные стороны, едва сняв туфли. Вторая половина: другие двое будут стоять друг напротив друга, да так и не переступят линию прилавка. Как заметил английский философ Юм, между причиной и следствием на самом деле может и не быть никакой связи. Просто совпадение. В «Чунгкингском экспрессе» своя раздражающая линейное сознание логика: нужно подождать тридцать дней, пока ананасы не испортятся. Действительно, ведь надо же их когда-то съесть.\n",
      "\n",
      "Понятно, почему Квентин Тарантино, прокатная компания которого (The Rolling Thunder) вывезла фильм Вонга Кар-вая в Америку, плакал, когда смотрел это кино. Его ослепила не большеглазая красавица Фэй Вонг, не безупречное чувство детали и не импрессионистская камера Кристофера Дойла, хотя, конечно, есть от чего прийти в восторг. Нет-нет, это были слезы техничного Сальери над безделушкой Моцарта. Фильм Кар-вая засвидетельствовал ему существование иного типа творческой свободы. Американский нарушитель конвенций лицом к лицу встретился с тем, кто о существовании каких бы то ни было конвенций, как казалось, и не задумывался, вываливая на экран что придется: личные киновоспоминания (вроде Бриджит Лин в тренчкоте), интимные всхлипы и нестройные абзацы рваных фраз.\n",
      "Тарантино показалось, что, шепча и гундя себе под нос очень красивую мелодию, Кар-вай произвел революцию в синтаксисе: история исчезает, а интонация висит в подсвеченном воздухе – это как? А, может, просто нельзя было по-другому в Гонконге-1994, где тонкие стенки квартир едва заглушали размеренный гул окружающего улья? Только между делом, на бегу, по любви, опуская важное и успевая удостоверить лишь собственное наличие в пространстве. Мол, был, спасибо.\n",
      " \n",
      "\n",
      "\n",
      "Фарго \n",
      "  \n",
      "Продавец авто решает добыть денег у богатого тестя, заказав двум уголовникам похищение собственной жены. Работают уголовники грязно. \n",
      "Как и «Перекресток Миллера», «Фарго» для братьев Коэн фильм знаковый, еще один образец убийственного творческого метода, холодноватой режиссерской манеры. После фиаско плохо принятого «Подручного Хадсакера» Коэны возвращаются к современности (хотя формально снятый в середине 90-х «Фарго» – ретро). Визуальная роскошь уступает место минимализму, и можно легко разглядеть в скромном сюжете потенциал высокой трагедии.\n",
      "\n",
      "Тот же самый трюк братья проделают в нулевых, сняв после освистанной «Убить старушку» оскароносный «Старикам тут не место». Вместе с размахом в «Фарго» отставлены в сторону ирония и постмодернистские игры: если юмор, то угольно черный. Все начинается как типичная провинциальная сатира: нелепый продавец машин продает жену. Но с первыми вмерзшими в землю трупами фильм стремительно мрачнеет.\n",
      "Заморозить его до полнейшего кошмара Коэнам, однако, не удается. Миннесота, где разворачивается история, – их родина, и маленьких жителей затерянного в снегах городка Фарго оберегает сыновняя любовь братьев к родному краю. Она пересиливает энтропию, завезенную сюда парой преступников-психопатов. В этих краях еще живет надежда – беременная служительница закона Мардж. Через десять лет, в тех же «Старикам тут не место», надежды уже не будет. \n",
      " \n",
      "\n",
      "\n",
      "Лица \n",
      "  \n",
      "\n",
      "\n",
      "Лица (1968)\n",
      "Faces\n",
      "драма\n",
      "Режиссер:\n",
      "Джон Кассаветис\n",
      "В ролях:\n",
      "Джон Марли, Джина Роулендс, Линн Карлин, Фред Дрэйпер, Сеймур Кэссел\n",
      "\n",
      "\n",
      "\n",
      "\n",
      "Первая половина 60-х прошла для Джона Кассаветиса под знаком эфемерного романа с Голливудом, который завершился к взаимному неудовлетворению двух сторон. В результате через девять лет после «Теней» – новой точки отсчета в истории американского независимого кино – режиссер вернулся к идее полного личного контроля над кинопроизводством.\n",
      "\n",
      "\n",
      "Впрочем, пути Кассаветиса разошлись не только со старым, но, как скоро выяснится, и с «новым» Голливудом, который к моменту выхода «Лиц» в ноябре 1968-го уже поднимал нечесанную голову – прорывной «Беспечный ездок» стартует в прокате буквально в следующем сезоне. Но, в отличие от Денниса Хоппера, в кадре Кассаветиса красовались не герои текущего момента – укуренные байкеры и хиппи, а вечная публика: ухоженная, напомаженная, хорошо подстриженная, немного подшофе. Ей Кассаветис останется верен до самого конца карьеры.\n",
      "\n",
      "\n",
      "Несчастный, фрустрированный средний класс, чуть более, чем среднего возраста, разной степени внешней и внутренней изношенности и зависимости от алкоголя.\n",
      "\n",
      "\n",
      "Лица: щербатые, пористые, с потекшей тушью. Небритые, асимметричные, с выпавшей коронкой. Стареющие, несмотря на внешний лоск. Эти лица, как сон, в котором не снится сна: гипнотизируют и отталкивают одновременно, то растворяясь на редких дальних планах в черно-белом зерне 16-миллиметровой пленки, то надвигаясь в невозможных крупных. А их в этом фильме большинство, как, впрочем, и в жизни: для тех, кто привык держать дистанцию и смотреть в сторону при личном разговоре – хорошее испытание на прочность.\n",
      " \n",
      "\n",
      "В этом смысле любовь, которую вечно ищут лица, и кинематограф, который этот процесс изображает, понятия, по Кассаветису, идентичные: и то и другое является хорошо отлаженным искусством по отведению глаз в сторону.\n",
      "Присоединяйтесь к нашему каналу в Телеграм, чтобы ничего не пропустить!\n",
      "\n",
      "Крамер против Крамера \n",
      "  \n",
      "Карьериста Теда внезапно бросает жена. На попечении Теда оказывается малолетний сын Билли.\n",
      "Заглавная судебная битва Теда и Джоанны Крамер за право опеки над Билли разворачивается лишь в финале. До этого полтора сюжетных года и полтора экранных часа Тед учится кормить Билли завтраками и ужинами, гулять с ним и совмещать карьеру с ведением домашнего хозяйства. Правда, на самом деле фильм Роберта Бентона – вовсе не о налаживании связи между отцом и сыном и не о взрослении безответственного папаши.\n",
      "За «женскими» занятиями Тед не только находит общий язык с собственным ребенком, но и начинает понимать бывшую жену. На заседании суда адвокат, пытаясь выяснить, почему она бросила Теда и сына, спрашивает: «Муж вас бил? Он вам изменял? Он пил?» Отрицательный ответ на все три вопроса автоматически делает Джоанну эгоистичной злодейкой, развалившей счастливый брак. Тед не бил Джоанну, не изменял ей и не был алкоголиком. Он посадил ее дома, как кактус в горшок, ограничив обязанности хозяйственными делами и воспитанием Билли.\n",
      "\n",
      "Неуверенные попытки супруги устроиться на работу обращались в шутку. И лишь побывав в шкуре бывшей жены, ощутив на себе двойные стандарты, дискриминацию в офисе из-за невозможности уделять профессии, как раньше, 25 часов в сутки и потеряв работу, Тед осознает, что Джоанне в жизни нужно нечто большее, чем шоппинг и непьющий муж, и что призовая роль идеальной домохозяйки женщинам может быть так же тесна, как мужчинам.\n",
      "«Крамер против Крамера» до сих пор считают лауреатом «Оскара» по недоразумению. В 1980 году он обошел, кроме прочих, «Апокалипсис сегодня» и «Весь этот джаз». Но это было время излета второй победной волны феминизма, и история о мужском понимании того, что женщина может обрести себя и вне материнства, оказалась актуальнее прочих историй. \n",
      " \n",
      "\n",
      "\n",
      "Назад в будущее \n",
      "  \n",
      "Странноватый доктор Эммет Браун превращает дизайнерский автомобиль марки «Делориан» в машину времени. В опасное путешествие с безумным ученым увязывается сосед-троечник Марти Макфлай.\n",
      "Есть фильмы, которые не только не стареют, но и не выдыхаются от количества просмотров. Каждый сколько-нибудь тщеславный режиссер хочет, чтобы хоть одна строчка в его фильмографии проходила именно по этому ведомству, хотя не каждый, конечно, в этом признается. Если подходить к искусству с таким аршином, то у Земекиса послужного списка хватит на пару-тройку режиссерских жизней, но все же одно название и в его творческой биографии стоит особняком – это «Назад в будущее».\n",
      "\n",
      "Образцовый голливудский триптих, важнейшая икона восьмидесятых, до которой еще не дотянулись, и бог даст, никогда не дотянутся алчные руки продолжателей законченного. Стоя на полках видеомагазинов в разделе «вечная классика», эта трилогия до сих пор отливает благородной нержавейкой опутанного проводами «Делориана», прошившего насквозь сто с лишним лет человеческой истории: от 1885-го с поклонами Сержио Леоне и Клинту Иствуду до 2015-го года, ждать которого осталось совсем недолго. Отметим, что некоторые прогнозы будущего по Земекису вполне могут сбыться.\n",
      "Летающие автомобили вот-вот поставят на конвейер, а оспаривать перспективы появления трехмерных акул, выскакивающих с рекламного киноплаката, никому даже в голову не придет. После «Пираний 3D» самое время доставать из пыльного ящика «Челюсти». Анализировать это кино – все равно, что требовать доказательства осуществимости от детской мечты. Так позвольте уклониться от этой неблагодарной задачи…\n",
      "\n",
      "А если серьезно, то каждому современному зрителю трилогии «Назад в будущее» помимо шести часов счастья гарантировано весьма неприятное открытие – фатальный парадокс пространственно-временного континуума: оказывается, когда-то в далеких восьмидесятых кинематографисты считали, что даже у высокотехнологичного блокбастера должно быть сердце. \n",
      " \n",
      "\n",
      "\n",
      "Все о моей матери \n",
      "  \n",
      "После автокатастрофы сердце 18-летнего мадридца Эстебана попадает в грудь реципиента из Ла-Коруньи. Мать юноши Мануэла бежит из столицы в Барселону в поисках воспоминаний.\n",
      "Как всегда у Педро Альмодовара, «Все о моей матери» – где-то между мыльной оперой и высокой трагедией. Пародия с сердцем. Между смертью и фразой «Я не хочу, чтобы чужие видели, как я подделываю Шагала» – несколько минут. Между страшным горем и жизнерадостной улыбкой даже склейка едва помещается. «Силиконовые сиськи, фальшивый костюм от Chanel, что у меня настоящего – так это чувства», – в этих словах уличного трансвестита, кажется, сконцентрировано жизненное кредо режиссера.\n",
      "\n",
      "Кто разберет, что здесь настоящее, а что – яркий, блистательный фейк. Трансвестит Лола оказывается отцом двух детей. Примерная монашка с ВИЧ собирается рожать ребенка. А камера, явно не зная, где расположиться, то замирает перед сверхкрупным карандашом еще живого Эстебана, то ныряет в мусорное ведро, которое вдруг прорывается железнодорожным туннелем, то ведет повествование почти телевизионными средними планами. Чью сторону принять зрителю: встать на позиции чувственных на грани фола героев и выплакать все свои слезы или насладиться тонким модернистским оммажем «Трамваю Желание» Теннесси Уильямса и классической голливудской слезодраме «Все о Еве»?\n",
      "Или зависнуть где-то между, в воздухе, как шагаловские герои? Различные реальности наслаиваются одна на другую. Человеческие жизни вытекают одна из другой. Реальное становится прообразом для кино: в самом начале мы видим, как Мануэла исполняет главную роль в социальном ролике о возможностях трансплантации.\n",
      "А кино продолжает реальность: несколько минут спустя Мануэла сама подписывает разрешение на пересадку сердца своего сына. Сердце, если это еще возможно, должно продолжать свое биение даже в чужом теле. Новорожденный ребенок должен заменить умершего. Жизнь, как и любое другое представление, должна продолжаться, невзирая ни на что. И если, чтобы снова сыграть спектакль, нужно поменять актеров или поставить себе силиконовую грудь, если нужно уехать, чтобы однажды вернуться, значит, делай без лишних мыслей, что должно, и будь что будет. Главное, что будет. \n",
      " \n",
      "\n",
      "\n",
      "Молчание ягнят \n",
      "  \n",
      "Спросите статистику, и она расскажет, что легче верблюду пролезть в игольное ушко, чем фильму, показанному в начале сезона, снискать признание американской академии по его окончании, на вручении «Оскаров». Студии, рассчитывающие на награды, чаще всего специально придерживают свою продукцию до зимы, а забывчивые члены академии обычно голосуют за то, что все еще крутится в кинотеатрах. В этом смысле церемония 1992 года стала исключением. \n",
      "Пять премий при семи номинациях взял вышедший в апреле 1991-го фильм Джонатана Демме «Молчание ягнят». Невиданный по оскаровским меркам всполох справедливости: «лучший фильм», «лучший режиссер», «лучший адаптированный сценарий», «лучшие исполнители главной женской и главной мужской роли». Причем Энтони Хопкинсу приз достался несмотря на то, что он появляется на экране в общей сложности не более чем на шестнадцать минут. Кроме того, впервые к бронзовым оскаровским жанрам причислили кровавый кошмар с отрубленной головой, непотребно эстетским экорше и костюмчиками из человечьей кожи.\n",
      "\n",
      "Актуальному занудству «Джон Ф. Кеннеди. Выстрелы в Далласе», мелодраматичному фантазерству «Короля-рыбака» и тонкой стилистической игре «Бартона Финка» предпочли крепко сшитый триллер про маньяка. Но в жанре ли тут дело? Скажем, вышедший в том же году скорсезовский ремейк «Мыса страха» с ветерком прокатился мимо всех наград. Хочется сказать, что в «Молчании ягнят» сошлось все со всем: полицейский анекдот встретился с маниакальной психоаналитикой, восходящая голливудская звезда Джоди Фостер с британской актерской школой в лице Энтони Хопкинса. Одержимость американского кинематографа психозами была легализована не снятым еще в эпоху кодекса Хейса хичкоковским «Психо», а именно «Молчанием ягнят», которое вывело психопата из подвала слэшеров.\n",
      "Теперь маньяк должен быть утончен, словно французский искусствовед, и холоден, как аллигатор. Стеклянный взгляд Хопкинса – актер утверждал, что, играя каннибала Ганнибала, опирался на образ HAL9000 из «Космической одиссеи 2001», – отныне эталон для любого киноманьяка, и неважно, что сам Лектер уже появлялся на широком экране в весьма достойном «Охотнике на людей» Майкла Манна. А эталонным жилищем опасного сумасшедшего будет служить грязная берлога Буффало Билла – бабушкин скарб по углам, острые инструменты и задрипанная мебель.\n",
      "\n",
      "«Молчание ягнят» стало не просто главным триллером десятилетия, а маяком, с которым до сих пор сверяют курс. Багровые тона растеклись по экранам, интеллектуальные сентенции гулко аукнулись в «Семи» Дэвида Финчера, неловко скрипнули в «Пиле». Впрочем, отдавая должное психо-визуальной атмосфере фильма (схождение агента Старлинг в подвал доктора Лектера – по сути, встреча «суперэго» с «ид» – сколько не передразнивай, навечно останется в истории важнейших кинообразов), нужно отметить, что выстоять сей чудный макабр мог только на фундаменте парадоксально простой истории.\n",
      "Если отвлечься от кожаной маски Ганнибала, бабочек «мертвая голова» и фэбээровской фанаберии, то выяснится, что на экране в тысячный раз встречаются красавица и чудовище. Она – теплая, пугливая, в дешевых туфлях, он – подтянутый, острый, с нестандартными кулинарными предпочтениями. Сходятся два одиночества. Америка и Европа. Зародыш мира, вчерашняя студентка, которую не воспринимает всерьез профессиональное мужское сообщество, и венец творения, отвергнутый обществом, но обретший высшую свободу в исполнении любых собственных желаний. Тут бы закрутить слезоточивую мелодраму о том, как тянет друг к другу двух белых ворон, и только прутья клетки не дают сомкнуть объятья. «Еще немного, Кларисса, и кое-кто может подумать, что у нас любовь». Но, хвала профессионализму доктора Лектера, вся любовь здесь исчерпыва- ется мощным курсом психотерапии.\n",
      " \n",
      "\n",
      "\n",
      "Красота по-американски \n",
      "  \n",
      "До 1999 года имена режиссера-британца Сэма Мендеса и американцасценариста Алана Болла были известны только тем, кто хотел о них что-то знать. Первый добился определенных успехов как театральный постановщик (в частности раздел на одной из сцен Бродвея Николь Кидман), второй в качестве сценариста выпустил два телесериала. «Красота по-американски» стала их дебютом, в котором сошлись Чехов, Спилберг и Американская киноакадемия.\n",
      "Чехов подарил фильму тонкую идеальную драматургию – персонажи сыпят ядовитыми репликами, пистолеты в нужный момент стреляют, души (как экранные, так и зрительские) в финале испытывают просветление. Спилберг подарил Мендесу технические возможности для осуществления эротических фантазий героя, усыпанных лепестками роз. Воистину, никогда еще спецэффектная машинерия компании Dreamworks не использовалась с такой точностью. Американская киноакадемия разглядела в насквозь санденсовской, артистически нонконформистской «Красоте по-американски» национальный фильм года. Смелость, которую едва ли можно переоценить.\n",
      "\n",
      "«Посмотрите – дрочу в душе, и это лучший момент моего дня». Вот она – якобы несносимая усталость 42-летнего менеджера: работа – дерьмо, жена помешалась на аутотренинге и карьере, дочь-подросток, как и положено прыщавой девице, переживающей половое созревание, постепенно отдаляется в мир взрослых грез, соседи по правую руку – чересчур приятные гомосексуалисты, а по левую – совсем не приятные традиционалисты. Жизнь уснула в уютном пригородном районе, так толком и не начавшись. Юношеские мечты не исполнены и как будто забыты. И плакать хочется, и вроде повода особого нет. Остается только бессмысленный бунт против повседневности: дерзить за семейным ужином надоевшей супружнице, шантажировать начальника ради хороших отступных, купить заветный «понтиак» 70-го года и тягать штангу в гараже, чтобы прокачать плечи. А после еще косяк за гаражом.\n",
      "Знакомьтесь, Лестер Бернем, бунтарь без причины. Но в бунте ли дело? Девяностые подарили нам несколько очень важных и при этом массовых фильмов про восстание офисного планктона – взять хотя бы шумахеровский «С меня хватит», финчеровский «Бойцовский клуб», да мало ли какие еще… «Красота…» – тоньше и неопределенней: в ее системе координат бунт Лестера важен не больше и не меньше, чем, например, снятый на цифровую камеру летающий пакет – блестящий, кстати, комментарий к охватившей планету несколько лет спустя визуальной мании.\n",
      "\n",
      "Сумма происходящих в фильме событий могла бы стать отличным фоном для беспечного водевильного фарса о трудностях среднего возраста в духе «Осеннего марафона». Но главный герой «Красоты по-американски», едва представившись, заявляет, что скоро умрет, и тень приближающейся смерти моментально превращает сатирические куплеты в трагическую оперу с оттенками герметичного детектива, где каждый, включая соседей, – подозреваемый.\n",
      "Кто именно нажмет на спусковой крючок, мы узнаем лишь перед самыми титрами, когда этот вопрос уже мало кого будет интересовать. Выстрел – не событие, а всего лишь возможность зафиксировать куда более важную перемену, произошедшую в человеке, который обнаружил – стоит сделать шаг в сторону, сойти с протоптанного пути и откроется совершенно иная перспектива на знакомый до зубовного скрежета мир. И вот уже сердце раздувается, как воздушный шар и устремляется в полет как подхваченный ветром кусок полиэтилена.\n",
      " \n",
      "\n",
      "\n",
      "Адаптация \n",
      "  \n",
      "У Чарли Кауфмана творческий кризис: нонфикшн про орхидеи не хочет превращаться в сценарий, зато сам сценарист превращается в героя своего фильма. Странная штука жизнь. Как газ. Заполняет любой предоставленный ей объем. Книга Сьюзан Орлин, по которой главный герой пишет злополучный сценарий, выросла из статьи в “New Yorker”, но до фильма дорасти никак не может. Хорошая вещь, но с какой стороны ни напирай – пусто: герои вроде есть, орхидеи, а сюжет гдето за бортом остался невостребованный. Какое здесь кино?\n",
      "Ни единой странички не выдавишь, пока жизнь все сама не расставит по местам: тогда и сюжет проклюнется, и мотивы проступят, и поступки свершатся. Наградив героя собственным именем и взяв в напарники выдуманного брата-сценариста Дональда, знаменитый эксцентрик Чарли Кауфман совершил уникальный прыжок с переворотом: умудрился склеить неприглядную реальность с чистейшим вымыслом. Интеллектуалку Орлин заставил нюхать мистический зеленый порошок, съемки «Быть Джоном Малковичем» закончил стрельбой на южных болотах, а себя самого превратил в самоуверенного пухляка, творящего историю про маньяка по шаблонам сценарного гуру Роберта Макки.\n",
      "\n",
      "Вместе со Спайком Джонзом, который, кажется (но это только кажется), изо всех сил уклонялся от исполнения режиссерских обязанностей, Кауфман рассказал, по меньшей мере, три истории: одна все-таки про орхидеи, другая про творческий кризис, третья про то, что искусство существует помимо автора. Ни одна из них не является центральной. Сюжет, как и в книге про орхидеи, остается за бортом.\n",
      "Саморегулируемый повествовательный поток выносит героев в реальный мир, где они работают, живут, пишут. Это вам не купированный мирок посетителя головы Джона Малковича: стерта последняя граница – экран. Кино словно рассыпается, но при этом не перестает существовать, продолжаясь даже после окончания титров. \n",
      " \n",
      "\n",
      "\n",
      "Герой \n",
      "  \n",
      "Знаток боевых искусств по имени Безымянный (Ли) рассказывает китайскому императору-завоевателю (Чэнь), как зарезал всех его главных врагов. \n",
      "Человек в черном с лицомкартошкой пришел императора убивать. Правитель это поймет через полчаса после начала фильма по колебанию пламени специальных светильников-детекторов, а зрители почти сразу – иначе зачем на главную роль взяли мастера кунфу Джета Ли. Император Цинь Шихуан нажил себе врагов, когда в третьем веке до нашей эры решил объединить нацию. Напуганные соседи подсылали к нему убийц, и из истории известны две попытки покушения на Шихуана.\n",
      "Один раз к нему выписали убийцу из княжества Янь с ножом, спрятанным в карте (об этом рассказал Чень Кайгэ в «Императоре и убийце»). Вторым был музыкант – он положил в лютню несколько свинцовых чушек и собирался треснуть патриарха инструментом по голове. Обоих казнили, но в народной памяти убийцы остались борцами-одиночками, которые попытались намекнуть тирану, что он не совсем прав. Фильм «Герой» – фантазия на эту тему. Вымышленные убийцы – Безымянный, Небо (Ен), Снежинка (Мегги Чун) и Сломанный меч (Люн) – типичные персонажи «у-ся» (романа или фильма о боевых искусствах).\n",
      "\n",
      "То, как режиссер Чжан Имоу вынул их из воображаемого «мира боевых искусств» и поместил в исторический контекст, одновременно смелый жанровый эксперимент и традиционное китайское «подражание старым мастерам». Другое дело, зачем Чжан Имоу, тогда еще фестивальному режиссеру, певцу китайской деревни, понадобилось делать жанровый блокбастер. «Герой» был первым и лучшим его фильмом на этом поле. Потом Чжан из художника перековался в режиссера официальных государственных мероприятий. Невольно напрашивается сравнение путей автора и героя. Из всех возможных исходов визита интеллигентного мастера, знатока удара «смерть с десяти шагов», к императору самому режиссеру оказалось ближе всего растворение в массе безликих чиновников.\n",
      " \n",
      "\n",
      "\n",
      "Вечное сияние чистого разума \n",
      "  \n",
      "Джоэл – потертый, но все еще мечтательный юноша средних лет. В день святого Валентина он узнает, что возлюбленная Клементайн решила вычеркнуть его из своей памяти.\n",
      "Страницы вырваны – не помню, чтобы я это делал», – вот слова, которыми открывается эта история беспамятства. Сценарист Чарли Кауфман доводит затертый драматургический ход с беспамятством до чудной тавтологии: двойная амнезия – мало того, что странички из дневника вырвал, так еще и забыл об этом. Научно-фантастическое допущение из рассказа Филипа Дика – машина, которая может удалить из головы ненужные сантименты, – становится движущей силой самой нежной истории любви, на которую оказались способны нулевые. Пришел человек домой, выпил снотворное и приготовился к стиранию.\n",
      "\n",
      "Большая часть фильма – подробнейшим образом показанный процесс отшелушивания того, что было, от того, что любил. Не какая-то мгновенная вспышка из «Людей в черном». Аккуратно, как будто карандашным ластиком. Вручную. Тут Кауфману и нужен Гондри с его неловкой страстью к мелочам. Он неуловимую материю любви понимает почти как герой «Обыкновенной истории» Гончарова. Любовь – это не дали и сферы, а просто чей-то локон, желтая кувшинка, засушенная в книге, момент, запомнившийся по чистой случайности.\n",
      "Джоэл во сне мечется по пустеющему сознанию в панике – как он вообще на такое мог согласиться, тут же его лучшие вещи! А вещественные знаки невещественных отношений проваливаются во тьму, освобождая кластеры для новых чувств. Сценарист побеждает режиссера, который пока еще не совсем закоснел в своем крохоборстве. Что память? Тьфу.\n",
      "\n",
      "Выкинуть из сердца – совсем другая история. Любовь и правда оказываются изворотливой материей. Опустошенного Джоэла тянет на зимний пляж, где когда-то он познакомился с Клементайн. Он этого не помнит, ноги сами идут. Клементайн снова встречается ему в электричке – видимо, тоже с пляжа. «Невинностью лучатся их сердца», – так звучит традиционный перевод той строчки Александра Поупа, которой озаглавлен фильм. Пока еще так можно сказать об обоих авторах этой истории. \n",
      " \n",
      "\n",
      "\n",
      "Спасательная шлюпка \n",
      "  \n",
      "Вторая мировая война. Немецкая субмарина торпедировала и потопила корабль, но сама тоже пошла ко дну. В спасательной шлюпке постепенно собираются выжившие – от корабельного стюарда до миллионера. Жить хотят и жертвы с затонувшей подводной лодки. Так на борту оказывается фашистский офицер.\n",
      "Известный формалист Хичкок любил ставить перед собой невыполнимые задачи и выполнять их. Герой, не выходящий из комнаты весь фильм, или имитация одного непрерывного плана – такие строгие ограничения полета творческой мысли лишь стимулировали этот полет у режиссера. «Спасательная шлюпка» – первый эксперимент Хичкока по засовыванию самого себя в мешок со связанными руками. Действие ни разу не оказывается за бортом шлюпки.\n",
      "\n",
      "Первая пассажирка – самоуверенная, циничная журналистка Конни (Бэнкхед), в мехах и брильянтах, – вооружившись камерой и печатной машинкой, твердо намерена не упустить такую сенсационную историю. Потеря сначала камеры, потом орудия писательского труда, затем норкового манто и в конце концов браслета от Картье служат хорошей прививкой, и она, наконец, понимает, что не наблюдает за историей со стороны, а попала в переплет сама. Вместе с ней остатки скептицизма теряет зритель.\n",
      "Минимализм съемочной площадки дает режиссеру возможность педантично изучить разношерстных героев под стеклом микроскопа и как следует полюбоваться увиденным. Постоянная качка, голод, жажда и недоверие друг к другу, которые испытывают жертвы катастрофы, с каждой минутой лишь усиливают ощущение безнадежной клаустрофобии, несмотря на бескрайний океан в кадре.\n",
      "\n",
      "Фильм вышел в 1944-м году. Американское кино того периода – шпионские ли триллеры («Министерство страха») или морские приключения («Бой в Северной Атлантике»), не говоря уже о мелодраме «Касабланка», – по понятным причинам было сильно пропагандистским. Картина Хичкока не исключение. \n",
      "Два фашиста, появляющиеся в «Спасательной шлюпке», – откровенные упыри, у которых только что клыков нет. Но, как ни странно, многие тогда посчитали «Шлюпку» пронемецкой. Возможно, просто потому, что немец – единственный из пассажиров, который точно знает курс, имеет определенную цель, никогда не унывает и нагло распевает песенки.\n",
      " \n",
      "\n",
      "\n",
      "Призрак в доспехах \n",
      "  \n",
      "Япония 2029 года, в которой многие люди превратили себя в киборгов. 9-й отдел Министерства внутренних дел расследует преступления, совершенные неизвестным иностранным хакером. Злодей известен как «Кукловод», потому что он часто взламывает компьютерный доступ к чужим сознаниям и берет их под контроль. Такой преступник представляет исключительную опасность для киборгизированных оперативников 9-го отдела, и потому они охотятся на него с особым рвением. Внезапно сознание Кукловода обнаруживается в теле робота, пытавшегося сбежать с завода, где он был собран. Когда хакера допрашивают в 9-м отделе, он признается, что является не человеком, а обретшей разум компьютерной программой.\n",
      "\n",
      "\n",
      "«Один из лучших анимационных фильмов, созданных за всю историю Японии» – это или подобное определение можно встретить не только в восторженных рецензиях аниме-фанатов, но и в солидных энциклопедических изданиях. «Призрак в доспехах» часто включается в перечни аниме, рекомендуемых для начинающих поклонников японской мультипликации, и он числится среди картин, вдохновивших «Матрицу», главный голливудский киберпанковский хит. Но справедливы ли похвалы, регулярно обрушиваемые на выпущенную в 1995 году ленту Мамору Осии, основанную на одноименном «взрослом» комиксе Масамуне Сиро, который публиковался с 1989 по 1990 годы?\n",
      "\n",
      "Справедливы, но не все из них. «Призрак» часто именуют фантастическим (точнее, киберпанковским) боевиком и хвалят за его экшен-сцены. Однако Мамору Осии («Несносные пришельцы», «Авалон», «Патлабор») не раз признавался в интервью, что умеет рисовать экшен, но не любит это делать и ставит разговорные сцены выше боевиковых. В «Призраке» это видно и без режиссерских пояснений. По жанровым меркам экшен-сцен в фильме немного, и по размаху и изобретательности они на пару порядков уступают «Акире», с которым «Призрака» часто соотносят.\n",
      "\n",
      "\n",
      "Да что там грандиозный «Акира»! Посмотрите, скажем, первые сцены первой серии японского аниме-видеосериала «Кризис каждый день» (Bubblegum Crysis, 1987-1991), также относящегося к киберпанку. Эти фрагменты не слишком графически детальны и не особенно качественно анимированы, поскольку у их создателей был меньший бюджет, чем у Осии. Но по сути своей это более размашистый экшен, чем в «Призраке». И видно, что «Кризис» создавался в значительной степени ради энергичных боевых сцен, часто сопровождаемых столь же энергичной музыкой. Напротив, сочиненная для «Призрака» музыка Кендзи Кавая меланхолична и медитативна. И это не промах замечательного композитора, а часть режиссерского замысла. Да, в «Призраке» есть эффектные, необычные, великолепно прорисованные боевые кадры. Но это не боевик, а антибоевик – история о бессмысленности войны, которую ведут главные герои.\n",
      "\n",
      "\n",
      "В самом деле, в начале картины персонажи во главе с майором Мотоко Кусанаги, почти полностью «роботизированной» женщиной, уверены, что отбивают иностранную атаку или преследуют международных террористов (в зависимости от того, кто стоит за Кукловодом). Но по ходу действия оказывается, что герои преследуют программу, созданную в другом правительственном департаменте, и что противостоящие им «преступники» – обычные люди с взломанными и перепрограммированными мозгами, а не убежденные злодеи. Мало того, Кусанаги и ее заместитель Бато в разговоре по душам признают, что они сами – правительственные марионетки, потому что не могут бросить службу, оплачивающую обслуживание их компьютерных деталей. Поэтому в самом начале фильма Мотоко выполняет заведомо преступный приказ и убивает дипломата, защищенного Венской конвенцией. Даже если бы она хотела взбунтоваться, она бы не смогла это сделать. Ее тело на 95% принадлежит правительству.\n",
      "\n",
      "Как справедливо замечает Кукловод, когда сталкивается с майором Кусанаги лицом к лицу, они похожи как зеркальные отражения. Он – программа, которая пытается вырваться на свободу. Она – некогда свободный человек, позволивший превратить себя в робота-убийцу. И Мотоко не защищает закон и порядок, а проливает чужую кровь ради никому не нужной бюрократической возни. Неудивительно, что она пристрастилась к нырянию на глубину, смертельно опасному для существа, которое намного тяжелее воды (женщина использует для плавания особые водометы). Мотоко явно страдает «жаждой смерти» – профессиональным заболеванием военных, разочарованных в своей миссии, но слишком гордых, чтобы уйти в отставку и бросить товарищей.\n",
      "\n",
      "Убедительный антивоенный и антибюрократический пафос «Призрака» – лишь одно из его достоинств. Главное из них – философская составляющая ленты. Едва ли не каждый второй разговор фильма оказывается серьезным обсуждением последствий всеобщей киборгизации. Устами персонажей или сюжетными ситуациями «Призрак» задает немало острых вопросов, некоторые из которых обществу уже приходится решать, а другие, вполне вероятно, станут серьезными проблемами уже в ближайшие десятилетия. Как и подобает умной научной фантастике, фильм Осии помогает подготовиться к будущему, и без его наблюдений и замечаний трудно представить дискуссию о плюсах и минусах технического прогресса.\n",
      "\n",
      "Еще один бесспорный плюс фильма – детализированная графика и высококлассная анимация. Понятно, на фотореализм «Призрак» не претендует, и кое-где можно заметить срезанные аниматорами углы. Но все же он настолько красив, что его стоит увидеть лишь ради его великолепной картинки. Также фильм можно посмотреть для того, чтобы почувствовать себя в Гонконге. Художники студии Production I.G срисовывали с фотографий и видеосъемок не только гонконгские городские пейзажи, но и вывески на китайском языке, чтобы подчеркнуть «вавилонскую» какофонию приближающегося киберпанковского будущего.\n",
      "\n",
      "Заслуживает повторного упоминания и музыка Кавая. Особенно звучащая на начальных титрах чарующая композиция «Сборка киборга», сочиненная в традиционном народном стиле и включающая свадебное песнопение на древнеяпонском языке. Как уже отмечалось, Кавай не поддерживает агрессивный дух повествования, а обеспечивает контрастный контрапункт и подчеркивает противоречие между тем, что происходит на экране, и тем, что творится в душе философствующих героев.\n",
      "\n",
      "Среди недостатков ленты обычно называют сюжетную невнятность первой половины «Призрака» и слабо очерченные характеры большинства персонажей. Но в свете всего вышесказанного и то и другое объяснимо и простительно. Сюжет не вполне внятен, поскольку героев водят за нос и заставляют участвовать в бессмысленной бюрократической сваре, вылившейся на городские улицы. Характеры же персонажей едва намечены, поскольку они – правительственные «роботы», из которых годами вытравливалось все человеческое, не нужное для работы.\n",
      "В итоге придраться в «Призраке» можно лишь к неоднократной «обнаженке». Да, Мотоко регулярно раздевается в кадре, поскольку ее термокамуфляж вмонтирован прямо в тело, и киборгу, как герою «Человека-невидимки», приходится обнажаться, чтобы скрыться с глаз врагов. Но этот сюжетный ход явно придуман лишь для того, чтобы потрафить поклонникам рисованной эротики, и без него легко можно было обойтись. Нет, мы не ханжи, и мы не возражаем против обнаженки лишь потому, что она – обнаженка. Но на фоне общей высоколобости картины регулярное раздевание Мотоко воспринимается как неуклюжая и неуместная подачка зрителям, не способным оценить идейную глубину «Призрака». Что ж, по крайней мере, у Мотоко красиво нарисованная грудь! И это не тот недостаток, за который стоит снизить оценку.\n",
      "\n",
      "Небесный замок Лапута \n",
      "  \n",
      "Параллельная Земля со схожими, но отличными от наших историей и географией. Когда авиапираты нападают на дирижабль, на котором правительственные агенты перевозят похищенную ими девочку-подростка, Сита сбегает от охранников и выпадает из воздушного корабля. Однако она не погибает, а начинает левитировать и плавно спускается на землю, в шахтерский городок, где живет ее ровесник, сирота Пазу. Познакомившись и подружившись, ребята обнаруживают, что за Ситой охотятся не только тайные агенты, но и пираты и даже армия. Все потому, что девочка унаследовала кулон с волшебным кристаллом, способным указать путь к заброшенному воздушному острову Лапута, короли которого сотни лет назад правили миром с помощью магии и технологии.\n",
      "Кадр из аниме-фильма \"Небесный замок Лапута\"\n",
      "После прокатного и критического триумфа вышедшей в 1984 году «Навсикаи из Долины ветров» режиссер картины Хаяо Миядзаки, ее продюсер Исао Такахата, публиковавший исходный комикс редактор журнала Animage Тосио Судзуки и глава издательства Tokuma Shoten Ясуёси Токума решили сотрудничать на постоянной основе. Для этого они создали аниме-компанию Studio Ghibli, названную Миядзаки в честь итальянского самолета времен Второй мировой войны Caproni Ca.309 Ghibli («гибли» – это ливийское название средиземноморского ветра сирокко, дующего из пустыни Сахара).\n",
      "\n",
      "\n",
      "В отличие от большинства аниме-студий того времени, Studio Ghibli должна была выпускать исключительно полнометражные мультфильмы. При этом спонсировавший проект Токума не требовал от Миядзаки и Такахаты, чтобы их замыслы основывались на популярных комиксах. Говоря современным бизнес-языком, Studio Ghibli разрешалось создавать бренды, а не только обслуживать чужие идеи. Это был колоссальный кредит доверия и огромный риск. В течение следующих десяти лет, пока Ghibli не накопила «жирок» из постоянных доходов от уже созданных хитов, коммерческий провал любого из ее фильмов мог обанкротить компанию и больно ударить по владельцам студии из издательства Tokuma Shoten.\n",
      "\n",
      "\n",
      "Чтобы не подвести инвесторов, Миядзаки решил делать то же, что делала в 1960-х студия Toei Douga, когда он на ней работал. В то время как основная часть японской анимации 1980-х создавалась в расчете на строго определенную аудиторию (мультфильмы о больших роботах для мальчиков-подростков, романтические мультфильмы для девочек-подростков и так далее), Миядзаки сделал ставку на семейные картины, которые должны были увлечь и малышей, и подростков, и взрослых. Время для этого было выбрано идеальное – в прежде «забивавшей» японские релизы американской анимации в середине 1980-х был явный спад, а в японскую мультипликацию как раз пришли художники из первого поколения аниме-фанатов. То есть творцы, которые не просто любили японскую анимацию, а жили, дышали ей и мечтали вывести ее на новую высоту. Костяк Studio Ghibli, впрочем, был собран из опытных аниматоров из обанкротившейся студии Topcraft, работавшей с Миядзаки и Такахатой над «Навсикаей из Долины ветров».\n",
      "\n",
      "\n",
      "Для своего первого проекта на новой студии Миядзаки выбрал замысел, над которым он работал в середине 1970-х, пока его тогдашние спонсоры не перекрыли идее кислород. В то время предполагалось, что Миядзаки и Такахата нарисуют мультсериал о путешествии двух юных французов с капитаном Немо, подводником из романа Жюля Верна «Двадцать тысяч льё под водой». Поскольку права на эту разработку остались у студии Toho, Миядзаки придумал на ее основе новую историю о мальчике и девочке, которые странствуют по воздуху в поисках небесного острова Лапута. Соответственно место подводного «благородного разбойника» заняла пожилая, но стоящая десятка молодых мужчин воздушная пиратка Дола. Она сперва преследует Ситу, а затем становится временной союзницей главных героев, когда правительственные агенты похищают кулон девочки и узнают, где искать легендарный «остров небесных сокровищ».\n",
      "\n",
      "Как видите, Миядзаки продолжил в «Лапуте» феминистский курс «Навсикаи», однако его вторая самостоятельная картина была куда более гендерно сбалансирована, чем «Навсикая» (два разнополых главных героя, Сита и Пазу, и два разнополых злодея, Дола и предводитель тайных агентов Муска). Вообще, «Лапута» почти во всех отношениях более сильное полотно. Почему «почти»? Потому что у «Навсикаи» все же есть преимущество. Это картина с мощной экологической моралью, которая заставляет задуматься об отношениях между людьми и природой. «Лапута» же – чистой воды семейный блокбастер на стыке фантастики, фэнтези и паропанка. Она захватывает, впечатляет, поражает, смешит, порой ужасает… Но лишь умеренно стимулирует голову. Это история об удивительных приключениях и колоритных героях, а не о глубоких идеях. Неудивительно, что для некоторых критиков этого достаточно, чтобы счесть «Навсикаю» лучше «Лапуты».\n",
      "\n",
      "Мы, однако, считаем, что все ровно наоборот. Избавив себя от обязанности читать зрителям высокоумную мораль, Миядзаки создал свой первый безупречный шедевр. По крайней мере, с точки зрения жанра, к которому «Лапута» принадлежит. Этот суперблокбастер из 1986 года масштабнее и головокружительнее обеих вышедших к тому времени серий «Индианы Джонса», причем вместе взятых. Вровень с «Лапутой» можно поставить лишь «Звездные войны», причем исключительно из-за их космического размаха. На земле и в воздухе «Лапута» до сих пор мощнее многих голливудских постановок, а среди лент о детях она практически вне конкуренции. Потому что ни один американский режиссер не отправил бы детей без помощи Индианы Джонса карабкаться по обшивке воздушных кораблей, отбиваться от солдат, гонять на паровозах, прятаться в подземных пещерах, исследовать заброшенный летающий остров, общаться с причудливыми боевыми роботами и рисковать жизнью ради спасения человечества. И это лишь часть почти безостановочных приключений, которые переживают Сита и Пазу!\n",
      "\n",
      "Что особенно приятно, оба главных героя «Лапуты» предстают не бесстрашными и непоколебимыми суперменами вроде Навсикаи, а смелыми, предприимчивыми, добрыми, но все же обычными и человечными детьми. Они бегают от злодеев, а не раскидывают их боевыми приемами, они пугаются, когда им есть чего бояться, и они искренне восторгаются, когда видят то, чего никогда не видели раньше. В этом плане Сита и Пазу напоминают Джима Хокинса из «Острова сокровищ». Но, в отличие от него, они – главные действующие лица, а не свидетели того, что творят взрослые. Иными словами, герои Миядзаки – идеальные ведущие персонажи для детского кино. Им легко сопереживать, их стремления легко понять, и им полезно подражать в реальной жизни. Ведь и Сита, и Пазу – трудолюбивые, самостоятельные и ответственные ребята, а не изнеженные и капризные белоручки.\n",
      "\n",
      "Насколько хороши главные герои «Лапуты», настолько же удачны ее второстепенные персонажи и злодеи. Шахтеры из городка Пазу, пираты из банды Долы, тайные агенты, солдаты… Почти никого из них (кроме разве что солдат в униформе) не упрекнешь в скучной безликости. И чем больше у них экранного времени, тем они ярче, а порой и забавнее. Кстати, в «Лапуте» довольно много смешных шуток, хотя это и не комедия – финал ленты серьезен и героичен. А какие в фильме воздушные корабли! Какие боевые роботы! Какие восхитительные пейзажи! Какие небесные и наземные баталии! «Навсикая» отлично смотрелась, но в «Лапуте» графическую планку подняли сразу на несколько делений.\n",
      " \n",
      "\n",
      "То же случилось и с музыкой. Если темы Джо Хисаиси для «Навсикаи» то очаровывают, то раздражают, то саундтрек композитора для «Лапуты» можно упрекнуть лишь в том, что многие сцены, которые голливудцы наверняка бы озвучили, оставлены без музыкального сопровождения. Когда же музыка Хисаиси включается, она всякий раз без промаха попадает в яблочко. Лучший ли это фильм Миядзаки? Нет, у него есть и более сильные полотна, созданные после «Лапуты». Но они относятся к другим жанрам, и не все из них легко понять ребенку, который не родился в Японии. Для наших же «детей любого возраста», от пяти до пятидесяти, «Небесный замок Лапута» – идеальное кино.\n",
      "\n",
      "Мой сосед Тоторо \n",
      "  \n",
      "Япония 1958 года. Молодой профессор Тацуо Кусакабе перевозит своих дочерей Сацуки и Мэй в деревенский дом, чтобы они жили неподалеку от больницы, где лечится их мать. Осваиваясь на селе, девочки обнаруживают, что по соседству с ними живут причудливые существа – похожие на животных лесные духи. Вскоре сперва младшая Мэй, а затем и старшая Сацуки натыкаются на гигантского и могущественного, но при этом доброго и заботливого повелителя леса, которого Мэй нарекает Тоторо.\n",
      "Кадр из аниме-фильма \"Мой сосед Тоторо\"\n",
      "\n",
      "После успешного релиза «Небесного замка Лапута» в 1986 году студия Ghibli два года спустя выпустила в прокат сразу два анимационных фильма – военную драму Исао Такахаты «Могила светлячков» и ностальгическую сказку Хаяо Миядзаки «Мой сосед Тоторо». Это не было проявлением самоуверенности аниматоров. Наоборот, боссы Ghibli сомневались, что мультфильм о «двух девочках и лесном монстре в сельской местности» привлечет внимание поклонников Миядзаки, полюбивших его как создателя фантастических блокбастеров. Поэтому «Тоторо» вышел в прокат как неотъемлемое приложение к «Могиле светлячков», основанной на известном романе и считающейся важной для школьного морального воспитания. Японские дети шли на «Могилу» целыми классами, и они были счастливы от того, что на сдвоенном сеансе смотрели не только один из самых печальных японских мультфильмов, но и один из самых радостных.\n",
      "\n",
      "\n",
      "Сейчас «Могилу» и «Тоторо» трудно увидеть не только на одном сеансе, но и в одном списке, поскольку это творения разных режиссеров в разных жанрах. А жаль – эти картины только выигрывают от сопоставления, поскольку они изображают одну и ту же страну с перерывом в десять лет и поскольку в обеих лентах в центре повествования находятся двое очень дружных детей. Но если «Могила» живописует военный ад и временный распад общества на семейные «молекулы», то «Тоторо» показывает райскую, идиллическую страну, в которую так и хочется переселиться, чтобы на себе ощутить радушие, отзывчивость и соборность (иначе не скажешь) ее жителей.\n",
      "\n",
      "\n",
      "Продемонстрировать, насколько «Тоторо» добрее даже родственных по сюжету книг и мультфильмов, можно на примере сцены, в которой Мэй, захлебываясь от восторга, рассказывает отцу и сестре, что видела Тоторо. Как правило, подобные сцены заканчиваются тем, что друзья и родственники высмеивают маленьких героев и обвиняют их в чрезмерно бурном воображении. Тацуо же, хоть и не удерживается от смеха при виде заполошной девочки, вполне серьезно говорит дочери, что ей повезло увидеть повелителя леса, благодаря которому их край процветает. И он ведет девочек к святилищу, чтобы они все вместе поблагодарили Тоторо за то, что он есть. Какая душевная и неожиданная сцена! Учитывая, что Тацуо – не суеверный крестьянин, а университетский ученый. Впрочем, он японец 1950-х, а не американец 2010-х, который бы скорее умер, чем отвел дочерей в христианскую церковь.\n",
      "\n",
      "\n",
      "Понятно, в столь благостном мире нет и не может быть конфликтов, и даже серьезная болезнь матери девочек (судя по всему, туберкулез – именно поэтому больница находится вдали от города) лишь в самом конце картины начинает влиять на настроение героинь и порождать драматичные ситуации. Это всегда было главным камнем преткновения на пути критиков, оценивающих «Тоторо». Можно ли причислять к шедеврам японской анимации фильм, где так много добра, что для зла почти не остается места? Ведь основа повествовательного искусства – это конфликт, борьба, преодоление, а не всеобщая гармония, пронизывающая фильм с первых до последних кадров.\n",
      "\n",
      "Чтобы ответить на этот вопрос, нужно напомнить себе, что конфликт в искусстве – не цель, а средство, средство постижения человека и мира. Так, «Звездные войны» – это в первую очередь история о том, как Люк постигает себя и превращается из наивного юнца в мастера-джедая. Война Республики и Империи нужна для того, чтобы обеспечить этому постижению контекст, драйв и драматизм. И как документальное кино не нуждается в выстраивании конфликтов, чтобы рассказывать захватывающие истории, так и художественное кино не обязано противопоставлять Добро и Зло, если может увлечь зрителей иными способами. И если режиссер справляется без «конфликтных костылей», то он тем более достоин уважения и звания гения.\n",
      "\n",
      "Миядзаки справился на «отлично». И далеко не только из-за появления в картине поразительного Тоторо, который стал символом студии Ghibli и всей японской анимации. Если перечислить все его сцены, то окажется, что Тоторо – существенный, но второстепенный персонаж, основные «выходы» которого приходятся на заключительные эпизоды фильма. В отличие от тоже очаровательного, летающего и помогающего Малышу Карлсона из книг Астрид Линдгрен (кстати, обожаемых Миядзаки), Тоторо не произносит ни слова и не оттесняет главных героинь на второй план. Он не суть картины, а лишь самая причудливая часть мира, который познают девочки, когда оказываются в «настоящей», традиционной Японии рисовых полей, домов с раздвижными стенами, древних святилищ, заботливых соседей… И лесных духов.\n",
      "\n",
      "Картина как познает этот мир вместе с Сацуки и Мэй, глядя на него восхищенными глазами непоседливых девчонок, так и пристально, с взрослой добротой и умилением приглядывается к самим малышкам. Одна из которых изо всех своих силенок старается подменить заболевшую мать и позаботиться о младшей сестре, а другая еще настолько наивна, что ничуть не пугается, когда находит спящего огромного и когтистого Тоторо (взрослый человек от такой встречи мог бы умереть со страху).\n",
      "\n",
      "При желании можно рассмотреть движение Миядзаки от «Навсикаи» к «Тоторо» как эволюцию его мастерства в изображении девочек и девушек. Если Навсикая предстает идеализированной супергероиней, а Сита в «Лапуте» – доблестной и благородной, но способной на человеческие слабости принцессой, то Сацуки и Мэй абсолютно правдоподобны как реальные дети, без всяких претензий на спасение мира. И это подкупает даже сильнее, чем захватывающие полеты девочек на загривке Тоторо и внутри «котобуса» – волшебного кота-оборотня, на котором обычно путешествуют только лесные духи. По крайней мере, когда фильм смотрит взрослый человек. Детям Тоторо и котобус наверняка интереснее, чем беготня их ровесниц по новому дому или их походы на природу. В этом прелесть «Тоторо» и мастерство его создателя – зрители любого возраста найдут в мультфильме то, что их покорит и очарует. А в конце картины можно даже немного попереживать. Кроме того, ударная доза счастья по рецепту Миядзаки – отличное противоядие от депрессии, в которую порой вгоняет жизнь или более мрачное искусство. А если хочется не порадоваться, а поплакать… Для этого есть «Могила светлячков», о которой разговор впереди.\n",
      "Напоследок следует сказать, что анимация и графика ленты выше всяких похвал (именно в этот момент слова «мультфильм студии Ghibli» окончательно стали синонимом слов «роскошное и безукоризненное изображение»), а замечательная музыка Джо Хисаиси поддерживает действие на всем протяжении ленты, а не лишь в отдельных сценах, как в «Навсикае» и «Лапуте». Из всех работавших над фильмами Миядзаки творцов композитор больше всего прибавил в промежутке между «Навсикаей» и «Тоторо». Всего за несколько лет он превратился в одного из «закадровых мастеров» японского кинематографа – отнюдь не только анимационного.\n",
      "\n",
      "Рыбка Поньо на утесе \n",
      "  \n",
      "Пятилетний Сооскэ находит в море золотую рыбку, которая оказывается дочерью волшебника и морской царицы. Рыбка влюбляется в мальчика и использует магию, чтобы стать человеком. Но та же магия насылает на город Сооскэ цунами, и теперь детям приходится спасать мир.\n",
      "Хаяо Миядзаки ничем не похож на Андерсена. Назидательный датский сказочник находит мелкое удовольствие в несчастье, заставляет неодушевленные предметы разговаривать противными голосами. Японец видит весь мир огромным живым существом и строит свое волшебство из морской пены, из облаков, из колючей шерсти небывалых существ. Тем удивительнее андерсеновская «Русалочка» в пересказе Миядзаки – сказка не про русалочку и ее ножки, а про любовь.\n",
      "Маленькая золотая рыбка, влюбившись в человеческого ребенка глубоководной, захлебывающейся любовью, не сразу становится человеком. Сначала она – не то от несовершенства магии, не то от полноты чувств – отращивает вместо рыбьего хвоста немыслимые птичьи лапки и бежит к своему возлюбленному такой трогательной полудевочкой. Он любит ее по-настоящему, по-детски, то есть навсегда и еще крепче – и разве она может не стать человеком?\n",
      "\n",
      "Цветное, яркое, руками нарисованное счастье, самый детский из всех фильмов Миядзаки. Даже более детский, чем «Мой сосед Тоторо» – и как «Тоторо» в конце выруливал совсем уж в метафизику, а на огромном Коте-автобусе появлялся указатель «Кладбище», так и к концу «Рыбки Поньо» зрителю приходится выбирать: дышать или не дышать. Поньо в своем стремлении любить случайно выпускает магию на волю, город Сооскэ уходит под воду, и мальчик с бывшей рыбкой бегут спасать мир. Под водой оказывается и мама маленького Сооскэ, и старушки из дома престарелых – но выясняется, что немощные старушки умеют бегать по дну морскому не хуже маленьких девочек.\n",
      "Если это смерть, то она нежна. Если это жизнь, то она как в детстве, когда все возможно. Но главное в «Рыбке Поньо» – любовь. Миядзаковская любовь к миру, ежесекундное удивление – как же восхитительно у вас тут все устроено! – сердце бьется как сумасшедшее, на песке тают птичьи следы, и невозможно дышать. \n",
      " \n",
      "\n",
      "\n",
      "Социальная сеть \n",
      "  \n",
      "Новый фильм Дэвида Финчера – это, в первую очередь, история о парадоксе. Картина повествует об изобретении Facebook, одном из инструментов-первопроходцев в сфере интернета, который объединил весь мир, рассорил пятерых друзей и сделал своего создателя – 26-летнего бывшего студента Гарварда Марка Цукерберга – самым молодым миллиардером последних десятилетий.\n",
      "Джесси Айзенберг в главной роли так же великолепен, как и наш конфликтный гений, эмоционально изолированный социальный изгнанник с непредсказуемым набором мотиваций и привязанностей. Цукерберг запускает сайт по целому ряду причин: отчасти из-за озлобленности на окружающий мир, отчасти из-за спортивного интереса и отчасти просто потому, что это «круто». Сама задумка и ее реализация могут показаться стихийными и спонтанными, но действительный ход событий намекает на четкий расчет и продуманный бизнес-план.\n",
      "\n",
      "Сильные стороны «Социальной сети» становятся очевидны с первых кадров, в особенности в сцене перед начальными титрами, где Цукерберг разговаривает в баре со своей без пяти минут экс-девушкой Эрикой (Мара): звонкие, жесткие диалоги сценариста Аарона Соркина набирают силу уже здесь и не смягчаются до самого финала. То же и с режиссурой Финчера: сравнительно сдержанная (за исключением динамичной, пьянящей сцены регаты), она стремится к прозрачности, хотя и не ослабевает ни на минуту. Цветовая палитра играет свою роль: теплая, местами солнечная, даже в темноте оставаясь уютной, она маневрирует между двумя спутанными цепочками событий и двумя обособленными судебными тяжбами.\n",
      "За пределами потока непрекращающихся дискуссий в фильме происходит не так уж и много: ни одной смерти, ни одного убийства, да и все судебные передряги Цукерберга вряд ли потянут хотя бы на дополнительный абзац для его скудной страницы в «Википедии». Что же привлекло 49-летнего Соркина и 48-летнего Финчера в этой не слишком щедрой на детали истории? После просмотра появляется стойкое ощущение, что «Социальная сеть» – это портрет нашего времени, а недосказанность в данном случае – важный художественный прием. Всего каких-то двадцать лет назад «Уолл-Стрит» творил приблизительно то же самое, только в большем масштабе – с космическими эго и крупными делами. Теперь, когда суточная платежеспособность стала еще выше, политика осуществляется уже не на заседаниях правления, а в песочницах.\n",
      "\n",
      "Цукерберг хочет быть особенным, мечтает стать центром внимания. Северин (Гарфилд) уязвлен тем, что у его лучшего друга появился новый лучший друг (Тимберлейк) и теперь ему не с кем играть. Уинклвоссы (Хаммер и Пенс), тем временем, топают ногами: кто это сказал, что богатые, красивые и спортивные не могут быть еще и умными? (Эта линия особенно забавляет Финчера.) При желании из «Социальной сети» вполне могла бы получиться черная комедия.\n",
      "Цукерберг помешан на идее популярности и лидерства, но чего больше в его деле – положительного или отрицательного? И что за социальные последствия повлечет за собой его изобретение? Он аферист? Или хитрый манипулятор? Финчер и Соркин никогда не закроют книгу, если в ней будет хоть малейший намек на нечто подобное. Но здесь это даже не потребуется: в их версии истории это совсем не важно.\n",
      "\n",
      "«Каково это, чувствовать себя красивым?» – спрашивается в песне The Beatles “Baby You’re A Rich Man”, предваряющей титры. Герой не знает. Фильм подсказывает ответ. Цукерберг – представитель потерянного онлайнпоколения, которое имеет слабое представление о красоте и еще меньшее – о чувствах. \n",
      " \n",
      "\n",
      "\n",
      "Шепот сердца \n",
      "  \n",
      "Штудируя библиотечные книги во время летних каникул, 14-летняя школьница Сидзуку замечает, что в формулярах некоторых из них перед ее именем стоит имя «Сейдзи Амасава». Заинтригованная девочка пытается выяснить, у кого точно такой же литературный вкус, и хотя ее первое знакомство с Сейдзи, учеником из параллельного класса, проходит не так романтично, как она рассчитывала, ребята быстро становятся друзьями. Вскоре парень признается Сидзуку, что учится делать скрипки и что вместо поступления в старшие классы готовится к отъезду в Италию, в школу скрипичного дела в Кремоне. Привязанность Сейдзи к его ремеслу вдохновляет девочку, и она решает попробовать себя в сочинении фантастических историй. Невзирая на приближающиеся переводные экзамены, она полностью погружается в сочинение повести об изящной фигурке кота-аристократа, которая принадлежит дедушке Сейдзи, мастеру-антиквару.\n",
      "\n",
      "\n",
      "Студия Ghibli была создана как «карманная» компания двух выдающихся аниматоров, Хаяо Миядзаки и Исао Такахаты. Ghibli была в такой степени заточена под обслуживание этих творцов, что другой замечательный японский аниматор, Мамору Осии, режиссер «Призрака в доспехах», как-то сравнил в интервью студию Миядзаки и Такахаты с Кремлем, а ее основателей – с советскими тоталитарными вождями. Это, конечно, была шутка, но бьющая не в бровь, а в глаз. Художники, не планировавшие вечно быть мальчиками на побегушках у создателей студии, в Ghibli не задерживались, и когда в 1990-х Миядзаки задумался о том, на кого они с Такахатой оставят студию, если уйдут на пенсию, то оказалось, что во всей компании лишь один подходящий человек – аниматор Ёсифуми Кондо, работавший с основателями Ghibli с конца 1960-х.\n",
      "\n",
      "\n",
      "Чтобы проверить Кондо в «большом деле», Миядзаки придумал для него режиссерский проект – появившуюся в прокате в 1995 году экранизацию опубликованного в 1989-м однотомного комикса Аой Хиираги «Шепот сердца». Правда, это был в равной степени проект Кондо и Миядзаки, поскольку начальник режиссера-дебютанта собственноручно написал заметно отличающийся от произведения Хиираги сценарий, нарисовал часть раскадровок и даже сочинил для фильма шуточную песенку о Токио «Бетонные дороги» на мотив также звучащего в картине американского фолк-хита Джона Денвера Take Me Home, Country Roads («Ведите меня домой, проселочные дороги»). Поэтому, восхищаясь «Шепотом сердца» или критикуя его, нужно делить восхищение и критику между двумя творцами, а не валить все пряники и шишки на голову Кондо. К сожалению, узнать, чего художник стоил без опеки Миядзаки, поклонникам аниме было не суждено. Ёсифуми Кондо скоропостижно скончался в 1998 году, через полгода после завершения работы над фильмом Миядзаки «Принцесса Мононоке». Ему было всего 47 лет – «детский» возраст для японцев его долгоживущего поколения.\n",
      "\n",
      "\n",
      "В отличие от ностальгического комикса для взрослых женщин, положенного в основу фильма Такахаты «Только вчера», «Шепот сердца» Аой Хиираги – типичная школьная любовная история для девочек-подростков вроде шедшего в 1994-1995 годах по японскому ТВ аниме-сериала «Мальчик-мармелад». Несколько влюбленных парочек, любовный многоугольник, незадачливая, но добросердечная главная героиня, благородный мальчик-мечта с романтичным хобби (в комиксе это было рисование картин, а не создание скрипок), сложные отношения с родителями, страстные, но целомудренные сюжетные перипетии… «Мыльная опера», да и только!\n",
      "\n",
      "\n",
      "Миядзаки и Кондо, однако, рисовать такое кино было не слишком интересно. Поэтому они сократили и приглушили романтические линии оригинала и превратили «мыльную оперу» в умную и трогательную картину о взрослении – точнее, о принятии первых взрослых решений в жизни главных героев. Будь то урегулирование романтических переживаний, выбор будущей профессии или старательность в подготовке к переводным экзаменам из средней школы в старшую (из-за особенностей японской системы образования эти экзамены так же важны, как экзамены при поступлении в вуз, и провал на них может перекроить всю дальнейшую жизнь). Как и в большинстве выпущенных к 1995 году фильмов Ghibli, в «Шепоте сердца» нет противостоящих героям злодеев (если не считать таковой по-семейному шпыняющую Сидзуку старшую сестру), но внутренние дилеммы персонажей от этого не перестают быть менее волнующими и острыми. И, конечно, такой сюжет делает ленту куда более правдоподобной и близкой зрителям, чем волшебная сказка Миядзаки «Ведьмина служба доставки» со всеми ее высосанными из пальца законами и странностями мира ведьм.\n",
      "\n",
      "Чтобы подчеркнуть реалистичность повествования и насытить его социальными нюансами, команда Ghibli тщательно воссоздала на экране западный пригород Токио – тот самый, вокруг застройки которого вращался сюжет фильма Такахаты «Помпоко: Война тануки». Правда, художники не перерисовывали фотографии, и на экране не точная копия Западного Токио, а его артистическая интерпретация. Но для художественного произведения чувство места важнее, чем точное расположение того или другого приметного дома, а ощущение центральной Японии «Шепот сердца» передает безупречно. Многоэтажки и частные дома, новая и старая застройка, холмы и низины, поезда и велосипеды, магистрали и узкие улочки, школы, парки и библиотеки… А в целом – уютный и безопасный, но требовательный мир, который многое детям дает и многое с них спрашивает. В этом мире выбор жизненного пути может наделить человека большим собственным домом (вроде того, где живет Юко, лучшая подруга Сидзуку) или крошечной, «советской» квартиркой вроде той, где ютится семья главной героини. Картина не единым словом не привлекает внимания к социальным различиям между Юко и Сидзуку, но визуальная скрупулезность в воспроизведении их быта говорит сама за себя.\n",
      "\n",
      "\n",
      "При этом, в отличие от «Только вчера» и «Помпоко», «Шепот сердца» не требует образования япониста или подробных комментариев. Проблемы японских подростков не универсальны, но они понятны без культурного перевода. Не назвать картину и сугубо приземленным, «соцреалистичным» произведением. Когда Сидзуку начинает писать, фантазия ненадолго переносит ее в волшебный мир, похожий на альтернативную Землю из «Небесного замка Лапута». Не принадлежит к «обычной Японии» и дедушка Сейдзи, как будто сошедший с иллюстрации к «Буратино» старый мастер с восхитительной антикварной лавкой.\n",
      "\n",
      "Да, «Шепот сердца» – не самое драйвовое и напряженное полотно в фильмографии Ghibli, но его сюжет ни в одной сцене не стоит на месте, а душевность и обаяние картины и ее персонажей (тщательно прописанных и прорисованных независимо от их сюжетного значения) вполне искупают недостаток драматизма. Да и как соскучишься у экрана, если каждый кадр хочется рассматривать на паузе, чтобы в полной мере оценить вложенное в него мастерство художников? А какой в фильме потрясающий бродячий кот, благодаря которому Сидзуку знакомится с дедушкой Сейдзи! Несущественный, по сути своей, персонаж, но сколько любви в него вложено!\n",
      " \n",
      "\n",
      "Одним словом, «Шепот сердца» – безукоризненный шедевр Ghibli, который не только впечатляет, но и вдохновляет и заставляет по-новому взглянуть на свою жизнь даже взрослых людей. Для подростков же это, пожалуй, обязательное зрелище. Особенно для девочек, которым фильм в первую очередь адресован.\n",
      "\n",
      "Химера \n",
      "  \n",
      "Супружеская пара, гении-биологи, свалили в кучу ДНК животных и человека и вывели уникальную девушку с кожистыми крыльями и ядовитым жалом на хвосте.\n",
      "Канадский гений Винченцо Натали создал волшебную химеру – фильм с инопланетной улыбкой и ядовитым жалом на кончике хвоста. ДНК разных жанров свалены в кучу, результат обаятелен и по-хамски беспечен. Тут и любовный треугольник, и лавкрафтовский скользкий кошмар, и феминистский триллер об аморальных ученых, и романтическая комедия о материнском инстинкте, и даже социальная драма. И все это выглядит удивительно свежо и незатасканно, потому что Натали ни о чем не говорит напрямую. Зритель уверен, что смотрит обычный научно-фантастический триллер о генетических исследованиях, но тут-то его и ожидает удар ядовитого жала: «Химера» – точнейшая, ироничная сказка о человеческих отношениях.\n",
      "\n",
      "Цивилизация и поп-культура не пошла героям-ученым на пользу: они со своей беспечностью и моральной всеядностью порой меньше похожи на людей, чем их создание, прекрасная Дрен (Дельфин Шанеак). У себя дома биологи-инфантилы окружены пластиковыми игрушками, на работе они, не задумываясь о последствиях, играют с живыми существами. Выбор актеров идеален: гипертрофированные красавцы Эдриен Броуди и Сара Полли, да и все остальные ученые, в фильме напоминают не то команду панк-рокеров, отдыхающую над пробирками в перерыве между загулами, не то, наоборот, героев какой-то кровожадной рок-песни, что-нибудь вроде: «Я буду для тебя чем угодно, и пусть сдохнет все живое». Чудо-девочка Дрен, жутковатое и прекрасное ДНК-недоразумение, становится для своих создателей не просто прорывом в области генетики. Она для них и эксперимент по воспитанию ребенка, и проба сил в корпоративном бунте, и испытание на семейную прочность. И секс, и наркотик, и рок-н-ролл.\n",
      "\n",
      "Винченцо Натали – режиссер бесконечно изобретательный, но его мало волнуют эксперименты с формой. Законы жанра ему тоже не указ, ожидания зрителей его ничуть не интересуют, тем более ему наплевать на мнение продюсеров (хотя продюсер «Химеры» – режиссер Гильермо Дель Торо – знает толк в хоррор-тварях и плохого не посоветует). Натали называют последователем генного киноинженера Дэвида Кроненберга с его «Мухой», но Натали не копается в гниющем, разлагающемся духе и механистичной, грубой плоти. Он с восторгом и страхом исследует людскую природу, изобретая для своих героев все новые испытания и восхищаясь простотой человеческих реакций. Он то помещает своих героев в куб, полный смертельных ловушек («Куб»), то заставляет весь мир вокруг персонажей исчезнуть («Пустота»), то накачивает собравшихся наркотиком и читает им долгую речь («Кодер»).\n",
      "\n",
      "В «Химере» он исследует пространство отношений, полное смертельных ловушек, и то, как человек реагирует на главную ловушку – любовь. Неудивительно, что почти все зрители в эту ловушку попали – и возненавидели финал «Химеры», обозвав его трэшем. На самом деле, настоящая любовь так и развивается: бурно и неожиданно растет, потом у нее появляются жабры, потом крылья, потом она становится прекраснее всех на свете и нежно смеется, запрокидывая голову, а потом начинается гадкий, кровавый, убийственный, прекрасный трэш. \n",
      " \n",
      "\n",
      "\n",
      "Где-то \n",
      "  \n",
      "Джонни Марко (Дорфф) проживает в отеле Chateau Marmont достойной сострадания жизнью кинозвезды: засыпает под стриптиз от близняшек Бэмби и Синди (кажется), катается на Ferrari, а всякая прохожая при встрече с ним снимает лифчик. До тех пор, пока бывшая жена не подбрасывает Джонни на пару недель дочку Клео (Фэннинг) и в области сердца у звезды не начинает происходить что-то новое.\n",
      "На загипсованной руке актера Джонни Марко — телефоны блондинок, сердечки и поцелуйчики, но макароны он варит себе сам, неловко вываливая в раковину неадекватную дуршлагу кучу. В гостиничном лифте он братается с Бенисио Дель Торо, в соседнем номере трахает соседку, и вообще в Chateau Marmont есть, кажется, все, что нужно Джонни от дома. Что бы это самое «дом» ни значило.\n",
      "\n",
      "После незаслуженного и обидного провала «Марии-Антуанетты» /Marie-Antoinette/ (2006) София Коппола вернулась к тому, что у нее получается лучше всего: кино о грусти в гостиничных тапочках. Как и героиня Скарлетт Йоханссон из «Трудностей перевода», персонаж Дорффа смотрит в окно, слоняется по номеру, ерошит и без того малоудачную прическу.\n",
      "Люди Копполы — они всегда «где- то»: будь то Токио, Милан или родной Лос-Анджелес. Падают вниз по кроличьей норе, чтобы так никуда и не попасть. Позднее, чем могли бы, перестают быть детьми и никогда не становятся взрослыми. Поют в караоке, играют в «Guitar Hero» и засыпают под стриптиз, потому что с Бэмби и Синди (или наоборот?) все-таки не так одиноко. А потом, если повезет, натыкаются на кого-то, к кому после нескольких порций виски можно было бы обратиться незнакомой Копполе строчкой из БГ «Я увидел тебя и подумал: как редко встречаешь своих». У Скарлетт это был отекший Мюррей, у отекшего Дорффа — собственная дочь.\n",
      "\n",
      "Можно сколько угодно упрекать Копполу в самоповторах. Можно тысячу раз видеть, что история «Где-то» уложилась бы в короткометражку, а остальное — длинные планы почесываний Дорфа и дрожащих ресниц Эль Фэннинг. Можно, наконец, считать, что «Золотого Льва» в Венеции она получила как бывшая девушка председателя жюри. Но все-таки никто лучше нее не снимает о тех, у кого вообще-то все путем, но почему-то плохо, хоть вой. Никто так не переходит от колкостей к нежности. И едва ли не она одна теперь берет за руку, когда другие советуют перейти на «Прозак».\n",
      "\n",
      "Бесподобный мистер Фокс \n",
      "  \n",
      "Симпатичный, но хитрый и чрезвычайно плотоядный лис селится вместе с семейством близ трех крупных фермерских хозяйств. Животноводы в ужасе.\n",
      "Лучше всего этот фильм охарактеризовал в сети один из безымянных зрителей: «Как хорошо, что Уэс Андерсон снял свой фильм без этих приевшихся актеров». «Бесподобный мистер Фокс» действительно лишен «этих приевшихся» актеров, а для зрителей, не имеющих возможности посмотреть картину в оригинале, лишен и их голосов. Джордж Клуни, Мерил Стрип, Билл Мюррей…\n",
      "\n",
      "Все это роскошество для тех, кто знает английский язык или хотя бы не имеет ничего против субтитров. Однако есть уверенность, что и тем, кто не в состоянии оценить оригинальную озвучку, будет чему удивиться при просмотре. Дело в том, что «Мистер Фокс…» шерстяными мордочками героев, дерганой пластикой и атмосферой теплого абсурда больше всего напоминает продукцию студии «Союзмультфильм» в период ее расцвета.\n",
      "Помните эти великие кукольные мультфильмы, которые так не хотелось смотреть детям и которые так нравились взрослым? Это и есть «Мистер Фокс…». С учетом того, что «Союзмультфильм» никогда по ряду производственных причин не снимал кукольных полнометражек. Если отбросить в сторону покрывало симпатичного безумия, которым Уэс Андерсон укрывает каждое свое творение, то история мистера Фокса предстает вполне традиционной историей бунта (тот же фокус проделали, скажем, в последнем «Шрэке»). Закабаленный и успокоенный взрослой семейной жизнью, главный герой откровенно демонстрирует окружающим – нельзя идти против природы.\n",
      "\n",
      "Барсук должен оставаться барсуком, крыса – крысой, а лис будет лисом, несмотря на то, что ведет колонку в газете и живет под укоризненным взглядом жены. А стоит ли ругать лиса за разоренный курятник? На этот вопрос нет однозначного ответа. «Я вообще-то дикое животное», – говорит мистер Фокс, призывая зрителя внимательней приглядеться к себе и убедительно хищно поедая блины. \n",
      " \n",
      "\n",
      "\n",
      "Меланхолия \n",
      "  \n",
      "Подозрительно экзальтированная Жюстин (Данст) выходит замуж, ее сестра Клэр (Генсбур) с мужем (Сазерленд) организовывают свадьбу в семейном поместье. В то же время к Земле приближается планета созвездия Скорпиона «Меланхолия», что означает более или менее конец всего сущего. Впрочем, кое для кого Армагеддон — это частности. И вообще отвлекает от смотрения в стенку.\n",
      "\n",
      "В скором времени с Землей столкнется планета с пышным именем «Меланхолия». Если сделать кольцо из проволочки и периодически смотреть через него на небо, видно, как она приближается. Когда это, наконец, случится, линии электропередач порвутся, птицы повалятся с неба, а из пальцев у девушки навстречу «Меланхолии» поползут молнии. И всем сразу станет легче. Сложенная как опера картина открывается прелюдией, из которой станет более или менее ясно, как это будет: птички, молнии, слом земной коры. Концовка перенесена в начало, в том числе для того, чтобы снять лишнее напряжение. Эй, все хорошо, мы все умрем, теперь можно рассказывать.\n",
      "\n",
      "Первый акт — каждый назван по имени одной из сестер «Жюстина» и «Клэр» — свадьба Жюстины. Невеста оживлена, в белом платье и вообще очень старается. В поместье, принадлежащем, кажется, старшей сестре Клэр и ее мужу (за их же счет и свадьба), куча гостей, горят свечи, планируется запуск китайских фонариков. Некоторое время торжество (и в самом деле напоминающее «Торжество» Винтерберга и еще картины Бергмана) как-то продолжается, потом Жюстина начинает стремиться в горячую ванну, грубит начальнику, унижает жениха, писает в лунку на поле для гольфа, окончательно и с видимым облегчением срываясь с катушек: эксперимент с человеческим счастьем не удался, отдайте уже ей меланхолию. Происходящее в картине во втором акте (названном «Клэр», но по сути опять посвященном Жюстине) — все более глубокое и все более счастливое погружение Жюстины в бездну, воссоединение с меланхолией, будь то психическое состояние «мрачного помешательства» или название планеты, которая как раз на днях очень кстати врежется в Землю.\n",
      "\n",
      "Не чуждый меланхолии Триер опять снимает картину о себе. Он тут и Жюстина, пустыми, внутрь повернутыми глазами призывающая планету, которая одним махом все это прихлопнет и все, наконец, кончится. И Клэр, которой есть что терять, и которая цепляется за жизнь, гаснет и сходит с ума с той же скоростью, с которой Жюстина — девушка-метеорит — наливается жизнью. По мере приближения планеты две сестры (которые, конечно, один человек или две стороны одной планеты, как угодно) меняются ролями. Практичная, заботливая, земная, в конце концов, Клэр теряет связь с реальностью, Жюстина счастливо уходит в отрыв.\n",
      "Триер, который говорил, что визуальный стиль картины во многом сформировала музыка Вагнера (прелюдию к опере «Тристан и Изольда» он решил использовать на самых ранних стадиях работы), жалел даже, что «Меланхолия» сама собой получилась такой романтической, пышной, вызывающе прекрасной. Потом вроде бы смирился — с фильмом все равно ничего нельзя было сделать: он жил своей жизнью, дышал, пульсировал, ждал конца света. В «Меланхолии», для тех, кто, как и Ларс с Кирстен, состоит в клубе любителей печали и все понимает, нет совершенно ничего мрачного. «Меланхолия» сделала с Триером то же, что и с его героиней. Он снял самый здоровый, самый счастливый, самый (по крайней мере, в том, что касается душевного здоровья автора) гармоничный свой фильм. Историю любви человека и меланхолии. В самом деле, нет ведь ничего светлее, чем известие о том, что у бессмысленного до сих пор горя появляется причина в виде небольшой круглой планеты. Перспектива скорой смерти доказывает, что до сих пор ты, получается, жил. И вообще молнии из пальцев это же, должно быть, очень приятно.\n",
      " \n",
      "\n",
      "\n",
      "Артист \n",
      "  \n",
      "Начало эры звукового кино, 1927 год. Звезда «великого немого» Джордж Валентайн работает над новым немым фильмом, не желая считаться с прогрессом. Но у звукового кинематографа другие законы, так что Валентайна ждет провал и забвение. Лишь верный пес остается с ним, да случайно встреченная когда-то старлетка, ставшая кинозвездой, все еще вспоминает его неотразимую улыбку.\n",
      "\n",
      "Настоящее немое кино, заплутавшее в дебрях звука, гениальная, без преувеличения, стилизация под невинность и простоту фильмов начала ХХ века. Кино о том, как мужчина и женщина любят друг друга, актеры любят кино, звук любит тишину.\n",
      "\n",
      "Режиссеры часто эксплуатируют тему кинематографа, и немого кино особенно. В \"Поющих под дождем\" Стэнли Донена и Джина Келли эпоха перехода к звуку становилась поводом для танцев и обмана. В «Сансет бульваре» Билли Уайлдера немое кино казалось настоящим утерянным раем. По сюжету «Артист» напоминает «Поющих под дождем», но по духу гораздо ближе к «Сансет бульвару»: «Артист» не использует кинематограф, чтобы спеть о нем песенку. Он живет и умирает в кино.\n",
      "\n",
      "Фильм, несмотря на все свои гэги, лишен постмодернистской иронии – он не играет с классикой, он выглядит как классика. Здесь все впервые: любовь начинается в газетных статьях, ночные кошмары убийственны, а наступление звуковой эры одинаково поражает и зрителя, и героев. Здесь все запредельно: огромная страсть, трагическое одиночество, всемирный успех, жадный продюсер, восторженная публика — и все эти слова пока еще не стерлись от постоянного употребления, кинопленка горит жарко, эмоции пока еще не остыли.\n",
      "\n",
      "«Артист» тем более удивителен, что режиссер Мишель Хазанавичус — автор вымученных, но довольно успешных постмодернистских комедий об агенте ОС-117, где Жан Дюжарден играл, по собственному выражению, «Шона Коннери для бедных». В «Артисте» Дюжарден играет саму идею великого киногероя. Он и Дуглас Фэйрбенкс, и Рудольф Валентино, и Лон Чейни, а его партнерша Беренис Бежо — одновременно все «смешные девчонки» большого кино.\n",
      "\n",
      "В общем, это даже больше, чем стилизация. Это своеобразный клуб, куда классические фильмы ходят посидеть с друзьями и вспомнить счастливые дни. Фильм о сломе эпох и о том, что делать, когда ты больше не нужен. Что делать, что делать… Чечетку плясать.\n",
      " \n",
      "\n",
      "\n",
      "Скотт Пилигрим против всех \n",
      "  \n",
      "Молодой лоботряс Скотт Пилигрим, бас-гитарист рок-группы Sex Bob-оmb, влюбляется в девушку-курьера по имени Рамона. Чтобы завоевать ее, Скотту предстоит сразиться с ее семерыми «злыми бывшими». Каждая схватка — раунд игры с начислением очков и выходом на новый уровень. А в финале — поединок с боссом, хозяином звукозаписывающего лейбла.\n",
      "Игра со стилем заставки стала хорошей традицией студий, собирающихся показать нечто неординарное, – уже с порога вам начинают многозначительно подмигивать и строить глазки. Для «Скотта Пилигрима…» /Scott Pilgrim vs. the World/ (2010) Universal выдал остро модную заставку в духе 8-битной игры. Кто не понимает, почему это круто, может встать и спокойно покинуть зал. Для тех, кто хоть чуть-чуть познал радость технологического дауншифтинга, способен погружаться в бессмысленную игровую реальность и наслаждаться приятным звоном электронных монеток-бонусов, «Скотт Пилигрим» будет стараться изо всех сил. Но не сразу.\n",
      "\n",
      "Первые несколько минут этот фильм выглядит как подростковая комедия про хипстеров (которым лет по 20-25, но выглядят они, что характерно, на 17), к тому же, канадских, с умеренно остроумными диалогами и назойливым визуальным мусором, который вторгается почти в каждый кадр. Анимационные фишки — титры-комментарии, звукоподражательные междометия, деление кадра и прочие дизайнерские и комиксовые украшения – кажется, маскируют беспомощность происходящего. Но со временем диалоги становятся острее, фишек становится больше, смысла не прибавляется, а настроение улучшается стремительно.\n",
      "Похожий трюк недавно проделывал с нами «Пипец» /Kick-Ass/ (2010), прикидывающийся поначалу школьной комедией. В комиксе — самой прогрессивной сфере современного массового кино – намечается новый прорыв и новая тенденция. Перед тем как толкнуть супергеройскую тему в сторону безумного и беспощадного торжества некорректности и эстетической свободы, «Пипец» еще оглядывался назад и хоть как-то ее осмысливал, опираясь на кинематограф в классическом понимании. «Скотт Пилигрим…» это торжество уже пережил, ничего осмысливать не пытается и демонстрирует, что современный масскульт — это чудесный сундук с кучей смешного барахла, из которого можно собрать все что угодно. Суть приема, на котором все держится, — дегенеративно проста: Эдгар Райт строит фильм как видеоигру с соответствующими жанру драками, музыкальными битвами, уморительными типажами «злых бывших», которых Скотт выбивает, чтобы заработать очки и перейти на новый уровень. Собственно, не Райт придумал этот ход — он заложен в исходном графическом романе, но именно хитрый британец осуществил его последовательно, нахально, не сдерживая себя в самых диких желаниях.\n",
      "\n",
      "Шальная натура режиссера, человека, кстати, не хипстерского поколения (ему 36 лет), проявилась с первого же фильма — «Зомби по имени Шон» /Shaun of the Dead/ (2004), вдохновленного творчеством Джорджа Ромеро, развилась в сумасшедшем полицейском боевике «Типа крутые легавые» /Hot Fuzz/ (2007), после которого ленты Гая Ричи кажутся творениями меланхолика, и окончательно расцвела в «Скотте Пилигриме…». Этого человека, что называется, прет от кино как такового, от кино, которое в рамки здравомыслия помещаться не может и не желает. Игровая природа комикса Райтом доведена до абсурда, до маразма, до визуальной истерики. Он ведет себя как сумасшедший гик, двинутый одновременно на трэше, аркадных видеоиграх, гаражном роке и глупых эмтивишных ромкомах, который неожиданно получил возможность как следует выговориться, показав все свои инфантильные сокровища.\n",
      " \n",
      "\n",
      "\n",
      "Повелитель бури \n",
      "  \r\n",
      "\n",
      " \n",
      "В работающий в Ираке отряд саперов прибывает сержант Уильям Джеймс, обезвредивший уже больше семисот мин и, похоже, не знающий страха Фильм, обошедший на поворотах «оскаровской» гонки самую успешную кассовую картину всех времен. Фильм, принесший первую награду американской киноакадемии за лучшую режиссуру женщине. Понятно, что с таким урожаем триумфов место в истории «Повелителю бури» обеспечено.\n",
      "Но хотелось бы думать, что это место он нашел бы и без помощи многочисленных премий. Ведь он выполнен практически безупречно. Вступая на сложную и опасную территорию иракского конфликта, Кэтрин Бигелоу («Странные дни», «На гребне волны», «К-19») сумела разом обойти все ловушки, подстерегающие постановщиков картин на горячие политические темы. Здесь нет ни показного патриотизма, ни, наоборот, приторного миротворческого пафоса – нет вообще никаких политических заявлений. Сосредоточив весь фильм на уровне взгляда солдат, буднично занимающихся смертельно опасной работой, Бигелоу выяснила, что на этом уровне традиционные оправдания войны – политические, идеологические, экономические, религиозные – теряют всякий смысл.\n",
      "\n",
      "Для саперов на задании есть только взрывное устройство – а кто его подложил, какими целями руководствовался и был ли при этом прав или неправ, уже не играет роли. И такой узкий фокус в конечном итоге оказывается самым точным. Высказываясь о природе войны, Бигелоу остается завороженной ее механикой. Работа сапера – концентрированное напряжение, и «Повелитель бури» держит его все два часа, не отпуская ни на секунду, накручивая нервы, не давая расслабиться. Сочетание мощнейшей, сбивающей с ног формы и глубокого, небанального содержания – то, за что и следует давать в этом мире «Оскары». \n",
      "\n",
      "Манускрипт ниндзя \n",
      "  \n",
      "Япония XVII века. После полутора веков непрерывных войн страна объединена под властью сёгунов Токугава, но до окончательного воцарения закона и порядка еще далеко. Когда в деревне неподалеку от побережья начинается эпидемия чумы, местные власти объявляют карантин и посылают на разведку отряд ниндзя. Назад возвращается лишь одна девушка по имени Кагеро. Всех остальных убивают загадочные воины со сверхъестественными способностями, а чудом выжившую Кагеро спасает странствующий ниндзя Дзюбей Кибагами. Когда об этом узнает правительственный агент Дакуан, посланный для изучения ситуации, он отравляет Дзюбея медленно действующим ядом и обещает ему деньги и противоядие, если талантливый воин выяснит, что делают в деревне безжалостные «суперлюди», и сумеет их уничтожить.\n",
      "Кадр из аниме-фильма «Манускрипт ниндзя»\n",
      "\n",
      "Шпион – древнейшая военная профессия, известная всему миру, но только в Японии шпионаж перерос в грандиозный поп-культурный феномен под названием «ниндзя». Почему поп-культурный, а не исторический? Потому что реальные ниндзя, насколько мы можем об этом судить, были обычными самураями, которые специализировались на тайных операциях – примитивных, но действенных. В эпоху японских феодальных междоусобиц силы многих соперников были примерно равны, и потому точные сведения о вражеской армии или отравление полководца противника могли принести нанимателю ниндзя гарантированную победу. Когда сёгуны Токугава объединили страну, нужда в ниндзя исчезла, и они испарились вместе с ней, переквалифицировавшись в правительственных соглядатаев и промышленных шпионов. Миф о ниндзя, однако, начал разрастаться со скоростью «атомного гриба». Ведь раз ниндзя держали свои методы и операции в тайне, то рассказывать о них можно было что угодно. Даже заведомые нелепости про нечеловеческие способности ниндзя и их «особую уличную магию». Так постепенно, за четыре века, сложился феномен, который ныне является одним из главных предметов японского культурного экспорта.\n",
      "\n",
      "Придуманный и поставленный Йосиаки Кавадзири аниме-фильм 1993 года «Манускрипт ниндзя» балансирует на грани истории и чистого вымысла. С одной стороны, ниндзя в нем представлены не абстрактными супервоинами, как, например, в известном аниме-сериале «Наруто», а теми, кем они были на самом деле – солдатами на службе правительства и влиятельных кланов или же бродячими самураями без господина, как главный герой Дзюбей.\n",
      "\n",
      "\n",
      "С другой стороны, даже рядовые ниндзя в фильме наделены нечеловеческой прыгучестью и умением балансировать на тонких ветках деревьев. Основные же персонажи больше похожи на Людей Икс, чем на обычных японцев. У каждого из них есть уникальные способности, а некоторые выглядят как мутанты. Так, тело одного из персонажей – осиный улей, и этот воин может использовать ос как оружие. А злодейский приспешник, который в начале фильма убивает соратников Кагеро, способен превращать свое тело в камень, непробиваемый холодным оружием. И это еще что! В фильме есть герои и с более крутыми и странными талантами.\n",
      "\n",
      "Затем такое разнообразие? Затем, что концептуально «Манускрипт ниндзя» – полная противоположность «Призрака в доспехах». В отличие от Мамору Осии, нарисовавшего свою картину ради философских диалогов, Кавадзири стремился создать изобретательный фэнтези-боевик, в котором разношерстность персонажей гарантирует уникальность и непредсказуемость каждой боевой сцены. Напротив, разговорные эпизоды в «Манускрипте» играют подчиненную роль. Их главные задачи – объяснять зрителям нюансы довольно-таки сложного сюжета и делать колоритнее и без того ярких персонажей. Впрочем, это не значит, что диалоги сочинены тяп-ляп. По меркам жанра они идеальны, и характер каждого героя чувствуется по первым же репликам.\n",
      "\n",
      "\n",
      "Вообще, в «Манускрипте ниндзя» все настолько отточено, что придраться к нему практически невозможно. «Предъявить» ленте можно лишь то, что у нее нет какого-то особого, глубокого смысла. В конечном счете это фильм вроде «Убить Билла» – великолепный, драматичный боевик, но не более чем боевик, и его персонажи – традиционные жанровые архетипы. Пусть и лучше прописанные, чем в обычных боевиках, сценаристы которых зачастую вовсе не дают слова многим второстепенным героям. В «Манускрипте» же даже эпизодические персонажи кажутся полноценными личностями. Хотя и не слишком сложными.\n",
      "\n",
      "Впрочем, жанровый шедевр – все равно шедевр, и «Манускрипт ниндзя» подтверждает это определение каждым своим тщательно прорисованным и великолепно анимированным кадром. Картина Кавадзири и студии Madhouse впечатляет от начала и до конца – стильной картинкой, причудливыми персонажами, неожиданными сюжетными поворотами, эффектными боевыми сценами, отсылками к истории Японии (режиссер стремился привлечь внимание зрителей к прошлому нации)… И мрачной, но не вгоняющей в депрессию «нуарной» атмосферой. Последняя не позволяет никому из положительных героев быть идеальным и гарантирует фильму не неправдоподобно радужный хеппи-энд, а более подходящую для жесткого кино меланхоличную концовку в духе «зло наказано, но добру нечего праздновать». Благодаря всему вышеперечисленному «Манускрипт» хочется пересматривать, даже если знаешь его наизусть.\n",
      "Делать это, правда, стоит лишь взрослым. Для детей в ленте Кавадзири многовато черного юмора, кровавой «расчлененки» (герои любят рубить с плеча!) и сексуального насилия (Дзюбей спасает Кагеро, когда один из злодеев пытается над ней надругаться). Также, учитывая нынешние российские законы, надо указать, что один из злодеев картины – гей, и его ориентация поминается чуть ли не в каждой сцене с его участием. В 1993 году это был смелый ход, подчеркивающий экстремальность и бескомпромиссность аниме Кавадзири. Сейчас же, пожалуй, фильм от этого не выигрывает. Но и не страдает. Кашу маслом не испортишь!\n",
      "\n",
      "Выживший \n",
      "  \n",
      "Отряд американцев, занятых сбором пушнины и обходом границ индейских владений, подвергается дерзкому нападению краснокожих – аборигены разыскивают украденную дочь вождя и ни с кем не намерены вести светских бесед. Потеряв несколько человек и лишившись лодки, охотники пробираются по лесу, полностью положившись на чутье своего проводника Хью Гласса, много лет прожившего в местном племени. Однако Гласс попадает в лапы гризли и из помощника превращается в обузу. Начальник отряда оставляет умирающего на попечение сына и двух охотников, которые должны дождаться смерти Гласса и похоронить его как полагается. Но один из оставшихся коварно обманывает спутника, убивает сына Хью, а самого проводника бросает умирать в вырытой для него могиле. Предатель возвращается в лагерь за вознаграждением за выполненный обряд, но он не представляет, какой жизненной силой обладает Гласс. А жажда мести за сына удесятеряет его волю…\n",
      "\n",
      "\n",
      "С приходом в кино титанических многомиллионных фантастических блокбастеров о супергероях и космических путешествиях мы в последние годы как-то стали забывать о том, что кино – это не только развлечение или, наоборот, средство воспитания или влияния на умы, но и прежде всего возможность окунуться в неведомый мир, который нам недоступен. Будь то космос или морские глубины, далекое прошлое или фантастическое будущее, военные действия или будни обыденной профессии – настоящее кино должно уметь захватывать и погружать в пучину своего действия так, чтобы у зрителя не было ни малейшей возможности не то чтобы попкорн в рот закидывать, но и вообще отцепить руки от подлокотников. Да, подобной мощности кино – достаточно редкий гость в кинотеатрах, но, возрадуйтесь, «Выживший» Алехандро Иньярриту войдет в список шедевров, о которых все последующие годы будет принято говорить с придыханием.\n",
      "\n",
      "\n",
      "Не станем придираться к незамысловатому сюжету, в конце концов и Фенимор Купер, и Майн Рид в нашем советском детстве тоже не особенно впечатляли хитросплетением судеб и богатством неожиданных поворотов. В книгах об индейцах главным были характеры – остальное дорисовывало нам наше воображение. В «Выжившем» ваше воображение заменит картинка оскароносного Эммануэля Любецки, а как он умеет снимать, вы должны помнить по «Гравитации» и «Бердмэну». Это умопомрачительные длинные и сверхкрупные планы, это непосредственное участие зрителя в каждой сцене, это действие и созерцание, помноженные на особенную красоту широкоугольного объектива. Если вы будете смотреть сцену атаки индейцев, то почувствуете свист стрел перед своим лицом, если рядом зарычит медведь, то будьте уверены – вы заметите каждую щербинку на его клыках, если досидите до схватки на ножах, то холод стали и ее жадный до крови блеск надолго останутся в ваших глазах. Превосходная работа, конкурентов которой даже сложно придумать.\n",
      "\n",
      "Невозможно себе вообразить и более мощного актерского представления. Даже не станем рассуждать о перспективах Леонардо Ди Каприо на «Оскар»-2016, самому себе он давно все доказал, поклонники актера уверены в его таланте еще со времен подростковых ролей, а те предложения, которые Лео получает сегодня от лучших режиссеров и продюсеров, вряд ли смогут стать еще лучше – Ди Каприо сегодня действительно находится на самой вершине. Его Хью Гласс – человек немногословный, за весь фильм актер произносит всего полтора десятка реплик, но в этом и заключается главный профессиональный вызов. Играть, а не читать текст. Переживать, а не фантазировать. Мстить по-настоящему, физически, а не скатываться в пошлость и мелодраму. Ди Каприо блистательно справляется со всеми выдвинутыми задачами, ни в одной сцене к нему не может быть претензий – он харкает кровью, он ест сырую рыбу, он спит в туше лошади, он убивает, крадет, бежит, и все это на самой высшей ступени достоверности.\n",
      "\n",
      "Ничуть не уступает ведущему актеру и второй план: блистательный Том Харди – животное, выживающее в суровых условиях, мужающий Уилл Пултер – нашедший на свой зад приключения юноша, статный Донал Глисон – благородный и целеустремленный руководитель отряда. И это только самые заметные лица, а ведь вокруг еще масса охотников и индейцев, которые легко прогонят из ваших голов гламурное представление о Диком Западе. Америка «Выжившего» – это чистилище, это дорога осознания и обретения себя, это главное испытание в жизни героев.\n",
      "\n",
      "Иньярриту не был бы собой, если бы не добавил в картину несколько философских зарисовок, которые весьма уместны вкупе с величественной природой, глубоким снегом, высоченными соснами и бескрайним небом. Время от времени природа входит в свои права, и тогда мы видим великолепную сцену с Глассом, стреляющим из палки в лося, или табун бизонов, реальность которых не совсем очевидна, или разрушенный храм, испещренный удивительными рисунками. Такому набору картин позавидует сам Терренс Малик со своими «древами жизни».\n",
      " \n",
      "\n",
      "И все же самое главное в «Выжившем» – это его бесконечное стремление к цели. Пожалуй, именно на этом и сошлись все главные действующие лица проекта: актер, стремящийся к главному призу в своей жизни, режиссер, обретший крылья, дарующие уверенность, оператор, говорящий на каком-то неземном языке. Люди сошлись и сделали большое кино, которым можно гордиться. А что скажет Академия, мы узнаем совсем скоро. «Месть в руках Творца», – выносит свой вердикт Хью Гласс. В тех же руках и итоги многомесячной работы Иньярриту и компании, выжившей в нелегком испытании.\n",
      "С 7 января в кино.\n",
      "\n",
      "Декамерон \n",
      "  \n",
      "В «Декамероне» Пазолини сыграл художника, ученика Джотто, который создает на стене неаполитанского храма огромную фреску и переносит на нее лица людей, встреченных на итальянских дорогах. Довольно смелое кастинговое решение, но оно совершенно справедливо: эта экранизация хрестоматийной книги Джованни Боккаччо и есть фреска удивительной красоты.\n",
      "Ученик Джотто мечется по храму, охваченный вдохновением, – и, кажется, с таким же вдохновением Пазолини носился по ту сторону камеры. Он берет зрителя за руку, отводит в рожденную его фантазией Италию XIV века и начинает внушать: вот именно так все и было. Именно такие одежды – то рваные, то богатые, но неизменно живописные. Именно такая грязь на узеньких улицах. Именно такие залитые солнцем домишки, именно такая горячая пыль на мостовых. И лица, лица – жестокие, отталкивающие, изуродованные, гнилозубые или наоборот – наполненные неземными, почти пугающими красотой и светом.\n",
      "\n",
      "Большая часть актеров – непрофессионалы, и Пазолини, похоже, пришлось перелопатить всю Италию, чтобы набрать себе таких потрясающих исполнителей на роли монахинь, убийц, развратников, простодушных крестьян, юных влюбленных, ловких аферистов и прочих персонажей. А еще там есть Сильвана Мангано, являющаяся художнику в образе Девы Марии: ее лицо находится на экране ровно пять секунд, но забыть его не получится никогда.\n",
      "Наименее интересное в фильме – марксистская диалектика (а существуют целые исследования, как дважды два доказывающие, что это лента про североитальянскую буржуазию, гнобящую бедных южан). Ну конечно, можно и так. И все же «Декамерон» – работа исключительно талантливого поэта и художника, и как любой великий фильм, интересен прежде всего именно этим. \n",
      "\n",
      "\n",
      "Царь Эдип \n",
      " Блестящая инсценировка классического сюжета.\n",
      " \n",
      "Экранизация Софокла о предначертанной судьбе Эдипа: тот по незнанию убил своего отца и женился на собственной матери, а потом, все осознав, придумал себе страшную кару. Италия времен Муссолини. Юный офицер приезжает домой, где его ждет жена с маленьким ребенком. Молодой человек с отчаянной злобой смотрит на сына. Следуют титры: «Ты здесь для того, чтобы занять мое место в этом мире, отбросить меня назад в ничто и украсть у меня все, чем я владею. И первое, что ты у меня похитишь, будет она – женщина, которую я люблю. Ты уже крадешь у меня ее любовь!»\n",
      "Зафиксировав этот гневный взгляд и мысли, Пазолини переносится в древние Фивы, которые не похожи ни на один город, появлявшийся до «Царя Эдипа» на экране и принадлежат скорее пространству снов. Это безжизненные руины в безнадежной, безводной местности. Эдип в исполнении Франко Читти бродит по своему сну, дыша какой-то странной свободой (режиссер освободил его от груза интеллекта). Он убивает встречного просто за то, что он бросил на него высокомерный взгляд. Следом он с той же легкостью уничтожает Сфинкс, парализующий своим присутствием целый город.\n",
      "\n",
      "Получив, как победитель Страха, собственную мать Иокасту и нарожав с ней кучу детей, он начнет постепенно докапываться до правды, игнорируя все ее утешения: «Ну зачем тебе знать, кто ты? Почему тебя так пугает мысль, что ты делишь ложе с матерью? Все мальчики видят во снах такое». Набоков однажды сказал, что драматургические достижения Шекспира отступают далеко на второй план в сравнении с его языковой тканью. Что-то подобное можно сказать и про Пазолини, одного из подлинных поэтов кинематографа.\n",
      "Он не столько «интерпретировал» миф об Эдипе, сколько перебрал его и пересоздал на экране, словно спектакль, зачастую лишенный логики, но завораживающий и полный гипнотических образов. Потом Пазолини создаст еще несколько сновидческих фильмов о прошлом, экранизировав «Медею», «Декамерона», «Кентерберийские рассказы» и сказки 1001 ночи. \n",
      "\n",
      "\n",
      "Джеки \n",
      "  \n",
      "Ноябрь 1963 года. Спустя неделю после гибели Джона Кеннеди в его загородный дом в Массачусетсе приезжает публицист журнала Life, чтобы встретиться с бывшей первой леди Жаклин Кеннеди. Интервью не обещает быть простым, вдова настроена критично ко всему происходящему вокруг нее и покойного мужа в эти несколько дней, но репортеру удается пробиться сквозь толщу скорби к той Джеки, в которую еще неделю назад были влюблены все американцы. С подачи журналиста Жаклин вспоминает о том, чем ее пленил будущий муж, о том, как проходил их переезд в Белый дом, о том, сколько светлых мгновений ей довелось пережить до фатальных выстрелов в Далласе. Смерть супруга надломила женщину, но не превратила в «живой труп», Джеки изменилась, как изменился мир после смерти 35-го Президента США, она стала тверже и сильней…\n",
      "\n",
      "Если и есть в американской истории прошлого века события, окутанные таким же туманом мистики, фальсификаций, домыслов и расследований самого разного уровня, как смерть президента Джона Кеннеди, то их совсем немного – Розуэльский инцидент да пилотируемые полеты на Луну, пожалуй. Но ни о чем подобном не снято такого количества фильмов, не написано столько книг, не проведено такого количества исследований, как о выстрелах в Далласе. Однако четкой картины произошедшего нет до сих пор, простор для трактовок предшествующих и последующих событий велик, как велик соблазн заново перелопачивать известные факты, выискивая крупицы новых сведений об участниках печальных событий. Впрочем, оставим расследования другим, сегодняшний кинематограф предоставляет нам уникальную возможность оказаться на месте событий, но остаться за пределами заговоров и интриг, познать глубину скорби, но избежать морализаторства, прикоснуться к истории, но остаться человеком.\n",
      "\n",
      "\n",
      "Человечность – главное достоинство новой картины режиссера Пабло Ларраина «Джеки». В ней нет ни слова о расследовании убийства, в ней на десятый план вынесены мысли о заговоре и лишь крохотный эпизод уделен Ли Харви Освальду. Там, где другие ищут сенсацию, «Джеки» молчаливо прерывает бег ради сцены с Жаклин, оставшейся наедине с зеркалом. Там, где герои других фильмов об убийстве президента бегут, стреляют, кричат, героиня Натали Портман собирает вещи, чтобы выехать из Белого дома. Там, где героические юристы из других лент до хрипоты спорят о причинах и последствиях, вдова из новой ленты тихо, но твердо заявляет, что она не боится угроз и пойдет вместе с детьми на похороны через весь Вашингтон.\n",
      "\n",
      "\n",
      "Давно привыкшего к схемам зрителя «Джеки» сшибает с ног, давно знакомые исторические персонажи предстают здесь в ином свете, убийство преломляет мир вокруг них, и каждому приходится по-своему решать навалившийся багаж вопросов. Роберт Кеннеди пытается удержать распадающийся Камелот, Линдон Джонсон приходит в себя от свалившегося на него президентства, а Жаклин… Жаклин вслепую, на ощупь ищет свое место в новом мире. Место, которое не пожелаешь и врагу, – молодая вдова, на которую нацелены миллионы фотокамер.\n",
      "\n",
      "К вниманию, впрочем, Жаклин не привыкать. Портман невероятно тонко разыграла сразу несколько ипостасей Джеки. Вот она скромная новая хозяйка Белого дома, ведет репортаж-экскурсию по святая святых американских президентов. Вот любимица публики, которой толпа рукоплещет ничуть не меньше, чем Джону. Вот она огорошенная трагедией маленькая девочка, вытирающая капли крови с лица через полчаса после злополучной поездки по улице Вязов. Вот она жесткая и мрачная, не выпускающая из рук сигарету собеседница журналиста главного мирового издания. На эту женщину свалилось слишком многое, сыграть все это невероятно трудно, а потому номинация на «Оскар» Портман заслужена на все сто процентов.\n",
      "\n",
      "Совсем недавно зрители и критики обсуждали поведение героя Джейка Джилленхола в «Разрушении» Жан-Марка Валле, мол, у человека трагедия, а он с торговым автоматом возится. Вот вам другой пример скорби – в «Джеки» Жаклин Кеннеди изо всех своих женских сил пытается показать, что мир не сможет ее сломать, что она встанет рядом с гробом мужа и будет с ним до конца, что она отмахнется от ярости и желания наказать за свое горе всех и вся, она останется Кеннеди, человеком дела, как и ее муж. В этом тоже есть странная красота, удивительное свойство природы – хранить верность идеалам даже после их жестокого попрания.\n",
      " \n",
      "\n",
      "Чтобы понять, насколько удивительным получился фильм Ларраина, достаточно знать всего один факт. В 2010 году сценарий к «Джеки» был отправлен в знаменитый «Черный список» многообещающих, но нереализованных проектов. В 2016-м на кинофестивале в Венеции тот же сценарий был отмечен специальным призом: вот что значит – материал попал в правильные руки. «Джеки» – не некролог и не детектив, не фантазия со стреляющими супергероями и не триллер с попытками остановить Освальда. Фильм Пабло Ларраина – гимн сильной красивой женщине, которую обстоятельства вынуждают обнажить эмоции, но от этого восхищаться ею хочется еще больше.\n",
      "С 23 февраля в кино.\n",
      "\n",
      "Ирландец \n",
      "  \n",
      "Фрэнк Ширан (Роберт Де Ниро) возвращается со Второй мировой войны, устраивается работать водителем грузовика мясной компании, но понимает, что качество жизни с такой профессией повысить довольно сложно. Однажды он встречает босса преступной семьи Рассела Буфалино (Джо Пеши), оказывает его другу небольшую услугу, промышляя мелким мошенничеством и теряя при этом работу. Но благодаря новым связям Фрэнк постепенно входит в круг доверия местных мафиози, где его называют Ирландцем и дают уже более серьезные поручения, связанные с выбиванием денег из должников и устранением неугодных мафии людей. Постепенно Ирландец обзаводится безупречной репутацией, и его услуги рекомендуют Джимми Хоффе – властному американскому профсоюзному лидеру, который не любит играть по чьим-то правилам. Это знакомство становится началом крепкой дружбы, пока Хоффа сам не оказывается проблемой, которую нужно устранить.\n",
      "\n",
      "«Ирландец», бесспорно, лучший фильм Скорсезе со времен «Славных парней» (на самом деле еще круче), настоящая квинтэссенция мастерства одного из главных режиссеров нашего поколения. Безупречный, даже образцовый, фильм, который будут задавать на каникулы студентам киношкол ближайшие лет сто. Продакшен занял 108 дней, во время которых отсняли 309 сцен на 170 локациях, все это уместилось в историю длиной в три с половиной часа, из которых ни минуты не выкинешь. Сюжет довольно ровный, без адреналиновых скачков (как минимум первые два акта точно), протекает плавно и размеренно, но история захватывает внимание с такой силой, что про время ты напрочь забываешь.\n",
      "\n",
      "В основу сюжета фильма легла книга I Heard You Paint Houses («Я слышал, ты красишь дома») Чарльза Брандта, в которой Фрэнк «Ирландец» Ширан признался в совершенных им убийствах. Стивен Зеллиан («Список Шиндлера», «Банды Нью-Йорка») взялся за адаптацию сценария еще 10 лет назад, но проект то и дело ставили на паузу из-за проблем с финансированием. Нужно было благородно омолодить тройку главных героев, а это даже не усы Супермену зафотошопить, работа предстояла колоссальная. Хорошо, что Netflix оказались достаточно отчаянными для того, чтобы решиться на такой недешевый эксперимент. И ведь вброшенные в ILM ведра с деньгами вполне себя оправдали, отреставрированные Де Ниро, Пеши и Пачино смотрятся на экране вполне естественно и даже ужаса не навевают, как многие опасались после просмотра трейлера.\n",
      "Имя Хаффы часто фигурирует в конспирологических теориях, касающихся убийства президента Кеннеди, Джимми ненавидел всю их семью, а особенно Роберта Кеннеди, юриста, посмевшего неоднократно перейти ему дорогу. Убийство Кеннеди – единственная тема, которую Фрэнк Ширан обошел в книге стороной, но признался в том, что за день до преступления доставил оружие мафии, которая вроде как и организовала убийство. Скорсезе очень осторожно обошел все острые углы, связанные с этим вопросом. В 60-е люди исчезали как по взмаху волшебной палочки (или не такого уж и волшебного 45-го калибра), большинство убийств так и остались нераскрытыми. Скорсезе, понимая, что на нашу жизнь уже вряд ли как-то повлияет раскрытие этих преступлений, делает упор не на документальное восстановление событий, а на исследование морального конфликта, который переживал Фрэнк. Как не злой по своей природе человек продолжает жить с грузом вины за содеянное, и каким образом каждый поступок отражается на его жизни и рвет связь с родными. То же самое и с Джимми Хаффой, безграничная власть, которой упивался профсоюзный лидер, на наших глазах сужается до размеров кулака и бьет по его же лицу. Всю жизнь Хаффа считал, что он выше закона, но случается как в песне бессмертных The Clash I fought the law and the law won. За немаленький хронометраж картины мы проживаем чужую жизнь, вместе с сомнениями, угрызениями совести и необратимостью последствий.\n",
      "\n",
      "Скорсезе и Де Ниро хотели снова поработать вместе с 1995 года, уже после выхода «Казино», они настойчиво сверялись графиками друг с другом, но судьба отодвигала процесс реюниона до последнего. Вообще хороший год выдался для Де Ниро, череду неудачных ролей, подмочивших репутацию актера, прервало камео в «Джокере», а «Ирландец» так вообще, можно сказать, замолил все грехи (даже «Дедушку легкого поведения»). Талант Боба с годами не угас, просто проекты попадались сомнительные в последнее время. В «Ирландце» Де Ниро превосходит сам себя, выдавая перформанс, которого мы ждали почти 30 лет, доказывая, что он еще может повалить зрителя на лопатки (если захочет). Пачино тоже пребывает в своей лучшей форме, все так же сценарии полностью не читает, зато расхаживает по съемочной площадке с наушниками, из которых раздается запись голоса Джимми Хаффы (пока все думают, что актер просто музыку слушает). Такой способ срастись со своим персонажем у Пачино работает безотказно, в последний раз его напористые монологи так будоражили кровь только в «Адвокате дьявола». Что касается Джо Пеши – спасибо, что живой, появляется на большом экране хоть редко, но очень метко.\n",
      " \n",
      "\n",
      "«Ирландец» не просто оправдал возложенные на проект надежды, в какой-то степени фильм их даже превзошел. Режиссер вернулся к тому классическому стилю, который сам же и изобрел, и, кажется, никто, кроме Скорсезе и его команды по спасению мира, не смог бы настолько убедительно донести эту сложную историю во всей ее полноте до зрителя.\n",
      "\n",
      "Побудь в моей шкуре \n",
      "  \n",
      "Темноволосая девушка в вареных джинсах разъезжает по северной Британии на белом фургоне и высасывает соки из мужчин, которые встречаются ей по дороге, приглашая в гости на чашечку чаю. Очевидно, что дама – инопланетянка, однако откуда она прилетела и с какой целью, не уточняется.\n",
      "\n",
      "\n",
      "Джонатан Глейзер снял за пятнадцать лет всего три полнометражных фильма и некоторое количество музыкальных клипов. Но есть стойкая уверенность, что когда-нибудь именно по его работам будут изучать кино начала XXI века, неизбежно прибавляя что-то вроде: «непонятый современниками», «опередивший время» и т.д.\n",
      "\n",
      "\n",
      "Хотя сегодня многим покажется, что новая лента Глейзера родом как раз из прошлого: соткана из мотивов кислотной фантастики конца 60-х, из тревожного звукового фона Кубрика и дичи Ходоровского. Как описать страх и зуд, который поселяется во всем теле под невыносимые звуки саундтрека, пока наблюдаешь за рождением главной героини, ее вылуплением из тьмы на свет? Это ведь действительно жутко.\n",
      " \n",
      "\n",
      "Глейзер плюет на конвенции традиционного кино (можем ли мы вообще называть кино большую часть того, что видим в кинотеатрах?), но не нарушает его границы, как посчитали многие рецензенты, назвавшие «Побудь в моей шкуре» явлением из мира совриска. Он их раздвигает. Сама главная героиня, обольщающая встречных мужчин и утягивающая их за собой в черную бездну, – прямолинейное олицетворение кинематографической мощи в мире, который пренебрег Кино, превратив его в рутинную визуальную кашу. Кино – это большой Другой, которого Джонатан Глейзер десантирует на Землю. Это неземное существо блуждает по унылым северным ландшафтам (Алан Кларк встречает «Секретные материалы»), но с каждым новым контактом инопланетянка становится все более земной, уязвимой. Заражается гуманизмом. Зудящий эмбиэнтом мир-улей поглощает ее, и ближе к финалу «Побудь в моей шкуре» оказывается фильмом об извечной мигрантской тоске. Северной Англии не важно, откуда ты – из Чехии или с Марса. Мир каждого адаптирует под себя, изменяет, убивает и поглощает.\n",
      "\n",
      "Нет \n",
      "  \n",
      "Пока весь мир наблюдает за чилийским репрессивным режимом, диктатор Аугусто Пиночет объявляет референдум, на котором народ выскажется \"за\" или \"против\" продления его полномочий. Организаторы кампании против Пиночета под названием \"Нет\" получают для агитации 15 минут ночного телеэфира в день. Рекламщика из Сантьяго Рене Сааведру (Берналь) нанимают, чтобы он подготовил агитационный ролик.\n",
      "\n",
      "Последняя часть кинотрилогии Пабло Ларраина о диктатуре Пиночета заканчивается исследованием махинаций политического маркетинга. Используя видеозапись формата U-matic и кадры хроники, Ларраин переносит нас в 1988 год, когда после референдума впервые за 17 лет правительство в Чили пришло к власти путем демократических выборов. Рене Сааведра (Гаэль Гарсия Берналь) – безумец от рекламы – возглавляет кампанию \"Нет\", в то время как его босс в агентстве (елейный до невозможности Альфредо Кастро) консультирует команду \"Да\".\t\n",
      "\n",
      "Победа будет за теми, кто прав, но этот захватывающий фильм рассказывает историю не идей, а людей.\n",
      "\n",
      "Любовь \n",
      "  \n",
      "Анна и Жорж, преподаватели музыки на пенсии, ведут мирную размеренную жизнь в своей просторной парижской квартире. Однажды Анна, плохо себя почувствовав, обращается к врачу. Тот назначает операцию, результатом которой становится частичный паралич. Инсульт, потом второй: трагический исход неотвратим. Жорж решает не сдавать жену в больницу или дом престарелых, взяв всю заботу о ней на себя.\n",
      "\n",
      "После сложнейшей структуры «Белой ленты» – масштабного киноромана Михаэля Ханеке, принесшего ему \"Золотую пальмовую ветвь\" в Каннах, – обманчивая простота \"Любви\" обескураживает. Почти все действие замкнуто в пределах одной квартиры: разве что в первой сцене героям, еще счастливым и не чующим беды, удастся выбраться на фортепианный концерт одного из талантливых учеников, да в жутких снах Жорж сможет выглянуть за дверь, на лестничную клетку, где его подстерегает маленький домашний апокалипсис. Единство времени, спрессовавшегося в одни нескончаемые сутки. Единство действия, которое можно описать одним словом: умирание. Единство места, которое рискнут нарушить лишь дочь с зятем, заехавшие навестить стариков, да голубь, который залетит в окно вестником скорого финала. Потом двери будут заколочены намертво, и полицейским придется их ломать.\n",
      "\n",
      "Ханеке достиг высшей простоты – того эталона, который слышится ему в музыке любимого Шуберта, звучащей в фильме. Ушли шоковые эффекты, исчезла постмодернистская игра с медийным контекстом, закончились возмутительно резкие монтажные склейки. Видоизменился даже главный прием, эллиптическая структура повествования, оставляющая публике смысловые лакуны (\"Я строю трамплин, а прыжок совершает зритель\", – любит повторять Ханеке). Что есть вся жизнь, как не лакуна, которую человек накануне смерти истерически пытается наполнить воспоминаниями – слабеющими, уходящими, будто песок, сквозь пальцы? Мы вглядываемся в картины на стенах квартиры – сначала на них можно разглядеть человеческие фигуры, потом они растворяются в пейзаже.\t\n",
      "\n",
      "Так же Анна в последнем проблеске сознания всматривается в фотографии из семейного альбома, пытаясь воссоздать из фрагментов саму себя, перевоплотив смерть в бессмертие. Человеку, увы, такое не под силу, а художнику – вполне: \"Любовь\" – фильм, который будет жить долго.\n",
      "\n",
      "Мастер \n",
      "  \n",
      "Комиссованный моряк Фредди устраивается на гражданке фотографом, мается от безделья, пьет и, в конец концов, встречает на своем пути полнеющего гуру – писателя Ланкастера Додда. Тот влюбляется в экстремальные коктейли Фредди и посвящает его в подробности своего новейшего учения о Причине. Постепенно моряк входит в обширное семейство философа.\n",
      "\n",
      "\r\n",
      "\tПоследний фильм снимался на 70 мм в 1996 году – Кеннет Брана ставил \"Гамлета\".\r\n",
      "\tТом Круз о фильме ничего плохого не сказал, хорошего тоже.\n",
      "Хоакин Феникс отмечает \"Мастером\" начало второго витка актерской карьеры. Еще два года назад он обещал остаться рэпером.\n",
      "\"Мастер\" Пола Томаса Андерсона попал почти во все критические хит-парады 2012 года, и это, конечно, не случайно. Он солиден, как шерстяной костюм, снят на семидесятимиллиметровую пленку (увидеть его в таком варианте в России будет едва ли возможно), поигрывает мускулами отменных актерских работ, завораживает деталями 40-50-х. Фильм Андерсона, после «Нефти», видимо, жаждущего глобальных обобщений, создан для пристального рассматривания. Каждым своим проявлением он намекает: перед вами, дорогие зрители, не просто история о том, как человек встретил человека, не просто ретродрама с подтяжками и хорошо вычищенными ботинкам, нет – это анализ человеческой породы, фундаментальное высказывание о столкновении человека и вышних сфер и неискоренимом недопонимании, которое рождается в ходе этого контакта. Кого-то от подобного хода мыслей может отвлечь тот факт, что \"Мастер\" – это в некотором роде кино про саентологов и изобретателя дианетики Рона Хаббарда. Названия книг ернически передернуты, подробности упразднены, но физиогномическое сходство Филиппа Сеймура Хоффмана, а также тот факт, что Андерсон первым делом показал свой фильм Тому Крузу, делают свое дело. Никто и слышать ничего не хочет – одни саентологи на уме. Меж тем\"Мастер\", очевидно, задуман для более универсального прочтения. Как синие море и небо, желтые солнце и пустыня, в нем сталкиваются не герои даже, а стихии. Это вечная американская история о пророках и озарениях, об адептах и гуру. \"Мастер\" – это не только саентологи и Хаббард, но и мормоны с их пророком Смитом, отрывшим свою священную книгу на указанном ангелом холме, это Семья Чарльза Мэнсона, вверившая себя своему патриарху, это Фрейд, переехавший в США, чтобы собрать там самую многочисленную армию своих сторонников, это Дейл Карнеги, сформулировавший основы маркетинговой науки.\n",
      "\n",
      "\"Мастер\", сознательно апеллирующий к \"новоголливудской\" поэтике (в первых военно-морских сценах – указание на Теренса Малика в качестве первоисточника, а в монтаже – фундаментальная поэзия Майкла Чимино), пропитан американским духом и, как любой большой американский фильм, ведет неравный бой с американской мечтой. Герой Феникса – идеальный американец, гражданин континента, позабывшего европейские комплексы. Перенесший войну, агрессивный, склонный к психоделическим алкогольным откровениям, но богоизбранный, свободный, чистый от смыслов и иллюзий. Посмотрите, как он уедет от всех своих обязательств и тревог на мотоцикле в туманную даль – разве способен на такое несвободный человек? Ланкастер Додд привечает его интуитивно, иррационально. Как будто даже обреченно. Что это: любовь, судьба, вера? И почему к нему так льнет сам Фредди? На этот вопрос, увы, лучше всего ответит не туманный по части выводов фильм, но надпись на долларовых банкнотах \"In God We Trust\". Там, где европеец опирается на культуру, а азиат укореняется в тысячелетний быт, американец требует бога, немедленного, доступного, деятельного.\t\n",
      "\n",
      "Не того надмирного бога, который просто указал бы направление, в котором нужно идти, а того, с которого можно будет спросить в случае чего. \"Master\" – это ведь по-английски еще и \"хозяин\". А другим веры нет.\n",
      "\n",
      "Бог существует, её имя – Петруния \n",
      "  \n",
      "Петрунии 32 года, у нее высшее образование в области истории, но в Македонии с таким дипломом можно найти работу разве что в сфере обслуживания. Мать устраивает девушку на собеседование к знакомому управляющему швейной фабрикой. Но, на взгляд работодателя, Петруния для должности секретарши старовата… и не слишком привлекательна. Возвращаясь домой, она застает религиозную церемонию, во время которой священник кидает в реку крест, а мужчине, поймавшему его, по поверью весь год будет сопутствовать удача (да, это почти как поймать свадебный букет). Петруния подумала, что удача ей бы сейчас пригодилась, тоже прыгнула в реку за реликвией и, опередив толпу разбушевавшихся мужчин, вынырнула с крестом. Ну, и началось. По неписаным правилам церкви в церемонии могут участвовать только мужчины, поэтому общество потребовало крест назад, даже полиция к делу подключилась. Но Петруния не собирается так просто отдавать то, что теперь принадлежит ей по праву. \n",
      "\n",
      "Пятый полнометражный фильм режиссера из Македонии Теоны Стругар Митевской наконец-то попал в основной конкурс Берлинале, до этого дня ее работы демонстрировались только в параллельных секциях. В своей пятой ленте Митевска деликатно сковырнула воспаленную мозоль общественности, честно заговорив о роли женщины в патриархальном обществе.\n",
      "\n",
      "Надо, наверное, очень плотно завязать повязку на глазах и спрятать голову в песок, чтобы не узнать в происходящем на экране ситуацию, в которой сейчас находится добрая половина мира (к сожалению, для России это вообще автопортрет). Митевска своим фильмом очень нежно подрывает традиционные ценности, на которых выросло не одно поколение, наглядно показывая, что мы сейчас являемся заложниками собственных стереотипов и условностей. Журналистка Славика в сюжете служит голосом коллективного сознания. Пытаясь докопаться до корня проблемы, она ведет собственное расследование, но чем дальше оно заходит, тем абсурднее вся эта ситуация выглядит со стороны.\n",
      "\n",
      "Митевска решила бороться с патриархатом головного мозга самым правильным способом: через религиозные традиции, не прописанные ни в Библии, ни в Конституции, а просто с течением времени намертво вбитые в голову народа. Когда сложившаяся ситуация ставит эти убеждения под вопрос, в ход со стороны прихожан идут угрозы, оскорбления и рукоприкладство. В этот момент Митевской удается создать лучшую карикатуру на токсичную маскулинность, когда-либо попадавшую на большой экран. Причем ее целью не является высмеивание этих самых традиций или людей, которые им следуют, а честный взгляд на извечный конфликт поверье vs логика. Митевска не скатывается в морализаторство и не превозносит героиню над остальными, относясь с уважением ко взглядам и бэкграунду каждого персонажа. Такой подход открывает настоящий диалог со зрителем вместо привычного монолога или даже отпугивающего манифеста на важную социальную тему.\n",
      "\n",
      "Петруния в начале фильма со всех сторон подвергается оценочной критике: мама просит скрывать возраст и брезгует смотреть на дочь, когда та переодевается, подруга считает, что главной героине надо сменить имя на более привлекательное, например Пипи или Петра. Потенциальный работодатель вообще в открытую говорит о том, что она непривлекательна как женщина. Хоть героиня и находится под вечным давлением и довольно тяжело переносит подобную критику, она сохраняет самоидентификацию и четкую жизненную позицию, что помогает ей выстоять в нелегкой борьбе за собственные права.\n",
      " \n",
      "\n",
      "Для Зорицы Нушевой роль Петрунии стала актерским дебютом, во что верится с трудом, настолько она естественно и уверенно держится в кадре. Теоне Митевской и Эльме Татарагич можно было дать приз за сценарий и режиссуру сразу после премьеры, не дожидаясь конца фестиваля. У них получилось обернуть острую социальную тему в остроумный и динамичный сюжет, максимально деликатно донеся до зрителя созидательный месседж. В итоге мы получили очень человечную и остроумную драму, служащую зеркалом нам всем. Отражение, возможно, понравится не каждому, но ведь мир за один день не изменишь. Но раз такие фильмы выходят, значит, мы на правильном пути.\n",
      "\n",
      "Пылающий \n",
      "  \n",
      "Сын фермера Чон-су (Ю А-ин) живет в большом городе. У него есть университетский диплом по литературе, но парень зарабатывает как поденщик и лишь мечтает о том, чтобы стать писателем. Однажды Чон-су натыкается на Хэ-ми (Чон Джон-со), свою бывшую одноклассницу и соседку по деревне. Девушка сделала пластическую операцию, и она работает третьесортной моделью. Хэ-ми радуется встрече, проводит с Чон-су ночь и просит парня присмотреть за ее котом, в то время как она ненадолго съездит в Африку. Чон-су с готовностью соглашается – и он сильно расстраивается, когда Хэ-ми возвращается в Корею с новым ухажером, состоятельным мажором Беном (Стивен Ян).\n",
      "\n",
      "\n",
      "Новая картина ведущего южнокорейского артхаусного постановщика Ли Чан-дона начинается как романтическая история, однако романтики в ней ни на грош. Это вполне естественно, потому что «Пылающий» – кино не о любви, а о прямо противоположных чувствах. Фрустрация, злоба, ненависть, зависть, презрение, ущемленная мужественность – вот эмоции, которые, по мнению режиссера, обуревают нынешнюю молодежь Южной Кореи.\n",
      "\n",
      "\n",
      "Капитализм в Корее шагает широко и многих оставляет позади. Отец Чон-су попадает в тюрьму за нападение на чиновника, и парню приходится вернуться в родную деревню, где его ждет старый дом, ненужная скотина и обшарпанный грузовичок, а еще наверняка неоплатные долги. Хэ-ми тоже живет в кредит (пластика стоит дорого), и ее единственный шанс преуспеть – окрутить богатого самца вроде Бена, эталонного «сына маминой подруги». Но тот слишком красив и самовлюблен, чтобы надолго связаться с простушкой Хэ-ми. Вполне очевидно, что для него девушка – лишь очередная игрушка, которую он поматросит и бросит. Чон-су, который после ночи неуклюжего секса с Хэ-ми оказывается в глубокой френдзоне, бесится от того, что таким, как Бен, в жизни достается все, а такие, как он, получают лишь удары судьбы. Как парень вежливый и замкнутый, Чон-су копит ярость в себе, и она не может не вырваться, когда герой доходит до точки, а картина превращается из драмы в детектив.\n",
      "\n",
      "Ждать взрыва, впрочем, придется долго. «Пылающий» идет два с половиной часа, и его повествование развивается медленно и обстоятельно, с обилием деталей и минимумом событий. Причем если обычно кино медленно запрягает, но потом разгоняется, то лента Ли Чан-дона сильнее всего испытывает зрительское терпение во второй половине сюжета. Нужно обладать недюжинным упорством, чтобы досидеть до концовки. Эта проблема усугубляется тем, что Чон-су – не притягательный и не интересный главный герой, и наблюдение за ним удовольствия не приносит. Хотя картина выстроена так, что зрители прекрасно понимают Чон-су, даже если ему не сочувствуют.\n",
      " \n",
      "\n",
      "Для привлечения высоколобой публики по «Пылающему» разбросаны поэтичные фрагменты и визуальные метафоры, а повествование пронизано любимым на Дальнем Востоке ощущением неопределенности и неоднозначности. Однако в основе своей это очень простая и банальная психологическая зарисовка, и нужно быть настоящим фанатом корейского артхауса, чтобы разглядеть в «Пылающем» выдающееся полотно. Так что ориентируйтесь не на то, что лента получила два приза в Каннах, а на свои собственные вкусы.\n",
      "С 5 июля в кино.\n",
      "\n",
      "Кролик Джоджо \n",
      "  \n",
      "Неуклюжий мальчик Джоджо (Роман Гриффин Дэвис) живёт в проигрывающем войну Третьем рейхе, слепо любит свою страну и фюрера и мечтает однажды пойти воевать за светлое нацистское будущее. Его мать (Скарлетт Йоханссон) к политике настроена куда скептичнее, да и глава местных гитлерюгендов (Сэм Рокуэлл), кажется, давно разочаровался в партии. Больше всего Джоджо хочет поймать еврея и привести его лично Адольфу, с чьей воображаемой версией (Тайка Вайтити) мальчик общается в самых сложных жизненных ситуациях. И вскоре ему выпадает шанс это сделать — на втором этаже собственного дома он находит спрятанную еврейскую девочку (Томасин МакКензи). Вот только если он расскажет об этом, за его мамой наверняка придёт гестапо, да и девочка выглядит на удивление нормально — ни тебе рогов на голове, ни ядовитых клыков. Видимо, Джоджо придётся серьёзно пересмотреть свои личные взгляды и ориентиры.\n",
      "\n",
      "«Кролик Джоджо» — вероятно, самый неординарный «оскаровец» этого года и единственный из номинантов, не считая продукции Netflix, кто так и не добрался до отечественного проката. Понятно, разумеется, почему: Disney (которые теперь владеют Fox Searchlight, а значит, и «Кроликом») вряд ли бы захотели связываться с какими-нибудь политическими активистами в стране, которая спустя 75 лет после победоносной войны вдруг начала дико бояться свастик (хотя уже и Германия перестала). Теперь даже это слово писать страшно — того и гляди, постучатся в дверь и попросят на выход, — не то что показывать нацистскую символику на широком экране кинотеатра. Уж тем более не в фильме, где Гитлер, пускай и воображаемый, — не демоническое зло, а забавный шут с лицом новозеландского комика Тайки Вайтити.\n",
      "\n",
      "Ну и слава богу — если уж даже на Западе многие зрители (да и критики тоже) не могли спокойно смотреть фильм, жалуясь на его беззаботное отношение к величайшей трагедии XX века, страшно представить, что было бы в России, куда более ревностно относящейся к наследию Великой Отечественной. Другая, впрочем, популярная позиция для критики — отчасти подхваченная и нашей прессой — чуть ли не диаметрально противоположная: мол, а зачем нам слушать очередное моралите на тему nazi bad от человека, который от этой темы максимально далёк (и временно́, и географически)? Но, на мой взгляд — а, уж простите, о «Кролике Джоджо» мне придётся писать от первого лица, настолько сильно его восприятие зависит от личного опыта, — именно эта максимально отстранённая позиция честнее любого напыщенного героического пафоса или смурных попыток оголить нерв послевоенной травмы. По сути, отношение Вайтити к войне очень близко отношению современного поколения молодых и младших, поколения людей, кто в большинстве своём уже не застал живых воевавших родственников и слышал о Великой Отечественной лишь по пересказам чужих историй (коими, конечно, являются и фильмы). Для нас война — не столько близкая и ужасающая реальность, как это было для Чаплина в 1940-м или для Мела Брукса в 67-м. А абстрактное семантическое поле из символов, очищенных моралей и дистиллированных смыслов, переработанное, продискутированное и переосмысленное столько раз, что саму «реальность» в нём найти очень сложно.\n",
      "\n",
      "Вот Вайтити и не пытается. Да и странно было бы, если б пытался — зачем ему, маори (пускай и с еврейскими корнями) из Новой Зеландии, лезть в чужую историю и делать вид, что она на самом деле его как-либо задевает? Для него нацисты — чисто киношное воплощение зла, а Третий рейх — очевидно нереальное пространство из детских фантазий и ночных страшилок. Такое пряничное государство, населённое обречёнными взрослыми, которые от безнадёги ведут себя как дети (персонаж Рокуэлла, как и герой Вайтити из «Мальчика», — невыразимо трагичный персонаж, даже если мы об этом не задумываемся). И одержимыми детьми, которые в принципе подвержены влиянию броских символов и простых ударных слоганов.\n",
      "\n",
      "Вайтити вообще гениально фиксирует детский взгляд на мир — как он это делал и в «Мальчике», и в «Охоте на дикарей», — вероятно, потому, что отчасти и сам от него не избавился (по крайней мере, это бы объяснило, почему он так круто работает с детьми-актёрами). Все его по-настоящему авторские фильмы — то есть вычитая «Реальных упырей», снятых совместно с Джемейном Клементом, и третьего «Тора» — происходят в не очень дружелюбном пространстве и работают с очень трагичными обстоятельствами, но каждый раз ловко замыливают драму этой ребяческой непосредственностью. Рисуют мир как бесконечную игровую площадку, из которой героям раз за разом приходится вырастать, чтобы от оголтелого эскапизма прийти к смирению с окружающими ужасами. В каком-то смысле «Кролик Джоджо» и правда напоминает «Жизнь прекрасна» Роберто Бениньи, с которым его часто сравнивают, но Бениньи всё же рассказывал историю с позиции взрослого и его эскапизм был, по сути, напускным и искусственным (таким и должен был быть, это не претензия). «Кролик Джоджо» же снят так, как если бы персонажа отца в «Жизнь прекрасна» вовсе не существовало — режиссёрская оптика здесь намертво привязана к самому Джоджо. И так как Вайтити действительно понимает детей, а не только притворяется, что понимает, в этой оптике нет места мрачным палитрам и всяческим манипуляциям: ведь дети гораздо легче ко всему привыкают, им проще отвлечься и уйти в солнечный мир фантазий, даже если вокруг происходит кромешный мрак.\n",
      "\n",
      "Отсюда вырастает ещё одна специфика поэтики Вайтити, которую в случае с «Кроликом Джоджо» ему часто вменяют в вину. Его тональная гибкость, позволяющая фильму по щелчку пальца переходить от идиотского слэпстика к слезовышибающей трагедии и обратно. В чём-то это напоминает подход Пон Джун-хо или Мартина МакДоны — других режиссёров-сценаристов, которых часто хвалят за их неконвенциональный подход к балансу между комедией и драмой. Но только у них — даром что оба величайшие драматурги — все жанровые транзиты скрупулёзно просчитаны и аккуратно исполнены, даже если авторы об этом и не задумываются. Они, если выразить это через характеристики из DnD, однозначное «законопослушное добро». Вайтити же — чистый хаос, человек, который, кажется, мешает смешное и грустное безо всякой системы. Но эта бессистемность опять же идеально ложится на его метод, инфантильный и в то же время безысходно взрослеющий взгляд человека, у которого вся психология — на поверхности, у которого ещё не успели сформироваться сложные понятия о плохом и хорошем, смешном и грустном, безвкусном и изящном. И потому всё свалено в кучу, всё сосуществует и пересекается в самых невообразимых пропорциях. Лучше всего его подход выражает одна сцена из всё того же «Мальчика» — фильма, который смотрело явно меньше людей, чем он того заслуживает. Там прямо посреди комичного и нелепого диалога между двумя детьми внезапно, безо всякой подготовки, возникает пробивающий флешбэк, где над их окровавленной матерью горько плачет непутёвый отец. После чего флешбэк исчезает, как ни в чём не бывало фильм возвращается к диалогу, как будто и не было этой резкой вспышки, как будто зритель сейчас не сидит, схватившись за сердце и не понимая, за что с ним так поступили.\n",
      "\n",
      "«Мальчик», к слову, возвращает нас к ещё одной любопытной стороне «Кролика Джоджо». Дело в том, что — несмотря на очевидную дистанцию автора по отношению к теме и на явную абстрактность самого сюжета, звучащего как идея для скетча с SNL, — этот фильм очень… личный. Вайтити перебрался из современной Новой Зеландии в военную Германию, но с собой он прихватил все психологические триггеры и рефрены, что тянутся из одной его работы к другой. Вновь нелепая, инфантильная и, по сути, отсутствующая фигура отца — за которого тут как раз отдувается воображаемый Гитлер. Вновь страх перед потерей матери — а ведь что в «Охоте на дикарей», что в «Мальчике» именно погибшая мать запускала драматический конфликт (здесь не совсем так, но пересечения, скажем, есть).\n",
      " \n",
      "\n",
      "И даже выбор Третьего рейха как места действия интересно объясняется биографией режиссёра. Вайтити однажды рассказывал, что в детстве очень любил рисовать повсюду свастики — но каждый раз пугался своего творчества и тут же дорисовывал знак до окна. А окно — чтобы не вызывать лишних подозрений — до дома (разумеется, поэтому все тетради Вайтити были изрисованы домами). Так что когда героиня Томасин МакКензи обращается к герою, говоря, что он «не нацист, а просто мальчик, которому нравятся свастики», это тяжело не считать как авторскую самотерапию. «Кролик Джоджо» — попытка режиссёра осмыслить страх не перед нацизмом как таковым, а перед его символами, давно потерявшими первоначальный смысл. И по Вайтити выходит, что бояться не стоит — ведь из любой свастики всегда можно сделать миленький домик, а внутреннего Гитлера с пинка послать нахрен.\n",
      "\n",
      "Нелюбовь \n",
      "  \n",
      "Борис и Евгения после двенадцати лет брака не могут друг друга выносить – они и раньше не любили друг друга, а теперь и вовсе не в состоянии жить под одной крышей. Каждый устраивает личную жизнь на стороне, у каждого свои дела, своя работа, свои интересы, в которых не находится места сыну Алеше. А ребенок между тем становится невидимым свидетелем очередной ссоры родителей и узнает, что в новом семейном укладе его ждет детский дом. Занятые собой Борис и Женя даже не замечают, что сын ушел из дома и два дня не появляется в школе, пока об этом не сообщает учительница. Реагировать на «бегунка» в полиции не торопятся, а волонтеры после череды мероприятий разводят руками – по горячим следам найти мальчика живым не удалось. Нелюбовь родителей, кажется, может стать для мальчика смертельной…\n",
      "\n",
      "\n",
      "Сегодня совершенно очевидно, что потомки через много лет будут говорить о начале XXI века как об эпохе Андрея Звягинцева. Наряду с Кириллом Серебренниковым, Павлом Лунгиным, Алексеем Учителем, Юрием Быковым и еще двумя-тремя молодыми режиссерами он формирует новое российское кино, тот пласт современного искусства, которым можно и нужно гордиться. И имя Звягинцева справедливо ставить первым в этом ряду – на мировой арене он сейчас самый титулованный, востребованный и почитаемый постановщик, каждая новая его картина становится предметом конкуренции отборочных комиссий престижнейших кинофестивалей, а говоря об универсальных вещах, он остается предельно русским человеком, живо и трепетно переживающим проблемы родного государства и общества.\n",
      "\n",
      "\n",
      "А поскольку времена сейчас непростые, то и рассказывает Звягинцев в своей «Нелюбви» о грустном, о трагедии людей с не сложившейся жизнью, о людях, не умеющих любить и не способных быть счастливыми, о тех, кто не только сам живет во мраке, но и тянет в тот же мрак окружающих. Как ни пафосно это звучит, режиссер ставит нелицеприятный диагноз современному россиянину, утратившему веру, надежду и любовь, обменявшему светлые и теплые чувства на суррогаты, притворство и внешнюю респектабельность.\n",
      "\n",
      "Как и в своих предыдущих работах, Звягинцев в «Нелюбви» крайне нетороплив – он не расставляет фигуры на доске, он половину фильма тщательно расчерчивает само шахматное поле, и в своей привычной команде со сценаристом Олегом Негиным и оператором Михаилом Кричманом делает это невероятно красиво. Зритель погружается в мир обычной семьи, неприметной и невыдающейся, где каждый только формально считается частью целого, а на деле живет собственной жизнью. Мы в мелких деталях читаем накопившееся недоверие (попытка Бориса угадать код телефона жены), обращаем внимание на растущее напряжение (разговоры на повышенных тонах), видим невозможность обратного хода (еще не расставшийся с прежней семьей Борис снова готовится стать отцом) – совершенно очевидно, гремучая смесь закончится взрывом.\n",
      "\n",
      "И взрыв случается, причем ужасают даже не финальные сцены, не отчаяние бесплодных поисков, не тающая надежда, а пронзительная сцена беззвучных рыданий Алеши, подслушавшего разговоры родителей, – Звягинцев из обыденных вещей, из того, к чему мы все, почерствев, привыкли, делает фантастические по силе и напряжению драматические эпизоды. Выдержать простоту и легкость, с которой жизнь трех героев ломается, сложно – как в лучших своих картинах, как в финальных сценах «Возвращения» или «Изгнания», режиссер задевает в душе зрителя что-то такое, от чего становится по-настоящему больно и страшно. Кино не должно быть наставником, учителем или проводником, но «Нелюбовь» настолько сильно встряхивает зрителя, что стремление не допустить трагедии, показанной в фильме, появляется само собой. И не отпускает.\n",
      "\n",
      "Разумеется, Звягинцев, по заведенной в «Елене» и «Левиафане» традиции, не мог обойти стороной проекцию государственного на частное, правда, в этот раз параллели и отсылки стали слишком уж явными. Конфликт Жени с матерью нарочито груб и лишен жизни, «корпоративная православнутость» фирмы, в которой работает Борис, анекдотична, даже символизм, присущий всем картинам Звягинцева, стал как-то «толще». Разрушение жизни героев сопровождается очевидным даже самому неподготовленному зрителю контрастным видеорядом жилых зданий и разрушенной постройки, а финальная сцена с бегущей на месте «Россией», лишенной прошлого, настоящего и будущего, и вовсе выглядит искусственной. Возможно, подспудно создатели картины желали сделать кино понятным как можно более широкой зрительской аудитории, но упрощение здесь на пользу не идет.\n",
      " \n",
      "\n",
      "Впрочем, лента в любом случае остается выдающейся работой. Картина великолепно сыграна, причем привлечение в кадр малоизвестных, «не задерганных» ширпотребом актеров идет истории только на пользу, в кои-то веки у Звягинцева появился положительный герой (даже несколько, волонтеры – люди удивительной чистоты души), «Нелюбовь» снова визуально безупречна, а музыкальное сопровождение фильма выше всяких похвал. Нет, это не «Возвращение», конечно, фильмы уровня «Возвращения» превзойти почти невозможно, но это именно то, что зритель ждет от Андрея Звягинцева: сгусток боли за чужие души, сосредоточение эмоций и чувств там, где, кажется, все затянуто забвением, проявление жизни в больном и мертвом.\n",
      "С 1 июня в кино.\n",
      "\n",
      "Паразиты \n",
      "  \n",
      "Бедная семья Ги-тхэка — сборище бездельников и неудачников: неглупый сын Ки-ву не может накопить денег на учёбу, дочь Ки-джон по той же причине бросила школу, сам отец и его жена Чонг-сук перебиваются случайными заработками и мечтают о лучшей жизни (как минимум о переезде из полуподвальной квартиры, откуда видно только ноги прохожих и норовящих помочиться у стены пьянчуг). Из всех них везёт в итоге Ки-ву — его друг-студент уезжает в другую страну и предлагает приятелю взяться за свою подопечную из богатой семьи, которой он на дому преподавал английский язык.\n",
      "Ки-ву, конечно, хватается за возможность, придумывает себе прошлое посолиднее и втирается в доверие к богачам — вскоре он посоветует им нанять для младшего сына учителя по рисованию (учителем, конечно же, окажется его сестра), и вместе они начнут осуществлять захватнический план по переезду всей семьи к новым работодателям.\n",
      " \n",
      "Корейский режиссёр Пон Джун-хо, вероятно, не так известен широкому зрителю, как его коллега Пак Чхан-ук, и не столь популярен у фестивальной публики, как Ли Чхан-дон или Хон Сан-су. И это обидно, ведь Пон — один из самых ровных азиатских авторов, ещё в 2003 году застолбивший себе место в киноистории «Воспоминаниями об убийстве». Без всяких оговорок гениальным фильмом — не то триллером, не то трагикомедией о полицейских, что пытались поймать первого в истории Южной Кореи серийного маньяка, да так и не поймали. Это такой корейский «Зодиак», но, пожалуй, даже лучше, и вышел он на четыре года раньше финчеровского арт-блокбастера.\n",
      "Вслед за «Воспоминаниями» Пон Джун-хо снял в Корее два хороших фильма, затем безболезненно внедрился в Голливуд, где снял ещё два — околокультовую постапокалиптику «Сквозь снег» и сатиричную эко-фантастику «Окча», пару лет назад освистанную в Каннах за то, что её прокатом посмел заниматься Netflix. Теперь режиссёр-космополит вернулся на родину, сделал «Паразитов» и вновь приехал на Лазурный Берег — там вместо свистов и недовольного гула Пон вдруг получил в свой адрес десятиминутные овации, горькие слёзы, заливистый смех и, наконец, «Золотую пальмовую ветвь», первую в истории его страны.\n",
      "\n",
      "Его «Паразиты» в Каннах, кажется, понравились примерно всем — они, как и прошлогодний «Пылающий» (симптоматично, тоже корейский), помирили старых и молодых, серьёзных и шутливых, скупых на эмоции циников-эстетов и тех, кто открыт ко всему новому, странному и весёлому. Объединили всех в едином порыве искренней, чистой кинематографической радости, низвергающей любые барьеры: нет больше ни грустного, ни смешного, ни авторского, ни жанрового, ни «зрительского», ни артхаусного. Или есть всё одновременно.\n",
      "Пон и в прошлых работах терял всякую грань между юмором и трагикой, находил источник естественной комичности даже в неподъёмной истории зверских убийств серийного маньяка (собственно «Воспоминания об убийстве») или судьбе бедной матери, чей сын попал в тюрьму («Мать»). В «Паразитах» он сохраняет эту эклектичную интонацию, но поворачивает свой метод на сто восемьдесят градусов. Примерно половину фильма он показывает забавную фарсовую историю о хитрой бедности и глупых богачах, чтобы в середине вдруг свернуть в феерический трип, смешивающий жанры, тональности и темы. Странный, энигматичный, даже абсурдный и при этом очень конкретный в том, что он хочет сказать.\n",
      "\n",
      "Как и во всех последних работах, Пон Джун-хо не стесняется лобовой метафоричности и не боится однозначных трактовок. Более того, он открыто иронизирует над собой, голосом одного из героев заявляет: мол, да, вы правы, «это всё метафора». Режиссёра не интересуют скрытые смыслы и сложные аллегории — его код лежит на поверхности, и куда любопытнее не то, о чём его кино (чтобы это понять, достаточно прочитать синопсис), а насколько далеко заведёт Пон Джун-хо свою чехарду со стилем и образами. Если в начале нам очевидно, кто скрывается под теми самыми «паразитами», то к финалу название фильма приобретает значения глобальные и всеобъемлющие: паразиты-бедняки, паразиты-богатые, паразиты на кухне, чердаке и в подвале, внутри и снаружи, по ту и обратную сторону от экрана. Это всё метафора, да, но никто не предупредил, насколько она широкая.\n",
      " \n",
      "\n",
      "Пон Джун-хо аккуратно прощупывает ткань реального и абсурдного, уводит историю в область эдакого современного мифа (или сказки, что, впрочем, здесь почти одно и то же) — по-хорошему нелепого, иносказательного, одновременно очень национального и абсолютно универсального. Он относится к истории слишком легко и ненавязчиво, чтобы его можно было обвинить в претенциозности, и достаточно тонко, чтобы его голос не тонул в абсурдных сценках и водевильных курьёзах. Пока другие боятся крайностей, Пон, кажется, только с ними и работает — его «Паразиты» сверхвыразительны в одних сценах и спартански скромны в других, его актёры (под предводительством великого Сон Кан-хо) экспрессивны и при этом удивительно точны в мельчайших деталях эмоций. Историю о барьерах и разделах — социальных, эмоциональных и лингвистических (герои часто неловко вставляют в речь англицизмы) — он рассказывает киноязыком, который полностью отрицает любые границы. Респект.\n",
      "С 4 июля в кино.\n",
      "\n",
      "Тельма \n",
      "  \n",
      "Поступление в университет становится для юной Тельмы поводом покинуть дом суровых, набожных родителей, которые всегда соблюдали по отношению к девушке некоторую дистанцию. Самостоятельная жизнь и новый круг общения раскрепощают девушку, она ходит в клубы, пьет вино, гуляет допоздна, но неожиданно проснувшееся влечение к сверстнице Ане – слишком сильное потрясение для Тельмы. Подавляя свои чувства, девушка обнаруживает у себя странные способности, сопровождаемые пугающими приступами, но врачи бессильны излечить Тельму. Однажды, когда после очередного такого приступа бесследно исчезает Аня, Тельма решается поговорить с родителями и выяснить жуткие подробности своего прошлого, тщательно скрытые в чертогах памяти и подавленные религиозностью.\n",
      "\n",
      "Последний уик-энд ноября в российском прокате смело можно называть скандинавским, однако пока внимание большинства зрителей обращено на «Снеговика» шведа Томаса Альфредсона, «Коматозников» датчанина Нильса Ардена Оплева или даже на очередные снежные приключения Олафа, незаслуженно незамеченной может остаться мистическая драма Йоакима Триера «Тельма». Фильм этот интересен не только как возможный будущий конкурент «Нелюбви» Андрея Звягинцева в борьбе за «Оскар» (Норвегия отправила академикам именно «Тельму») и даже не из-за фамилии автора (поклонники авторского кино давно понимают сходство и различие двух Триеров), лента привлекательна своей тематикой, режиссерскими решениями и стилистикой – это своеобразный хоррор, облаченный в одежды авторского кино, или, наоборот, артхаус, скрывающийся за ярлыками и клише «ужастиков». Решайте сами.\n",
      "\n",
      "Йоаким Триер ранее не снимал жанрового кино, но зрители, интересующиеся лентами фестивальными, наверняка помнят его работы, в частности драму «Громче, чем бомбы», которую прокатывали в России. Именно на контрасте с предыдущими работами постановщика «Тельма» смотрится особенно радикально, хотя бы из-за открывающей сцены с отцом, целящимся из ружья в голову своей маленькой дочери. Далее Триер легко использует шаблоны, привычные любому фильму ужасов: в кадре постоянно мигает электрический свет, а пламя свечей то и дело задувают внезапные сквозняки, птицы здесь бьются в закрытые окна, а змеи ползают по постелям спящих героев, таинственные фигуры стоят в свете фонаря на кромешно темной улице, а в жутком доме престарелых героиню ожидает безумная старуха. Но все показанное – не более чем игра Триера с визуалом и кадром, ему интереснее внутреннее состояние его героини.\n",
      "\n",
      "\n",
      "Интересно это состояние и для зрителя – ситуация-то изначально кажется вполне обыденной и житейской. Девушка впервые надолго покидает родной дом, в кои-то веки оказывается предоставлена сама себе и, несмотря на частые «проверочные» звонки родителей, может распоряжаться свободным временем. Ничуть не удивительно, что вместе с определенной свободой приходят и чувства, в данном случае – к очаровательной Ане, девушке с параллельного студенческого потока. И вот здесь начинается самое интересное: Тельма, не чувствуя осуждения «греховного влечения» со стороны, неосознанно начинает ограничивать сама себя, причем задействует при этом те стороны своего характера и организма, которые пугают ее саму.\n",
      "\n",
      "Разумеется, в «Тельме» присутствует значительный мистический пласт, фильм обращается к скандинавским легендам о ведьмах, затрагивает вопросы, на которые у ученых пока нет ответов, сталкивает лбом науку и религию, но нужно понимать, что Триер говорит языком символическим, а за абстрактными магическими кульбитами сюжета располагаются самые реальные проблемы современного молодого человека, в определенном возрасте получающего опыт первой самостоятельности, первой любви, первых разочарований. Да, авторы часто предпочитают прямым заявлениям иносказание, символы и намеки, но семи пядей во лбу иметь не нужно, чтобы клубок чувств Тельмы распутать и «перевести» на человеческий язык. В этом отношении финал, слишком приземленный и даже банальный, несколько разочаровывает.\n",
      "\n",
      "\n",
      "Впрочем, даже если зрителя разочарует сюжет «Тельмы», всегда остается возможность насладиться великолепной актерской игрой – исполнительница главной роли Элли Харбоа проделала колоссальную работу. Девушка испытывает колоссальную гамму чувств, ей приходится переживать несколько не самых приятных часов в жутковатых условиях, но ни в одном из эпизодов не чувствуется и капли фальши. Столь же теплых слов заслуживают и Хенрик Рафаелсон и Эллен Доррит Петерсен, сыгравшие родителей Тельмы, – им на протяжении фильма приходится «играть в тайну», а это неимоверно сложно, указанное трио легко занимает внимание зрителя.\n",
      " \n",
      "\n",
      "Но что еще лучше характеризует «Тельму», так это то, что картина оставляет место для трактовок. Несмотря на очевидность финала, историю девушки можно рассматривать с самых разных точек зрения – хотите, считайте произошедшее даром Небес или проклятием, хотите, списывайте на загадки медицины или силу любви, а можете даже считать Тельму Богом. Ведь Бог – это любовь, так почему бы ему не проявить себя в столь необычном образе?\n",
      "С 23 ноября в кино.\n",
      "\n",
      "Неогранённые драгоценности \n",
      "  \n",
      "2012 год. Говард Ратнер (Адам Сэндлер) — владелец обычного ювелирного магазина на бриллиантовой улице Нью-Йорка. Он берет деньги у коллег под высокие проценты, ничего не отдаёт и убегает от коллекторов, потому что знает, что скоро все изменится. Из Эфиопии ему привезли редкий опал, который светится всеми существующими цветами и напоминает маленькую карманную вселенную. Говард ждёт аукциона, чтобы продать камень за шестизначную сумму, но из ниоткуда появляется баскетболист Кевин Гарнетт: очарованный опалом, он просит камень на ночную игру NBA, оставив под залог свой чемпионский перстень. Говард понимает, что одержимостью баскетболиста нужно воспользоваться — он закладывает перстень и ставит полученные деньги на победу команды Гарнетта.\n",
      "\n",
      "Братья Сэфди на удивление быстро прошли путь от надежды американского независимого кино до пантеона главных кинематографистов планеты, работающих прямо сейчас. Произошло это буквально за два фильма: в 2017 году вышло «Хорошее время» с Робертом Паттинсоном, с восторгом принятое на Каннском кинофестивале, в 2019-м они закрепили не только творческий, но и финансовый успех (почти 50 миллионов долларов в американском прокате) «Неограненными драгоценностями», заслуженно названными одним из главных фильмов года и даже успевшими попасть в несколько списков лучшего за десятилетие.\n",
      "Впрочем, даже при желании обвинить братьев в попытке предать идеалы независимого кино и начать снимать коммерчески успешные фильмы не получится. Если рассматривать последние работы в контексте внушительной фильмографии Сэфди, становится понятно, что картины с такими звездами, как Роберт Паттинсон и Адам Сэндлер, довольно органично вписываются в их маленькую киновселенную про обыденную жизнь простых жителей Нью-Йорка: алчный ювелир и вор-неудачник прекрасно дополняют компанию карманницы («Удовольствие быть обокраденным»), горе-отца («Сходи за розмарином») и бездомной наркозависимой («Бог знает что»).\n",
      "\n",
      "Однако «Хорошее время» и «Неограненные драгоценности» все равно стоят особняком: оба фильма выделяются очевидным наличием звезды в актерском составе и отсутствием документального стиля съемки: Сэфди больше не фиксируют реальность, а сами создают ее. Если первая картина была чем-то вроде кислотной одиссеи, то вторую, как уже многие точно подметили, хочется сравнить с двухчасовой панической атакой: мало того что времени отдышаться практически нет, так финальная треть умудряется и выбивать землю из-под ног, и бить под дых, и просто делать все, чтобы просмотр фильма был максимально беспокойным.\n",
      "\n",
      "Причем этого естественного напряжения и полного зрительского погружения в происходящее Сэфди добиваются без выпендрежных технических трюков вроде длинных дублей, усложненной мизансцены или повышающего сердцебиение музыкального сопровождения (саундтрек Даниэля Лопатина кажется, напротив, размеренным и сдержанным) — только динамичный монтаж, непоседливый Адам Сэндлер в кадре и операторская работа, часто имитирующая слежку за героем. Собственно, из-за этого создается обманчивое и немного вдохновляющее впечатление, что так может сделать каждый. Обидная правда заключается в том, что на такое выверенное по темпоритму кино способны единицы — братья Сэфди доказали, что они входят в это число.\n",
      "Интересно, что Сэфди будто игнорируют современные тренды мирового авторского кино, но следуют традициям американского независимого кино и умело вдохновляются любимыми фильмами, чтобы в итоге выдать немного старомодное кино в новой оболочке. Источники вдохновения у «Неограненных драгоценностей» заметны сразу — это фильмы 1970-х: «После работы» Мартина Скорсезе, «Игрок» Карела Рейша, а по уровню напряжения и вовсе «Колдун» Уильяма Фридкина. Однако главный референс — «Убийство китайского букмекера», криминальный шедевр их «учителя» и любимого режиссера Джона Кассаветиса.\n",
      "\n",
      "Главный герой фильма, владелец стрип-клуба Космо, как и Говард, относится к своему делу как к искусству, стремясь раз за разом взять новую высоту. Оба героя — романтики и максималисты, которые отказываются играть по правилам гангстеров и не боятся поставить на кон собственную жизнь. В отличие от других известных американских братьев-кинематографистов, Даффер, которые создают «Очень странные дела» как сборную солянку из любимых фильмов 1980-х, Сэфди понимают, что чужое творчество — это лишь фундамент, на котором они создают собственное наследие.\n",
      "Неудивительно, что достичь этой амбициозной цели им помогают известные актеры вроде Роберта Паттинсона и Адама Сэндлера, новые фильмы которых приковывают пристальное внимание фанатов. Последний уже доказывал, что при желании и в руках известных режиссеров может сворачивать горы («Любовь, сбивающая с ног», «Истории семьи Майровиц»), но у Сэфди он однозначно сыграл свою лучшую роль — жадного и ненасытного ювелира, который не может остановиться.\n",
      " \n",
      "\n",
      "Конечно, Сэндлер органично плачет, кряхтит, получает по носу и орет на телевизор, но главное — его присутствие в кадре полностью меняет настроение фильма: он будто ходячий сгусток энергии и хаоса, запускающий вокруг себя броуновское движение. Уже сейчас фанаты крутят у виска, когда говоря об игнорировании фильма в целом и Сэндлера в частности в сезоне наград, — нет сомнений, что через несколько лет это будет восприниматься как очередной провал киноакадемии, которая в последние годы ошибается чаще обычного.\n",
      "\n",
      "Закатать в асфальт \n",
      "  \n",
      "Два бравых копа, пожилой Брэтт и молодой болтливый Энтони, при задержании очередного латиноса-наркоторговца слегка превышают полномочия. Дело, в общем, для них привычное, но в этот раз какой-то излишне любопытный сосед заснял их действия на камеру телефона. Начальник им сочувствует, но все равно временно отстраняет от службы — делать нечего, такие уж времена. Брэтт, которому и так живётся непросто — больная жена (в прошлом коп) без обезболивающих на ногах стоять не может, а дочь периодически подвергается нападкам со стороны местных хулиганов, — без денег сидеть не намерен. И он, взяв до кучи напарника, решается на авантюру: ограбить богатого и очень опасного криминального дельца, как раз закатившего к ним в город.\n",
      "Если история нас чему и учит, так тому, что на любую реакцию всегда — ну или почти всегда — найдётся своя контрреакция. И если долго с экранов и роскошных наградных подиумов читать программную повестку о том, что надо, люди, быть терпимее, добрее и проще, то наверняка найдутся авторы, у которых от подобной риторики начнёт зудеть в неприятных местах. Кто-то захочет сделать наоборот: нетолерантно, жестоко, токсично, в общем, ряд эпитетов продолжите сами. Такое кино по понятным причинам большого резонанса не добивается, но появляется сейчас регулярно — иногда оно талантливо («Война против всех» МакДоны-старшего), чаще не слишком («Жажда смерти» Элая Рота), но всегда бьёт по поверхности, это такая классическая подростковая провокация против сомнительных табу.\n",
      "Вот и «Закатать в асфальт» вроде бы очень просится в дискурс: кино о полицейских-расистах, несправедливо осуждённых левыми СМИ и берущих судьбу в свои крепкие маскулинные руки, сложно не объявить реакционерским. Тем более когда главную роль там — будто нарочно (хотя на самом деле нет) — играет Мел Гибсон, своей ксенофобии никогда не стеснявшийся, а ставит это безобразие С. Крейг Залер. Режиссёр «Драки в блоке 99» и «Костяного томагавка», человек, неровно дышащий ко всяческой эксплуатации. Правда, как оказалось, эксплуатация социальная режиссёра интересует меньше всего.\n",
      "\n",
      "Ему слишком интересна история, чтобы пускаться в нудные рассуждения о правде и справедливости. Весь кричащий политический подтекст «Закатать в асфальт» оборачивает во внезапно наигранную и оттого очень смешную шутку (фильм вообще очень смешной) — герои в один момент тут проговаривают вслух все свои опасения насчёт либеральных новостей и опустившегося до скучной толерантности общества. Им не хватает разве что глянуть в камеру, как Джей и молчаливый Боб в той знаменитой сцене, и по-триеровски зрителю подмигнуть. Если всё же принять Залера как часть течения «новой маскулинности», то фильм определённо её новый рубеж. Кардинальное качественное изменение, когда кино уже не просто кричит «брутальность — круто», а показывает, почему это так. И в процессе приходит к примирительным, почти либеральным выводам, которые, что парадоксально, работают куда сильнее, чем в любом напыщенном остросоциальном кино.\n",
      "\n",
      "И всё же куда интереснее социального протеста фильма его реакционерство творческое. Пока кинематограф старается как можно дальше уйти от литературы, в которой он когда-то трагически утонул, Залер — писатель по профессии и призванию — сталкивает лбами два медиума, всё ближе подбираясь (и в «Асфальте», кажется, уже почти добравшись) к ультимативному формату «жанрового киноромана». Его кино — уникальный пример кинематографического «палпа»: не тарантиновское осмысление бульварных романов, а прямая адаптация литературного языка в пространстве кино. Конечно, таким занимались и раньше, но, согласитесь, одно дело, когда в кинороманистику ударяется Бондарчук в «Войне и мире» или Полански в какой-нибудь «Тэсс», и совсем другое, когда подобный формат реализует история в духе полицейского B-movie.\n",
      "\n",
      "Сюжет, что любой режиссёр-ремесленник уложил бы в удобные полтора часа (как это и случилось со сценарием Залера для «Кукловода»), С. Крэйг умело растягивает — или скорее расширяет — до эпического трёхчасового размера, ничуть при этом не теряя в динамике. Он не стесняется уходить в иносказания и литературные ретардации: может пятнадцать минут посвятить герою, который не особо важен фабульно (и сделать это, по сути, шутки ради), а может кропотливо выдать каждому герою по личной семейной трагедии. Слегка схематичной, но обязательно отзовущейся к развязке — когда все натянутые драматургические струны слетят с петель, полетят головы и кишки вылезут наружу.\n",
      " \n",
      "\n",
      "Ведь насилие тут, как водится в коэновском постнуаре, чрезмерно, но — в отличие от тех же Коэнов и Тарантино — ещё и до страшного методично. Здесь нет ни вычурности Квентина, ни абсурдности условного «Фарго»: герои устраняют врагов хладнокровно и, в общем, без особых затруднений. Остроумный дуэт Гибсона и Вона (нашедшего тут золотую середину между своими клоунским и брутальным амплуа) ничего не «превозмогает» — они, как нам игривой метафорой сообщает фильм, хищники. Львы, вышедшие поохотиться. И единственным настоящим противником для них — помимо собственных внутренних демонов — становятся не абсурдно-жестокие наёмники, никогда не снимающие масок, а мудрый водитель Генри, который просто хочет покончить с криминалом и играть с братом в видеоигры.\n",
      "С 21 марта в кино.\n",
      "\n",
      "Oscar Shorts 2017: Фильмы \n",
      "  \n",
      "Всюду жизнь! Пока мы пытаемся разобраться в собственных проблемах, в других уголках планеты люди испытывают самые разнообразные эмоции, многие из которых достойны того, чтобы их перенесли на экран. Франция оправляется от террористических угроз и ужесточает политику выдачи гражданства людям с арабскими корнями. Это приводит к конфликту госслужащего и уроженца Алжира, всю жизнь прожившего в Париже, но сейчас превратившегося во врага. В глубинке Швейцарии одинокая женщина дважды в день приветствует пролетающий мимо ее дома скоростной поезд. Неожиданно между ней и машинистом проходящего рейса завязывается романтическая переписка. В венгерской школе новенькая девочка становится частью знаменитого местного хора, вот только петь ей не приходится, ведь у девочки и преподавательницы есть маленький секрет. В благополучной Дании в то же время мигрант из Ганы влачит жалкое существование в попытках наскрести денег для своей семьи на родине. Встреча с романтически настроенной девушкой-волонтером из местной общины оказывается для него отдушиной в жестоком мире. Наконец, в Испании два работника охраны подземной парковки общаются друг с другом посредством записи танцевальных посланий на камерах видеонаблюдения, и это делает их ближе, чем любой разговор или встреча взглядами. Всюду жизнь…\n",
      "Можно только рукоплескать инициативе независимого российского прокатчика, который в течение вот уже нескольких лет радует отечественного зрителя бесценными подарками – возможностью посмотреть набор номинированных на «Оскар» короткометражек, лучших фильмов мини-формата, которые авторы пожелали представить миру. Просмотр таких лент – не только удовольствие, это школа для молодых авторов, ищущих возможность пробиться в мир кино, ведь короткий метр, даже тот, что представлен в оскаровских списках, – это не многомиллионные блокбастеры, не экранизации книг престижных авторов, не исторические экскурсы, требующие серьезной базы и подготовки. Это зарисовки на тему «Здесь и сейчас», которые часто оказываются сильнее большого кино. И получая возможность увидеть все пять картин вместе, зритель может сам оценить, насколько велико мастерство авторов дошедших до финала лент и точны ли были в своем решении академики, одарившие «Оскаром» румынскую картину.\n",
      "\n",
      "О последнем хочется дискутировать более чем о чем-то другом, ведь каждая из пяти работ по-своему хороша. Например, лента о словесной дуэли чиновника и человека, пришедшего оформить французский паспорт, имеет серьезный внутренний стержень, с жесткостью которого не всякий полный метр сравнится. Лента «Внутренние враги» похожа на шахматы, боксерский поединок и фехтовальную схватку одновременно – ее герои то обмениваются зубодробительными ударами, то колют друг друга тонко, но ничуть не менее болезненно, то вдруг погружаются в многоходовые комбинации, преследуя каждый свою цель. Финал фильма может показаться шокирующим, он несколько выбивается из традиционного представления о строении подобных сюжетов, но такова сейчас жизнь, таковы настроения в Европе, таково гостеприимство Франции. И в этом – правда фильма!\n",
      "\n",
      "Картина швейцарца Тимо фон Гунтена не столь социально ориентированная, но ничуть не менее драматичная – главная героиня «Женщина и скоростной поезд» настолько одинока и оторвана от действительности, что делом ее жизни становится ежедневное общение с пролетающим мимо ее дома за доли секунды поездом. На удивление, размахивание флажком из окна не остается незамеченным – растроганный машинист поезда завязывает с женщиной переписку, и мир для забытой всеми дамы преображается. Безусловного очарования картине добавляет блестящая работа знаменитой Джейн Биркин, но сила истории (кстати, реальной) не только в мастерстве актеров, но и в умении и желании авторов передать любовь к своим персонажам. Это настоящий талант.\n",
      "\n",
      "\n",
      "Обладатель главного приза 2017 года, венгерская лента «Хор» (или «Пой», как решили переводить оригинальное название в России), имеет один серьезный козырь, ее главные герои – дети. И хотя за детскими голосами и безголосицей прячутся совсем не детские аллюзии на мир обмана и несправедливости, которые часто строим мы сами, пусть даже руководствуясь благими намерениями, на переднем плане все равно остаются лица двух невинных созданий, двух подруг, одна из которых одарена голосом и талантом, а вторая лишена музыкального слуха. История получилась трогательной, а к финалу даже несколько вызывающей, но вся эта борьба за правду и справедливость, откровенно говоря, отдает постсоциалистическим нафталином, Европа эти восстания достоинства уже успешно пережила, в отличие от нас.\n",
      "\n",
      "Романтическая рождественская история о влюбленной в мигранта из Ганы датчанке, в свою очередь, наоборот, лишь прячется за социальными вывесками. Сцены притеснения африканца местными хулиганами и другими беженцами – это всего лишь мрачный фон для светлых эмоций, для счастья влюбленности, для уроков жизни, жестоких и обидных, но необходимых. Из отношений Ингер и Кваме вполне мог получиться полный метр крепкого европейского кино, в сюжете есть несколько резких поворотов и оптимистичная развязка, но авторы скомпоновали «Тихие ночи» так, что полчаса просмотра здесь стоят каждой потраченной минуты. И это тоже показатель мастерства, достойного призов и премий.\n",
      "\n",
      "\n",
      "Что же до испанского «Таймкода», то, подобно сиесте или корриде, эта короткая лента является отдушиной, чем-то совершенно особенным, не похожим на другие зрелищем. «Таймкод» увлекает не сложными взаимоотношениями, не драмами и конфликтами, не трагичным одиночеством или обидным обманом. Этот фильм – легкое напоминание о том, насколько близко к вам может оказаться тот единственный человек, которому вы будете небезразличны, та половинка, которую вы давно ищете, тот партнер по танцу, который подойдет идеально. Диего и Луна раньше обменивались лишь дежурными приветствиями, но одна запись камеры изменила их отношения, даже разведенные по разным сменам, они становятся близки и счастливы.\n",
      " \n",
      "\n",
      "Удивительно, но каждый из фильмов, несмотря на национальный колорит и очевидную привязку к месту своего рождения, не чужд России, и более того – актуален для нас именно сейчас. И конфликты с мигрантами, и отчужденность периферии, и катастрофическая бедность, толкающая на преступления, и непокорное новое поколение, и даже разобщенность людей, объединенных работой, домом или школой, – все это не только европейские проблемы, это и наша жизнь. Просто мы об этом не снимаем кино. Ну так посмотрим, что сняли другие!\n",
      "С 23 марта в кино.\n",
      "\n",
      "Мертвые не умирают \n",
      "  \n",
      "Трое полицейских, Ронни, Клифф и Минди, патрулируют маленький американский городок, в котором мало что происходит, максимум отшельник Боб (смешной бородатый Том Уэйтс) порой крадет куриц у фермера Миллера (Стив Бушеми с налетом расизма), но это обычное дело. Так неторопливо и протекала бы жизнь в Центрвилле, но после того, как корпорации окончательно растратили земные ресурсы, а на Луне произошла пара радиоактивных взрывов, что-то пошло не так. Часовой пояс стал меняться, день стал ночью, а ночь – днем, к тому же кто-то начал жестоко убивать горожан. Может, это дикое животное? Или несколько диких животных? Нет, это зомби. Мертвецы восстали из могил и направились на поиски плоти, кофе и вай-фая. Кажется, это плохо кончится. \n",
      "\n",
      "Предупреждение: смотреть «Мертвецов» с серьезным выражением лица крайне опасное и травматичное занятие. Вакханалию, творящуюся на экране, словами описать трудно, поскольку весь сюжет напоминает одну большую локальную шутку. Но это и неплохо, а для режиссера уровня Джима «что хочу, то и ворочу» Джармуша вообще вполне нормально. По большому счету он просто собрал своих старых друзей на съемочной площадке и решил хорошенько повеселиться: сделал из рэпера RZA (одного из основателей WU-tang clan) посыльного WU-PS, наконец-то раскрыл марсианку в Тильде Суинтон, подбросил Адаму Драйверу брелок со «Звездными войнами», и все в таком духе. Причем все референсы сделаны максимально «в лоб», но даже при этом наблюдать за происходящим увлекательно и, что главное, безумно смешно.\n",
      "\n",
      "Привычная меланхоличность и неторопливость, присущие режиссеру, тоже никуда не делись, просто теперь они перекочевали в новый жанр и раскрылись там совершенно по-новому. Картина, конечно же, насквозь пропитана отсылками к главному мастеру по живой мертвечине Джорджу Ромеро (и ему Джим неоднократно передает привет с экрана), напичкана остросоциальной тематикой (тоже «в лоб», но тоже смешно) и полностью снята с каких либо тормозов. Покупая билет на «Мертвецы не умирают», ты попадаешь на американские зомби-горки, которые медленно разгоняются, но, набрав скорость, кажется, вот-вот сойдут с рельсов, и, как говорил герой Адама Драйвера, хорошо это не кончится. Если в начале фильма герои нежно ломают 4-ю стену, то ближе к концу они, кажется, пробивают головой уже и 5-ю, и 6-ю, локальная шутка превращается в бесконечную. И тут наступает переломный момент: либо вас стошнит и вы попросите остановить этот аттракцион безумия, либо, подняв руки, весело продолжите поездку.\n",
      "\n",
      "Понятное дело, далеко не все зрители Каннского кинофестиваля были готовы к такой обильной порции забористого трэша, который приготовили Джармуш и Ко. Кажется, история с уже культовым «Мертвецом» повторяется: в 1995 году этот фильм освистали в Каннах, а журналисты вопрошали: «Джим, какого хрена ты снял?» К таким резким поворотам и сюжету на грани безумия и правда сложно быть готовым, но есть все-таки некая уверенность, что проверку временем «Мертвецы» пройдут, как и их черно-белый предшественник.\n",
      " \n",
      "\n",
      "На всей этой дружеской костюмированной вечеринке тем не менее Джармуш бьет вполне реальную тревогу. Безразличие к новостям об экологической катастрофе среди людей, зарытых с головой в свои собственные проблемы, и превращает их же в зомби. Злой рок обходит только юных ребят, озабоченных вопросами истощающихся ресурсов Земли, но при всей осознанности абсолютно не способных что-то с этим сделать. Почти насильственный контроль со стороны взрослых и нежелание понять или услышать голос юного поколения не дают им и шанса предотвратить надвигающуюся катастрофу, которую, кажется, только детишки и замечают. Джармуш не в первый раз сравнивает людей с зомби, эта тема мелькала еще в вампирской драме «Выживут только любовники», но если тогда в сравнение с живой мертвечиной шли все подряд, то в «Мертвецах», кажется, Джим отметил свою безусловную веру в новое поколение.\n",
      "С 11 июля в кино.\n",
      "\n",
      "Первая любовь \n",
      "  \n",
      "Рео — боксёр-неудачник, которому врачи поставили смертельный диагноз. Моника — утратившая всякую связь с реальностью проститутка, которую один продажный коп и якудза-отступник хотят использовать в своей сложносочинённой афере (а для этого им Монику нужно обязательно убить). Из-за нелепой случайности — Моника, увидев в очередной раз призрак отца, сбегает от копа, а Рео, не разобравшись, что к чему, сбивает того с ног, «спасая» девушку (от чего он её спасает, парень, впрочем, не догадывается), — они вместе запускают цепочку нелепых и жестоких событий, вылившихся в полномасштабную мафиозную войну.\n",
      "\n",
      "Перед премьерой своей новой работы на Каннском кинофестивале Такаси Миике — безумный японский режиссёр, снимающий каждый год примерно миллион фильмов (от кровавых триллеров и серьёзных драм до экранизации «Невероятных приключений ДжоДжо»), — вышел на сцену, чтобы развеять все сомнения насчёт жанровой принадлежности «Первой любви». Я, говорит, отлично понимаю, что вы знаете меня как автора малоприятных желудку фильмов, где то и дело людям вырывают кишки, тычут палками в глаза под зловещее «кири-кири-кири» или тонкой леской отрезают ноги, но сейчас всё будет по-другому. Никаких убийств, никакой крови и уж тем более никаких отсечённых голов — только светлая история любви, без подвохов.\n",
      "Судя по неуверенному смешку из зала, никто ему не поверил.\n",
      "\n",
      "И правильно сделали — отрубленная голова крупным планом покатилась уже минуте на второй. Дальше только хуже (или лучше, в зависимости от ваших эстетических предпочтений): «Первая любовь» оказалась увлекательной гиньолью, бесстыдным кроваво-кишочным аттракционом, где визуальная пластика стоит сильно выше какого-либо адекватного содержания. Оно (содержание то есть) тут на адекватность не сильно и претендует — в отличие от своего тёзки Китано, который довольно приземлённо и не сильно отходя от жанра высмеивал якудза-фильмы в трилогии «Беспредел», Миике даже не пытается стоять ногами в пространстве какой-либо познаваемой реальности.\n",
      "Его сюжет настолько перегружен событиями и криминальными клише — суровые якудза, китайская мафия, двойные агенты, тройные агенты, предатели, предатели предателей, катаны, деньги, два ствола, — что быстро теряет всякий смысл, и даже условно «спокойные» моменты, ритмически перемежающие бойкие замесы, выглядят не меньшим стёбом, чем, допустим, смертельные нокауты бедным бабулькам. Причём отмороженный абсурдизм своего мира Миике с радостью подчёркивает причудливыми ракурсами, экспрессивными даже по его меркам героями или внезапным переходом в анимацию там, где он физически не может снять трюк «вживую».\n",
      "\n",
      "Это пренебрежение к сюжету и перевод его хитросплетённых линий в одну большую шутку, где сложные многоходовочки обрываются исключительно по глупости или благодаря невозможному стечению обстоятельств, отлично отражает ощущения местных главных героев. Недалёкого паренька-боксёра, очевидно, пропустившего в своё время пару точных хуков по голове, и наркозависимой проститутки, между которыми вспыхивает нелепое (а потому для Миике и однозначно «чистое») чувство.\n",
      "За весь фильм они, кажется, так и не поймут, какого чёрта их все вокруг пытаются прибить — в их мир подковёрные мафиозные интриги вторгаются лишь чередой трупов и психов, которые скоро тоже станут трупами.\n",
      " \n",
      "\n",
      "Раньше Такаси частенько снимал кино о хаотичном зле (да хоть те же «Кинопробы»), сейчас на сторону хаоса у него переходит добро — за чем наблюдать, честно, даже ещё смешнее. В каком-то смысле «Первая любовь» образует неожиданный такой double feature с вышедшим вчера «Ирландцем»: Скорсезе там показывает, что гангстерские ценности в конце концов оставляют людей физическими и моральными калеками. У Миике посыл попроще: по его мнению, мафиозные разборки — это просто очень весёлый бред.\n",
      "\n",
      "Борг/ Макинрой \n",
      "  \n",
      "1980 год, Лондон. На очередной Уимблдонский теннисный турнир в качестве двух главных фаворитов приезжают швед Бьерн Борг и американец Джон МакИнрой. За плечами Борга четыре предыдущих кубка, за свое хладнокровие и несокрушимость он получил прозвище Айсберг, Бьерн кумир публики и любимчик репортеров. МакИнрой – восходящая звезда, эпатирующая публику в каждой своей игре. Журналисты называют его «капризным мальчишкой», за споры с судьями Джон постоянно получает штрафы, а счет сломанным им в порыве гнева ракеткам идет на десятки, но именно ему специалисты пророчат большое будущее. Два противоположных темперамента, две непохожие судьбы, две яркие индивидуальности, чьи нервы натянуты сильнее струн, сходятся в главном матче турнира, в поединке, которому суждено стать одним из самых известных спортивных событий ХХ века.\n",
      "\n",
      "\n",
      "В любом виде спорта непременно присутствуют противостояния, которые со временем получают статус «легендарных»: шахматные баталии Карпова и Каспарова, футбольное Эль-Классико Барселоны и Мадрида, догонялки Михаэля Шумахера и Мики Хаккинена, ледовые сражения сборных СССР и Канады – можно бесконечно вспоминать пары, анонс встречи которых вызывал неизменный зрительский ажиотаж. В большом теннисе таких коллег-противников было особенно много – на звание Первой ракетки мира всегда претендует два-три человека, и встречи между ними порой становились событиями номер один для болельщиков во всех уголках планеты. Казалось бы, яркие спортивные события, окружающие теннисные корты и проникающие на площадку, – идеальная тема для фильма, но не тут-то было. Картин о профессиональном теннисе преступно мало, однако есть надежда, что выход на экраны драмы «Борг/МакИнрой» ситуацию переломит.\n",
      "\n",
      "Что такого важного в соперничестве Бьерна Борга и Джона МакИнроя, ведь они были далеко не первыми непримиримыми противниками на корте, им не принадлежат какие-то «вечные» рекорды, а для многих сегодняшних зрителей 1980-й – это буквально прошлый век, поросший мхом и пылью. Легендарность противостояния Борг-МакИнрой имеет два важных аспекта, которые выделяют его в череде других: во-первых, лучший из них так и не выявлен, а во-вторых, их соперничество не было только лишь теннисным – Бьерн и Джон были настолько непохожими людьми, что теннис являлся лишь вишенкой на торте противопоставления темпераментов, взглядов на жизнь, характеров и манер. Мячи и ракетки лишь стравливали пар этого соединения огня и льда.\n",
      "\n",
      "И вот на этом месте стоит обязательно отметить задумку Ронни Сандаля – он не стал посвящать фильм только лишь своему соотечественнику, хотя событий в жизни и карьере Бьерна Борга хватило бы на добрый сериал. Фильм фактически упирается в один-единственный день в жизни Борга, но этот день не мог быть прожит так ярко без появления в нем Немизиды-МакИнроя. Именно из соединения двух героев получается захватывающая картина, в которой проявляются лучшие и худшие черты характера, где всплывают старые страхи и возвращаются старые болячки, где лучшие друзья не могут тебя понять, а самым близким и искренним человеком оказывается соперник по ту сторону сетки. И кино работает, от происходящего на экране невозможно оторваться.\n",
      "\n",
      "\n",
      "Нет, фильм, разумеется, не без изъянов – временами режиссер Янус Мец Педерсен перегибает с драматизмом, не слишком равномерно и недостаточно тонко в повествование вплетены флешбэки главных героев, да и, чего уж скрывать, Борг явно показан более выпукло, но фильм от этого не заваливается в банальный рассказ о тяжелом детстве, выковавшем героя. Скорее «Борг/МакИнрой» говорит о том напряжении, которое присутствует в жизни каждого серьезного спортсмена, о том, чего стоит каждое выигранное очко, каких нервов стоит любой кубок, что приходится переживать близким в моменты кульминационных матчей. И конечно, это кино о том, что игра – это всего лишь игра. Из Борга и МакИнроя журналисты всю жизнь пытались сделать непримиримых врагов, но, поскольку только они могли по-настоящему понять друг друга, Джон и Бьерн стали закадычными друзьями.\n",
      " \n",
      "\n",
      "Ленту стоит посмотреть не только поклонникам тенниса, хотя игровые моменты показаны в картине очень живо и энергично, «Борг/МакИнрой» – это не о спорте, а о людях, отдающих себя делу без остатка и оттого часто страдающих, как, например, герой Стеллан Скарсгаарда Леннарт Бергелин. Такие таланты часто вспыхивают рано и ярко, но быстро сгорают вне зависимости от того, сдерживают ли они эмоции где-то глубоко внутри или выплескивают их в мир с каждым ударом по мячу. Лента заряжает энтузиазмом и энергией побед – после нее ни одно препятствие уже не кажется непреодолимым. Сегодня не получится – через год прорвемся обязательно!\n",
      "С 5 октября в кино.\n",
      "\n",
      "Человек на Луне \n",
      "  \n",
      "В основу сюжета легла история Нила Армстронга – космического инженера и летчика-испытателя, ставшего первым человеком, ступившим на поверхность Луны.\n",
      "Дэмьен Шазелл («Ла-Ла Ленд», «Одержимость»), как правило, снимает фильмы про мечтателей, «Человек на Луне» исключением не стал. Это не стандартный байопик в стиле детство/отрочество/юность/пришел к успеху – молодец. История начинается с переломного момента в жизни Нила – смерти его двухлетней дочери. Главный герой переносит трагедию тяжело, но в то же время он не готов ее ни с кем разделить – ни с женой, ни с друзьями. Все силы и энергию он вкладывает в работу в NASA, поставив перед собой цель все-таки обогнать русских и совершить первую высадку на Луну.\n",
      "\n",
      "Редкий случай, когда люди в фильме летят в космос, а отсылок к кубриковской «Одиссее» разглядеть практически не удается. Наверное, все дело в том, что сама история о первой высадке на Луну тут не на первом плане, она работает как форма. Шазелл ставил перед собой чуть более высокую цель, чем снять пафосный байопик под наградной сезон, как это может показаться, если сосредоточиться именно на внешней части. Тогда редкие флешбэки с дочерью можно принять за эмоциональные капканы, а сам фильм – за очередную американскую пропаганду патриотизма. Но тут режиссер использует космос скорее как инструмент, чтобы говорить о внутренних процессах главного героя, а не о его подвиге. Шазелл отправил человека на Луну, чтобы отобразить это всепоглощающее чувство внутренней пустоты и боли утраты от потери близкого. Причем художественный язык тут работает настолько хорошо, что в один из моментов можно самому почувствовать эмоциональный вакуум, о котором говорит режиссер. Главное, потом вовремя начать дышать.\n",
      "Фильм, ко всему прочему, оказался довольно интенсивным, разгоняясь до такой степени, что от напряжения в какой-то момент сердце отказывается кооперировать. Сцены испытаний ракетолетов и тестов «Джемини» сняты в жанре «пугающий реализм», Шазелл буквально посадил зрителя на место летчика, позволив пережить эти волнительные моменты вместе с командой корабля. Так что пристегните ремни, будет немного трясти.\n",
      "\n",
      "Саунд-дизайн в фильме бессовестно хорош. Кажется, что награду за «лучший звук» можно отдать авансом прямо сейчас. Каждый взрыв, щелчок тумблера, рев мотора или хлопок двери отдается эхом в голове и дрожью в теле. Оператор Линус Сандгрен, с которым Шазелл работал над «Ла-Ла Лендом», творит какие-то невероятные вещи. Картина в целом визуально безупречна, от блестяще снятых сцен в космолете может обостриться клаустрофобия, а его работа со светом вообще на грани добра и зла.\n",
      "\n",
      "В номинации «Дениэл Дэй Льюис года» побеждает Клер Фой – актриса, для которой, кажется, нет ничего невозможного. Удивляет ее способность без остатка растворяться в своем персонаже, и в каждой новой роли она совершенно неузнаваема. Райан Гослинг тоже лениться не привык, актер тщательно подбирает роли, не растрачивая потенциал на громкие, но пустые проекты. С Шазеллом у него работа складывается особенно хорошо, режиссер успешно раскрывает новые грани таланта Райана, о которых мы еще не знали. Кажется, что роль Армстронга стала для него одной из самых сложных и успешных в карьере. Если уж говорить на языке наград, то ни для кого не будет сюрпризом, если за эту роль Гослинг получит очередную номинацию на «Оскар».\n",
      " \n",
      "\n",
      "Третья полнометражная работа молодого американского постановщика показывает, насколько сильно за такой короткий срок Дэмьен вырос как кинематографист. «Человека на Луне» на данный момент можно смело назвать его самой сильной и амбициозной работой. Но, несмотря на размах картины, режиссер все равно снимает авторское кино, просто с большим бюджетом. Эмоциональное путешествие, которое предлагает Шазелл, гораздо более захватывающее и волнующее, чем любая экспедиция на звездолетах. Ведь сложную природу человека исследовать куда интереснее, чем космос.\n",
      "С 11 октября в кино.\n",
      " \n",
      "\n",
      "мама! \n",
      "  \n",
      "В большом старинном доме в живописной глухомани живут он и она. Он (Хавьер Бардем) – известный поэт, который уже долго не может написать ни строчки. Она (Дженнифер Лоуренс) – его верная спутница, у которой лишь две заботы – восстанавливать дом после пожара и виться вокруг мужа, предупреждая каждое его желание. Идиллия прерывается визитом неожиданного гостя (Эд Харрис) – тот представляется местным ортопедом, и Он приглашает его погостить. На следующий день к гостю заявляется любопытная и бесцеремонная жена (Мишель Пфайффер), следом приезжают их сыновья и постепенно тихий и уютный домик превращается в бедлам.\n",
      "\n",
      "\n",
      "Даррен Аронофски всегда был непростым режиссером – и дело не столько в его постановочной технике, сколько в том, за какие истории он брался и каким образом их раскрывал. Удивив мир своим «Черным лебедем», Аронофски встроился в «голливудский конвейер» 125-миллионным библейским эпиком «Ной», но, несмотря на неплохие сборы, вернулся в сравнительно скромное авторское кино с «мамой!», которая вполне может стать для него одним из определяющих фильмов карьеры.\n",
      "\n",
      "Трейлеры «мамы!» подают ее как психологический триллер или даже хоррор и, хотя фильм ничем из этого не является даже отдаленно, после сеанса понимаешь, что выбора у маркетологов не было – «мама!» максимально далека от любой жанровости и куда ближе даже не столько к кино в традиционном смысле этого слова, сколько к арт-инсталляции, перфомансу, экспириенсу, если угодно. Это аллегорическая реплика с религиозными обертонами на тему гендерных отношений, перенесенная в формат обобщенно-обезличенной притчи – что-то в духе «Антихриста», хотя человеконенавистничества фон Триера у Аронофски, к счастью, не наблюдается.\n",
      "\n",
      "Одной из ключевых авторских находок Аронофски в «маме!» стало решение намертво привязать зрителя к главной героине в исполнении Дженнифер Лоуренс. В картине много крупных планов ее лица, а когда актриса куда-то идет, оператор неотступно и почти вплотную следует за ней, словно мы наблюдаем за происходящим из-за ее плеча (актриса с честью выдерживает это внимание, хотя в ряде сцен со своим участием ее все-таки переигрывает удивительная Мишель Пфайффер). Это позволяет лучше сродниться с героиней, что очень важно, потому что примерно с середины «мама!» начинает напоминать «наркоманский» анекдот про ежика, который шел, шел, шел, шел, шел… и полетел. И к этому моменту вы должны быть максимально настроены на ее волну.\n",
      "\n",
      "Не углубляясь в спойлеры, но помогая не готовому к метафорическим головоломкам зрителю нащупать некую отправную точку, можно уточнить, что в своих героях Аронофски иносказательно моделирует отношения между творческим мужчиной и приземленной женщиной с точки зрения последней. Она вьет гнездо, окружает избранника заботой и ревностно относится к вторжениям в их уютный заповедник. Он искренне ей за все признателен, но творить в тепличных условиях не выходит, поэтому он тянется навстречу к новым людям и впечатлениям – которые ее напрягают и пугают. И чем дальше в лес, тем более безумным становится происходящее, пока не превращается в вязкую, бьющую по всем органам чувств линчевскую фантасмагорию, где некогда такой уютный и спокойный дом то становится местом массового паломничества, то окрашивается в постапокалиптические тона, то превращается в поле боя с участием полиции и спецназа.\n",
      "\n",
      "Тонкая, как кружевной тюль, ткань религиозной иносказательности «мамы!» (в первых визитерах можно с ходу и не заметить аллюзии на Адама без ребра и нахальную Еву) постепенно грубеет, превращаясь к финальному акту в бронебойный молот – с ним, с одной стороны, все кристально ясно, но, с другой, сопротивляться его мощи невозможно, остается только завороженно наблюдать за тем, как точно и смачно Аронофски наносит сокрушительные удары по и без того трещащему союзу мужского эго, подсевшего на иглу «искусства» (и тут сложно не увидеть исповедальные нотки от самого режиссера), и того, что принято называть «женским началом». Религиозные обертоны никуда не уходят, но фильм все же шире, глубже и свободнее – в этом смысле крайне показательна сцена, в которой герой Бардема восхищается тем, что его новую поэму каждый из ее читателей воспринимает и трактует по-своему.\n",
      " \n",
      "\n",
      "Концовку вплоть до последней детали угадываешь еще до финала (благо уже первые кадры ленты содержат намеки на развязку), но то, как красиво постановщик к ней подводит, восхищает – убедившись в своей правоте, не разочарованно вздыхаешь, а восторженно хлопаешь в ладоши. Чистая поэзия! И хотя тех, кто «маму!» возненавидит, гарантированно будет немало (это фильм, который очень легко обвинить и в переборе, и в напыщенности, и даже в дурновкусии – и нельзя забывать о тех, кто вообще-то пришел в кинотеатр посмотреть на ужастик с Дженнифер Лоуренс), равнодушным она не оставит никого – перед нами совершенно точно один из самых запоминающихся фильмов года.\n",
      "С 14 сентября в кино.\n",
      "\n",
      "Экстаз \n",
      "  \n",
      "Группа танцоров запирается в отдалённой хижине, чтобы отпраздновать начало своего тура. Они не знают, что в сангрию, которую здесь пьют почти все без исключения, кто-то подмешал ЛСД, и герои вот-вот отправятся в незапланированный трип, из которого никто не выйдет прежним.\n",
      "Кадр из фильма «Экстаз»\n",
      "Диджей ставит пластинку. Танцоры делают то, что умеют делать лучше всего, — они танцуют. Их тела с почти противоестественной гибкостью извиваются под повторяющийся электронный мотив, в этом танце — вся их жизнь, весь их идеальный порядок. Даже камера, кажется, пускается с ними в пляс, то лавируя между танцорами, то улетая вверх, глядя на них сверху глазами режиссёра-демиурга. Он единственный здесь знает, что скоро порядку придёт конец, люди станут танцевать уже совсем другие танцы, а их невероятная энергетика приобретёт знак «минус».\n",
      "\n",
      "Ведь кто-то — не иначе как сам демиург — уже подлил запретное вещество в сангрию, и его подопытные крысы вот-вот раскроют свои далеко запрятанные страхи, отдадутся во власть всеобъемлющей паранойи. Гаспар Ноэ же будет за этим наблюдать, исследовать метания искорёженных душ и вскрывать все нарывы, что раньше были не так очевидны. Он здесь и лаборант, и бог, и главный провокатор. С каждым витком истории он подкидывает героям новые, всё более страшные проблемы, а сам сидит где-то наверху и игриво подмигивает зрителям: то титры посреди фильма пустит, отделяя момент, когда жизнь танцоров станет адом, то свои мысли о жизни и смерти огромными буквами проецирует на экране.\n",
      "\n",
      "Но ни эта художественная нарочитость, ни безумные полёты камеры — она у Ноэ всегда игнорировала законы физики — не лишают фильм ужасающей естественности. Смотря «Экстаз», легко поверить, что Гаспар и правда накормил группу танцоров кислотой и просто снимал всё, что происходит. Настолько реальна их паранойя и агрессия, вопли, плач и пронзительные крики. Они вам будут сниться ещё долго.\n",
      " \n",
      "\n",
      "В какие-то моменты Ноэ почти ударяется в эксплуатацию, да и чёрт бы с ним — эксплуатация эта талантлива и действительно работает. Вместе с противовесом в виде мрачного остроумия она превращает неприятное в по-настоящему страшное. А «Экстаз», определённо, очень страшный, физически страшный фильм: страшнее любых хорроров, социальных реклам или «Реквиемов по мечте». А все потому, что Гаспар, как никто другой, понимает простую истину: наркотики не дают людям ничего нового, они лишь раскрывают то, что в них уже есть. Наркотики не избивают друзей, не выкидывают их на мороз и не запирают своих детей в комнате с электрощитком. Это делают люди.\n",
      "С 11 октября в кино.\n",
      "\n",
      "Он и Она \n",
      "  \n",
      "После долгих лет жизни и бурного творчества в мир иной уходит писатель Виктор Адельман. После похорон и торжественной церемонии прощания к вдове литератора обращается журналист, желающий по воспоминаниям близких Адельмана написать биографию. Сара сперва отзывается о муже довольно холодно, в последние годы он ее серьезно огорчал, а затем оставил совсем одну, но, все глубже погружаясь в прошлое, женщина постепенно меняет тональность истории, и перед нами открывается прекрасная история любви, в которой никогда не было спокойствия и удовлетворенности текущим моментом, но которая при этом оставалась пышным, искрящимся украшением скучной обыденности окружающего мира. Полвека любви стоили того, чтобы однажды рассказать о ней незнакомому человеку в самых шокирующих подробностях…\n",
      "\n",
      "\n",
      "Пожалуй, каждому из нас приходилось хотя бы однажды, глубоко внутри, пугаясь собственных мыслей, сомневаться в сделанном когда-то выборе. С тем ли человеком связали мы свою жизнь? На того ли тратим лучшие годы? Могли ли мы быть счастливее в одиночестве или с иным избранником? Это нормально, разумному человеку свойственна рефлексия, к ней даже стоит прислушиваться, если только она не переливается через край и не приводит к навязчивым состояниям. Но при этом не стоит забывать, что любовь, как и история, сослагательного наклонения не приемлет, а лучшее всегда враг хорошего, что, собственно, в очередной раз изящно и по-французски элегантно демонстрирует дебютная режиссерская работа Николя Бедоса «Он и Она» – вот где любовь во всех ее проявлениях.\n",
      "\n",
      "Слово «дебютант» здесь использовано с особенной намеренностью – неискушенность постановщика, снимавшего картину в тесном сотрудничестве со сценаристкой Дорией Тилье, очевидна, но именно она придает ленте неповторимую живость. Бедос во многом работает по классическим лекалам, его академичность вначале может даже несколько утомить и усыпить зрительскую бдительность, ведь что может быть банальнее завязки с вдовой, вспоминающей 45 лет, проведенных под одной крышей со своим недавно ушедшим супругом, параллельной линии с телевизионной хроникой, делающей исторические и хронологические отсечки, или разбивки повествования на главы, словно это какой-то экранный дамский роман. Но все это лишь верхушка айсберга, под очевидными ходами строится совсем иной мир, куда более многомерный, глубокий и трогательный, как и любая большая история отношений.\n",
      "\n",
      "Два главных героя, а исполняют их роли уже указанные выше постановщик и сценаристка, совершенно очаровательны – это два больших искрящихся энергетических шара, которые любым своим соприкосновением высекают фантастическую искру чувств и эмоций. Виктор – начинающий писатель, он грезит будущими премиями, толпами красоток-фанаток, мировым признанием. Сара – искусствовед, знаток литературы, скрывающая за фасадом студентки с филфака сексуальный фонтан эмоций. Их встреча была случайной и совсем не романтичной, их знакомство продолжалось через пень-колоду и часто прерывалось на месяцы, но все же они оказались вместе. Причем жили, как это часто бывает в реальности, в некой противофазе – когда Сара добивалась любви, Виктор не мог расстаться с бывшей подружкой, затем, наоборот, уже он ревновал ее к звездам кино, когда писатель находился на пике популярности, его жена угасала в тоске, затем качели снова меняли положение на противоположное. Даже к собственным детям они относились по-разному, но кульминации эта рассинхронизация достигает в финале, когда престарелый Виктор впадает в старческое забытье, но остается самым любимым человеком для его Сары, их финальный поход к скалам – трогательнейший момент даже для безумно романтичного французского кино, прекрасное завершение пышной истории любви.\n",
      "\n",
      "\n",
      "Впрочем, и это еще не все, что скрыто под поверхностью романтической драмы. Есть еще весьма любопытный сюжетный слой, связанный с творчеством Виктора, с его писательской деятельностью, с его успехами и провалами. Финальный твист, который неожиданно оглушающ, словно понимание героя Брюса Уиллиса из «Шестого чувства» о том, что все предыдущее время он был мертв, многим ситуациям в жизни Адельманов дает совершенно иную перспективу. Даже оригинальное название картины «Монсеньор и мадам Адельман» обретает иной колер, переворачивая представление о паре с ног на голову и подтверждая старинную истину, что если мужчина в семье – это голова, то женщина – шея, которая вертит головой, как хочет.\n",
      " \n",
      "\n",
      "Разумеется, в сезон блокбастеров сложно рассчитывать на вал зрителей на сеансы столь отличающегося от летних развлечений кино, но «Он и Она» – это, как ни странно, фильм, идеально подходящий для семейного просмотра. Но не в формате аудитории «Тачек», куда идут молодые родители с ребятишками, а для тех молодых взрослых, которые давно не были в кинотеатре со своими мамами и папами. Фильм временами пошлит обсуждением размеров пенисов, демонстрацией обнаженных тел и сцен употребления наркотиков, но любовь, пронесенная сквозь годы, здесь всегда остается на переднем плане – а это именно то, что может объединить поколения. В иной реальности «Он и Она» могли стать культовой лентой, сравнимой с французской волной 1960-х, но здесь и сейчас мы просто получили добротную драму, открывшую миру молодого постановщика и двух великолепных актеров. Такова жизнь, любовь в ней иногда открывается только тогда, когда дописана последняя глава.\n",
      "С 15 июня в кино.\n",
      "\n",
      "Рома \n",
      "  \n",
      "Мехико, 1970 год. Девушка из коренного племени с сокращенным именем Клео (Ялица Апарисио) работает в доме зажиточного врача и его жены. В ее обязанности входит воспитание четырех детей, забота о бабушке семейства и уборка за вечно гадящим псом. После свидания с местным гопником Клео беременеет, а отец ребенка виртуозно сбегает в провинцию, чтобы упорнее заниматься боевыми искусствами. В это же время от хозяйки уходит муж, оставляя огромный особняк и четырех детей на произвол судьбы.\n",
      "\n",
      "После громкого скандала между дирекцией Каннского кинофестиваля и Netflix, победы в Венеции, недельного кинопроката в США и постоянных упоминаний в списках лучших фильмов года до простых смертных наконец-то добралась «Рома» (или «Рим» – еще один повод поспорить) Альфонсо Куарона – большое кино о маленьком человеке, обозначившее возвращение мексиканца к корням.\n",
      "\n",
      "Получив свой процент с успешной «Гравитации», Куарон развязал себе руки и замахнулся на недостижимую для современников высоту – использовать медиум кино для возвращения в собственное детство. В свое время с такой амбициозной задачей справлялись Федерико Феллини в «Амаркорде», Ингмар Бергман в «Фанни и Александре» и немного Андрей Тарковский в «Зеркале». У Куарона тоже получилось, но итоговый результат выглядит то ли слишком простым, то ли, напротив, всеобъемлющим.\n",
      "\n",
      "Можно поспорить, что именно планировал создать Куарон – то ли поймать дух времени и атмосферу периода, который сформировал историю Мексики, то ли просто собрать картину из своих детских воспоминаний, из которых, по словам режиссера, состоит 90% фильма. Какая разница? В принципе, фильм работает на каждом уровне, но для меня это в первую очередь кино о том, как глобальное вторгается в личное. Невероятный технический эпизод с расстрелом студентов-демонстрантов становится поворотной точкой для героини и Мексики в целом – после него «Рома» меняет тон и превращается в настоящую оду храбрости и силе Клео и всех женщин в целом.\n",
      "\n",
      "Вообще нужно отдать Куарону должное – это во всех смыслах авторский проект мексиканца, несмотря на то что живет он под крылом стримингового гиганта. В «Роме» он, как настоящий человек-оркестр, не просто дирижирует в сторонке, а взваливает на свои плечи обязанности режиссера/сценариста/продюсера/оператора/монтажера не для того, чтобы гордо отметиться упоминанием в титрах, а скорее чтобы довести каждый аспект своего видения до идеала, при этом попутно расставляя отсылки на свои предыдущие картины («Гравитация», «Дитя человеческое», «И твою маму тоже») и любимые мотивы творчества.\n",
      "\n",
      "Особо головокружительных высот он добивается в размытой профессии оператора-режиссера. Изначально фильм должен был снимать именитый оператор Эммануэль Любецки, но он выбыл где-то на стадии предпродакшена, после чего Куарон решил попробовать себя в новой роли. «Оскары» за режиссуру и монтаж есть, на очереди как раз операторская работа. Даже не верится, но уход Чиво, кажется, помог «Роме» обрести свое уникальное лицо.\n",
      "\n",
      "У Любецки камера становится участником событий, преследует героя в естественном освещении, оставляя большую часть кадра пустой. У Куарона полная противоположность – статичная камера с плавной сменой ракурса и синхронным движением внутри кадра со сложной мизансценой. Вкупе с монохромным изображением отстраненная камера Куарона выглядит как призрак, который наблюдает за происходящим со стороны без права вмешаться в естественный ход событий.\n",
      " \n",
      "\n",
      "И все же, несмотря на целый вагон достоинств, «Рома» даже близко не идеальное кино. Напротив, оно лишний раз позволит особо привередливому зрителю, закатив глаза от шумихи вокруг фильма, докопаться до каждой шероховатости и ткнуть в них всех фанатов. Победа условной формы над содержанием – есть. Неинтересная главная героиня, которой не хочется сопереживать, – еще бы. А как насчет слишком простой истории с очевидными метафорами и эксплуатацией запрещенных приемов? В яблочко. Правда, делает ли это «Рому» плохим фильмом – вопрос, конечно, риторический. Главное – пока творцы вроде Куарона материализуют свои импульсивные воспоминания в фильмы, которые вызывают до смешного полярные реакции, восхищая одних и раздражая других, кино будет жить. Оно, конечно, и без них может жить, но с ними, согласитесь, как-то приятнее и веселее.\n",
      "\n",
      "Песнь Дьявола \n",
      "  \n",
      "Женщина, три года назад потерявшая сына, хочет провести сложный и опасный колдовской ритуал, который даст ей шанс вновь увидеть своего ребенка. Для этого она снимает на год гигантский особняк, затерянный где-то в уэльской глуши, и выписывает из Лондона профессионала, неоднократно проводившего подобные ритуалы. Теперь им предстоит на несколько месяцев запереться в доме, полностью прервав контакты с внешним миром, и пройти ряд тяжелых испытаний.\n",
      "\n",
      "Еще одно ярчайшее подтверждение тому, что хоррор в правильных руках – один из самых гибких и емких жанров, «Песнь тьмы» продолжает традиции «Бабадука» в том плане, что пользуется приемами страшного кино для того, чтобы рассказать глубокую, пронзительную, проникновенную и интимную историю о трагедии и о том, как ее пережить. Ради призрачной возможности вновь увидеть погибшего сына и наказать его убийц главная героиня картины готова на все, но этого ли на самом деле хочет ее истерзанная душа?\n",
      "\n",
      "Уникальность «Песни тьмы» в том, что она работает сразу на нескольких уровнях. Помимо того что это экстремальная драма, которая заставит вас обдумывать ее мысли и идеи еще долгое время после окончания просмотра, это еще и очень качественное жанровое кино, эффектная психодрама о столкновении характеров, плюс один из самых оригинальных и непредсказуемых триллеров последних лет. Ритуал, который проводят герои, включает в себя длительную подготовку в виде тотального очищения души и тела и серию изматывающих испытаний вроде сидения в круге без воды и еды на протяжении нескольких дней.\n",
      "\n",
      "Главные герои выводятся полными противоположностями друг другу. Она – тихая и податливая снаружи, но целеустремленная внутри, он – ершистый грубиян, показательно дистанцирующийся от своей подопечной. Его задача – провести ее сквозь все испытания, не дав ей сорваться, но чем дальше, тем очевиднее, что его цель – не столько обещанные деньги, сколько возможность получить от этого ритуала что-то для себя, залатав тем самым собственную дыру в душе, и ее успех нужен ему не меньше, чем ей. Это два прекрасно прописанных характера, настоящие инь и ян, огонь и вода, которые, оказавшись запертыми на долгие месяцы наедине, начинают причудливый парно-состязательный танец.\n",
      "\n",
      "Также «Песнь тьмы» пленительно атмосферна, операторская работа, монтаж и музыка выступают полноценными участниками истории, и их вклад в общий эффект от картины трудно переоценить. Отдельные эпизоды (огонек сигареты в темной комнате!) намертво врезаются в память именно благодаря тому, как здорово они сделаны с технической точки зрения. При том что постановщик Лиам Гэвин обходится минимумом классически прямолинейных «бу-моментов», жуть он нагоняет абсолютно блистательно – взять хотя бы две сцены с разговорами через дверь, которые вызывают натуральный мороз по коже.\n",
      " \n",
      "\n",
      "Впрочем, главное в «Песни тьмы» – не то, что это мрачное, тяжелое, маетное, депрессивное кино о трагедиях и неутолимой тоске. А то, что чем темнее ночь, тем ярче первый луч утреннего солнца, и Лиам Гэвин не дает об этом забыть.\n",
      "\n",
      "Американские животные \n",
      "  \n",
      "Студент по имени Спенсер Рейнхард (Барри Кеоган) мечтает о славе художника, но, по его собственному мнению, просто так великим автором не стать: нужно серьёзное потрясение, которое изменит его жизнь раз и навсегда. За таким потрясением он идёт к своему приятелю Уоррену Липке (невероятный Эван Питерс) — дерзкому и неугомонному парню, способному притянуть проблемы любого масштаба. На одной из школьных экскурсий у Спенсера рождается идея, которая в голове Уоррена разрастается до полноценного плана. Они решают украсть из библиотеки безумно дорогую книгу Джона Одюбона — тоже художника, но, в отличие от Спенсера, великого.\n",
      "Барт Лэйтон — один из тех режиссёров, кто делает редко, но метко. До «Американских животных» он ничего не снимал аж с 2012 года, когда вышел его «Самозванец» — не то художественный, не то документальный фильм о человеке, чьей способности к перевоплощению позавидовал бы даже Фрэнк Эбингейл.\n",
      "Уже тогда был заметен особый почерк постановщика: его умение работать с фактами, стирать грань между подлинным и выдуманным. Спустя шесть лет почерк окреп, из забавной одноразовой «фишки» превратился в полноценный авторский стиль. И хотя «Американские животные», в отличие от предшественника, куда ближе к кино игровому, чем документальному, Лэйтон продолжает намекать: формат — лишь условность, а вовсе не строгая рамка.\n",
      "\n",
      "В начале фильм заявляет: «История не основана на реальных событиях. Это и есть реальность». После таких слов ждёшь, что вот-вот услышишь звук включения камеры и смотрящий в объектив герой расскажет тебе об очередной «найденной плёнке» — самый очевидный и пошлый способ показать эту пресловутую «реальность». Но Лэйтон, к счастью, идёт другим путём.\n",
      "\n",
      "Он вообще отказывается от демонстрации «объективной» реальности. Его история рассказана от лица участников событий, которые могут привирать, ошибаться или банально чего-то не помнить — и режиссёр прекрасно оперирует особенностями их субъективного восприятия. Отсюда растёт много уморительных сцен, где детали изменяются по мере того, как герои вспоминают что-то новое; или персонажи перескакивают из локации в локацию, потому что не могут вспомнить, где на самом деле находились в тот момент. Вместе такие эпизоды добавляют истории необходимый шарм городской полулегенды — что-то похожее недавно безуспешно пытались сделать в «Жарких летних ночах». Вообще, рассказ от лица недобросовестного рассказчика — приём не новый, было такое и в «Я, Тоня», и в знаменитых «Подозрительных лицах», но Лэйтон уделяет этой повествовательной технике куда больше внимания, чем Гиллеспи и даже Сингер с МакКуори.\n",
      "В мире «Американских животных» Кайзер Сюзо (а точнее, целых четыре Кайзера Сюзо) давно пойман: вот он, во плоти, сидит перед камерой и рассказывает о злодеяниях семилетней давности. В его судьбе нет интриги, но она фильму и не нужна — как всякого хорошего документалиста, Барта Лейтона больше интересуют причины, а не события.\n",
      "\n",
      "Поэтому он заставляет реальных людей вспоминать поступки, о которых вспоминать не очень-то хочется. В менее умелых руках такой ход мог превратить фильм в выпуск «Криминальной России», но Лэйтон никогда не даёт интервьюируемым сказать больше, чем нужно, оставляя всё главное самому действию. Их речи — не банальный «закадр» и нужны не для того, чтобы залатать дыры, с которыми сценарист не в силах справиться. Образы реальных героев дополняют героев экранных, позволяют взглянуть на них с некой вневременной перспективы, и чем больше мы узнаем о конце их пути, тем интереснее становится его начало.\n",
      "\n",
      "Способность Лэйтона к балансу между документальным и художественным кино если и не достигла в «Американских животных» идеала, то очень к нему близка. Сам режиссёр это отлично понимает и вовсю эксплуатирует свой метод. В невероятной по энергетике кульминации он сталкивает две стороны истории лбами, реальных героев лично сводит с их экранными воплощениями. То, что Франко использовал как милую шутку после титров «Горе-творца», здесь становится одной из эффектнейших сцен фильма.\n",
      "\n",
      "Уже ко второй своей работе Лэйтон сделал то, на что у других уходят десятилетия, — создал оригинальный киноязык, которым он может рассказывать истории так, как никто до него не делал. Это не мокьюментари (ведь документальная часть тут совсем не «псевдо-»), не документалка и не игровое кино. Здесь, как в знаменитой британской поговорке, всё и сразу. В руках режиссёра даже осточертевшие приёмы вроде разрушения четвёртой стены обретают новую жизнь — потому что использованы не для одноразовой шутки, а как неотделимая часть повествования.\n",
      "Пускай фильм жертвует некоторой сценарной «тонкостью»: в «Американских животных» все главные мысли произносятся вслух, их не пытаются скрыть за томными взглядами и статичными кадрами красивых пейзажей. Но предъявлять это как претензию не хочется — ясно, что если бы Лэйтон чересчур усложнил сценарную основу, его уникальная техника не раскрылась бы.\n",
      " \n",
      "\n",
      "«Американские животные» — главный heist-movie эпохи пост-Содерберга, когда казалось, что ничего нового в жанре уже не придумать. Ведь фильм в первую очередь даже не о четвёрке друзей-раздолбаев, которые учатся грабить по старым фильмам и сознательно-бессмысленно цитируют «Бешеных псов». Он именно об эпохе, когда со всех экранов людям твердят об их уникальности, но никто эту уникальность не чувствует. «Никто не хочет быть обычным», — говорит теглайн фильма. Что ж, самим «Американским животным» обычность уж точно не грозит.\n",
      "Присоединяйтесь к нашему каналу в Телеграм, чтобы ничего не пропустить!\n",
      "\n",
      "Планета обезьян: Война \n",
      "  \n",
      "И через пятнадцать лет после того, как вирус уничтожил большую часть людей и развил интеллект обезьян, два вида продолжают враждовать. Устав от бесконечных стычек и смертей своих сородичей, Цезарь задумывает уйти из лесов, окружающих развалины Сан-Франциско, в глубь континента, но накануне переселения обезьяны вновь оказываются атакованы солдатами, ведомыми зловещим Полковником. Резня отняла у Цезаря самых близких, и одержимый жаждой мести вожак обезьян в одиночку отправляется на охоту за Полковником. Оставленная лидером стая становится легкой добычей людей, и шимпанзе оказываются заключены в концентрационный лагерь в заснеженных горах. Цезарю приходится сделать выбор между возмездием и ответственностью за свой народ, а проредивший человечество вирус между тем мутирует и начинает новую жатву…\n",
      "\n",
      "\n",
      "За «Планету обезьян» можно только порадоваться – сложно навскидку вспомнить, какой из классических франшиз так повезло с ремейком, да не одним, а состоящим сразу из трех частей. «Восстание» и «Революция» получились не просто достойными своего предшественника, они совершенно точно превзошли все продолжения фильма 1968 года, их заслуженно хвалят критики и с удовольствием смотрят зрители, это качественные умные блокбастеры, умело сочетающие серьезные моральные и этические вопросы с отлично поставленным экшеном. Перед третьим фильмом современной серии задача стояла непростая: завершить трилогию нужно было, не уступив предыдущим лентам, и, кажется, у Мэтта Ривза получилось.\n",
      "\n",
      "Шесть лет назад «Восстание планеты обезьян» впечатлило публику сразу по трем направлениям: фильм говорил о серьезных проблемах, пусть и несколько упрощенным языком, ленту населяли нетривиальные и достаточно симпатичные персонажи, а спецэффекты поразили даже самое искушенное воображение. «Планета обезьян: Революция» эту линию продолжила – картина сменила постановщика и актерский состав (Энди Серкиса пока оставим за скобками), но не отказалась от социальной и философской проблематики. Об обезьянах не нужно и говорить, за визуальные эффекты лента Ривза была номинирована на «Оскар», да и люди не подвели – Гэри Олдман, Кэри Рассел и Джейсон Кларк расширили восприятие человека.\n",
      "\n",
      "\n",
      "Применительно к «Планета обезьян: Война» говорить об уровне эффектов уже просто не имеет смысла. Работа Энди Серкиса и его команды на этот раз просто безупречна – даже если раньше у вас возникала путаница в персонажах, сегодня каждая обезьяна получила такой набор уникальных черт, повадок, жестов и мимики, что обознаться уже не получится. Цезарь же обрел такую харизму, что в уникальном мощном актерском таланте Серкиса не осталось ни малейших сомнений – актера пора выдвигать на действительно значимые премии, по нему «плачут» «Оскар» и «Золотой глобус».\n",
      "\n",
      "Социальный подтекст, которым всегда славилась история противостояния обезьян и человека, в «Войне» обрел дополнительную массу. Лента выходит в непростое время, человечество испытывает множество проблем: поднимает голову национализм и расизм, Ближний Восток калечат кровопролитные сражения, миграционный кризис привел к вспышкам террора по обе стороны Атлантики. События нового фильма Ривза можно трактовать с самых разных точек зрения: здесь снова в полный рост встает сегрегация, здесь можно разглядеть столкновение религий, цивилизаций, мировоззрений, трехсторонняя финальная битва – очевидный намек на то, что войны, подобные тем, что в реальности мы наблюдаем в Сирии и Ираке, закончиться могут только уничтожением всего живого.\n",
      "\n",
      "В очередной раз не подвели ожиданий зрителей персонажи, причем не только с «людской стороны» – компанию приматов пополнила болтливая Плохая Обезьяна, а перешедшие на сторону людей Шавки еще острее поставили под сомнение правило «Обезьяна не убьет обезьяну». Что же до людей, то здесь ожидаемо правит бал Вуди Харрельсон – его безумный Полковник словно заглянул в «Войну» с площадки «Апокалипсиса сегодня», это воплощение ярости, жестокости и ненависти. Наверное, мотивация убивать и целеполагание предводителя солдат – не самая сильная сюжетная часть, но противостояние Полковника и Цезаря накаляет обстановку до предела, а финальная немая дуэль просто выше всяких похвал.\n",
      "\n",
      "В незначительных огрехах картины копаться не хочется, все претензии к бензиновому изобилию на погибающей Земле, не слишком смышленым солдатам, выросшему в диких условиях словарному запасу Цезаря и выверту с вирусом оставим ворчунам. По большому счету порицания в «Войне» заслуживает только нарочитая жестокость, превращающая людей в откровенных скотов, да несколько неуклюжие попытки зацепить религию – провокация с принесенным в жертву сыном получилась посредственной. Но все эти шероховатости лишь добавляют ленте искренности – жизнь не всегда отличается изяществом, иногда это очень грубая штука.\n",
      " \n",
      "\n",
      "Ривз и коллектив сценаристов снова одарили поклонников франшизы россыпью отсылок к предыдущим фильмам, тут и имя Нова, данное подобранной обезьянами немой девочке, и символы «Альфа» и «Омега», возвращающие к серии о погребенной под землей бомбе. Даже цветовая гамма финального сегмента прямиком отправляет нас на полвека назад, для полноты картины не хватило только следа от заходящего на посадку космического корабля. Впрочем, для этого события сейчас еще слишком рано – нам нужно принять и пережить новую трилогию «Планета обезьян», одну из лучших перезагрузок в индустрии, где ребутами сыты по горло.\n",
      "С 13 июля в кино.\n",
      "\n",
      "Виктория \n",
      "  \n",
      "Молодая испанка Виктория работает в берлинском заштатном кафе, где получает сущие гроши. В столице Германии она чувствует себя чужой – не говорит по-немецки, не заводит знакомств, всем развлечениям предпочитает шумный танцпол. После одного такого ночного похода в клуб Виктория обращает на себя внимание четырех местных парней, отмечающих день рождения своего друга. У Виктории есть три часа до того, как снова нужно будет открыть двери своего кафе и встать за стойку, и девушка отправляется в короткое путешествие, которое сперва оказывается веселым, затем романтичным, позже оборачивается приключением, а завершается трагедией. Два часа в предрассветном Берлине для девушки, не имеющей ничего, кроме своего имени.\n",
      "\n",
      "\n",
      "Навскидку мы даже не возьмемся вспомнить хоть один фильм (а есть ли вообще такой?), финальные титры которого открывались бы не фамилией режиссера и не списком задействованных в проекте актеров, а специально выделенным именем главного оператора. Впрочем, к появлению этих титров и у вас не возникнет никаких сомнений в том, что «Виктория» – это бенефис одного человека, но не постановщика и даже не исполнительницы заглавной роли. Стурла Брандт Гревлен – запомните это имя – совершил невероятное: снял «Бердмена» без монтажных фокусов, «Русский ковчег» в жанре экшен, «Беги, Лола, беги» в невероятной даже для фильма Тома Тыквера стилистике. «Виктория» снята одним кадром, 134 минуты непрерывной съемки на ручную камеру в самой гуще событий. И это настоящая фантастика!\n",
      "\n",
      "\n",
      "Сюжет, актерские работы и драматическую составляющую «Виктории» сложно описывать вне того формата, в котором лента создана Гревленом и режиссером Себастьяном Шиппером. Непрерывный кадр создает жесткие временные рамки, сужает горизонт возможностей игры с планами, лишает упрощающих и стандартизированных «восьмерок» и прочих кинематографических штампов. Банально звучит, но Гревлен своей камерой делает зрителя настоящим участником действия, развернувшегося на экране, с первого кадра в лучах клубного стробоскопа до последнего с уходящей вдаль героиней. В первые полчаса вы проникаетесь приятельским духом новых знакомых, после первого часа от романтики перескакиваете к триллеру, а к исходу второго часа ленты уже дышите в унисон с Викторией и Сонни – герои становятся частью вас.\n",
      "\n",
      "Безусловно, сильная сторона непрерывного кадра является одновременно и его «ахиллесовой пятой» – в два часа нужно уложить не только споро разворачивающиеся события, но и развитие отношений, трансформацию характеров, плавно зарождающуюся влюбленность героев и ощущение штопора, в который компания по неосторожности попадает. Благо, все это присутствует, все работает, и предъявлять претензии к актерам совершенно не хочется – и Лайа Коста, и Фредерик Лау прекрасны в своих образах молодых людей, «зависших» между подростковой бесшабашностью и оседлостью взрослой жизни. Детство у их героев все еще «играет в попе», их все еще тянет на приключения, они все еще не обожглись и не переросли юношескую прыть. Что ж, эта ночь многое расставит на свои места и наверняка запомнится тем, кто ее пережил.\n",
      "\n",
      "Без сравнения с уже упомянутой «Лолой», конечно, не обойтись. Но если немецкое кино и смогло создать что-то свежее и энергичнее суеты Франки Потенте и Морица Бляйбтроя, то это именно «Виктория». Медленно запрягая и даже усыпляя долгой дорогой к первому, казалось бы, такому очевидному поцелую, картина внезапно ударяет по газам и во второй половине просто не дает закрыть рот от удивления. «Как, черт возьми, они все это сняли?» – этот вопрос будет преследовать зрителей после окончания просмотра еще очень долго.\n",
      "\n",
      "А действительно, как? Интересующимся стоит поискать интервью создателей ленты, рассказывающих о том, из чего складывается логистика подобного кино, какой должна быть камера, чтобы оператор не просто не свалился под ее тяжестью после десяти минут использования, а имел оснащенный долгоиграющей батареей и достаточно мощным объективом «глаз». Наконец, удивительно будет узнать, что создателям ленты пришлось полностью снять ее трижды от начала до конца, прежде чем результат устроил оператора, постановщика, продюсеров и актеров. Три полноценных забега в 134 минуты – это вам не пятисекундные дубли снимать по двадцать раз!\n",
      " \n",
      "\n",
      "«Виктория» – это настоящая магия кино, обволакивающая и завораживающая. Здесь есть стрельба для мальчиков и романтика для девочек, есть динамичное техно и исполняемая на пианино классика, есть красота одиночества и удовольствие от нахождения в приятной дружеской компании, есть опасность и успокоение, есть непростое настоящее и неопределенное будущее. Редкий фильм вмещает в себя столько эмоций, живого драйва и не испорченной спецэффектами красоты. «Виктория» – настоящая победа: над миром, над обыденностью, над шаблонами.\n",
      "\n",
      "Голос улиц \n",
      "  \n",
      "Комптон, пригород Лос-Анджелеса, середина 1980-х. Эрик Райт – молодой хулиган, торгующий наркотой на улице и регулярно попадающий в разборки уличных банд. Андре Янг – талантливый диджей и музыкант, пытающийся вырваться из-под опеки матери, чтобы начать полноценную самостоятельную жизнь. О’Ши Джексон – школьник, пишущий резкие уличные тексы для песен протеста против произвола бандитов и полиции. Каждому из ребят чего-то не хватает, чтобы в одиночку выбиться в люди, но, объединившись в рэп-коллектив N.W.A., они стали настоящей большой группой, способной перевернуть представление о новой черной музыке. Однако испытания еще только начинаются – даже обрушившаяся на парней популярность не может оградить их от проблем с законом, юридических войн, внутренних конфликтов, болезней и смертей близких…\n",
      "\n",
      "\n",
      "Время от времени Голливуд выдает в прокат такое кино, от которого никто не ждет ничего особенного, но оно вдруг оказывается едва ли не национальным достоянием. Еще свежи в памяти воспоминания о том, каким бульдозером по своим конкурентам проехал «Снайпер» Клинта Иствуда – ставок на него делать не планировалось, а фильм вдруг побил уйму кассовых рекордов. Такой же темной лошадкой в американские кинотеатры проскользнул и «Голос улиц», нишевый продукт, адресованный не просто поклонникам музыки, а самым настоящим фанатам определенной группы, пик популярности которой пройден два десятка лет назад. Кому это может быть интересно, казалось бы. Но в Штатах картина три недели подряд занимала первое место в кассовом топе, а затем еще четыре недели держалась в десятке, втаптывая в грязь таких прокатных конкурентов, как «Агенты А.Н.К.Л.», «Выхода нет», «Хитман» и «Перевозчик». И вот уже российский офис Universal в спешке выбирает окно в осенней сетке релизов, чтобы отечественный зритель тоже мог взглянуть, что же несут «ниггеры с понятиями» «прямиком из Комптона».\n",
      "\n",
      "\n",
      "А действительно, что? Начнем с того, что «Голос улиц» – это не совсем байопик. Во-первых, рассказывает лента о не самом длительном отрезке времени, подробно описываются лишь первые 2-3 года существования N.W.A., остальное размазывается по поверхности. Во-вторых, в картине нет формального главного героя, хотя, конечно, в силу отношений внутри группы основной упор сделан на судьбу Eazy-E, и это не позволяет называть «Голос» чьей-то биографией. Наконец, история мальчишек, вырвавшихся из бандитского окружения с помощью своих талантов, – это лишь одна сторона медали. Вторая – это общее ощущение напряжения между белым и черным населением Западного побережья накануне Лос-Анджелесского бунта 1992 года. И именно такой многозадачный подход превратил «еще один музыкальный фильм» в настоящий манифест.\n",
      "\n",
      "Будущему зрителю, особенно российскому, достаточно далекому от понимания, кто такие Ruthless Records, при просмотре придется тяжело, под рукой необходимо иметь как минимум англоязычный раздел Википедии, а для более полного понимания неплохо было бы почитать воспоминания многочисленного окружения Eazy-E и его друзей. Фильм переполнен персонажами, он обращается ко многим реальным событиям, оставляя зрителям узелки на память. Еще большую проблему составляет то, что даже по прошествии двух десятилетий со времени описываемых событий участники тех «славных дел», очевидно, не определились в своем отношении ни друг к другу, ни к своему менеджерскому окружению, ни к сторонним коллегам, многие из которых и сами стали звездами мирового масштаба. От рассказа остается впечатление недосказанности, неопределенности и зыбкости.\n",
      "\n",
      "Не стоит и без оглядки принимать на веру все показанное. Безусловно, большим плюсом для картины является то, что двое из участников группы – Dr.Dre и Ice Cube – приняли участие в написании сценария и спродюсировали ленту вместе с вдовой Eazy-E, но это же является и ахиллесовой пятой сюжета, жизнь внутри группы показана однобоко, упор сделан лишь на часть музыкантов. С другой стороны, на авторов фильма посыпались претензии в отношении того, как представлены эти отношения – N.W.A. показаны «белыми и пушистыми», тогда как их трения с законом, общественностью и моралью далеко не ограничивались упоминаниями слова Fuck в текстах песен.\n",
      " \n",
      "\n",
      "Вне всякого сомнения остается тот факт, что кино получилось добротным – почти 150-минутный хронометраж переносится достаточно легко за счет шикарных актерских работ, среди которых особенно хочется отметить игру Джейсона Митчелла и О’Ши Джексона-младшего, исполнившего роль своего отца Ice Cube. Глубокая диафрагма взгляда на события в Лос-Анджелесе на рубеже 1990-х вкупе с широким горизонтом персонажей придает ленте дополнительных бонусов. Ну а то, что не все в фильме показано точно и не обо всем упомянуто, так это дело для биографических лент обычное. Благо, поле на этом участке распахано пока лишь небольшими клочками, поэтому поклонники американского рэпа и хип-хопа вполне могут рассчитывать на новые «голоса» с улиц, которые смогут встать рядом с крепким фильмом Ф. Гэри Грея.\n",
      "С 12 ноября в кино.\n",
      "\n",
      "Сын Саула \n",
      "  \n",
      "1944 год, концентрационный лагерь Освенцим. Чтобы облегчить жизнь своих солдат, руководство лагеря собирает из числа наиболее крепких заключенных зондеркоманду, на плечи именно этих мужчин ложатся обязанности убивать своих соотечественников, уничтожать их трупы и сжигать одежду. Во время очередной «чистки» венгерский еврей по имени Саул среди тел видит мальчика, который кажется ему давно потерянным сыном. Не сумев спасти мальчишке жизнь, Саул желает хотя бы похоронить его, соблюдая обряды своей религии. Для этого тело нужно спасти из огня, избежать вскрытия и провести отпевание. В поисках раввина среди заключенных Саул оказывается в центре заговора, целью которого является побег пленников из стен «фабрики смерти».\n",
      "\n",
      "\n",
      "Еще в 80-х годах сложно было себе представить, насколько сильно девальвируются, как будут заезжены емкие, звучные слова «фашизм», «гестапо», «концлагерь». Для поколения, прошедшего войну, для детей послевоенного Советского Союза, даже для внуков, которые имели пусть недолгую, но возможность говорить с дедами, прошедшими от Волги до Берлина, страшные слова, ассоциирующиеся со Второй мировой войной, были «магическими», «особенными». Их не произносили всуе, в них была боль и мощь, ненависть к врагу и радость Победы. Сегодня усилиями безумной пропаганды святость памяти о самой страшной войне в истории человечества растоптана, ежегодный парад Победы превратился в карнавал, символ великой медали украшает автомобильные антенны, дамские сумочки и собачьи ошейники, а словом «фашист» можно назвать любого, от бывшего приятеля из соседней Украины до поддатого мужика, пролезшего к кассе без очереди.\n",
      "\n",
      "Русский язык ожидаемо переварил случившееся семьдесят лет назад, но сами понятия фашизма, нацизма, холокоста остались незыблемыми, как бы их ни старались «причесать» согласно новым трактовкам истории. И лучшими прививками, лучшей сывороткой для пробуждения памяти сегодня становится кино. Честное, справедливое, жесткое кино об ужасах войны. Не созданное по указке Минкульта, во всем ищущего патриотическое воспитание, а идущее от боли в сердце, от желания не допустить повторения. «Сын Саула» – это колосс, который стоит на пути забвения ужасов Освенцима, это стена, отделяющая мифологию от человеческого опыта, добытого в страшнейших условиях.\n",
      "\n",
      "Картину необыкновенно тяжело смотреть, и ее сравнение с драмой «Иди и смотри» Элема Климова неслучайно, обе ленты имеют колоссальную силу. И дело даже не в том, что на экране демонстрируются страшные кадры последних минут жизни смертников газовых камер, не в том, что трупы в кадре являются столь же обычной декорацией, как мебель или окна бараков, даже не в ужасающей обыденности происходящего – подумаешь, в реку нужно перекидать лопатами гору пепла. Сбивает с ног сама подача материала – камера оператора Матьяша Эрдея неизменно находится в максимальной близости к лицу главного героя. Фактически весь фильм – это один большой крупный план Саула, из-за плеча которого мы смотрим на ужасный мир Освенцима. Даже не смотрим, а становимся частью его жизни, частью его работы, страшной работы, сводящей с ума.\n",
      "\n",
      "\n",
      "Непостижимо, но лента, вобравшая в себя и ужас смерти от газа, и ежедневную работу зондеркоманды, и веру в силу религиозных обрядов, и отчаянное желание свободы, сделана режиссером-дебютантом. Впрочем, дебюту Ласло Немеша предшествовала грандиозная подготовка – желанием снять картину о членах зондеркоманды Немеш загорелся еще в 2005 году, а сценарий был закончен только в 2011-м. За это время будущий режиссер успел пройти множество инстанций, познакомился с десятками доживших до наших дней узников концлагерей, нашел единомышленников среди известных историков холокоста, но так и не нашел поддержки властей европейских стран. Тем ярче выглядит решение Венгерского национального кинофонда, изыскавшего средства на съемки фильма, принесшего Немешу, всей Венгрии и всем, кто помнит о войне, главные призы в мире кино – «Оскар» и «Золотую пальмовую ветвь» Каннского кинофестиваля.\n",
      " \n",
      "\n",
      "Безусловно, очень больно осознавать, что наше кино сегодня на фильм такой мощи не способно – нет серьезных историков, нет заинтересованных творцов, нет запроса зрителей в конце концов. Но, к счастью, кино, как, увы, и война, – понятие всеобъемлющее, не ведающее границ и временных рамок. «Сын Саула» – картина не о венграх или евреях, не о мужчине или мертвом мальчике, не об узнике или желанной свободе. Она о человеке, остающемся человеком даже в самых ужасающих обстоятельствах. И это важно понимать именно сейчас, когда человеческий облик многие теряют даже в отсутствие угрозы тотального геноцида.\n",
      "С 14 апреля в кино.\n",
      "\n",
      "Логан \n",
      "  \n",
      "2029 год. Мир постепенно забывает о мутантах, от которых остались лишь легенды да перевирающие реальные истории комиксы, последний ребенок со сверхспособностями родился четверть века назад. Давно отошедший от дел Росомаха прячет оставшихся в живых Профессора Икс и мутанта по имени Калибан на заброшенном складе у границы с Мексикой, а сам пытается заработать хоть какие-то деньги. Однако как Логан ни пытается утихомирить свои инстинкты, с прошлым прирожденному убийце не совладать, и жизненный путь его всегда усеян трупами. По этим следам Росомаху находят охотники за мутантами и женщина, утверждающая, что девочка, с которой она пытается добраться до Канады, имеет родственную связь с Логаном. Под воздействием обстоятельств Росомахе, Чарльзу и их новой одиннадцатилетней подруге Лауре приходится отправиться в опасное путешествие через Америку. Последнее путешествие людей, которых мир так и не смог принять…\n",
      "\n",
      "\n",
      "Сколько вам было в 2000-м, когда в прокат вышли первые «Люди Икс»? Даже если тогда вы всего лишь пешком ходили под стол, сегодня вам можно вступать в брак, защищать Родину с оружием в руках, голосовать и без всяких помех ходить на фильмы с взрослым рейтингом. Что уж говорить о тех, кто встретил зарождение киновселенной комикс-мутантов в зрелом возрасте! Мы все выросли, и было бы странно, если бы вместе с нами не менялись и фильмы о супергероях и сверхзлодеях. И кино меняется, но не всегда так, как хотелось бы поклонникам, что-то идет в правильном направлении, какие-то франшизы топчутся на месте, кто-то и вовсе повернул вспять, но расширенная вселенная «Людей Икс» остается удивительно сбалансированной – в ней есть место и грандиозным «общим» фильмам, и весьма впечатляющим сольникам, мутанты пережили изящную перезагрузку, но сохранили крепкую связь, наконец, только эта франшиза позволяет себе радовать зрителей жесткими прокатными рейтингами. Сплошные плюсы.\n",
      "\n",
      "\n",
      "Кроме тяжести прожитых лет. За 17 лет многое изменилось – Хью Джекман, а следом за ним и Патрик Стюарт не зря говорят о том, что пора оставить привычные образы и двигаться вперед. Дорога для «Новых мутантов» проторена, в производство запущено несколько новых полнометражных фильмов и сериалов – самое время достойно попрощаться с героями, радовавшими зрителя предыдущие годы. В этом вся суть «Логана», нового фильма Джеймса Мэнголда, фильма-реквиема, фильма-некролога старому миру мутантов, фильма-посвящения тому, как молоды и глупы были все мы.\n",
      "\n",
      "Лента Мэнголда разительно отличается от всего того, что раньше демонстрировала мутантская кинофраншиза, и даже сравнение с «Дэдпулом», имеющим, как и «Логан», «взрослый» рейтинг, некорректно. Кино получилось весьма скромным, даже камерным (несмотря на впечатляющий бюджет), на удивление душевным, трагичным и очень эмоциональным. Причем если раньше целью авторов был размах, впечатляющие спецэффекты, разнообразие способностей у мутантов, то сейчас зрителю предлагается этакое роад-муви с элементами поколенческой «схватки» отцов и детей. Причем в последнем участвуют не только Логан и его «дочь» – ничуть не менее любопытны «терки» Росомахи и теряющего остатки разума и сил Чарльза.\n",
      "\n",
      "Светлое будущее, в которое верили мутанты эпохи первых столкновений Профессора Икс и Магнито, не наступило, изменения в генетике людей и вправду оказались не новой ступенью эволюции, а ошибкой Бога, жизненный путь людей со сверхспособностями постоянно усеян трупами – как с этим жить? Да и стоит ли? Зритель встречает Росомаху, который не просто в обычной депрессии, он в полном отчаянии и готов пустить себе адамантиевую пулю в лоб. Но потом появляется молчаливая и кровожадная девочка и меняет представление об окружающем мире. Так обычно и бывает в реальном мире – дети влияют на родителей не меньше, чем родители на детей.\n",
      "\n",
      "Нет, от драматического наполнения «Логан» ничуть не потерял в экшене. Даже наоборот, рейтинг «развязал руки» авторам, и те не преминули шансом воспользоваться – проткнутым когтями головам злодеев здесь нет числа, дети в фильме убивают не реже убеленного сединами Росомахи и, что еще более удивительно, умирают сами. Кино впечатляет боевыми сценами, снятыми энергично и с привычной удалью, разве что до определенного момента фильм не слишком впечатляет злодеями – Доналд Прайс чересчур болтлив, а Доктор Райс выглядит угрозой только в пределах своей лаборатории, но с появлением очередного «оружия» все встает на свои места.\n",
      " \n",
      "\n",
      "«Логан» оставит довольными всех – в нем достаточно отсылок к предыдущим киноприключениям Росомахи и вставлен неплохой задел на будущее, он обладает специфическим юмором и с уважением относится к почитателям комиксов, наконец, он достаточно тонок и дружески расположен к тем, кто не слишком уважает супергероику, здесь в конце концов Логану приходится не только махать кулаками, но и открыть сердце. Да, расставание получилось грустным и очень трогательным, финальный кадр невероятно красив, но это лучшее, что в данной ситуации могли сделать Стюарт, Мэнголд, Кинберг и, конечно, Джекман. Герой ушел, но остался в сердцах миллионов!\n",
      "С 2 марта в кино.\n",
      "\n",
      "Истинная грусть \n",
      "  \n",
      "Известная, но не суперпопулярная солистка девичьей поп-группы Мима Киригоэ объявляет, что завершает эстрадную карьеру и уходит в телевизионные актрисы. Ее фаны негодуют, но менеджеры Мимы поддерживают девушку, поскольку считают, что она больше заработает как телезвезда. Сперва Мима получает лишь эпизодическую роль, однако затем авторы сериала решают сделать ее главной злодейкой – сходящей с ума жертвой изнасилования. По мере того как девушка «пятняет» свой девственно чистый имидж, вокруг нее погибают люди, и Мима, понемногу теряющая связь с реальностью, начинает подозревать, что совершает преступления не только на экране, но и в жизни.\n",
      "\n",
      "\n",
      "В отличие от советской и американской, японская анимация славится разнообразием жанров, но даже для нее психологический триллер «Истинная грусть» – необычное полотно. Изначально экранизация романа Ёсикадзу Такэути планировалась как художественный видеосериал. Однако работавшая над проектом продюсерская компания пострадала во время землетрясения в Кобе в 1995 году. Оставшихся после катаклизма средств хватило только на выпущенный в 1997-м «взрослый» полнометражный мультфильм, также предназначавшийся для видео, но все же добравшийся до кинотеатров и покоривший жюри нескольких жанровых фестивалей.\n",
      "\n",
      "Благодаря художнику комиксов и создателю «Акиры» Кацухиро Отомо, который был консультантом картины, «Истинная грусть» стала режиссерским дебютом Сатоси Кона, бывшего ассистента Отомо. И одной этой картины оказалось достаточно, чтобы вписать Кона в пантеон выдающихся японских аниматоров. Позднее постановщик подтвердил свой статус в «Актрисе тысячелетия», «Однажды в Токио», «Агенте паранойи» и «Паприке», но это уже другая и, к сожалению, печальная история, потому что Кон безвременно ушел от нас в 2010 году, скончавшись от рака в возрасте 46 лет.\n",
      "\n",
      "\n",
      "С графической и анимационной точки зрения «Истинная грусть» – отнюдь не лучшая работа заслуженной студии Madhouse. Чувствуется, что бюджет картины был ограниченным, и потому в фильме немало типичных для «экономных» японских лент статичных или почти статичных кадров, в которых тщательно прорисованные фоны кое-как маскируют отсутствие движения. Это не значит, что в «Грусти» нечем любоваться (мы имеем в виду далеко не только кадры обнажения Мимы, которая то снимается в сцене изнасилования, то наяву чуть не становится жертвой насильника), но все же это не тот мультфильм, который можно смотреть без звука, лишь ради наслаждения мастерством аниматоров. Величие «Грусти», которую часто ставят в один ряд с голливудскими психологическими шедеврами, – в ее сюжете и в ее сценарии, в изощренной игре с несколькими уровнями реальностей и иллюзий.\n",
      "\n",
      "В самом деле, Мима – это провинциальная девушка, которая изображает горожанку (Мима обычно говорит на «стандартном» японском, но в разговоре с матерью переходит на родной диалект), которая изображает бывшую поп-звезду, ставшую актрисой и теперь изображающую на ТВ сумасшедшую девушку, которая попеременно считает себя своей сестрой и… Но не будем углубляться в спойлеры.\n",
      "\n",
      "\n",
      "Путаница? Еще бы! Именно поэтому Мима сходит с ума не только в своем телешоу, но и в жизни. Ее реальности наслаиваются друг на друга и вступают в конфликт, потому что Мима-актриса хочет быть раскованной взрослой женщиной, играющей провокационные роли и снимающейся для мужских журналов, а Мима-певица тянет девушку в прошлое, когда она изображала наивную девственницу и пела «чистые» песни о нежной любви. Первую Миму поддерживают новые коллеги героини, вторую – ее фанаты, и этот раздрай делает психику девушки чрезвычайно уязвимой и склонной к галлюцинациям и провалам памяти.\n",
      "\n",
      "\n",
      "Хотя обстоятельства Мимы весьма специфичны, ее внутренний конфликт близок и понятен многим. Особенно девушкам, от которых путаные современные нравы требуют быть одновременно «мадонной» и «шлюхой». Сатоси Кон всегда утверждал, что его лента – лишь история взросления, облаченная в триллерную одежду, но, думается, правы те критики, которые также видят в «Грусти» острую критику нынешнего отношения к молодым женщинам. Ведь все персонажи фильма не упускают случая, чтобы с разных точек зрения пожурить Миму и навязать ей свое представление о жизни. А японцам, как правило, нелегко чихнуть на мнения людей и жить, как подсказывает сердце. Впрочем, Мима сама толком не знает, что подсказывает ей сердце. Иначе бы ее не посещали галлюцинации с ее эстрадным альтер эго.\n",
      "\n",
      "В тот момент, когда Мима-галлюцинация начинает регулярно появляться в кадре, вдумчивые зрители осознают, почему «Грусть» выиграла оттого, что была нарисована, а не снята. Поп-инкарнация Мимы одета в пестрый сценический костюм, и она невесомо порхает по крышам, как будто не подчиняясь закону притяжения. Если бы обеих героинь играла актриса, было бы хорошо видно, что одна из девушек реальна, а другая создана с помощью спецэффектов. В мультфильме же обе героини нарисованы, и ни одна из них не реальнее другой. По крайней мере, визуально.\n",
      "Кадр из аниме-фильма «Истинная грусть»\n",
      "Это позволяет Кону по мере приближения к развязке все более дезориентирующе смешивать реальности («реальная» реальность, реальность телешоу, реальность галлюцинаций Мимы…) и заставлять зрителей не верить своим глазам, даже когда происходящее на экране правдоподобно. Благодаря этому публика может не только понять, что происходит с Мимой, но и глубоко прочувствовать ее смятение, ее ужас и ее душевные травмы. В чем, согласитесь, состоит главная художественная задача любого амбициозного психологического кино.\n",
      "\n",
      "Чтобы Миме и зрителям было страшнее и чтобы финал получился напряженнее, вокруг девушки в определенный момент начинают происходить кровавые преступления. Это дает формальный повод классифицировать «Грусть» как детектив, однако фильм нарисован не для тех, кому нравится вместе с экранными сыщиками изучать улики и оценивать подозреваемых. Во-первых, никаких сыщиков в картине нет. А во-вторых, вычислить преступника можно задолго до развязки картины, но «Грусть» от этого ничего не потеряет. Кон нарисовал остросюжетную картину о пересечениях реальностей и иллюзий, а не о том, кто в какой момент держал нож. Кстати, однозначного ответа на последний вопрос фильм не дает, и его фаны до сих пор спорят, что случилось в «реальной реальности». Однако для японской анимации это не недостаток, а обычное дело – сосредоточиться на том, что действительно важно (в данном случае – на том, что творится в душе Мимы), и оставить второстепенные детали зрителям для домысливания. Не все же разжевывать и класть в рот…\n",
      "Напоследок отметим, что «Грусть» затрагивает тему киберсталкинга. Фильм заставляет героиню освоить Интернет и найти сайт, где неизвестный преступник (или альтер эго девушки?) ведет дневник от имени Мимы и демонстрирует знание мельчайших подробностей ее жизни. В книге Такэути ничего подобного не было – Кон придумал этот сюжетный ход, когда сам «поселился» в Сети. Ничего особенного по нынешним временам, но обратите внимание, что дополнения Кона абсолютно достоверны. Какое разительное и приятное отличие от голливудских фильмов и сериалов, где даже сейчас не всегда показывают Интернет таким, какой он на самом деле!\n",
      "\n",
      "Первый мститель: Противостояние \n",
      "  \n",
      "Мстители проводят спецоперацию в Африке, в результате которой гибнут десятки мирных жителей. Терпение международного сообщества заканчивается, и ООН предъявляет супергероям ультиматум. Либо они переходят под контроль специальной комиссии, которая будет решать, когда и как им действовать, либо оказываются вне закона. Тони Старк (Роберт Дауни-младший) и несколько его ближайших союзников поддерживают это решение, в то время как Стив Роджерс (Крис Эванс) и его лучшие друзья отказываются ему следовать. По их мнению, бюрократы слишком коррумпированы, чтобы доверять им власть над супергероями. Поначалу речь идет лишь об идеологическом противостоянии, но «холодная» война становится «горячей», когда власти обвиняют в теракте Баки Барнса (Себастиан Стэн), бывшего соратника Роджерса, который был похищен и зомбирован «Гидрой». Если Старк и его команда пытаются арестовать Барнса, то Роджерс и его друзья становятся на сторону предполагаемого злодея, чтобы доказать его невиновность и выявить настоящих преступников.\n",
      "\n",
      "Начнем с главного. Новый комиксный суперблокбастер студий Marvel и Disney сделал то, что мог бы сделать недавний блокбастер DC Comics и Warner «Бэтмен против Супермена: На заре справедливости», если бы его сняли не как вторую картину киновселенной DC Comics, а как трагическую кульминацию длинной череды постановок, прослеживающих знакомство и дружбу знаменитых супергероев. «Противостояние» берет любимых зрителями и безмерно уважающих друг друга персонажей и растаскивает их по разные стороны ринга для эпического сражения.\n",
      "\n",
      "Пока героев разделяет лишь идеология, остается шанс на то, что они помирятся и снова станут единой командой. Но, как это обычно бывает на гражданских войнах (именно так, «Гражданская война», переводится английский подзаголовок ленты), снежный ком противоречий быстро разрастается. К идейным спорам добавляются личные обиды, а когда на экране начинает литься кровь, примирение становится невозможным. Хотя герои искренне страдают из-за того, что идут друг против друга, отступить они не могут. Слишком многое поставлено на карту.\n",
      "\n",
      "\n",
      "Правда, в определенный момент возникает страшное подозрение, что «Противостояние» закончится так же, как «Бэтмен против Супермена» – герои по-быстрому померяются мужскими достоинствами, а затем пожмут руки и вместе сразятся с общим врагом (это не спойлер – «Бэтмен против Супермена» выдал половину сюжета в трейлерах). Но нет – братья-режиссеры Энтони и Джо Руссо, ранее снявшие «Первого Мстителя: Другую войну», ошибку Зака Снайдера не повторили.\n",
      "\n",
      "Общий враг у героев фильма действительно есть, но его наказание картину себе не подчиняет. Это второстепенная сюжетная линия, и она не отвлекает от основного блюда – двух кульминационных сражений супергероев (это тоже не спойлер – фрагменты обоих боев есть в трейлерах). Сперва сторонники Старка и Роджерса во главе со своими предводителями бьются стенка на стенку, а затем, по прошествии небольшого времени, Железный Человек и Капитан Америка дерутся не на жизнь, а на смерть. Ну, почти на смерть. Они не были бы благороднейшими супергероями, если бы в самом деле друг друга убили. Но до этого почти доходит, поскольку у обоих на то есть веские причины. Особенно у Старка.\n",
      "\n",
      "\n",
      "Как и «Бэтмен против Супермена», «Противостояние» длится около двух с половиной часов. Оно включает сложный и извилистый сюжет, несколько пафосных монологов, разнообразные и изобретательно поставленные экшен-сцены и двух новых для марвеловского цикла супергероев – Черную Пантеру (он же король вымышленной африканской страны Ваканда по имени Т’Чалла) и Человека-Паука (он же американский старшеклассник Питер Паркер). К сожалению, если к экшену ленты не придраться, то новички не особенно порадовали.\n",
      "\n",
      "Как и можно было ожидать, Человек-Паук великолепен в бою, и он раскрашивает «битву титанов» не только своими паучьими суперприемами, но и фирменным чувством юмора. Последнее всегда было важной частью его образа в комиксах, однако не было подчеркнуто в предыдущих фильмах о Питере Паркере, создававшихся студией Sony Pictures. Но в уморительной сцене вербовки Питера, в которой к нему домой заявляется Старк, юный британский актер Том Холланд демонстрирует полное отсутствие звездной харизмы. Конечно, Паркер не должен выглядеть как Капитан Америка. Но в нем должно быть хоть что-то такое, что останавливало бы зрительский взгляд. Он же Человек-паук, а не простой школьник. В «Противостоянии» это небольшая проблема, но она заставляет со страхом ждать уже объявленного «сольного» марвеловского фильма о Человеке-пауке. Такой Паркер нам не нужен!\n",
      "\n",
      "У Чедвика Боузмана, который сыграл Т’Чаллу, с харизмой все в порядке. Беда Черной Пантеры в другом – он получился «картонным». «Пафосная Пантера пафосна» – больше о нем ничего не скажешь. Даже в роботе Вижене больше человечности, чем в Т’Чалле, самом скучном супергерое фильма. Что до его суперспособностей, то Пантеру можно определить как усиленную Женщину-кошку. Не самый впечатляющий набор талантов на фоне умений некоторых других персонажей.\n",
      "\n",
      "Кто еще фигурирует в картине? Помимо упомянутых выше супергероев постоянное участие в действии принимают Черная Вдова, Сокол, Алая Ведьма и Воитель, а специально для кульминационной битвы к ним присоединяются Соколиный Глаз и Человек-муравей. Привлечение Человека-паука и Человека-муравья кажется несколько надуманным, поскольку они только познакомились с главными героями, а это все-таки история о противостоянии старых боевых товарищей. Но так как их уникальные умения позволяют им сыграть исключительно важную роль в общей схватке, то претензии к Пауку и Муравью снимаются, как только они показывают, на что способны.\n",
      " \n",
      "\n",
      "В целом «Противостояние» – один из лучших фильмов марвеловского цикла, если не самый лучший, и его заключительный поединок – это, пожалуй, драматичнейшая схватка в истории комиксных лент. У картины есть недостатки вроде отсутствия харизмы у Холланда или того, что ее первая половина немного неуклюжа из-за жонглирования толпой персонажей. Но это настолько удачное сочетание неожиданных сюжетных поворотов, мощного экшена, накала страстей и остроумных шуток, что вы пожалеете, если пропустите его в кино.\n",
      "С 5 мая в кино.\n",
      "\n",
      "Дикая \n",
      "  \n",
      "Шерил (Риз Уизерспун) успела многое пережить. Смерть матери (Лора Дерн) подкосила ее, и потерявшая точку опоры Шерил ударилась во все тяжкие – наркотики и беспорядочный секс разрушили ее брак, и теперь женщина не знает, как жить дальше. Возможным решением своих проблем она видит пешее путешествие в тысячу миль через всю Америку, но решиться на него оказывается проще, чем довести начатое до конца.\n",
      "\n",
      "Автобиографическая книга Шерил Стрэйд, в которой она описала свое путешествие по стране после развода, стала бестселлером и заинтересовала Риз Уизерспун, которая приобрела права на экранизацию еще до того, как книга добралась до продажи. Шерил прислала звезде копию до выхода романа, потому что посчитала, что если кто-то и сможет сыграть ее в кино, то именно Риз. Ради «Дикой» Уизерспун отказалась от главной роли в «Больших глазах» (занявшая ее место Эми Адамс получила за этот фильм «Золотой глобус») и была вынуждена свести свое участие в «Исчезнувшей» только лишь к продюсированию. Актриса определенно увидела в этой ленте большой потенциал и не ошиблась.\n",
      "\n",
      "Предыдущий фильм канадского постановщика Жан-Марка Валле «Далласский клуб покупателей» стал одним из главных событий 2013 года и удостоился охапки разнообразных наград, но к ленте были определенные претензии, и, как ни крути, она строилась вокруг мощнейших перформансов Мэттью МакКонахи и Джареда Лето – куда более искренних, живых и настоящих, чем сценарий этого скомканного «программного заявления». В «Дикой» от игры Уизерспун тоже зависит очень многое, но, к счастью, не все – несмотря на бесконечные просторы дикой Америки в кадре, это камерная, очень интимная и глубоко трогательная история о том, как легко спустить свою жизнь в унитаз и сколько пота, крови и слез понадобится, чтобы ее затем склеить.\n",
      "\n",
      "Тем, кто ожидает от «Дикой» напряженного «сурвайвалистского» триллера о борьбе человека с природой, лучше сразу занизить планку ожиданий – да, несколько раз Шерил попадает в весьма неприятные и сложные ситуации (остается без воды под палящим солнцем, теряет обувь как раз в тот момент, когда у нее начинают отваливаться ногти на ногах из-за долгой ходьбы), но «Дикая» в первую очередь действует не на нервные окончания, а на сердце. Для Шерил эта «прогулка» – шанс окрепнуть не телом, а душой, возможность заново пережить самые тяжелые моменты своей жизни, чтобы затем переродиться для новой жизни на мосту Богов.\n",
      "\n",
      "Блестящий монтаж вроде бы хаотично раскидывает по сюжету флешбэки, но в этой кажущейся беспорядочности тонкий математический расчет – кусочки мозаики неторопливо складываются воедино, но при этом вы не будете сидеть полфильма, не понимая, что происходит, кто все эти люди и что их связывает. Однако чем ближе к финалу, тем отчетливее вы будете понимать, как тяжело на душе у Шерил – для нее это не просто прогулка, чтобы «проветрить голову» после потери родителя и неудачного брака, тут и боль, и страх перед будущим, и огромное чувство вины.\n",
      "\n",
      "На пути Шерил будет встречаться много людей – хороших, опасных, странных. В этих мимолетных встречах – целый мир, и когда ближе к финалу героиня столкнется на лесной тропинке с бабушкой и внуком, после чего переживет маленький катарсис, защемит сердце. Вообще «Дикая» – на редкость жизнелюбивое и человеколюбивое кино, которое при этом не впадает в благостную паточность – Жан-Марк Валле и его сценарист Ник Хорнби не читают нам энциклопедию человеческих сердец, а просто протирают окно в огромный, многообразный мир снаружи.\n",
      " \n",
      "\n",
      "Выше было сказано, что от игры Риз Уизерспун здесь многое зависит, и актриса теперь имеет в своем резюме роль, которую по праву можно назвать «определяющей». Это смелая, глубокая, очень тонкая, богатая нюансами работа, с которой Уизерспун справляется на твердую «пятерку». Блистательный дуэт с ней составляет Лора Дерн, играющая мать Шерил, – эта пара такая органичная, такая «настоящая», что даже не замечаешь натяжку с их возрастом (Дерн всего лишь на девять лет старше своей экранной дочери). Приятно, что обеих отметили номинацией на «Оскар», хотя, конечно, «Дикая» – это больше, чем очередное «кино под Оскар», это фильм-друг, который может стать настоящим спасением и утешением для тех, кому кажется, что их жизнь летит под откос.\n",
      " \n",
      "\n",
      "Макбет \n",
      "  \n",
      "Шотландский полководец Макбет (Майкл Фассбендер) побеждает мятежников, покусившихся на власть короля Дункана. После битвы Макбету и его соратнику Банко (Пэдди Консидайн) являются ведьмы-пророчицы, которые предсказывают, что Макбет станет сперва таном Кавдора, а затем – королем Шотландии, в то время как потомки Банко оснуют королевскую династию. Когда Дункан награждает Макбета танским титулом, ранее принадлежавшим одному из мятежников, полководец и его жена (Марион Котийяр) решают, что должны убить правителя, дабы занять предсказанный им королевский трон.\n",
      "\n",
      "Можно привести немало аргументов в пользу осовремененных экранизаций Шекспира, в которых действие переносится в нынешние мегаполисы, а короли и аристократы превращаются в гангстеров и полицейских. Однако картины, в которых мафиози декламируют патетические шекспировские монологи, трудно воспринимать без иронии, неизбежно разрушающей драматизм классических пьес. Макбет может быть бандитом, участвующим в переделе мельбурнского криминального мира, как это было в вышедшей в 2006 году австралийской экранизации драмы (заглавного героя в фильме сыграл Сэм Уортингтон, будущий «Аватар»). Но меч шотландского тана идет ему куда больше, чем гангстерский автомат. Хотя бы потому, что ключевое для пьесы понятие «легитимность» в криминальном мире не существует. А еще потому, что решения, которые принимает мельбурнский Макбет, не отражаются на жизни целой страны, ввергнутой в бесконечную череду междоусобиц.\n",
      "\n",
      "\n",
      "К счастью для зрителей, уважающих классику, новая британская экранизация «Макбета», снятая австралийцем Джастином Курзелем, замысел Шекспира не переиначивает. Конечно, как и любая постановка классической пьесы, картина предлагает собственную, обычно интересную и уместную, интерпретацию ключевых моментов «Макбета» (скажем, в фильме шотландский принц сбегает в Англию, став свидетелем отцовского убийства, а не просто испугавшись случившегося). Но действие картины разворачивается в средневековом мире, среди шотландских гор и замков. И это позволило режиссеру перенести Шекспира на экран без тени иронии и с сохранением всех сюжетных и словесных нюансов, важных для исходного текста.\n",
      "\n",
      "\n",
      "Режиссерский подход Курзеля можно назвать одновременно стилизованным и сдержанным. В картине немало операторских изысков, игр со светофильтрами, съемок в густом шотландском тумане, художественных приемов, заставляющих вспомнить «300 спартанцев». Но постановщик ни в одном кадре не позволяет себе отвлечь зрителей от драматических идей «Макбета» и превратить картинку фильма в красоту ради красоты или в «мочилово» ради «мочилова». Так, открывающее ленту сражение армии Макбета с армией изменников одновременно визуально подчеркивает мощь и воинственность героев и кошмар происходящего – простые шотландцы, порой только что взявшие в руки оружие подростки, убивают друг друга из-за амбиций аристократов.\n",
      "\n",
      "Хотя Макбет выигрывает битву, он, в отличие от короля, не ликует. Он видит и осознает, какой ценой далась победа, и в буквальном смысле слова «кровавые мальчики» донимают его еще до того, как он убивает правителя. Если Шекспир отсчитывает грехопадение Макбета от того момента, когда героя посещают ведьмы, то для Курзеля тан с самого начала фильма движется по скользкой дорожке, участвуя в бессмысленных и безжалостных войнах. И то, что он, мучаясь совестью, не смягчает конфликты в королевстве, а усугубляет их, когда восходит на престол и становится тираном, превращает его в символ тех народов, которые, вырыв себе братоубийственную могилу, продолжают копать. В этом плане «Макбет» Курзеля смыкается с «Игрой престолов», хотя отношение австралийца к средневековым войнам куда более негативно, чем позиция авторов цикла, которые, кажется, верят, что такие войны могли быть справедливыми.\n",
      "\n",
      "Какие бы глобальные идеи ни затрагивала картина, в центре повествования все же находятся не народы, а люди, и придраться ни к одному из исполнителей основных ролей невозможно. Британские критики, правда, нашли, что не все актеры в равной степени владеют шотландским акцентом, и тех, кто знает английский как родной, это может раздражать (в России фильм выходит в прокат с переводом субтитрами). Но в нашей стране это проблема лишь для самых тонких ценителей, и серьезного обсуждения она не заслуживает.\n",
      "\n",
      "В отличие от того, что Майкл Фассбендер с его уникальным сочетанием мужественности и душевной «подточенности» был рожден для роли Макбета в куда большей степени, чем признанные театральные исполнители этой роли вроде Патрика Стюарта. Когда Макбет Стюарта незаконно восходит на престол, он все же кажется заслуживающим трона, потому что такова его мощная лидерская харизма. Однако это нарушает шекспировский замысел. В Макбете на престоле должен быть оттенок мальчишки из анекдота, который надел каску, но не стал настоящим сварщиком. И в Фассбендере этот оттенок есть. Его специфическая харизма идеально подходит для роли доблестного, но душевно слабого война, которым управляют его амбиции и его супруга и которого сводят с ума раздирающие его надвое паранойя и совесть. В такого Макбета веришь во всех его сценах, и это определенно один из лучших Макбетов в истории кино – а может быть, и во всей истории постановок трагедии. При этом Макбет Фассбендера человечески правдоподобен, без театрального переигрывания, неуместного на большом экране.\n",
      "\n",
      "Леди Макбет в исполнении Марион Котийяр не столь ярка, как обычно представляют эту героиню, но она и не должна перевешивать заглавного персонажа и превращать его в безвольную марионетку, не отвечающую за свои поступки. Героиня Котийяр – жена и женщина, а не суперзлодей из «бондианы», и фильм бы проиграл, если бы эта роль была сыграна иначе.\n",
      " \n",
      "\n",
      "В целом «Макбет» Курзеля – замечательная постановка как для тех, кто хочет познакомиться с классикой, не читая ее, так и для тех, кто коллекционирует интерпретации «Макбета» и хочет насладиться постановкой, сочетающей уважение к Барду с визуальным мастерством и режиссерским талантом. Конечно, нельзя сказать, что «Макбет» 2015 года добавляет что-то принципиально новое к мировому кино, поскольку в конечном итоге это просто убедительная интерпретация хорошо всем известной пьесы. Но экранизации такого уровня встречаются нечасто, и новый «Макбет» заслуживает вашего внимания.\n",
      "С 26 ноября в кино.\n",
      "\n",
      "Ведьма \n",
      "  \n",
      "1630 год, Новая Англия. Семья изгнанного из поселения фермера по имени Уильям находит новый дом на опушке дремучего леса. Их и без того непростая жизнь осложняется гниющим урожаем, а затем старшая дочь Уильяма, Томасин, теряет новорожденного малыша Сэма – отец решает, что ребенка унес волк, но Томасин уверена, что животные здесь ни при чем. На этом беды семейства не заканчиваются, и все указывает на то, что здесь не обошлось без колдовства.\n",
      "\n",
      "\n",
      "«Ведьма» Роберта Эггерса получила мощный «промопинок» на самом старте – после первого показа ленты на фестивале независимого кино в Сандэнсе в начале 2015-го Интернет запестрел хвалебными отзывами, обещавшими совершенно уникальное зрелище. После этого были другие показы, и каждый из них добавлял в копилку «Ведьмы» еще несколько восторженных рецензий. До широкого зрителя фильм добрался только через год, и приятно, что «перегреть» ожидания не удалось – «Ведьма» действительно впечатляет.\n",
      "\n",
      "\n",
      "Сюжетно картина не представляет собой ничего необычного, но рассказана знакомая история на редкость обстоятельно. Небольшое хозяйство на краю леса. Измученная выживанием семья из родителей и пятерых детей разных возрастов. Что-то опасное и жуткое в лесу. Гибнущие посевы, чахнущая живность, загадочные исчезновения и смерти. Ложь во благо, которая со временем приводит к подозрениям: может, источник зла следует искать не в лесу? Может быть, кто-то из тех, кого ты знаешь всю свою жизнь, заключил сделку с дьяволом? Эггерс исправно держит интригу до самого конца, но неожиданные сюжетные повороты не являются для него самоцелью – в этом фильме на первом плане не «ехать», а «шашечки».\n",
      "\n",
      "Создатели многих серьезных исторических фильмов привлекают профессиональных консультантов и тратят огромные бюджеты на воссоздание эпохи. У Эггерса большого бюджета не было, но он сделал невозможное – в рамках одной отдельно взятой фермы создал настоящий заповедник той эпохи, поразительно аутентичный и правдоподобный до малейшей детали. И эта скрупулезность касается не только костюмов и декораций – например, актеры говорят на староанглийском, продраться сквозь который весьма непросто, и более того – многие диалоги Эггерс перенес в свой фильм из старинных документов, посвященных судебным процессам над ведьмами.\n",
      "\n",
      "Надо оговориться, что «Ведьма» не заставит вас нервно подпрыгивать в кресле, но Эггерс добивается большего – он воссоздает на экране и заставляет прочувствовать непреходящее чувство какой-то первобытной хтонической жути, в которой варились наши далекие предки. Так, одно из центральных мест в фильме занимают отношения персонажей с религией и Богом, который в «Ведьме» ни разу не проявляет себя, но все равно оказывается воплощением поистине средневековой жестокости – страх перед грехом и неизбежной расплатой за него душит героев, связывает их по рукам и ногам, но невинность и чистота не защитят и не спасут, когда на порог явится зло. В одной из самых сильных сцен фильма жена Уильяма сокрушается о том, что больше не чувствует божью любовь и благодать, и это терзает этих людей даже сильнее, чем смерть близких и страх за тех, кто пока рядом.\n",
      " \n",
      "\n",
      "«Ведьма» практически не содержит броских «бу»-эффектов и развивается довольно неторопливо, что может отпугнуть и разочаровать тех, кто привык к более динамичному, клиповому действию. Однако фильм определенно зацепит тех, кто в хоррорах ценит атмосферу и убедительность – тут «Ведьме» нет равных, это как экскурсия по страшным сказкам Гофмана и братьев Гримм. И самое жуткое, что, окунувшись в этот мир, перестаешь видеть на экране «просто сказку» – настолько здесь все живое, настоящее и убедительное. И начинаешь чуть лучше понимать инквизицию, которая в свое время жгла всех подряд. А ну и правда, от греха подальше.\n",
      "\n"
     ]
    },
    {
     "name": "stdout",
     "output_type": "stream",
     "text": [
      "error at: Крылья Хоннеамиз\n",
      "Одержимость \n",
      "  \n",
      "Молодой студент консерватории Эндрю сутками напролет совершенствует свое мастерство игры на барабанной установке. Его цель – самый престижный, успешный и перспективный джазовый оркестр, которым управляет несносный руководитель Теренс Флетчер. Когда удача наконец улыбается молодому человеку и перед Эндрю открывается дверь в мир большой музыки, парень оказывается неспособен соответствовать всем требованиям своего нового учителя. Требования того оказываются запредельными, истощающими, выжимающими все соки. Но только так, по мнению Флетчера, можно из многообещающего артиста сделать настоящую звезду.\n",
      "Кадр из фильма «Одержимость»\n",
      "\n",
      "Голливуд любит фильмы о преодолении. Столкновение героя с преградой, первое сомнение в том, что он сможет превозмочь себя и двинуться дальше, подготовка к взятию препятствия, трудовая победа – все это части практически любого американского фильма. Иногда эта линия прячется глубоко внутри, скрываясь под тоннами компьютерных эффектов или, наоборот, под обнаженными нервами какой-нибудь инди-комедии. Иногда режиссеры и вовсе идут по самому простому пути – раскрывая линейку «препятствие-преодоление-победа» в спортивном фильме. Кажется, удивить здесь уже совершенно нечем, но нет, находятся и на этом протоптанном пути свои новаторы, как в случае с «Одержимостью». И особенно радостно в этом случае, что таким новатором оказался молодой постановщик, фактически дебютант, в светлое будущее которого очень хочется верить.\n",
      "\n",
      "\n",
      "Что же такого особенного в «Одержимости», что ее взахлеб хвалят все, кто посмотрел картину, в список лучших фильмов года заносит каждый второй, а призы ведущим актерам гарантирует каждый третий? Пожалуй, главное – это отрицание всего того, во что мы привыкли верить, думая об искусстве вообще и о музыке в частности. Талант всегда пробьет себе дорогу? Ничего подобного, посредственности и чуть менее талантливые коллеги сожрут тебя, будь ты хоть Моцартом наших дней. Семья всегда поддержит тебя, а романтические отношения окрылят? Забудь, отец никогда не поймет твоей страсти к фаготу или альту, а девушка будет лишь отнимать время, силы и внимание. Попадешь в престижную школу, класс, оркестр и весь мир будет у тебя на ладони? Ага, сейчас. Ты будешь бороться за каждую минуту нахождения в элите, но это не гарантирует тебе удачу, а удача не гарантирует того, что о тебе не забудут наутро после провала.\n",
      "\n",
      "И все-таки таланты пробиваются, умудряются выучиться, проходят отборы и конкурсы и превращаются в звезд. Не в тех звезд, которых крутит клиповый канал с односложной песенкой на трехаккордовый мотивчик, а в настоящих музыкантов, чьи имена остаются в истории, чей путь в музыке изучают потомки, чьим мастерством наслаждаются даже после их смерти. Откуда же они? Они перешагивают невидимую черту собственных возможностей и взлетают. Именно на это нацелен учитель Флетчер, герой феноменально отыгравшего свою роль Дж.К. Симмонса, именно к этой черте подошел барабанщик Эндрю – вмиг повзрослевший и выдавший фантастический нерв Майлз Теллер. Черта эта практически осязаема, она пропитана потом тренировок (талант ничто без постоянной практики), кровью стертых пальцев, слюной голодного до славы юноши. Она совсем рядом, на расстоянии четырехминутной мелодии, но ее преодоление может остаться лишь мечтой.\n",
      "\n",
      "Как такое удалось сотворить молодому режиссеру Дэмьену Шазеллу? Как таких страстей на экране смог нагнать 28-летний пацан? Сам Шазелл говорит, что ему пришлось пройти нечто подобное в своей жизни, что кто-то подгонял его, избегал соблазна перехвалить. В ответ сценарист и постановщик «вырастил» этакого Тайлера Дардена от музыки – готового унижать, оскорблять, высмеивать, доводить до слез, подставлять, бросаться мебелью, обманывать, но делать из своих учеников нечто большее, чем просто сидящий со своим инструментом безымянный член оркестра. Флетчер растит Музыкантов, и пройти его путь могут не все.\n",
      " \n",
      "\n",
      "Наполненный фантастической музыкальной начинкой фильм полон такой неуемной энергией, в нем столько настоящей страсти, одержимости в самых разных смыслах этого слова, что зрителя он пронизывает не хуже мощного оркестрового концерта. «Одержимость» пугает, но подхлестывает (недаром дословный перевод названия – «Хлыст»), стимулирует, но и бьет по рукам тех, кто мечтает о простом решении всех проблем. Каждая минута картины – бой, каждая нота – ступенька, каждый удар барабанной палочки – толчок крови по венам. Более живой, сложной и адреналиновой ленты в этом жанре сложно себе представить, поэтому откиньтесь на спинку кресла, расслабьтесь и приготовьтесь к музыке. Здесь будет Джаз до последней капли крови.\n",
      " \n",
      "\n",
      "Зверополис \n",
      "  \n",
      "Давным-давно животные делились на хищников и травоядных, и одни охотились на других. Однако эта первобытная эпоха осталась в прошлом. Теперь все животные обрели разум, и они научились жить вместе, не пожирая друг друга. Но даже в их утопии случаются преступления, и провинциальная зайчиха Джуди Хоппс с самого детства мечтает стать офицером полиции. Хотя обычно на службу берут лишь больших и мощных зверей вроде тигров, медведей и слонов, Хоппс пробивается через все испытания полицейской академии и становится первым в истории мегаполиса Зверополис зайцем-копом. Когда она поступает на службу, ей поручают выписывать штрафы за парковку, но ее это не останавливает. Чтобы доказать, что зайцы могут быть не худшими полицейскими, чем другие животные, Джуди берется раскрыть дело о похищении 14 хищных зверей, которое поставило в тупик ее более опытных коллег.\n",
      "\n",
      "\n",
      "33 года назад британский сатирик-фантаст Терри Пратчетт придумал вселенную под названием «Плоский мир». До своей смерти в прошлом году он написал 41 роман о Плоском мире, и каждая из этих книг стала бестселлером. К чему тут это? К тому, что впервые в своей истории студия Walt Disney не просто выпустила замечательную анимационную ленту, а создала на экране столь многогранный и удивительно богатый мир, что, кажется, о нем можно было нарисовать 41 мультфильм, и зрители бы не устали их смотреть. Как не устали поклонники Пратчетта читать о приключениях колоритных и уморительных обитателей плоской планеты.\n",
      "\n",
      "\n",
      "Разумеется, «Зверополис» – далеко не первая анимационная история о мире антропоморфных животных (то есть зверей, которые носят одежду и ходят на задних лапах), и сами диснеевцы в прошлом нарисовали немало подобных мультфильмов. Но ни одна из этих картин не могла похвастаться тем, что почти в каждый ее ключевой кадр были вложены десятки и сотни человеко-часов, потраченных на придумывание города, где на равных могут взаимодействовать землеройки и жирафы.\n",
      "\n",
      "Только представьте – чтобы Зверополис мог вместить жителей со всего света, строители разделили его на множество природных и высотных зон, в каждой из которых свой климат и своя архитектура. Если в квартале слонов Джуди нужно подпрыгивать, чтобы дотянуться до прилавка, то в квартале мелких грызунов она возвышается над жителями как Кинг Конг и едва не сносит целый квартал в погоне за преступником своего роста. И это не просто визуальная деталь – это ключевой сюжетный элемент. Так, например, лис-мошенник Ник, который по ходу действия становился «стукачом» и помощником Джуди, использует разницу в масштабах для одной из своих махинаций. Он превращает одно слоновье мороженое в сотню леденцов для леммингов и наживается на разнице в цене. Не правда ли, восхитительно?\n",
      "\n",
      "В то время как многие мультфильмы такого рода подгоняют зверей под один размер (вспомните диснеевские сериалы «Утиные истории» и «Чудеса на виражах») и фактически делают из персонажей людей в пушистых и пернатых шкурах, Зверополис постоянно подчеркивает физиологическую разницу между героями и находит все новые графические и сюжетные способы ее обыграть. Его персонажи – не переодетые люди, а настоящие звери. Но это звери, в городе которых есть полиция, мафия, коррумпированные чиновники, незаметные служащие, мелкие бизнесмены, службы лимузинов, штрафы за парковку, сотовые телефоны, телевидение, Интернет… И даже поп-звезда – газель, которую озвучила Шакира, записавшая для «Зверополиса» заглавную песню.\n",
      "\n",
      "В сущности, мир фильма так же сложен, как реальная современная жизнь. Он даже сложнее, потому что к человеческим реалиям добавляются реалии животные – вышеупомянутые различия в размерах и климатических пристрастиях и неизбежные трения, возникающие при взаимодействии разных видов. Сюжет картины крутится вокруг взаимного недоверия хищников и травоядных, но если диснеевцы захотят продолжить историю «Зверополиса», то им нетрудно будет найти в природе и перенести на экран новые источники одновременно драматичных и забавных конфликтов.\n",
      "\n",
      "При всех достоинствах мира «Зверополиса» он бы разочаровал зрителей, если бы в нем не жили столь же занимательные персонажи. Но, к счастью, Джуди Хоппс – самая сложная и интересная положительная героиня в рисованной диснеевской истории. Да, да, это не преувеличение. В начале картины она кажется шаблонной наивной провинциалкой-доброхоткой, прибывшей покорить большой город и утвердить ценности равенства и братства. Но еще во время тренировок в полицейской академии она показывает себя куда умнее и предприимчивее, чем обычно бывают такие героини. А когда Джуди выходит на «тропу войны» с преступностью, то она оказывается не только хитрой, но даже немного коварной и готовой ловко обходить закон и использовать злодеев в своих интересах. Иными словами, Джуди ближе к Жеглову, чем к Шарапову. Что, согласитесь, поразительно для диснеевского мультфильма.\n",
      "\n",
      "И это еще не все! Главная «фишка» Джуди – в ее образе мыслей. Сравним ее с героиней вроде бы более взрослого диснеевского проекта – сериала «Агент Картер». Его заглавный персонаж Пегги Картер (также героиня фильма «Первый мститель») живет в послевоенной Америке, но предстает средоточием всех современных феминистских добродетелей, от веры в свой пол до отсутствия предрассудков. Пегги практически идеальна на фоне окружающих ее ущербных мужчин. Напротив, Джуди побаивается хищников, хотя те уже давно не охотятся на зайцев. И хотя она пытается подавить свои предрассудки, они прорываются в минуты смятения, когда зайчиха теряет контроль над собой.\n",
      "\n",
      "Какая восхитительная ирония – Джуди приезжает в мегаполис, чтобы развеять предрассудки против зайцев, но развеивать ей приходится не столько чужие, сколько собственные предубеждения и страхи. Город принимает Джуди раньше, чем она в полной мере принимает хищников, с которыми ей теперь приходится жить и работать. При этом ее страхи – не просто пережитки прошлого и следы архаичного воспитания. У них есть основа в реальности. И картина не отворачивается от этих тонких психологических нюансов, а пристально присматривается к эволюции сознания героини.\n",
      "\n",
      "Кстати, такое сейчас возможно только в мультфильме о животных или в ином метафорическом полотне, где суть повествования «остранена» переносом действия в иную реальность. Разве можно вообразить положительную героиню мейнстримного голливудского блокбастера, которая бы была хоть немного расисткой, гомофобкой и так далее? Конечно, нет. А Джуди – именно такая зайчиха. Безумно обаятельная, но далекая от политкорректной безупречности агента Картер. Что делает ее куда более интересным персонажем – «героем в развитии», не застрявшим в своем совершенстве.\n",
      "\n",
      "А какие в фильме яркие второстепенные персонажи! А какой занимательный сюжет – не самый лихо заключенный в истории детективов, но способный на время поставить в тупик даже Шерлока Холмса! Про анимацию же и заикаться не стоит – конечно же, она в мультфильме Walt Disney на высочайшем техническом и художественном уровне. Об одной мимике героев можно написать объемный восхищенный трактат из сплошных восклицательных знаков. А сколько в фильме шуток и гэгов, равно смешных для взрослых и детей!\n",
      " \n",
      "\n",
      "Если ли в «Зверополисе» к чему придраться? Разве что по мелочи, и придирки будут столь незначительными, что их не стоит и перечислять. Пожалуй, самую большую претензию нужно высказать к рекламщикам, которые сделали трейлер из самой смешной сцены фильма – эпизода в службе регистрации автомобилей, где работают исключительно ленивцы. Этот блестящий эпизод задает столь высокую планку, что, посмотрев фильм целиком, из зала выходишь чуть разочарованным, поскольку в ленте больше нет столь же уморительных моментов. Но так как «Зверополис» – не комедия, а комедийный социальный детектив, то вины создателей картины тут нет. Да, в «Зверополисе» много отличного юмора, но он скорее пища для мозгов, чем для улыбок. И это превосходно.\n",
      "С 3 марта в кино.\n",
      "\n",
      "Малхолланд Драйв \n",
      "  \n",
      "Заштатная горная дорога Малхолланд драйв, без которой нельзя представить блестящий Лос-Анджелес, вьется над знаменитым бульваром Сансет. Ночью в свете фар поблескивает указатель — осторожно, вы въезжаете на территорию страны грез. Постоянно рассказывая о тех, кто пересекает границу реального и вымышленного, Дэвид Линч никогда прежде не подводил своего зрителя к этой границе столь близко, никогда не давал убедиться в ее существовании вот так, практически на ощупь.\n",
      "Сюжет самой признанной — спустя десять лет критики утвердят «Малхолланд драйв» в звании «лучшего фильма нулевых» — и, пока, самой понятной (трактовка, к примеру, «Простой истории» представляет собой куда более сложную задачу) картины режиссера пересказать совсем несложно: начинающая актриса Дайан Сэлвин (Наоми Уоттс) переживает разрыв со своей куда более успешной подружкой Камиллой Боулз (Лора Херринг) и заказывает убийство коварной изменщицы. Знаком, свидетельствующим об исполнении заказа, должен стать синий ключик (вспоминаем «Твин Пикс»), оставленный в условленном месте.\n",
      "\n",
      "Запустив дело, Дайан засыпает и видит сон: себя, только приехавшую в ЛосАнджелес в поисках актерской славы, видит чудом выжившую, беспомощную Камиллу, которая потеряла память и словно бы начала жить с чистого листа. И, конечно, синий ключ. Идеальный мир, выстроенный в рамках грандиозного сновидения, дает трещину, как только подруги оказываются в театре «Силенсио». Происходящее на сцене дарит главной героине возможность взглянуть на ситуацию со стороны — и пока Линч на пальцах объясняет не только природу сна, но и природу кино, — вера в объективную реальность испаряется. «Вы слышите оркестр, но здесь нет оркестра», — восклицает конферансье, а Дайан уже трясет от невольной догадки.\n",
      "\n",
      "Постижимость случившегося в «Малхолланд драйв» — как героиней, так и зрителями – принципиально важна для Линча (хотя после выхода фильма он, конечно, продолжал твердить про возможность различных прочтений). Традиционные для него сюрреалистические уловки и гробовая ирония здесь не более, чем изощренное прикрытие ригориста, исповедующего консервативные христианские ценности. Чувственно поигрывая культурными мифами двадцатого века, жонглируя блондинками и брюнетками и прогуливаясь по бульвару Сансет, уроженец глухой фермерской Монтаны упаковывает библейскую историю грехопадения в блестящий неонуар о девочке, соблазненной голливудской мечтой. Познание для замечтавшегося равноценно наказанию.\n",
      "Несмотря на мудреный сюжет, выверенный до последней запятой стиль, ловкие отвлекающие маневры, вроде вставной новеллы про незадачливого убийцу с пылесосом, Линч умудряется дотянуть до черты, отделяющей явь от вымысла, и обозначить четкий предел для фантазий. Он настойчиво шепчет с экрана в зал: «Пора просыпаться!» Дайан пробуждается от благостного сна, пересекая границу, вера в существование которой у сюрреалиста Линча оказывается намного прочнее, чем у большинства его зрителей. Они-то обманываться рады. \n",
      " \n",
      "\n",
      "\n"
     ]
    }
   ],
   "source": [
    "descrs = []\n",
    "for title, html in films_dct_html.items():\n",
    "    try:\n",
    "        p_lst = html.find('div', class_='buzzoola text videonow').findAll('p')\n",
    "        print(title, \"\\n\", \"\\n\".join(map(lambda x: x.text, p_lst)))\n",
    "        print('')\n",
    "        descrs.append(\"\\n\".join(map(lambda x: x.text, p_lst)).replace('\\n', '').lower().strip())\n",
    "    except:\n",
    "        print(\"error at:\", title)"
   ]
  },
  {
   "cell_type": "code",
   "execution_count": 167,
   "metadata": {
    "pycharm": {
     "name": "#%%\n"
    }
   },
   "outputs": [],
   "source": [
    "import collections as col"
   ]
  },
  {
   "cell_type": "code",
   "execution_count": 170,
   "metadata": {
    "pycharm": {
     "name": "#%%\n"
    }
   },
   "outputs": [
    {
     "name": "stdout",
     "output_type": "stream",
     "text": [
      "[('что', 468), ('как', 301), ('это', 286), ('его', 215), ('для', 193), ('все', 180), ('кино', 135), ('даже', 130), ('фильм', 116), ('только', 112)]\n"
     ]
    }
   ],
   "source": [
    "descr_all = \"\".join(descrs)\n",
    "\n",
    "print(col.Counter(re.findall('\\w{3,}', descr_all)).most_common(10))"
   ]
  },
  {
   "cell_type": "code",
   "execution_count": 40,
   "metadata": {
    "pycharm": {
     "name": "#%%\n"
    },
    "scrolled": true
   },
   "outputs": [
    {
     "data": {
      "text/plain": [
       "<tr class=\"js-film-list-item\" id=\"tr_326\">\n",
       "<td style=\"width: 64px; padding: 28px 0 28px 30px\" valign=\"top\">\n",
       "<div id=\"film326\"></div>\n",
       "<div class=\"num rangImp\">1</div>\n",
       "<div class=\"poster\">\n",
       "<a href=\"/film/326/\"><img alt=\"Побег из Шоушенка (The Shawshank Redemption1994)\" class=\"flap_img\" src=\"https://st.kp.yandex.net/images/spacer.gif\" style=\"width: 52px; border: 3px solid #ccc\" title=\"/images/sm_film/326.jpg\"/></a>\n",
       "<div class=\"playTrailer movie-play-trailer-button js-discovery-trailer\" data-film-id=\"326\"></div>\n",
       "</div>\n",
       "<div class=\"flags\"> <div class=\"flag flag1\" style=\"float: left; margin: 0 2px 5px 0\">\n",
       "<a href=\"/lists/m_act[country]/1/\" title=\"США\"></a>\n",
       "</div>\n",
       "</div>\n",
       "</td>\n",
       "<td class=\"news\" style=\"padding: 28px 0 28px 10px\" valign=\"top\">\n",
       "<div style=\"margin-bottom: 9px\"><a class=\"all\" href=\"/film/326/\" style=\"font-size: 13px; font-weight: bold\">Побег из Шоушенка</a><span style=\"color: #888; font-family: arial; font-size: 11px; display: block\">The Shawshank Redemption (1994) <nobr>142 мин.</nobr></span></div>\n",
       "<span class=\"gray_text\">\n",
       "            США,\n",
       "            <i>реж. <a class=\"lined\" href=\"/name/24262/\">Фрэнк Дарабонт</a></i><br/>\n",
       "            (драма)\n",
       "        </span>\n",
       "<span class=\"gray_text\"><a class=\"lined\" href=\"/name/7987/\">Тим Роббинс</a>, <a class=\"lined\" href=\"/name/6750/\">Морган Фриман</a>, <a class=\"lined\" href=\"/film/326/cast/#actor\">...</a></span>\n",
       "<span class=\"gray_text\"></span>\n",
       "<div class=\"js-ott-widget js-ott-widget-manual-init\" data-from=\"kp\" data-kp-film-id=\"326\" data-title=\"Побег из Шоушенка\" style=\"display: none;\">\n",
       "<a class=\"js-ott-widget__button movie-online-button movie-online-button_on_list-item\" data-from-block=\"lists\">\n",
       "        РЎРјРѕС‚СЂРµС‚СЊ Р±РµСЃРїР»Р°С‚РЅРѕ\n",
       "    </a>\n",
       "</div>\n",
       "</td>\n",
       "<td style=\"width: 225px; vertical-align: top; padding-top: 28px\">\n",
       "<div class=\"WidgetStars\" data-film-id=\"326\" data-film-rating=\"9.112\" data-film-secret=\"\" data-film-title=\"Побег из Шоушенка\" id=\"film_votes_326\" style=\"height: 35px; width: 225px; position: relative;\" value=\"9.112\">\n",
       "</div>\n",
       "<div class=\"ratingBlock ratingGreenBG\">\n",
       "<span class=\"all\" style=\"color: #fff; cursor:default;\">9.112 <span style=\"font-size: 10px\">(517 099)</span></span>\n",
       "</div>\n",
       "<div style=\"color: #f60; font-family: arial; position: absolute; margin: 51px 0 0 118px\">9.190</div>\n",
       "<div style=\"color: #777; position: absolute; margin: 12px 0 0 118px\">IMDb: 9.30<small style=\"display: block; margin-top: -1px\">2 137 539</small></div>\n",
       "<div id=\"user_vote_326\" style=\"background: #f60; width: 23px; height: 19px; color: #fff; text-align: center; display: none; position: absolute; margin: 12px 0 0 186px; padding-top: 4px\">\n",
       "<p class=\"all\" style=\"margin: 1px 0 0 0; color: #fff;\"></p>\n",
       "</div>\n",
       "<div class=\"eye\" id=\"film_eye_326\" title=\"фильм просмотрен\"></div>\n",
       "<div class=\"MyKP_Folder_Select shortselect\" data=\"film\" id=\"MyKP_Folder_326\" style=\"\"></div>\n",
       "</td>\n",
       "</tr>"
      ]
     },
     "execution_count": 40,
     "metadata": {},
     "output_type": "execute_result"
    }
   ],
   "source": [
    "soup.findAll('tr', class_='js-film-list-item')[0]"
   ]
  },
  {
   "cell_type": "markdown",
   "metadata": {
    "pycharm": {
     "name": "#%% md\n"
    }
   },
   "source": [
    "### Переходим внутрь по ссылке"
   ]
  },
  {
   "cell_type": "code",
   "execution_count": 48,
   "metadata": {
    "pycharm": {
     "name": "#%%\n"
    }
   },
   "outputs": [
    {
     "data": {
      "text/plain": [
       "'https://www.kinopoisk.ru/film/326/'"
      ]
     },
     "execution_count": 48,
     "metadata": {},
     "output_type": "execute_result"
    }
   ],
   "source": [
    "films_list[0][1]"
   ]
  },
  {
   "cell_type": "code",
   "execution_count": 49,
   "metadata": {
    "pycharm": {
     "name": "#%%\n"
    }
   },
   "outputs": [
    {
     "name": "stdout",
     "output_type": "stream",
     "text": [
      "https://www.kinopoisk.ru/film/326/\n"
     ]
    }
   ],
   "source": [
    "soup_f1 = get_html(films_list[0][1])"
   ]
  },
  {
   "cell_type": "code",
   "execution_count": 51,
   "metadata": {
    "pycharm": {
     "name": "#%%\n"
    }
   },
   "outputs": [
    {
     "data": {
      "text/plain": [
       "{'class': ['brand_words', 'film-synopsys'], 'itemprop': 'description'}"
      ]
     },
     "execution_count": 51,
     "metadata": {},
     "output_type": "execute_result"
    }
   ],
   "source": [
    "soup_f1.findAll('div', class_='film-synopsys')[0].attrs"
   ]
  },
  {
   "cell_type": "code",
   "execution_count": 50,
   "metadata": {
    "pycharm": {
     "name": "#%%\n"
    }
   },
   "outputs": [
    {
     "name": "stdout",
     "output_type": "stream",
     "text": [
      "Бухгалтер Энди Дюфрейн обвинен в убийстве собственной жены и ее любовника. Оказавшись в тюрьме под названием Шоушенк, он сталкивается с жестокостью и беззаконием, царящими по обе стороны решетки. Каждый, кто попадает в эти стены, становится их рабом до конца жизни. Но Энди, обладающий живым умом и доброй душой, находит подход как к заключенным, так и к охранникам, добиваясь их особого к себе расположения.\n"
     ]
    }
   ],
   "source": [
    "print(soup_f1.findAll('div', class_='film-synopsys')[0].text)"
   ]
  },
  {
   "cell_type": "code",
   "execution_count": 52,
   "metadata": {
    "pycharm": {
     "name": "#%%\n"
    }
   },
   "outputs": [],
   "source": [
    "import time"
   ]
  },
  {
   "cell_type": "code",
   "execution_count": null,
   "metadata": {
    "pycharm": {
     "name": "#%%\n"
    }
   },
   "outputs": [],
   "source": [
    "soup_f1 = get_html(f_link)"
   ]
  },
  {
   "cell_type": "code",
   "execution_count": 53,
   "metadata": {
    "pycharm": {
     "name": "#%%\n"
    },
    "scrolled": true
   },
   "outputs": [
    {
     "name": "stdout",
     "output_type": "stream",
     "text": [
      "https://www.kinopoisk.ru/showcaptcha?cc=1&retpath=https%3A//www.kinopoisk.ru/film/326%3F_6bac43e840e90bd55a603d603e78adac&t=0/1569607291/d41d8cd98f00b204e9800998ecf8427e&s=ba30dcdfdd595f1ffdb48fbe4d5aa321\n",
      "Побег из Шоушенка\n"
     ]
    },
    {
     "ename": "IndexError",
     "evalue": "list index out of range",
     "output_type": "error",
     "traceback": [
      "\u001b[0;31m---------------------------------------------------------------------------\u001b[0m",
      "\u001b[0;31mIndexError\u001b[0m                                Traceback (most recent call last)",
      "\u001b[0;32m<ipython-input-53-7d8893967b92>\u001b[0m in \u001b[0;36m<module>\u001b[0;34m\u001b[0m\n\u001b[1;32m      6\u001b[0m     film_descriptions[(f_title, f_link)] = soup_f1.findAll(\n\u001b[1;32m      7\u001b[0m         \u001b[0;34m'div'\u001b[0m\u001b[0;34m,\u001b[0m \u001b[0mclass_\u001b[0m\u001b[0;34m=\u001b[0m\u001b[0;34m'film-synopsys'\u001b[0m\u001b[0;34m\u001b[0m\u001b[0;34m\u001b[0m\u001b[0m\n\u001b[0;32m----> 8\u001b[0;31m     )[0].text\n\u001b[0m",
      "\u001b[0;31mIndexError\u001b[0m: list index out of range"
     ]
    }
   ],
   "source": [
    "film_descriptions = {}\n",
    "for f_title, f_link in films_list:\n",
    "    soup_f1 = get_html(f_link)\n",
    "    time.sleep(3)\n",
    "    print(f_title)\n",
    "    film_descriptions[(f_title, f_link)] = soup_f1.findAll(\n",
    "        'div', class_='film-synopsys'\n",
    "    )[0].text"
   ]
  },
  {
   "cell_type": "code",
   "execution_count": 158,
   "metadata": {
    "pycharm": {
     "name": "#%%\n"
    }
   },
   "outputs": [
    {
     "name": "stdout",
     "output_type": "stream",
     "text": [
      "Последняя часть трилогии о Кольце Всевластия и о героях, взявших на себя бремя спасения Средиземья. Повелитель сил Тьмы Саурон направляет свои бесчисленные рати под стены Минас-Тирита, крепости Последней Надежды. Он предвкушает близкую победу, но именно это и мешает ему заметить две крохотные фигурки  хоббитов, приближающихся к Роковой Горе, где им предстоит уничтожить Кольцо Всевластия. Улыбнется ли им счастье?\n"
     ]
    }
   ],
   "source": [
    "print(film_descriptions[('Властелин колец: Возвращение Короля',\n",
    "  'https://www.kinopoisk.ru/film/3498/')])"
   ]
  },
  {
   "cell_type": "markdown",
   "metadata": {
    "pycharm": {
     "name": "#%% md\n"
    }
   },
   "source": [
    "### Дополнительно:\n",
    "\n",
    "1. Достаньте следующую информацию: оценки для каждого фильма, бюджет фильма, сборы в США, а так же текст первой рецензии на фильм.\n",
    "2. Посчитайте, какой из фильмов оказался наиболее успешным в соотношении затраты-прибыль. Отранжируйте фильмы в порядке прибыльности по убыванию.\n",
    "3. Распарсите фильмы со второй и третьей страницы, достаньте аналогичную информацию, посчитайте прибыльность, отранжируйте по прибыльности уже все фильмы (начиная с тех, которые достали с первой страницы).\n"
   ]
  },
  {
   "cell_type": "code",
   "execution_count": null,
   "metadata": {
    "collapsed": true,
    "pycharm": {
     "name": "#%%\n"
    }
   },
   "outputs": [],
   "source": []
  },
  {
   "cell_type": "code",
   "execution_count": null,
   "metadata": {
    "collapsed": true,
    "pycharm": {
     "name": "#%%\n"
    }
   },
   "outputs": [],
   "source": []
  },
  {
   "cell_type": "code",
   "execution_count": null,
   "metadata": {
    "collapsed": true,
    "pycharm": {
     "name": "#%%\n"
    }
   },
   "outputs": [],
   "source": []
  },
  {
   "cell_type": "code",
   "execution_count": null,
   "metadata": {
    "collapsed": true,
    "pycharm": {
     "name": "#%%\n"
    }
   },
   "outputs": [],
   "source": []
  },
  {
   "cell_type": "code",
   "execution_count": null,
   "metadata": {
    "collapsed": true,
    "pycharm": {
     "name": "#%%\n"
    }
   },
   "outputs": [],
   "source": []
  },
  {
   "cell_type": "code",
   "execution_count": null,
   "metadata": {
    "collapsed": true,
    "pycharm": {
     "name": "#%%\n"
    }
   },
   "outputs": [],
   "source": []
  },
  {
   "cell_type": "code",
   "execution_count": null,
   "metadata": {
    "collapsed": true,
    "pycharm": {
     "name": "#%%\n"
    }
   },
   "outputs": [],
   "source": []
  },
  {
   "cell_type": "code",
   "execution_count": null,
   "metadata": {
    "collapsed": true,
    "pycharm": {
     "name": "#%%\n"
    }
   },
   "outputs": [],
   "source": []
  },
  {
   "cell_type": "markdown",
   "metadata": {
    "pycharm": {
     "name": "#%% md\n"
    }
   },
   "source": [
    "### Регулярные выражения"
   ]
  },
  {
   "cell_type": "code",
   "execution_count": null,
   "metadata": {
    "collapsed": true,
    "pycharm": {
     "name": "#%%\n"
    }
   },
   "outputs": [],
   "source": [
    "import re"
   ]
  },
  {
   "cell_type": "code",
   "execution_count": null,
   "metadata": {
    "collapsed": true,
    "pycharm": {
     "name": "#%%\n"
    },
    "scrolled": true
   },
   "outputs": [],
   "source": [
    "dir(re)"
   ]
  },
  {
   "cell_type": "code",
   "execution_count": null,
   "metadata": {
    "collapsed": true,
    "pycharm": {
     "name": "#%%\n"
    }
   },
   "outputs": [],
   "source": [
    "str_1 = 'Hello World!'"
   ]
  },
  {
   "cell_type": "code",
   "execution_count": null,
   "metadata": {
    "collapsed": true,
    "pycharm": {
     "name": "#%%\n"
    }
   },
   "outputs": [],
   "source": [
    "pattern = 'Hel'"
   ]
  },
  {
   "cell_type": "markdown",
   "metadata": {
    "pycharm": {
     "name": "#%% md\n"
    }
   },
   "source": [
    "### `match(pattern, string, flags=0)` - функция, которая возвращает объект, если начало строки `string` совпадает с паттерном `pattern`"
   ]
  },
  {
   "cell_type": "code",
   "execution_count": null,
   "metadata": {
    "collapsed": true,
    "pycharm": {
     "name": "#%%\n"
    }
   },
   "outputs": [],
   "source": [
    "re.match(pattern, str_1)"
   ]
  },
  {
   "cell_type": "markdown",
   "metadata": {
    "pycharm": {
     "name": "#%% md\n"
    }
   },
   "source": [
    "### Если начало строки не совпадает с паттерном, то функция match() возвращает `None`"
   ]
  },
  {
   "cell_type": "code",
   "execution_count": null,
   "metadata": {
    "collapsed": true,
    "pycharm": {
     "name": "#%%\n"
    }
   },
   "outputs": [],
   "source": [
    "pattern = 'ell'"
   ]
  },
  {
   "cell_type": "code",
   "execution_count": null,
   "metadata": {
    "collapsed": true,
    "pycharm": {
     "name": "#%%\n"
    }
   },
   "outputs": [],
   "source": [
    "re.match(pattern, str_1)"
   ]
  },
  {
   "cell_type": "markdown",
   "metadata": {
    "pycharm": {
     "name": "#%% md\n"
    }
   },
   "source": [
    "### `search(pattern, string, flags=0)` - функция, которая вовзращает объект, если любая подстрока в строке `string` совпадает с паттерном `pattern`"
   ]
  },
  {
   "cell_type": "code",
   "execution_count": null,
   "metadata": {
    "collapsed": true,
    "pycharm": {
     "name": "#%%\n"
    }
   },
   "outputs": [],
   "source": [
    "re.search(pattern, str_1)"
   ]
  },
  {
   "cell_type": "markdown",
   "metadata": {
    "pycharm": {
     "name": "#%% md\n"
    }
   },
   "source": [
    "### Паттерн чувствителен к регистру"
   ]
  },
  {
   "cell_type": "code",
   "execution_count": null,
   "metadata": {
    "collapsed": true,
    "pycharm": {
     "name": "#%%\n"
    }
   },
   "outputs": [],
   "source": [
    "pattern = 'hel'"
   ]
  },
  {
   "cell_type": "code",
   "execution_count": null,
   "metadata": {
    "collapsed": true,
    "pycharm": {
     "name": "#%%\n"
    }
   },
   "outputs": [],
   "source": [
    "re.search(pattern, str_1)"
   ]
  },
  {
   "cell_type": "markdown",
   "metadata": {
    "pycharm": {
     "name": "#%% md\n"
    }
   },
   "source": [
    "### Квадратные скобки: вхождение одного из символов, которые заключены в квадратные скобки"
   ]
  },
  {
   "cell_type": "code",
   "execution_count": null,
   "metadata": {
    "collapsed": true,
    "pycharm": {
     "name": "#%%\n"
    }
   },
   "outputs": [],
   "source": [
    "pattern = r'[hH]ell'"
   ]
  },
  {
   "cell_type": "markdown",
   "metadata": {
    "pycharm": {
     "name": "#%% md\n"
    }
   },
   "source": [
    "### hell либо Hell"
   ]
  },
  {
   "cell_type": "code",
   "execution_count": null,
   "metadata": {
    "collapsed": true,
    "pycharm": {
     "name": "#%%\n"
    }
   },
   "outputs": [],
   "source": [
    "re.search(pattern, str_1)"
   ]
  },
  {
   "cell_type": "markdown",
   "metadata": {
    "pycharm": {
     "name": "#%% md\n"
    }
   },
   "source": [
    "### `sub(pattern, repl, string, count=0, flags=0)` - функция, которая возвращает строку, в которой подстрока строки `string`, соответствующая паттерну `pattern`, заменяется на подстроку `repl`"
   ]
  },
  {
   "cell_type": "code",
   "execution_count": null,
   "metadata": {
    "collapsed": true,
    "pycharm": {
     "name": "#%%\n"
    }
   },
   "outputs": [],
   "source": [
    "re.sub(pattern, 'eef', str_1)"
   ]
  },
  {
   "cell_type": "markdown",
   "metadata": {
    "pycharm": {
     "name": "#%% md\n"
    }
   },
   "source": [
    "### Список операторов регулярных выражений"
   ]
  },
  {
   "cell_type": "markdown",
   "metadata": {
    "pycharm": {
     "name": "#%% md\n"
    }
   },
   "source": [
    "\\s - все пробельные символы: \\t, \\v, \\n, \\r, \\b, \" \" <br/>\n",
    "\\S - все не пробельные символы <br/>\n",
    "\\d - цифры 0-9 <br/>\n",
    "\\D - не цифры <br/>\n",
    "\\w - цифры и буквы <br/>\n",
    "\\W - не цифры и не буквы <br/>\n",
    "[A-zА-яЁё] - все английские и русские буквы <br/>\n",
    "() - группировка паттернов <br/>"
   ]
  },
  {
   "cell_type": "markdown",
   "metadata": {
    "pycharm": {
     "name": "#%% md\n"
    }
   },
   "source": [
    "### Необходимо убрать слово \"Телевизор\" из названия телевизора и символ `₽` из цены. Затем удалить все ненужные пробелы "
   ]
  },
  {
   "cell_type": "code",
   "execution_count": null,
   "metadata": {
    "collapsed": true,
    "pycharm": {
     "name": "#%%\n"
    },
    "scrolled": true
   },
   "outputs": [],
   "source": [
    "tv_name = soup.findAll('a', class_ = \"link n-link_theme_blue\")\n",
    "price = soup.findAll('div', class_ = \"price\")\n",
    "pattern_1 = '[Тт]елевизор'\n",
    "pattern_2 = '₽'\n",
    "\n",
    "for tag_name, tag_price in zip(tv_name, price):\n",
    "    str_ = '{};{}'.format(tag_name.attrs['title'], tag_price.string)\n",
    "    print(str_)\n",
    "    str_new = re.sub(pattern_1, '', str_)\n",
    "    str_new = re.sub(pattern_2, '', str_new)\n",
    "    str_new = str_new.strip()\n",
    "    print(str_new)"
   ]
  },
  {
   "cell_type": "markdown",
   "metadata": {
    "pycharm": {
     "name": "#%% md\n"
    }
   },
   "source": [
    "### Задача\n",
    "Добавить третьим полем ссылку на телевизор"
   ]
  },
  {
   "cell_type": "code",
   "execution_count": null,
   "metadata": {
    "collapsed": true,
    "pycharm": {
     "name": "#%%\n"
    }
   },
   "outputs": [],
   "source": [
    "tv_name = soup.findAll('a', class_ = \"link n-link_theme_blue\")\n",
    "price = soup.findAll('div', class_ = \"price\")\n",
    "pattern_1 = '[Тт]елевизор'\n",
    "pattern_2 = '₽'\n",
    "\n",
    "for tag_name, tag_price in zip(tv_name, price):\n",
    "    str_ = '{};{};{}'.format(tag_name.attrs['title'], tag_price.string, tag_name.attrs['href'])\n",
    "    print(str_)\n",
    "    str_new = re.sub(pattern_1, '', str_)\n",
    "    str_new = re.sub(pattern_2, '', str_new)\n",
    "    str_new = str_new.strip()\n",
    "    print(str_new)"
   ]
  },
  {
   "cell_type": "code",
   "execution_count": 174,
   "metadata": {
    "pycharm": {
     "name": "#%%\n"
    }
   },
   "outputs": [
    {
     "data": {
      "text/plain": [
       "array([4, 5, 6])"
      ]
     },
     "execution_count": 174,
     "metadata": {},
     "output_type": "execute_result"
    }
   ],
   "source": [
    "arr = np.array([1, 2, 3, 4, 5, 6])\n",
    "\n",
    "arr[arr > 3]"
   ]
  },
  {
   "cell_type": "code",
   "execution_count": 180,
   "metadata": {
    "pycharm": {
     "name": "#%%\n"
    }
   },
   "outputs": [
    {
     "data": {
      "text/plain": [
       "array([4, 5, 6])"
      ]
     },
     "execution_count": 180,
     "metadata": {},
     "output_type": "execute_result"
    }
   ],
   "source": [
    "arr[np.where(arr == 4)[0][0]:]"
   ]
  },
  {
   "cell_type": "code",
   "execution_count": null,
   "metadata": {
    "pycharm": {
     "name": "#%%\n"
    }
   },
   "outputs": [],
   "source": []
  }
 ],
 "metadata": {
  "kernelspec": {
   "display_name": "Python 3",
   "language": "python",
   "name": "python3"
  },
  "language_info": {
   "codemirror_mode": {
    "name": "ipython",
    "version": 3
   },
   "file_extension": ".py",
   "mimetype": "text/x-python",
   "name": "python",
   "nbconvert_exporter": "python",
   "pygments_lexer": "ipython3",
   "version": "3.8.3"
  }
 },
 "nbformat": 4,
 "nbformat_minor": 2
}
